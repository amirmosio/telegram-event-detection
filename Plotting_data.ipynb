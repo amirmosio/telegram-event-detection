{
 "cells": [
  {
   "cell_type": "markdown",
   "metadata": {},
   "source": [
    "**Lorenzo's Notebook**"
   ]
  },
  {
   "cell_type": "markdown",
   "metadata": {},
   "source": [
    "Importing useful packages and modules"
   ]
  },
  {
   "cell_type": "code",
   "execution_count": 33,
   "metadata": {},
   "outputs": [],
   "source": [
    "from data_collector_client import AnomalyDetectionClient\n",
    "from telethon.tl.types import MessageReactions\n",
    "import asyncio\n",
    "from decouple import config\n",
    "import pandas as pd\n",
    "import numpy as np\n",
    "from sklearn.decomposition import PCA\n",
    "import matplotlib.pyplot as plt"
   ]
  },
  {
   "cell_type": "code",
   "execution_count": 34,
   "metadata": {},
   "outputs": [],
   "source": [
    "import re\n",
    "def reactions_splitting(message):\n",
    "    pattern = r\"emoticon=['\\\"](.*?)['\\\"].*?count=(\\d+)\"\n",
    "    matches = re.findall(pattern, message)\n",
    "    if matches:\n",
    "        return matches\n",
    "    else:\n",
    "        return None"
   ]
  },
  {
   "cell_type": "code",
   "execution_count": 35,
   "metadata": {},
   "outputs": [],
   "source": [
    "\n",
    "# Function to count the number of reactions in a message using the splitted reactions\n",
    "def count_reactions(splitted_reaction):\n",
    "    if(splitted_reaction == None):\n",
    "        return 0\n",
    "    else:\n",
    "        tmp = []\n",
    "        for i in range(len(splitted_reaction)):\n",
    "            tmp.append(int(splitted_reaction[:][i][1]))\n",
    "        return sum(tmp)"
   ]
  },
  {
   "cell_type": "code",
   "execution_count": 36,
   "metadata": {},
   "outputs": [],
   "source": [
    "df = pd.read_csv('trial.csv')\n",
    "\n",
    "df['reactions'].fillna('', inplace=True)\n",
    "df['reactions'] = df['reactions'].apply(lambda x: count_reactions(reactions_splitting(x)))"
   ]
  },
  {
   "cell_type": "code",
   "execution_count": 37,
   "metadata": {},
   "outputs": [
    {
     "data": {
      "text/html": [
       "<div>\n",
       "<style scoped>\n",
       "    .dataframe tbody tr th:only-of-type {\n",
       "        vertical-align: middle;\n",
       "    }\n",
       "\n",
       "    .dataframe tbody tr th {\n",
       "        vertical-align: top;\n",
       "    }\n",
       "\n",
       "    .dataframe thead th {\n",
       "        text-align: right;\n",
       "    }\n",
       "</style>\n",
       "<table border=\"1\" class=\"dataframe\">\n",
       "  <thead>\n",
       "    <tr style=\"text-align: right;\">\n",
       "      <th></th>\n",
       "      <th>Unnamed: 0</th>\n",
       "      <th>group</th>\n",
       "      <th>sender</th>\n",
       "      <th>msg_id</th>\n",
       "      <th>reply</th>\n",
       "      <th>text</th>\n",
       "      <th>date</th>\n",
       "      <th>reactions</th>\n",
       "    </tr>\n",
       "  </thead>\n",
       "  <tbody>\n",
       "    <tr>\n",
       "      <th>19</th>\n",
       "      <td>1</td>\n",
       "      <td>https://t.me/+synza2388S80NWM0</td>\n",
       "      <td>5328388801</td>\n",
       "      <td>289</td>\n",
       "      <td>NaN</td>\n",
       "      <td>If you found anything interesting send it here</td>\n",
       "      <td>2024-03-29 13:46:55+00:00</td>\n",
       "      <td>1</td>\n",
       "    </tr>\n",
       "    <tr>\n",
       "      <th>26</th>\n",
       "      <td>1</td>\n",
       "      <td>https://t.me/+synza2388S80NWM0</td>\n",
       "      <td>480675472</td>\n",
       "      <td>282</td>\n",
       "      <td>NaN</td>\n",
       "      <td>Anyway for What concern the meeting I have no ...</td>\n",
       "      <td>2024-03-29 13:18:17+00:00</td>\n",
       "      <td>1</td>\n",
       "    </tr>\n",
       "    <tr>\n",
       "      <th>30</th>\n",
       "      <td>1</td>\n",
       "      <td>https://t.me/+synza2388S80NWM0</td>\n",
       "      <td>5328388801</td>\n",
       "      <td>278</td>\n",
       "      <td>274.0</td>\n",
       "      <td>I can do it from 15h00 if you want to have a m...</td>\n",
       "      <td>2024-03-29 12:03:11+00:00</td>\n",
       "      <td>1</td>\n",
       "    </tr>\n",
       "    <tr>\n",
       "      <th>31</th>\n",
       "      <td>1</td>\n",
       "      <td>https://t.me/+synza2388S80NWM0</td>\n",
       "      <td>984447467</td>\n",
       "      <td>277</td>\n",
       "      <td>NaN</td>\n",
       "      <td>Also yesterday I made a small script to automa...</td>\n",
       "      <td>2024-03-29 12:01:18+00:00</td>\n",
       "      <td>1</td>\n",
       "    </tr>\n",
       "    <tr>\n",
       "      <th>37</th>\n",
       "      <td>1</td>\n",
       "      <td>https://t.me/+synza2388S80NWM0</td>\n",
       "      <td>480675472</td>\n",
       "      <td>271</td>\n",
       "      <td>NaN</td>\n",
       "      <td>Yesterday I added also the message_id and repl...</td>\n",
       "      <td>2024-03-29 11:44:40+00:00</td>\n",
       "      <td>1</td>\n",
       "    </tr>\n",
       "    <tr>\n",
       "      <th>40</th>\n",
       "      <td>1</td>\n",
       "      <td>https://t.me/+synza2388S80NWM0</td>\n",
       "      <td>480675472</td>\n",
       "      <td>268</td>\n",
       "      <td>NaN</td>\n",
       "      <td>You could normalize it and use it as feature f...</td>\n",
       "      <td>2024-03-29 11:41:16+00:00</td>\n",
       "      <td>1</td>\n",
       "    </tr>\n",
       "    <tr>\n",
       "      <th>43</th>\n",
       "      <td>1</td>\n",
       "      <td>https://t.me/+synza2388S80NWM0</td>\n",
       "      <td>5328388801</td>\n",
       "      <td>265</td>\n",
       "      <td>NaN</td>\n",
       "      <td>Sorry i got caught up in the middle of somethi...</td>\n",
       "      <td>2024-03-28 18:46:07+00:00</td>\n",
       "      <td>2</td>\n",
       "    </tr>\n",
       "    <tr>\n",
       "      <th>45</th>\n",
       "      <td>1</td>\n",
       "      <td>https://t.me/+synza2388S80NWM0</td>\n",
       "      <td>5328388801</td>\n",
       "      <td>263</td>\n",
       "      <td>NaN</td>\n",
       "      <td>This is what i thought \\n\\nI didn't wanted to ...</td>\n",
       "      <td>2024-03-28 16:30:26+00:00</td>\n",
       "      <td>3</td>\n",
       "    </tr>\n",
       "    <tr>\n",
       "      <th>46</th>\n",
       "      <td>1</td>\n",
       "      <td>https://t.me/+synza2388S80NWM0</td>\n",
       "      <td>382281069</td>\n",
       "      <td>262</td>\n",
       "      <td>261.0</td>\n",
       "      <td>Excellent\\nDon't forget to put us in cc</td>\n",
       "      <td>2024-03-28 16:28:19+00:00</td>\n",
       "      <td>1</td>\n",
       "    </tr>\n",
       "    <tr>\n",
       "      <th>47</th>\n",
       "      <td>1</td>\n",
       "      <td>https://t.me/+synza2388S80NWM0</td>\n",
       "      <td>5328388801</td>\n",
       "      <td>261</td>\n",
       "      <td>NaN</td>\n",
       "      <td>Hello Prof. Pernici,\\n\\nWe wanted to update yo...</td>\n",
       "      <td>2024-03-28 16:27:10+00:00</td>\n",
       "      <td>2</td>\n",
       "    </tr>\n",
       "    <tr>\n",
       "      <th>49</th>\n",
       "      <td>1</td>\n",
       "      <td>https://t.me/+synza2388S80NWM0</td>\n",
       "      <td>5328388801</td>\n",
       "      <td>259</td>\n",
       "      <td>NaN</td>\n",
       "      <td>I'll be in the meeting in 5mins</td>\n",
       "      <td>2024-03-28 15:52:22+00:00</td>\n",
       "      <td>1</td>\n",
       "    </tr>\n",
       "  </tbody>\n",
       "</table>\n",
       "</div>"
      ],
      "text/plain": [
       "    Unnamed: 0                           group      sender  msg_id  reply  \\\n",
       "19           1  https://t.me/+synza2388S80NWM0  5328388801     289    NaN   \n",
       "26           1  https://t.me/+synza2388S80NWM0   480675472     282    NaN   \n",
       "30           1  https://t.me/+synza2388S80NWM0  5328388801     278  274.0   \n",
       "31           1  https://t.me/+synza2388S80NWM0   984447467     277    NaN   \n",
       "37           1  https://t.me/+synza2388S80NWM0   480675472     271    NaN   \n",
       "40           1  https://t.me/+synza2388S80NWM0   480675472     268    NaN   \n",
       "43           1  https://t.me/+synza2388S80NWM0  5328388801     265    NaN   \n",
       "45           1  https://t.me/+synza2388S80NWM0  5328388801     263    NaN   \n",
       "46           1  https://t.me/+synza2388S80NWM0   382281069     262  261.0   \n",
       "47           1  https://t.me/+synza2388S80NWM0  5328388801     261    NaN   \n",
       "49           1  https://t.me/+synza2388S80NWM0  5328388801     259    NaN   \n",
       "\n",
       "                                                 text  \\\n",
       "19     If you found anything interesting send it here   \n",
       "26  Anyway for What concern the meeting I have no ...   \n",
       "30  I can do it from 15h00 if you want to have a m...   \n",
       "31  Also yesterday I made a small script to automa...   \n",
       "37  Yesterday I added also the message_id and repl...   \n",
       "40  You could normalize it and use it as feature f...   \n",
       "43  Sorry i got caught up in the middle of somethi...   \n",
       "45  This is what i thought \\n\\nI didn't wanted to ...   \n",
       "46            Excellent\\nDon't forget to put us in cc   \n",
       "47  Hello Prof. Pernici,\\n\\nWe wanted to update yo...   \n",
       "49                    I'll be in the meeting in 5mins   \n",
       "\n",
       "                         date  reactions  \n",
       "19  2024-03-29 13:46:55+00:00          1  \n",
       "26  2024-03-29 13:18:17+00:00          1  \n",
       "30  2024-03-29 12:03:11+00:00          1  \n",
       "31  2024-03-29 12:01:18+00:00          1  \n",
       "37  2024-03-29 11:44:40+00:00          1  \n",
       "40  2024-03-29 11:41:16+00:00          1  \n",
       "43  2024-03-28 18:46:07+00:00          2  \n",
       "45  2024-03-28 16:30:26+00:00          3  \n",
       "46  2024-03-28 16:28:19+00:00          1  \n",
       "47  2024-03-28 16:27:10+00:00          2  \n",
       "49  2024-03-28 15:52:22+00:00          1  "
      ]
     },
     "execution_count": 37,
     "metadata": {},
     "output_type": "execute_result"
    }
   ],
   "source": [
    "df.loc[df['reactions'] > 0]"
   ]
  },
  {
   "cell_type": "markdown",
   "metadata": {},
   "source": [
    "**Laser Embedding**"
   ]
  },
  {
   "cell_type": "code",
   "execution_count": 38,
   "metadata": {},
   "outputs": [
    {
     "name": "stdout",
     "output_type": "stream",
     "text": [
      "0    I think that we’ll use chatgpt in the future, ...\n",
      "1    not sure either. Maybe trying to read some pap...\n",
      "2    Yes it's probably better this way. It might be...\n",
      "3    Also I'm not sure about what I should be worki...\n",
      "4    yeah, probably\\nbut maybe transformers are com...\n",
      "Name: text, dtype: object\n"
     ]
    },
    {
     "data": {
      "text/plain": [
       "(55, 1024)"
      ]
     },
     "execution_count": 38,
     "metadata": {},
     "output_type": "execute_result"
    }
   ],
   "source": [
    "texts = df['text']\n",
    "print(texts[0:5])\n",
    "langs = [\"en\" for i in range(len(texts))]\n",
    "\n",
    "from laserembeddings import Laser\n",
    "\n",
    "laser = Laser()\n",
    "\n",
    "# if all sentences are in the same language:\n",
    "\n",
    "embeddings = laser.embed_sentences(\n",
    "    texts,\n",
    "    lang=langs)\n",
    "\n",
    "embeddings.shape\n"
   ]
  },
  {
   "cell_type": "code",
   "execution_count": 39,
   "metadata": {},
   "outputs": [
    {
     "data": {
      "text/plain": [
       "(55, 2)"
      ]
     },
     "execution_count": 39,
     "metadata": {},
     "output_type": "execute_result"
    }
   ],
   "source": [
    "#In this way we reduce the dimensionality of the embeddings to 2D\n",
    "pca = PCA(n_components=2)\n",
    "reduced_embeddings = pca.fit_transform(embeddings)\n",
    "reduced_embeddings.shape"
   ]
  },
  {
   "cell_type": "code",
   "execution_count": 40,
   "metadata": {},
   "outputs": [
    {
     "data": {
      "image/png": "[encoded data removed]",
      "text/plain": [
       "<Figure size 640x480 with 1 Axes>"
      ]
     },
     "metadata": {},
     "output_type": "display_data"
    }
   ],
   "source": [
    "# Plottare i punti\n",
    "plt.scatter(reduced_embeddings[:, 0], reduced_embeddings[:, 1])\n",
    "\n",
    "for i, point in enumerate(reduced_embeddings):\n",
    "    # Annotate each point with the message number\n",
    "    plt.annotate(str(i + 1), point, ha='center', va='center')\n",
    "\n",
    "plt.show()"
   ]
  },
  {
   "cell_type": "code",
   "execution_count": 41,
   "metadata": {},
   "outputs": [
    {
     "name": "stdout",
     "output_type": "stream",
     "text": [
      "30 : I can do it from 15h00 if you want to have a meeting\n",
      "52 : Ok\n",
      "51 : https://meet.google.com/akm-dase-qca\n"
     ]
    }
   ],
   "source": [
    "print(\"30 : \" + texts[30])\n",
    "print(\"52 : \" + texts[52])\n",
    "print(\"51 : \" + texts[51])"
   ]
  },
  {
   "cell_type": "markdown",
   "metadata": {},
   "source": [
    "Now we use the dataset 'poli_msgs.csv' where there are information about the messages of the polinetwork group \n",
    "\n",
    "We'll plot the data as we have done before to see if there is any change in the distribution of the messages of two different groups"
   ]
  },
  {
   "cell_type": "code",
   "execution_count": 42,
   "metadata": {},
   "outputs": [
    {
     "data": {
      "text/html": [
       "<div>\n",
       "<style scoped>\n",
       "    .dataframe tbody tr th:only-of-type {\n",
       "        vertical-align: middle;\n",
       "    }\n",
       "\n",
       "    .dataframe tbody tr th {\n",
       "        vertical-align: top;\n",
       "    }\n",
       "\n",
       "    .dataframe thead th {\n",
       "        text-align: right;\n",
       "    }\n",
       "</style>\n",
       "<table border=\"1\" class=\"dataframe\">\n",
       "  <thead>\n",
       "    <tr style=\"text-align: right;\">\n",
       "      <th></th>\n",
       "      <th>Unnamed: 0</th>\n",
       "      <th>group</th>\n",
       "      <th>sender</th>\n",
       "      <th>msg_id</th>\n",
       "      <th>reply</th>\n",
       "      <th>text</th>\n",
       "      <th>date</th>\n",
       "      <th>reactions</th>\n",
       "    </tr>\n",
       "  </thead>\n",
       "  <tbody>\n",
       "    <tr>\n",
       "      <th>0</th>\n",
       "      <td>1</td>\n",
       "      <td>https://t.me/PoliGruppo</td>\n",
       "      <td>768169879</td>\n",
       "      <td>205531</td>\n",
       "      <td>205529.0</td>\n",
       "      <td>**Here are the groups **:</td>\n",
       "      <td>2024-03-29 13:18:37+00:00</td>\n",
       "      <td>0</td>\n",
       "    </tr>\n",
       "    <tr>\n",
       "      <th>1</th>\n",
       "      <td>1</td>\n",
       "      <td>https://t.me/PoliGruppo</td>\n",
       "      <td>825112400</td>\n",
       "      <td>205529</td>\n",
       "      <td>NaN</td>\n",
       "      <td>Ciao a tutti, dovrei fare l'esame di stato a g...</td>\n",
       "      <td>2024-03-29 13:00:05+00:00</td>\n",
       "      <td>0</td>\n",
       "    </tr>\n",
       "    <tr>\n",
       "      <th>2</th>\n",
       "      <td>1</td>\n",
       "      <td>https://t.me/PoliGruppo</td>\n",
       "      <td>768169879</td>\n",
       "      <td>205525</td>\n",
       "      <td>205522.0</td>\n",
       "      <td>**Ecco i gruppi**:</td>\n",
       "      <td>2024-03-29 10:20:47+00:00</td>\n",
       "      <td>0</td>\n",
       "    </tr>\n",
       "    <tr>\n",
       "      <th>3</th>\n",
       "      <td>1</td>\n",
       "      <td>https://t.me/PoliGruppo</td>\n",
       "      <td>821857100</td>\n",
       "      <td>205523</td>\n",
       "      <td>205522.0</td>\n",
       "      <td>Non è un gruppo per fare recruiting</td>\n",
       "      <td>2024-03-29 10:19:15+00:00</td>\n",
       "      <td>0</td>\n",
       "    </tr>\n",
       "    <tr>\n",
       "      <th>4</th>\n",
       "      <td>1</td>\n",
       "      <td>https://t.me/PoliGruppo</td>\n",
       "      <td>450217695</td>\n",
       "      <td>205522</td>\n",
       "      <td>NaN</td>\n",
       "      <td>Ragazzi Ciao!\\nCi sono ingegneri strutturisti ...</td>\n",
       "      <td>2024-03-29 10:15:54+00:00</td>\n",
       "      <td>0</td>\n",
       "    </tr>\n",
       "  </tbody>\n",
       "</table>\n",
       "</div>"
      ],
      "text/plain": [
       "   Unnamed: 0                    group     sender  msg_id     reply  \\\n",
       "0           1  https://t.me/PoliGruppo  768169879  205531  205529.0   \n",
       "1           1  https://t.me/PoliGruppo  825112400  205529       NaN   \n",
       "2           1  https://t.me/PoliGruppo  768169879  205525  205522.0   \n",
       "3           1  https://t.me/PoliGruppo  821857100  205523  205522.0   \n",
       "4           1  https://t.me/PoliGruppo  450217695  205522       NaN   \n",
       "\n",
       "                                                text  \\\n",
       "0                          **Here are the groups **:   \n",
       "1  Ciao a tutti, dovrei fare l'esame di stato a g...   \n",
       "2                                 **Ecco i gruppi**:   \n",
       "3                Non è un gruppo per fare recruiting   \n",
       "4  Ragazzi Ciao!\\nCi sono ingegneri strutturisti ...   \n",
       "\n",
       "                        date  reactions  \n",
       "0  2024-03-29 13:18:37+00:00          0  \n",
       "1  2024-03-29 13:00:05+00:00          0  \n",
       "2  2024-03-29 10:20:47+00:00          0  \n",
       "3  2024-03-29 10:19:15+00:00          0  \n",
       "4  2024-03-29 10:15:54+00:00          0  "
      ]
     },
     "execution_count": 42,
     "metadata": {},
     "output_type": "execute_result"
    }
   ],
   "source": [
    "polidf = pd.read_csv('poli_msgs.csv')\n",
    "\n",
    "polidf['reactions'].fillna('', inplace=True)\n",
    "polidf['reactions'] = polidf['reactions'].apply(lambda x: count_reactions(reactions_splitting(x)))\n",
    "\n",
    "polidf.head()"
   ]
  },
  {
   "cell_type": "code",
   "execution_count": 43,
   "metadata": {},
   "outputs": [
    {
     "name": "stdout",
     "output_type": "stream",
     "text": [
      "0                            **Here are the groups **:\n",
      "1    Ciao a tutti, dovrei fare l'esame di stato a g...\n",
      "2                                   **Ecco i gruppi**:\n",
      "3                  Non è un gruppo per fare recruiting\n",
      "4    Ragazzi Ciao!\\nCi sono ingegneri strutturisti ...\n",
      "Name: text, dtype: object\n"
     ]
    },
    {
     "data": {
      "text/plain": [
       "(55, 1024)"
      ]
     },
     "execution_count": 43,
     "metadata": {},
     "output_type": "execute_result"
    }
   ],
   "source": [
    "poli_texts = polidf['text']\n",
    "print(poli_texts[0:5])\n",
    "langs = [\"it\" for i in range(len(poli_texts))]\n",
    "\n",
    "from laserembeddings import Laser\n",
    "\n",
    "laser = Laser()\n",
    "\n",
    "# if all sentences are in the same language:\n",
    "\n",
    "poli_embeddings = laser.embed_sentences(\n",
    "    poli_texts,\n",
    "    lang=langs)\n",
    "\n",
    "poli_embeddings.shape\n"
   ]
  },
  {
   "cell_type": "code",
   "execution_count": 44,
   "metadata": {},
   "outputs": [
    {
     "data": {
      "text/plain": [
       "(55, 2)"
      ]
     },
     "execution_count": 44,
     "metadata": {},
     "output_type": "execute_result"
    }
   ],
   "source": [
    "#In this way we reduce the dimensionality of the embeddings to 2D\n",
    "pca = PCA(n_components=2)\n",
    "poli_reduced_embeddings = pca.fit_transform(poli_embeddings)\n",
    "poli_reduced_embeddings.shape"
   ]
  },
  {
   "cell_type": "code",
   "execution_count": 45,
   "metadata": {},
   "outputs": [
    {
     "data": {
      "image/png": "[encoded data removed]",
      "text/plain": [
       "<Figure size 640x480 with 1 Axes>"
      ]
     },
     "metadata": {},
     "output_type": "display_data"
    }
   ],
   "source": [
    "# Plottare i punti di \"poli_reduced_embeddings\" in rosso\n",
    "plt.scatter(poli_reduced_embeddings[:, 0], poli_reduced_embeddings[:, 1],\n",
    "            color='red', label='Poli embeddings')\n",
    "\n",
    "# Plottare i punti\n",
    "plt.scatter(reduced_embeddings[:, 0], reduced_embeddings[:, 1], label='Group embeddings')\n",
    "\n",
    "\n",
    "# Aggiungere le legende\n",
    "plt.legend()\n",
    "\n",
    "plt.show()"
   ]
  },
  {
   "cell_type": "markdown",
   "metadata": {},
   "source": [
    "Try by plotting in the space"
   ]
  },
  {
   "cell_type": "code",
   "execution_count": 46,
   "metadata": {},
   "outputs": [],
   "source": [
    "#In this way we reduce the dimensionality of the embeddings to 3D\n",
    "pca = PCA(n_components=3)\n",
    "reduced_embeddings_3D = pca.fit_transform(embeddings)\n",
    "\n",
    "pca = PCA(n_components=3)\n",
    "poli_reduced_embeddings_3D = pca.fit_transform(poli_embeddings)"
   ]
  },
  {
   "cell_type": "code",
   "execution_count": 47,
   "metadata": {},
   "outputs": [
    {
     "data": {
      "image/png": "[encoded data removed]",
      "text/plain": [
       "<Figure size 640x480 with 1 Axes>"
      ]
     },
     "metadata": {},
     "output_type": "display_data"
    }
   ],
   "source": [
    "from mpl_toolkits.mplot3d import Axes3D\n",
    "\n",
    "# Importare i dati\n",
    "import numpy as np\n",
    "\n",
    "# Creare la figura e l'asse 3D\n",
    "fig = plt.figure()\n",
    "ax = fig.add_subplot(111, projection='3d')\n",
    "\n",
    "# Plottare i punti di \"reduced_embeddings_3D\" in blu\n",
    "ax.scatter(reduced_embeddings_3D[:, 0], reduced_embeddings_3D[:, 1], reduced_embeddings_3D[:, 2],\n",
    "            color='blue', label='Embeddings_3D')\n",
    "\n",
    "# Plottare i punti di \"poli_reduced_embeddings_3D\" in rosso\n",
    "ax.scatter(poli_reduced_embeddings_3D[:, 0], poli_reduced_embeddings_3D[:, 1], poli_reduced_embeddings_3D[:, 2],\n",
    "            color='red', label='Poli embeddings_3D')\n",
    "\n",
    "# Aggiungere le legende\n",
    "ax.legend()\n",
    "\n",
    "# Mostrare il plot\n",
    "plt.show()"
   ]
  },
  {
   "cell_type": "code",
   "execution_count": 51,
   "metadata": {},
   "outputs": [
    {
     "data": {
      "application/vnd.plotly.v1+json": {
       "config": {
        "plotlyServerURL": "https://plot.ly"
       },
       "data": [
        {
         "marker": {
          "color": "blue",
          "size": 8
         },
         "mode": "markers",
         "name": "Original_Embedding_3D",
         "type": "scatter3d",
         "x": [
          -0.1131267175078392,
          0.01575411483645439,
          -0.051905762404203415,
          0.01560585480183363,
          -0.20722506940364838,
          0.07424473017454147,
          -0.19243182241916656,
          -0.23419444262981415,
          0.1952507048845291,
          -0.011761031113564968,
          -0.15107324719429016,
          -0.38941308856010437,
          0.20930813252925873,
          -0.2276768833398819,
          0.45045599341392517,
          -0.29299190640449524,
          0.10498648881912231,
          -0.25233227014541626,
          -0.17441041767597198,
          0.22500170767307281,
          0.45805081725120544,
          0.007346451748162508,
          -0.23411433398723602,
          0.05925266817212105,
          -0.3253026604652405,
          0.34574493765830994,
          -0.15734554827213287,
          0.2247752845287323,
          -0.04097455367445946,
          -0.11964479833841324,
          0.21542808413505554,
          -0.03402383252978325,
          0.05129140987992287,
          0.2699502408504486,
          0.3289104104042053,
          0.1351865530014038,
          0.3585982322692871,
          -0.03147837519645691,
          0.17763136327266693,
          -0.18970131874084473,
          0.13237465918064117,
          0.11277744919061661,
          -0.41330257058143616,
          0.030732279643416405,
          0.12436462938785553,
          -0.2198091745376587,
          0.16889354586601257,
          -0.43317288160324097,
          -0.3940804600715637,
          0.2769499719142914,
          0.1969878077507019,
          -0.047965094447135925,
          0.486632376909256,
          -0.21035173535346985,
          -0.30267730355262756
         ],
         "y": [
          -0.05018649622797966,
          -0.02393077313899994,
          -0.12785667181015015,
          -0.1728391796350479,
          -0.1125384122133255,
          -0.05514771491289139,
          -0.08488784730434418,
          -0.018431665375828743,
          0.0007299519493244588,
          -0.01039331778883934,
          -0.14291857182979584,
          -0.015169885940849781,
          0.02311808429658413,
          -0.11021831631660461,
          0.038371726870536804,
          -0.06160910800099373,
          0.060644179582595825,
          0.0012867108453065157,
          0.04625049605965614,
          -0.10525985062122345,
          0.05777902156114578,
          0.05827294662594795,
          -0.06471935659646988,
          -0.10642153024673462,
          0.10952921956777573,
          -0.050651125609874725,
          -0.15186434984207153,
          -0.0015646511455997825,
          0.07811817526817322,
          0.495940238237381,
          -0.1165069043636322,
          -0.08653196692466736,
          -0.07287049293518066,
          -0.08777763694524765,
          -0.06091451644897461,
          -0.02018461935222149,
          0.051287826150655746,
          0.10750450938940048,
          -0.07712874561548233,
          0.09992293268442154,
          -0.03715287894010544,
          -0.0029701211024075747,
          -0.021682851016521454,
          -0.13248170912265778,
          -0.05327944457530975,
          -0.12814295291900635,
          0.018647167831659317,
          0.05666232481598854,
          0.08677425980567932,
          -0.027541061863303185,
          0.3608773648738861,
          0.485343337059021,
          0.08094288408756256,
          0.0771927610039711,
          -0.0034213531762361526
         ],
         "z": [
          -0.12306058406829834,
          -0.04184156656265259,
          -0.1071874126791954,
          -0.040887195616960526,
          -0.053478483110666275,
          -0.10608233511447906,
          -0.06079190969467163,
          0.03995785862207413,
          -0.014168676920235157,
          -0.10337544232606888,
          -0.1138574555516243,
          0.14177371561527252,
          -0.03257866948843002,
          -0.1010202094912529,
          0.16538627445697784,
          0.014382585883140564,
          -0.07211323827505112,
          -0.06550924479961395,
          -0.018621042370796204,
          -0.02491353638470173,
          0.1984092742204666,
          -0.09197760373353958,
          -0.014719285070896149,
          -0.058478012681007385,
          0.02166995033621788,
          0.05822645500302315,
          0.05710792541503906,
          0.016971733421087265,
          -0.08283825218677521,
          -0.14119838178157806,
          0.024938983842730522,
          -0.08140955865383148,
          -0.09297875314950943,
          0.055185288190841675,
          0.13090628385543823,
          -0.01261007972061634,
          0.08747018873691559,
          -0.08793430775403976,
          -0.037806201726198196,
          -0.12678353488445282,
          -0.05046556517481804,
          -0.06265165656805038,
          0.31922614574432373,
          -0.06483187526464462,
          -0.03594106808304787,
          0.050560444593429565,
          -0.019881054759025574,
          0.31778213381767273,
          0.2782894968986511,
          0.007033453322947025,
          -0.010019899345934391,
          -0.09524914622306824,
          0.2192593663930893,
          0.09648242592811584,
          -0.05375848710536957
         ]
        },
        {
         "marker": {
          "color": "red",
          "size": 8
         },
         "mode": "markers",
         "name": "Poli embeddings_3D",
         "type": "scatter3d",
         "x": [
          0.07535570114850998,
          -0.3677060008049011,
          0.10839471220970154,
          0.05015113949775696,
          -0.26689088344573975,
          0.34679093956947327,
          0.07535577565431595,
          -0.22743265330791473,
          -0.13954071700572968,
          -0.22204066812992096,
          0.10839471220970154,
          0.12757067382335663,
          0.051461122930049896,
          -0.14372912049293518,
          -0.1197960302233696,
          0.1700446754693985,
          -0.1653164178133011,
          -0.21865728497505188,
          -0.20889581739902496,
          0.33886298537254333,
          -0.16822443902492523,
          0.07535577565431595,
          -0.3867857754230499,
          -0.01801781728863716,
          0.02325696498155594,
          0.40972617268562317,
          -0.10808109492063522,
          -0.34281641244888306,
          0.3184219300746918,
          0.1255408674478531,
          -0.2719481885433197,
          0.27127644419670105,
          -0.003064711345359683,
          0.37966036796569824,
          0.021981125697493553,
          0.31726187467575073,
          -0.3415883779525757,
          0.4080146849155426,
          -0.037202540785074234,
          0.2868150472640991,
          0.20444445312023163,
          -0.31880444288253784,
          -0.36812347173690796,
          -0.0439494363963604,
          -0.27829092741012573,
          0.2272597998380661,
          0.16182167828083038,
          -0.14201228320598602,
          -0.16952195763587952,
          0.022702936083078384,
          0.21550679206848145,
          0.0687035471200943,
          -0.32462164759635925,
          0.03429572656750679,
          0.37863031029701233
         ],
         "y": [
          0.42321401834487915,
          -0.041408948600292206,
          0.3160838484764099,
          -0.002408211585134268,
          -0.006193023640662432,
          -0.08364506810903549,
          0.4232139587402344,
          -0.05586722865700722,
          -0.04017207771539688,
          0.07641725987195969,
          0.3160838484764099,
          0.13126233220100403,
          -0.08534996211528778,
          -0.07321757078170776,
          -0.06390811502933502,
          -0.03406364470720291,
          -0.012925306335091591,
          -0.08730743080377579,
          -0.04183655232191086,
          -0.1031029000878334,
          0.07575149089097977,
          0.4232139587402344,
          -0.057269927114248276,
          -0.0745915025472641,
          -0.034762054681777954,
          -0.1192295178771019,
          -0.07864439487457275,
          -0.04074075445532799,
          -0.0704808458685875,
          -0.030355829745531082,
          -0.07430019229650497,
          -0.07562009245157242,
          -0.059705186635255814,
          -0.05208409205079079,
          0.007581804879009724,
          -0.04809234291315079,
          -0.04276907444000244,
          -0.11837223917245865,
          -0.11330453306436539,
          -0.04203878715634346,
          -0.03509631007909775,
          -0.08512739837169647,
          0.18127095699310303,
          -0.01387800369411707,
          -0.08399852365255356,
          -0.05057287961244583,
          0.14795911312103271,
          -0.0030948345083743334,
          -0.061511386185884476,
          -0.022050177678465843,
          -0.07002615928649902,
          -0.05844802409410477,
          -0.0382586307823658,
          -0.01272826362401247,
          -0.12349434196949005
         ],
         "z": [
          -0.027636926621198654,
          0.04409130662679672,
          -0.06792156398296356,
          -0.10721436142921448,
          0.018206680193543434,
          0.07672897726297379,
          -0.027636950835585594,
          0.02055758610367775,
          -0.09172678738832474,
          0.2996092438697815,
          -0.06792156398296356,
          -0.05710112676024437,
          -0.17136690020561218,
          -0.023887569084763527,
          -0.0564136765897274,
          -0.07981083542108536,
          -0.04572295770049095,
          -0.0611225850880146,
          -0.019520631060004234,
          0.04473992809653282,
          0.06507841497659683,
          -0.027636950835585594,
          0.06539969146251678,
          -0.16494759917259216,
          -0.06953541934490204,
          0.18871387839317322,
          -0.048056311905384064,
          0.058075275272130966,
          0.15212394297122955,
          -0.06926883012056351,
          -0.05103784799575806,
          0.20845629274845123,
          -0.14436028897762299,
          0.24882102012634277,
          -0.09516123682260513,
          -0.09949488937854767,
          0.1431264728307724,
          0.14190207421779633,
          -0.14956140518188477,
          -0.10953254997730255,
          -0.12956145405769348,
          0.025456033647060394,
          0.39308077096939087,
          -0.08130570501089096,
          0.028120841830968857,
          -0.0882972851395607,
          0.07302138209342957,
          -0.03144364804029465,
          -0.05354897305369377,
          -0.10130105912685394,
          0.08102486282587051,
          -0.05421746149659157,
          0.042534057050943375,
          -0.10534270107746124,
          0.15974757075309753
         ]
        }
       ],
       "layout": {
        "legend": {
         "x": 0.01,
         "xanchor": "left",
         "y": 0.99,
         "yanchor": "top"
        },
        "template": {
         "data": {
          "bar": [
           {
            "error_x": {
             "color": "#2a3f5f"
            },
            "error_y": {
             "color": "#2a3f5f"
            },
            "marker": {
             "line": {
              "color": "#E5ECF6",
              "width": 0.5
             },
             "pattern": {
              "fillmode": "overlay",
              "size": 10,
              "solidity": 0.2
             }
            },
            "type": "bar"
           }
          ],
          "barpolar": [
           {
            "marker": {
             "line": {
              "color": "#E5ECF6",
              "width": 0.5
             },
             "pattern": {
              "fillmode": "overlay",
              "size": 10,
              "solidity": 0.2
             }
            },
            "type": "barpolar"
           }
          ],
          "carpet": [
           {
            "aaxis": {
             "endlinecolor": "#2a3f5f",
             "gridcolor": "white",
             "linecolor": "white",
             "minorgridcolor": "white",
             "startlinecolor": "#2a3f5f"
            },
            "baxis": {
             "endlinecolor": "#2a3f5f",
             "gridcolor": "white",
             "linecolor": "white",
             "minorgridcolor": "white",
             "startlinecolor": "#2a3f5f"
            },
            "type": "carpet"
           }
          ],
          "choropleth": [
           {
            "colorbar": {
             "outlinewidth": 0,
             "ticks": ""
            },
            "type": "choropleth"
           }
          ],
          "contour": [
           {
            "colorbar": {
             "outlinewidth": 0,
             "ticks": ""
            },
            "colorscale": [
             [
              0,
              "#0d0887"
             ],
             [
              0.1111111111111111,
              "#46039f"
             ],
             [
              0.2222222222222222,
              "#7201a8"
             ],
             [
              0.3333333333333333,
              "#9c179e"
             ],
             [
              0.4444444444444444,
              "#bd3786"
             ],
             [
              0.5555555555555556,
              "#d8576b"
             ],
             [
              0.6666666666666666,
              "#ed7953"
             ],
             [
              0.7777777777777778,
              "#fb9f3a"
             ],
             [
              0.8888888888888888,
              "#fdca26"
             ],
             [
              1,
              "#f0f921"
             ]
            ],
            "type": "contour"
           }
          ],
          "contourcarpet": [
           {
            "colorbar": {
             "outlinewidth": 0,
             "ticks": ""
            },
            "type": "contourcarpet"
           }
          ],
          "heatmap": [
           {
            "colorbar": {
             "outlinewidth": 0,
             "ticks": ""
            },
            "colorscale": [
             [
              0,
              "#0d0887"
             ],
             [
              0.1111111111111111,
              "#46039f"
             ],
             [
              0.2222222222222222,
              "#7201a8"
             ],
             [
              0.3333333333333333,
              "#9c179e"
             ],
             [
              0.4444444444444444,
              "#bd3786"
             ],
             [
              0.5555555555555556,
              "#d8576b"
             ],
             [
              0.6666666666666666,
              "#ed7953"
             ],
             [
              0.7777777777777778,
              "#fb9f3a"
             ],
             [
              0.8888888888888888,
              "#fdca26"
             ],
             [
              1,
              "#f0f921"
             ]
            ],
            "type": "heatmap"
           }
          ],
          "heatmapgl": [
           {
            "colorbar": {
             "outlinewidth": 0,
             "ticks": ""
            },
            "colorscale": [
             [
              0,
              "#0d0887"
             ],
             [
              0.1111111111111111,
              "#46039f"
             ],
             [
              0.2222222222222222,
              "#7201a8"
             ],
             [
              0.3333333333333333,
              "#9c179e"
             ],
             [
              0.4444444444444444,
              "#bd3786"
             ],
             [
              0.5555555555555556,
              "#d8576b"
             ],
             [
              0.6666666666666666,
              "#ed7953"
             ],
             [
              0.7777777777777778,
              "#fb9f3a"
             ],
             [
              0.8888888888888888,
              "#fdca26"
             ],
             [
              1,
              "#f0f921"
             ]
            ],
            "type": "heatmapgl"
           }
          ],
          "histogram": [
           {
            "marker": {
             "pattern": {
              "fillmode": "overlay",
              "size": 10,
              "solidity": 0.2
             }
            },
            "type": "histogram"
           }
          ],
          "histogram2d": [
           {
            "colorbar": {
             "outlinewidth": 0,
             "ticks": ""
            },
            "colorscale": [
             [
              0,
              "#0d0887"
             ],
             [
              0.1111111111111111,
              "#46039f"
             ],
             [
              0.2222222222222222,
              "#7201a8"
             ],
             [
              0.3333333333333333,
              "#9c179e"
             ],
             [
              0.4444444444444444,
              "#bd3786"
             ],
             [
              0.5555555555555556,
              "#d8576b"
             ],
             [
              0.6666666666666666,
              "#ed7953"
             ],
             [
              0.7777777777777778,
              "#fb9f3a"
             ],
             [
              0.8888888888888888,
              "#fdca26"
             ],
             [
              1,
              "#f0f921"
             ]
            ],
            "type": "histogram2d"
           }
          ],
          "histogram2dcontour": [
           {
            "colorbar": {
             "outlinewidth": 0,
             "ticks": ""
            },
            "colorscale": [
             [
              0,
              "#0d0887"
             ],
             [
              0.1111111111111111,
              "#46039f"
             ],
             [
              0.2222222222222222,
              "#7201a8"
             ],
             [
              0.3333333333333333,
              "#9c179e"
             ],
             [
              0.4444444444444444,
              "#bd3786"
             ],
             [
              0.5555555555555556,
              "#d8576b"
             ],
             [
              0.6666666666666666,
              "#ed7953"
             ],
             [
              0.7777777777777778,
              "#fb9f3a"
             ],
             [
              0.8888888888888888,
              "#fdca26"
             ],
             [
              1,
              "#f0f921"
             ]
            ],
            "type": "histogram2dcontour"
           }
          ],
          "mesh3d": [
           {
            "colorbar": {
             "outlinewidth": 0,
             "ticks": ""
            },
            "type": "mesh3d"
           }
          ],
          "parcoords": [
           {
            "line": {
             "colorbar": {
              "outlinewidth": 0,
              "ticks": ""
             }
            },
            "type": "parcoords"
           }
          ],
          "pie": [
           {
            "automargin": true,
            "type": "pie"
           }
          ],
          "scatter": [
           {
            "fillpattern": {
             "fillmode": "overlay",
             "size": 10,
             "solidity": 0.2
            },
            "type": "scatter"
           }
          ],
          "scatter3d": [
           {
            "line": {
             "colorbar": {
              "outlinewidth": 0,
              "ticks": ""
             }
            },
            "marker": {
             "colorbar": {
              "outlinewidth": 0,
              "ticks": ""
             }
            },
            "type": "scatter3d"
           }
          ],
          "scattercarpet": [
           {
            "marker": {
             "colorbar": {
              "outlinewidth": 0,
              "ticks": ""
             }
            },
            "type": "scattercarpet"
           }
          ],
          "scattergeo": [
           {
            "marker": {
             "colorbar": {
              "outlinewidth": 0,
              "ticks": ""
             }
            },
            "type": "scattergeo"
           }
          ],
          "scattergl": [
           {
            "marker": {
             "colorbar": {
              "outlinewidth": 0,
              "ticks": ""
             }
            },
            "type": "scattergl"
           }
          ],
          "scattermapbox": [
           {
            "marker": {
             "colorbar": {
              "outlinewidth": 0,
              "ticks": ""
             }
            },
            "type": "scattermapbox"
           }
          ],
          "scatterpolar": [
           {
            "marker": {
             "colorbar": {
              "outlinewidth": 0,
              "ticks": ""
             }
            },
            "type": "scatterpolar"
           }
          ],
          "scatterpolargl": [
           {
            "marker": {
             "colorbar": {
              "outlinewidth": 0,
              "ticks": ""
             }
            },
            "type": "scatterpolargl"
           }
          ],
          "scatterternary": [
           {
            "marker": {
             "colorbar": {
              "outlinewidth": 0,
              "ticks": ""
             }
            },
            "type": "scatterternary"
           }
          ],
          "surface": [
           {
            "colorbar": {
             "outlinewidth": 0,
             "ticks": ""
            },
            "colorscale": [
             [
              0,
              "#0d0887"
             ],
             [
              0.1111111111111111,
              "#46039f"
             ],
             [
              0.2222222222222222,
              "#7201a8"
             ],
             [
              0.3333333333333333,
              "#9c179e"
             ],
             [
              0.4444444444444444,
              "#bd3786"
             ],
             [
              0.5555555555555556,
              "#d8576b"
             ],
             [
              0.6666666666666666,
              "#ed7953"
             ],
             [
              0.7777777777777778,
              "#fb9f3a"
             ],
             [
              0.8888888888888888,
              "#fdca26"
             ],
             [
              1,
              "#f0f921"
             ]
            ],
            "type": "surface"
           }
          ],
          "table": [
           {
            "cells": {
             "fill": {
              "color": "#EBF0F8"
             },
             "line": {
              "color": "white"
             }
            },
            "header": {
             "fill": {
              "color": "#C8D4E3"
             },
             "line": {
              "color": "white"
             }
            },
            "type": "table"
           }
          ]
         },
         "layout": {
          "annotationdefaults": {
           "arrowcolor": "#2a3f5f",
           "arrowhead": 0,
           "arrowwidth": 1
          },
          "autotypenumbers": "strict",
          "coloraxis": {
           "colorbar": {
            "outlinewidth": 0,
            "ticks": ""
           }
          },
          "colorscale": {
           "diverging": [
            [
             0,
             "#8e0152"
            ],
            [
             0.1,
             "#c51b7d"
            ],
            [
             0.2,
             "#de77ae"
            ],
            [
             0.3,
             "#f1b6da"
            ],
            [
             0.4,
             "#fde0ef"
            ],
            [
             0.5,
             "#f7f7f7"
            ],
            [
             0.6,
             "#e6f5d0"
            ],
            [
             0.7,
             "#b8e186"
            ],
            [
             0.8,
             "#7fbc41"
            ],
            [
             0.9,
             "#4d9221"
            ],
            [
             1,
             "#276419"
            ]
           ],
           "sequential": [
            [
             0,
             "#0d0887"
            ],
            [
             0.1111111111111111,
             "#46039f"
            ],
            [
             0.2222222222222222,
             "#7201a8"
            ],
            [
             0.3333333333333333,
             "#9c179e"
            ],
            [
             0.4444444444444444,
             "#bd3786"
            ],
            [
             0.5555555555555556,
             "#d8576b"
            ],
            [
             0.6666666666666666,
             "#ed7953"
            ],
            [
             0.7777777777777778,
             "#fb9f3a"
            ],
            [
             0.8888888888888888,
             "#fdca26"
            ],
            [
             1,
             "#f0f921"
            ]
           ],
           "sequentialminus": [
            [
             0,
             "#0d0887"
            ],
            [
             0.1111111111111111,
             "#46039f"
            ],
            [
             0.2222222222222222,
             "#7201a8"
            ],
            [
             0.3333333333333333,
             "#9c179e"
            ],
            [
             0.4444444444444444,
             "#bd3786"
            ],
            [
             0.5555555555555556,
             "#d8576b"
            ],
            [
             0.6666666666666666,
             "#ed7953"
            ],
            [
             0.7777777777777778,
             "#fb9f3a"
            ],
            [
             0.8888888888888888,
             "#fdca26"
            ],
            [
             1,
             "#f0f921"
            ]
           ]
          },
          "colorway": [
           "#636efa",
           "#EF553B",
           "#00cc96",
           "#ab63fa",
           "#FFA15A",
           "#19d3f3",
           "#FF6692",
           "#B6E880",
           "#FF97FF",
           "#FECB52"
          ],
          "font": {
           "color": "#2a3f5f"
          },
          "geo": {
           "bgcolor": "white",
           "lakecolor": "white",
           "landcolor": "#E5ECF6",
           "showlakes": true,
           "showland": true,
           "subunitcolor": "white"
          },
          "hoverlabel": {
           "align": "left"
          },
          "hovermode": "closest",
          "mapbox": {
           "style": "light"
          },
          "paper_bgcolor": "white",
          "plot_bgcolor": "#E5ECF6",
          "polar": {
           "angularaxis": {
            "gridcolor": "white",
            "linecolor": "white",
            "ticks": ""
           },
           "bgcolor": "#E5ECF6",
           "radialaxis": {
            "gridcolor": "white",
            "linecolor": "white",
            "ticks": ""
           }
          },
          "scene": {
           "xaxis": {
            "backgroundcolor": "#E5ECF6",
            "gridcolor": "white",
            "gridwidth": 2,
            "linecolor": "white",
            "showbackground": true,
            "ticks": "",
            "zerolinecolor": "white"
           },
           "yaxis": {
            "backgroundcolor": "#E5ECF6",
            "gridcolor": "white",
            "gridwidth": 2,
            "linecolor": "white",
            "showbackground": true,
            "ticks": "",
            "zerolinecolor": "white"
           },
           "zaxis": {
            "backgroundcolor": "#E5ECF6",
            "gridcolor": "white",
            "gridwidth": 2,
            "linecolor": "white",
            "showbackground": true,
            "ticks": "",
            "zerolinecolor": "white"
           }
          },
          "shapedefaults": {
           "line": {
            "color": "#2a3f5f"
           }
          },
          "ternary": {
           "aaxis": {
            "gridcolor": "white",
            "linecolor": "white",
            "ticks": ""
           },
           "baxis": {
            "gridcolor": "white",
            "linecolor": "white",
            "ticks": ""
           },
           "bgcolor": "#E5ECF6",
           "caxis": {
            "gridcolor": "white",
            "linecolor": "white",
            "ticks": ""
           }
          },
          "title": {
           "x": 0.05
          },
          "xaxis": {
           "automargin": true,
           "gridcolor": "white",
           "linecolor": "white",
           "ticks": "",
           "title": {
            "standoff": 15
           },
           "zerolinecolor": "white",
           "zerolinewidth": 2
          },
          "yaxis": {
           "automargin": true,
           "gridcolor": "white",
           "linecolor": "white",
           "ticks": "",
           "title": {
            "standoff": 15
           },
           "zerolinecolor": "white",
           "zerolinewidth": 2
          }
         }
        }
       }
      }
     },
     "metadata": {},
     "output_type": "display_data"
    }
   ],
   "source": [
    "import plotly.graph_objects as go\n",
    "\n",
    "# Importare i dati\n",
    "import numpy as np\n",
    "\n",
    "# Creare la figura\n",
    "fig = go.Figure()\n",
    "\n",
    "# Plot each set of points with a unique colormap\n",
    "fig.add_scatter3d(\n",
    "    x=reduced_embeddings_3D[:, 0],\n",
    "    y=reduced_embeddings_3D[:, 1],\n",
    "    z=reduced_embeddings_3D[:, 2],\n",
    "    mode='markers',\n",
    "    marker=dict(color='blue', size=8),  # Use a color name or hex code for direct coloring\n",
    "    name='Original_Embedding_3D'\n",
    ")\n",
    "\n",
    "fig.add_scatter3d(\n",
    "    x=poli_reduced_embeddings_3D[:, 0],\n",
    "    y=poli_reduced_embeddings_3D[:, 1],\n",
    "    z=poli_reduced_embeddings_3D[:, 2],\n",
    "    mode='markers',\n",
    "    marker=dict(color='red', size=8),  # Use a different color for this set\n",
    "    name='Poli embeddings_3D'\n",
    ")\n",
    "\n",
    "# Aggiungere le legende\n",
    "fig.update_layout(legend=dict(yanchor=\"top\", y=0.99, xanchor=\"left\", x=0.01))\n",
    "\n",
    "# Mostrare il plot\n",
    "fig.show()"
   ]
  }
 ],
 "metadata": {
  "kernelspec": {
   "display_name": "telegramprj",
   "language": "python",
   "name": "python3"
  },
  "language_info": {
   "codemirror_mode": {
    "name": "ipython",
    "version": 3
   },
   "file_extension": ".py",
   "mimetype": "text/x-python",
   "name": "python",
   "nbconvert_exporter": "python",
   "pygments_lexer": "ipython3",
   "version": "3.8.19"
  }
 },
 "nbformat": 4,
 "nbformat_minor": 2
}
