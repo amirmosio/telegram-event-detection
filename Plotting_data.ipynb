{
 "cells": [
  {
   "cell_type": "markdown",
   "metadata": {},
   "source": [
    "**Lorenzo's Notebook**"
   ]
  },
  {
   "cell_type": "markdown",
   "metadata": {},
   "source": [
    "Importing useful packages and modules"
   ]
  },
  {
   "cell_type": "code",
   "execution_count": 1,
   "metadata": {},
   "outputs": [],
   "source": [
    "from data_collection.data_collector_client import DataCollectorClient\n",
    "from telethon.tl.types import MessageReactions\n",
    "import asyncio\n",
    "from decouple import config\n",
    "import pandas as pd\n",
    "import numpy as np\n",
    "from sklearn.decomposition import PCA\n",
    "import matplotlib.pyplot as plt"
   ]
  },
  {
   "cell_type": "code",
   "execution_count": 2,
   "metadata": {},
   "outputs": [],
   "source": [
    "import re\n",
    "def reactions_splitting(message):\n",
    "    pattern = r\"emoticon=['\\\"](.*?)['\\\"].*?count=(\\d+)\"\n",
    "    matches = re.findall(pattern, message)\n",
    "    if matches:\n",
    "        return matches\n",
    "    else:\n",
    "        return None"
   ]
  },
  {
   "cell_type": "code",
   "execution_count": 3,
   "metadata": {},
   "outputs": [],
   "source": [
    "\n",
    "# Function to count the number of reactions in a message using the splitted reactions\n",
    "def count_reactions(splitted_reaction):\n",
    "    if(splitted_reaction == None):\n",
    "        return 0\n",
    "    else:\n",
    "        tmp = []\n",
    "        for i in range(len(splitted_reaction)):\n",
    "            tmp.append(int(splitted_reaction[:][i][1]))\n",
    "        return sum(tmp)"
   ]
  },
  {
   "cell_type": "code",
   "execution_count": 4,
   "metadata": {},
   "outputs": [
    {
     "name": "stdout",
     "output_type": "stream",
     "text": [
      "['ciao a tutti', 'come va', 'oggi è una bella giornata']\n"
     ]
    },
    {
     "name": "stderr",
     "output_type": "stream",
     "text": [
      "[nltk_data] Downloading package stopwords to C:\\Users\\asus-\n",
      "[nltk_data]     zen\\AppData\\Roaming\\nltk_data...\n",
      "[nltk_data]   Package stopwords is already up-to-date!\n"
     ]
    }
   ],
   "source": [
    "import nltk\n",
    "nltk.download('stopwords')\n",
    "from nltk.corpus import stopwords\n",
    "\n",
    "#Function to preprocess a message removing stopwords of the specified language and special characters\n",
    "def preprocess_message(message, language):\n",
    "  message = re.sub(r\"@\\w+\", \"\", message)\n",
    "  message = re.sub(r\"(\\[[^\\]]+\\]|https?://[^\\s]+)\", \"\", message)\n",
    "  message = re.sub(r\"\\n\", \"\", message)\n",
    "  message = re.sub(r\"[^\\w\\s]\", \"\", message)\n",
    "\n",
    "\n",
    "  # Removing links\n",
    " \n",
    "\n",
    "\n",
    "  # Removing Stopwords\n",
    "  #stop_words = set(stopwords.words(language))\n",
    "  #message = \" \".join([word for word in message.split() if word not in stop_words])\n",
    "\n",
    "  # Convert to lowercase\n",
    "  message = message.lower()\n",
    "\n",
    "  # Removing empty words\n",
    "  message = \" \".join(message.split())\n",
    "\n",
    "  return message\n",
    "\n",
    "# example\n",
    "messaggi = [\"Ciao a tutti!\", \"Come va?\", \"Oggi è una bella giornata\\n.\"]\n",
    "preprocessed_messages = [preprocess_message(message,\"italian\") for message in messaggi]\n",
    "print(preprocessed_messages)\n"
   ]
  },
  {
   "cell_type": "code",
   "execution_count": 5,
   "metadata": {},
   "outputs": [],
   "source": [
    "df = pd.read_csv('./data/trial.csv')\n",
    "\n",
    "df['reactions'].fillna('', inplace=True)\n",
    "df['reactions'] = df['reactions'].apply(lambda x: count_reactions(reactions_splitting(x)))"
   ]
  },
  {
   "cell_type": "code",
   "execution_count": 6,
   "metadata": {},
   "outputs": [],
   "source": [
    "\n",
    "ourgroup = \"https://t.me/+synza2388S80NWM0\"\n",
    "poligroup = \"https://t.me/PoliGruppo\"\n",
    "\n",
    "ourdf = df.loc[df['group'] == ourgroup]\n",
    "ourdf = ourdf.dropna(subset=['text'])"
   ]
  },
  {
   "cell_type": "code",
   "execution_count": 7,
   "metadata": {},
   "outputs": [
    {
     "data": {
      "text/plain": [
       "5328388801.0"
      ]
     },
     "execution_count": 7,
     "metadata": {},
     "output_type": "execute_result"
    }
   ],
   "source": [
    "ourdf.shape[0]\n",
    "ourdf.iloc[-1]\n",
    "ourdf.iloc[ourdf.shape[0]-1]['sender']"
   ]
  },
  {
   "cell_type": "code",
   "execution_count": 8,
   "metadata": {},
   "outputs": [
    {
     "name": "stdout",
     "output_type": "stream",
     "text": [
      "3              Hi😊\n",
      "4    hey everyone!\n",
      "Name: text, dtype: object\n"
     ]
    }
   ],
   "source": [
    "print(ourdf.iloc[2:4]['text'])"
   ]
  },
  {
   "cell_type": "code",
   "execution_count": 9,
   "metadata": {},
   "outputs": [],
   "source": [
    "text = str(ourdf.iloc[2]['text']) + str(ourdf.iloc[3]['text'])"
   ]
  },
  {
   "cell_type": "code",
   "execution_count": 10,
   "metadata": {},
   "outputs": [
    {
     "name": "stdout",
     "output_type": "stream",
     "text": [
      "382281069.0\n"
     ]
    }
   ],
   "source": [
    "import math\n",
    "if(not math.isnan(ourdf.iloc[0]['sender'])):\n",
    "    print(ourdf.iloc[0]['sender'])\n",
    "else:\n",
    "    print(\"This is NAN\")"
   ]
  },
  {
   "cell_type": "code",
   "execution_count": 11,
   "metadata": {},
   "outputs": [
    {
     "name": "stdout",
     "output_type": "stream",
     "text": [
      "Hi😊hey everyone!\n"
     ]
    }
   ],
   "source": [
    "print(text)"
   ]
  },
  {
   "cell_type": "code",
   "execution_count": 12,
   "metadata": {},
   "outputs": [],
   "source": [
    "ourdf.at[2, 'text'] = text"
   ]
  },
  {
   "cell_type": "code",
   "execution_count": 13,
   "metadata": {},
   "outputs": [
    {
     "name": "stdout",
     "output_type": "stream",
     "text": [
      "Hi😊\n"
     ]
    }
   ],
   "source": [
    "print(ourdf.iloc[2]['text'])"
   ]
  },
  {
   "cell_type": "code",
   "execution_count": 63,
   "metadata": {},
   "outputs": [],
   "source": [
    "import math\n",
    "def merge_consecutive_messages(df):\n",
    "    ourdf = df.copy()\n",
    "    k=0\n",
    "    k = ourdf.shape[0]-1\n",
    "    i=0\n",
    "    while i < k-1:\n",
    "\n",
    "        j=i+1        \n",
    "        if(not math.isnan(ourdf.iloc[i]['sender'] )):\n",
    "            x_i = ourdf.iloc[i]['text']\n",
    "            x_j = ourdf.iloc[j]['text']\n",
    "            while(ourdf.iloc[i]['sender'] == ourdf.iloc[j]['sender']):\n",
    "                print(\"i: \", i, \" j: \", j, \" k: \", k)\n",
    "                text = str(ourdf.iloc[i]['text']) + \" \" + str(ourdf.iloc[j]['text'])\n",
    "                ourdf.at[i, 'text'] = text\n",
    "                ourdf.at[i,'reactions'] = ourdf.iloc[j]['reactions'] + ourdf.iloc[i]['reactions']\n",
    "                \n",
    "                ourdf.drop(j, inplace=True)\n",
    "                ourdf.reset_index(drop=True, inplace=True)\n",
    "                k = k-1\n",
    "        i=i+1\n",
    "    return ourdf\n"
   ]
  },
  {
   "cell_type": "code",
   "execution_count": 16,
   "metadata": {},
   "outputs": [],
   "source": [
    "trialdf = ourdf[0:10]"
   ]
  },
  {
   "cell_type": "code",
   "execution_count": 40,
   "metadata": {},
   "outputs": [
    {
     "data": {
      "text/html": [
       "<div>\n",
       "<style scoped>\n",
       "    .dataframe tbody tr th:only-of-type {\n",
       "        vertical-align: middle;\n",
       "    }\n",
       "\n",
       "    .dataframe tbody tr th {\n",
       "        vertical-align: top;\n",
       "    }\n",
       "\n",
       "    .dataframe thead th {\n",
       "        text-align: right;\n",
       "    }\n",
       "</style>\n",
       "<table border=\"1\" class=\"dataframe\">\n",
       "  <thead>\n",
       "    <tr style=\"text-align: right;\">\n",
       "      <th></th>\n",
       "      <th>Unnamed: 0</th>\n",
       "      <th>group</th>\n",
       "      <th>sender</th>\n",
       "      <th>text</th>\n",
       "      <th>reply</th>\n",
       "      <th>date</th>\n",
       "      <th>reactions</th>\n",
       "    </tr>\n",
       "  </thead>\n",
       "  <tbody>\n",
       "    <tr>\n",
       "      <th>0</th>\n",
       "      <td>327</td>\n",
       "      <td>https://t.me/+synza2388S80NWM0</td>\n",
       "      <td>382281069.0</td>\n",
       "      <td>Hi guys</td>\n",
       "      <td>NaN</td>\n",
       "      <td>2024-02-29 14:34:51+00:00</td>\n",
       "      <td>0</td>\n",
       "    </tr>\n",
       "    <tr>\n",
       "      <th>1</th>\n",
       "      <td>326</td>\n",
       "      <td>https://t.me/+synza2388S80NWM0</td>\n",
       "      <td>480675472.0</td>\n",
       "      <td>Hi😊hey everyone!</td>\n",
       "      <td>NaN</td>\n",
       "      <td>2024-02-29 14:39:04+00:00</td>\n",
       "      <td>0</td>\n",
       "    </tr>\n",
       "    <tr>\n",
       "      <th>2</th>\n",
       "      <td>325</td>\n",
       "      <td>https://t.me/+synza2388S80NWM0</td>\n",
       "      <td>NaN</td>\n",
       "      <td>Hi😊</td>\n",
       "      <td>NaN</td>\n",
       "      <td>2024-02-29 14:39:24+00:00</td>\n",
       "      <td>0</td>\n",
       "    </tr>\n",
       "    <tr>\n",
       "      <th>3</th>\n",
       "      <td>324</td>\n",
       "      <td>https://t.me/+synza2388S80NWM0</td>\n",
       "      <td>NaN</td>\n",
       "      <td>hey everyone!</td>\n",
       "      <td>NaN</td>\n",
       "      <td>2024-02-29 14:41:48+00:00</td>\n",
       "      <td>0</td>\n",
       "    </tr>\n",
       "    <tr>\n",
       "      <th>4</th>\n",
       "      <td>323</td>\n",
       "      <td>https://t.me/+synza2388S80NWM0</td>\n",
       "      <td>480675472.0</td>\n",
       "      <td>I don’t know why I see just Amir</td>\n",
       "      <td>NaN</td>\n",
       "      <td>2024-02-29 14:43:15+00:00</td>\n",
       "      <td>0</td>\n",
       "    </tr>\n",
       "    <tr>\n",
       "      <th>5</th>\n",
       "      <td>321</td>\n",
       "      <td>https://t.me/+synza2388S80NWM0</td>\n",
       "      <td>NaN</td>\n",
       "      <td>Does anyone know how to change the settings so...</td>\n",
       "      <td>NaN</td>\n",
       "      <td>2024-02-29 14:43:54+00:00</td>\n",
       "      <td>0</td>\n",
       "    </tr>\n",
       "    <tr>\n",
       "      <th>6</th>\n",
       "      <td>319</td>\n",
       "      <td>https://t.me/+synza2388S80NWM0</td>\n",
       "      <td>984447467.0</td>\n",
       "      <td>The same is happening to me😂</td>\n",
       "      <td>NaN</td>\n",
       "      <td>2024-02-29 14:44:48+00:00</td>\n",
       "      <td>0</td>\n",
       "    </tr>\n",
       "    <tr>\n",
       "      <th>7</th>\n",
       "      <td>318</td>\n",
       "      <td>https://t.me/+synza2388S80NWM0</td>\n",
       "      <td>382281069.0</td>\n",
       "      <td>It is ok now, the setting was messed up</td>\n",
       "      <td>NaN</td>\n",
       "      <td>2024-02-29 14:45:14+00:00</td>\n",
       "      <td>0</td>\n",
       "    </tr>\n",
       "    <tr>\n",
       "      <th>8</th>\n",
       "      <td>317</td>\n",
       "      <td>https://t.me/+synza2388S80NWM0</td>\n",
       "      <td>480675472.0</td>\n",
       "      <td>Now it’s fine</td>\n",
       "      <td>NaN</td>\n",
       "      <td>2024-02-29 14:45:47+00:00</td>\n",
       "      <td>0</td>\n",
       "    </tr>\n",
       "  </tbody>\n",
       "</table>\n",
       "</div>"
      ],
      "text/plain": [
       "   Unnamed: 0                           group       sender  \\\n",
       "0         327  https://t.me/+synza2388S80NWM0  382281069.0   \n",
       "1         326  https://t.me/+synza2388S80NWM0  480675472.0   \n",
       "2         325  https://t.me/+synza2388S80NWM0          NaN   \n",
       "3         324  https://t.me/+synza2388S80NWM0          NaN   \n",
       "4         323  https://t.me/+synza2388S80NWM0  480675472.0   \n",
       "5         321  https://t.me/+synza2388S80NWM0          NaN   \n",
       "6         319  https://t.me/+synza2388S80NWM0  984447467.0   \n",
       "7         318  https://t.me/+synza2388S80NWM0  382281069.0   \n",
       "8         317  https://t.me/+synza2388S80NWM0  480675472.0   \n",
       "\n",
       "                                                text  reply  \\\n",
       "0                                            Hi guys    NaN   \n",
       "1                                   Hi😊hey everyone!    NaN   \n",
       "2                                                Hi😊    NaN   \n",
       "3                                      hey everyone!    NaN   \n",
       "4                   I don’t know why I see just Amir    NaN   \n",
       "5  Does anyone know how to change the settings so...    NaN   \n",
       "6                       The same is happening to me😂    NaN   \n",
       "7            It is ok now, the setting was messed up    NaN   \n",
       "8                                      Now it’s fine    NaN   \n",
       "\n",
       "                        date  reactions  \n",
       "0  2024-02-29 14:34:51+00:00          0  \n",
       "1  2024-02-29 14:39:04+00:00          0  \n",
       "2  2024-02-29 14:39:24+00:00          0  \n",
       "3  2024-02-29 14:41:48+00:00          0  \n",
       "4  2024-02-29 14:43:15+00:00          0  \n",
       "5  2024-02-29 14:43:54+00:00          0  \n",
       "6  2024-02-29 14:44:48+00:00          0  \n",
       "7  2024-02-29 14:45:14+00:00          0  \n",
       "8  2024-02-29 14:45:47+00:00          0  "
      ]
     },
     "execution_count": 40,
     "metadata": {},
     "output_type": "execute_result"
    }
   ],
   "source": [
    "trialdf_1 = trialdf.drop(8)\n",
    "trialdf_1.reset_index(drop=True, inplace=True)\n",
    "trialdf_1"
   ]
  },
  {
   "cell_type": "code",
   "execution_count": 59,
   "metadata": {},
   "outputs": [
    {
     "name": "stdout",
     "output_type": "stream",
     "text": [
      "i:  13  j:  14  k:  315\n",
      "i:  15  j:  16  k:  314\n",
      "i:  19  j:  20  k:  313\n",
      "i:  22  j:  23  k:  312\n",
      "i:  24  j:  25  k:  311\n",
      "i:  25  j:  26  k:  310\n",
      "i:  26  j:  27  k:  309\n",
      "i:  26  j:  27  k:  308\n",
      "i:  27  j:  28  k:  307\n",
      "i:  28  j:  29  k:  306\n",
      "i:  28  j:  29  k:  305\n",
      "i:  29  j:  30  k:  304\n",
      "i:  29  j:  30  k:  303\n",
      "i:  36  j:  37  k:  302\n",
      "i:  36  j:  37  k:  301\n",
      "i:  39  j:  40  k:  300\n",
      "i:  39  j:  40  k:  299\n",
      "i:  43  j:  44  k:  298\n",
      "i:  49  j:  50  k:  297\n",
      "i:  51  j:  52  k:  296\n",
      "i:  51  j:  52  k:  295\n",
      "i:  55  j:  56  k:  294\n",
      "i:  56  j:  57  k:  293\n",
      "i:  56  j:  57  k:  292\n",
      "i:  61  j:  62  k:  291\n",
      "i:  63  j:  64  k:  290\n",
      "i:  77  j:  78  k:  289\n",
      "i:  77  j:  78  k:  288\n",
      "i:  77  j:  78  k:  287\n",
      "i:  78  j:  79  k:  286\n",
      "i:  78  j:  79  k:  285\n",
      "i:  89  j:  90  k:  284\n",
      "i:  95  j:  96  k:  283\n",
      "i:  96  j:  97  k:  282\n",
      "i:  97  j:  98  k:  281\n",
      "i:  101  j:  102  k:  280\n",
      "i:  102  j:  103  k:  279\n",
      "i:  102  j:  103  k:  278\n",
      "i:  103  j:  104  k:  277\n",
      "i:  103  j:  104  k:  276\n",
      "i:  106  j:  107  k:  275\n",
      "i:  107  j:  108  k:  274\n",
      "i:  108  j:  109  k:  273\n",
      "i:  108  j:  109  k:  272\n",
      "i:  109  j:  110  k:  271\n",
      "i:  109  j:  110  k:  270\n",
      "i:  110  j:  111  k:  269\n",
      "i:  113  j:  114  k:  268\n",
      "i:  115  j:  116  k:  267\n",
      "i:  116  j:  117  k:  266\n",
      "i:  116  j:  117  k:  265\n",
      "i:  118  j:  119  k:  264\n",
      "i:  125  j:  126  k:  263\n",
      "i:  126  j:  127  k:  262\n",
      "i:  126  j:  127  k:  261\n",
      "i:  135  j:  136  k:  260\n",
      "i:  135  j:  136  k:  259\n",
      "i:  136  j:  137  k:  258\n",
      "i:  138  j:  139  k:  257\n",
      "i:  139  j:  140  k:  256\n",
      "i:  141  j:  142  k:  255\n",
      "i:  142  j:  143  k:  254\n",
      "i:  142  j:  143  k:  253\n",
      "i:  142  j:  143  k:  252\n",
      "i:  157  j:  158  k:  251\n",
      "i:  162  j:  163  k:  250\n",
      "i:  162  j:  163  k:  249\n",
      "i:  162  j:  163  k:  248\n",
      "i:  162  j:  163  k:  247\n",
      "i:  164  j:  165  k:  246\n",
      "i:  167  j:  168  k:  245\n",
      "i:  167  j:  168  k:  244\n",
      "i:  167  j:  168  k:  243\n",
      "i:  169  j:  170  k:  242\n",
      "i:  178  j:  179  k:  241\n",
      "i:  180  j:  181  k:  240\n",
      "i:  180  j:  181  k:  239\n",
      "i:  181  j:  182  k:  238\n",
      "i:  186  j:  187  k:  237\n",
      "i:  187  j:  188  k:  236\n",
      "i:  188  j:  189  k:  235\n",
      "i:  188  j:  189  k:  234\n",
      "i:  191  j:  192  k:  233\n",
      "i:  192  j:  193  k:  232\n",
      "i:  192  j:  193  k:  231\n",
      "i:  194  j:  195  k:  230\n",
      "i:  194  j:  195  k:  229\n",
      "i:  196  j:  197  k:  228\n",
      "i:  202  j:  203  k:  227\n",
      "i:  206  j:  207  k:  226\n",
      "i:  214  j:  215  k:  225\n",
      "i:  214  j:  215  k:  224\n",
      "i:  215  j:  216  k:  223\n"
     ]
    }
   ],
   "source": [
    "ourdf_1 = merge_consecutive_messages(ourdf)"
   ]
  },
  {
   "cell_type": "markdown",
   "metadata": {},
   "source": [
    "**Laser Embedding**"
   ]
  },
  {
   "cell_type": "code",
   "execution_count": 60,
   "metadata": {},
   "outputs": [
    {
     "data": {
      "text/html": [
       "<div>\n",
       "<style scoped>\n",
       "    .dataframe tbody tr th:only-of-type {\n",
       "        vertical-align: middle;\n",
       "    }\n",
       "\n",
       "    .dataframe tbody tr th {\n",
       "        vertical-align: top;\n",
       "    }\n",
       "\n",
       "    .dataframe thead th {\n",
       "        text-align: right;\n",
       "    }\n",
       "</style>\n",
       "<table border=\"1\" class=\"dataframe\">\n",
       "  <thead>\n",
       "    <tr style=\"text-align: right;\">\n",
       "      <th></th>\n",
       "      <th>Unnamed: 0</th>\n",
       "      <th>group</th>\n",
       "      <th>sender</th>\n",
       "      <th>text</th>\n",
       "      <th>reply</th>\n",
       "      <th>date</th>\n",
       "      <th>reactions</th>\n",
       "    </tr>\n",
       "  </thead>\n",
       "  <tbody>\n",
       "    <tr>\n",
       "      <th>22</th>\n",
       "      <td>306</td>\n",
       "      <td>https://t.me/+synza2388S80NWM0</td>\n",
       "      <td>9.844475e+08</td>\n",
       "      <td>But I think that also depends on the amount of...</td>\n",
       "      <td>NaN</td>\n",
       "      <td>2024-02-29 14:54:43+00:00</td>\n",
       "      <td>0</td>\n",
       "    </tr>\n",
       "    <tr>\n",
       "      <th>23</th>\n",
       "      <td>305</td>\n",
       "      <td>https://t.me/+synza2388S80NWM0</td>\n",
       "      <td>3.822811e+08</td>\n",
       "      <td>Ow, we should setup a meeting then:)</td>\n",
       "      <td>22.0</td>\n",
       "      <td>2024-02-29 14:54:50+00:00</td>\n",
       "      <td>0</td>\n",
       "    </tr>\n",
       "    <tr>\n",
       "      <th>24</th>\n",
       "      <td>304</td>\n",
       "      <td>https://t.me/+synza2388S80NWM0</td>\n",
       "      <td>3.822811e+08</td>\n",
       "      <td>I will send the email now</td>\n",
       "      <td>24.0</td>\n",
       "      <td>2024-02-29 14:57:06+00:00</td>\n",
       "      <td>0</td>\n",
       "    </tr>\n",
       "    <tr>\n",
       "      <th>25</th>\n",
       "      <td>303</td>\n",
       "      <td>https://t.me/+synza2388S80NWM0</td>\n",
       "      <td>5.328389e+09</td>\n",
       "      <td>\"Dear MDP team,\\n\\nThank you for your message....</td>\n",
       "      <td>NaN</td>\n",
       "      <td>2024-03-01 08:33:36+00:00</td>\n",
       "      <td>0</td>\n",
       "    </tr>\n",
       "    <tr>\n",
       "      <th>26</th>\n",
       "      <td>302</td>\n",
       "      <td>https://t.me/+synza2388S80NWM0</td>\n",
       "      <td>9.844475e+08</td>\n",
       "      <td>I have a doctor appointment that I cannot miss...</td>\n",
       "      <td>NaN</td>\n",
       "      <td>2024-03-01 08:38:29+00:00</td>\n",
       "      <td>0</td>\n",
       "    </tr>\n",
       "    <tr>\n",
       "      <th>27</th>\n",
       "      <td>301</td>\n",
       "      <td>https://t.me/+synza2388S80NWM0</td>\n",
       "      <td>5.328389e+09</td>\n",
       "      <td>No worries, that's the whole point of these em...</td>\n",
       "      <td>NaN</td>\n",
       "      <td>2024-03-01 08:46:57+00:00</td>\n",
       "      <td>0</td>\n",
       "    </tr>\n",
       "    <tr>\n",
       "      <th>28</th>\n",
       "      <td>300</td>\n",
       "      <td>https://t.me/+synza2388S80NWM0</td>\n",
       "      <td>5.328389e+09</td>\n",
       "      <td>@AmirMosio @LorenzoMondo do you guys have a ti...</td>\n",
       "      <td>NaN</td>\n",
       "      <td>2024-03-01 08:47:58+00:00</td>\n",
       "      <td>0</td>\n",
       "    </tr>\n",
       "    <tr>\n",
       "      <th>29</th>\n",
       "      <td>299</td>\n",
       "      <td>https://t.me/+synza2388S80NWM0</td>\n",
       "      <td>3.822811e+08</td>\n",
       "      <td>No, I'm probably ok.</td>\n",
       "      <td>29.0</td>\n",
       "      <td>2024-03-01 08:53:18+00:00</td>\n",
       "      <td>0</td>\n",
       "    </tr>\n",
       "    <tr>\n",
       "      <th>30</th>\n",
       "      <td>298</td>\n",
       "      <td>https://t.me/+synza2388S80NWM0</td>\n",
       "      <td>4.806755e+08</td>\n",
       "      <td>For me only on 5 afternoon it’s not good</td>\n",
       "      <td>NaN</td>\n",
       "      <td>2024-03-01 08:53:49+00:00</td>\n",
       "      <td>0</td>\n",
       "    </tr>\n",
       "    <tr>\n",
       "      <th>31</th>\n",
       "      <td>297</td>\n",
       "      <td>https://t.me/+synza2388S80NWM0</td>\n",
       "      <td>4.806755e+08</td>\n",
       "      <td>5 March</td>\n",
       "      <td>NaN</td>\n",
       "      <td>2024-03-01 08:54:10+00:00</td>\n",
       "      <td>0</td>\n",
       "    </tr>\n",
       "  </tbody>\n",
       "</table>\n",
       "</div>"
      ],
      "text/plain": [
       "    Unnamed: 0                           group        sender  \\\n",
       "22         306  https://t.me/+synza2388S80NWM0  9.844475e+08   \n",
       "23         305  https://t.me/+synza2388S80NWM0  3.822811e+08   \n",
       "24         304  https://t.me/+synza2388S80NWM0  3.822811e+08   \n",
       "25         303  https://t.me/+synza2388S80NWM0  5.328389e+09   \n",
       "26         302  https://t.me/+synza2388S80NWM0  9.844475e+08   \n",
       "27         301  https://t.me/+synza2388S80NWM0  5.328389e+09   \n",
       "28         300  https://t.me/+synza2388S80NWM0  5.328389e+09   \n",
       "29         299  https://t.me/+synza2388S80NWM0  3.822811e+08   \n",
       "30         298  https://t.me/+synza2388S80NWM0  4.806755e+08   \n",
       "31         297  https://t.me/+synza2388S80NWM0  4.806755e+08   \n",
       "\n",
       "                                                 text  reply  \\\n",
       "22  But I think that also depends on the amount of...    NaN   \n",
       "23               Ow, we should setup a meeting then:)   22.0   \n",
       "24                          I will send the email now   24.0   \n",
       "25  \"Dear MDP team,\\n\\nThank you for your message....    NaN   \n",
       "26  I have a doctor appointment that I cannot miss...    NaN   \n",
       "27  No worries, that's the whole point of these em...    NaN   \n",
       "28  @AmirMosio @LorenzoMondo do you guys have a ti...    NaN   \n",
       "29                               No, I'm probably ok.   29.0   \n",
       "30           For me only on 5 afternoon it’s not good    NaN   \n",
       "31                                            5 March    NaN   \n",
       "\n",
       "                         date  reactions  \n",
       "22  2024-02-29 14:54:43+00:00          0  \n",
       "23  2024-02-29 14:54:50+00:00          0  \n",
       "24  2024-02-29 14:57:06+00:00          0  \n",
       "25  2024-03-01 08:33:36+00:00          0  \n",
       "26  2024-03-01 08:38:29+00:00          0  \n",
       "27  2024-03-01 08:46:57+00:00          0  \n",
       "28  2024-03-01 08:47:58+00:00          0  \n",
       "29  2024-03-01 08:53:18+00:00          0  \n",
       "30  2024-03-01 08:53:49+00:00          0  \n",
       "31  2024-03-01 08:54:10+00:00          0  "
      ]
     },
     "execution_count": 60,
     "metadata": {},
     "output_type": "execute_result"
    }
   ],
   "source": [
    "ourdf[20:30]"
   ]
  },
  {
   "cell_type": "code",
   "execution_count": 61,
   "metadata": {},
   "outputs": [
    {
     "data": {
      "text/html": [
       "<div>\n",
       "<style scoped>\n",
       "    .dataframe tbody tr th:only-of-type {\n",
       "        vertical-align: middle;\n",
       "    }\n",
       "\n",
       "    .dataframe tbody tr th {\n",
       "        vertical-align: top;\n",
       "    }\n",
       "\n",
       "    .dataframe thead th {\n",
       "        text-align: right;\n",
       "    }\n",
       "</style>\n",
       "<table border=\"1\" class=\"dataframe\">\n",
       "  <thead>\n",
       "    <tr style=\"text-align: right;\">\n",
       "      <th></th>\n",
       "      <th>Unnamed: 0</th>\n",
       "      <th>group</th>\n",
       "      <th>sender</th>\n",
       "      <th>text</th>\n",
       "      <th>reply</th>\n",
       "      <th>date</th>\n",
       "      <th>reactions</th>\n",
       "    </tr>\n",
       "  </thead>\n",
       "  <tbody>\n",
       "    <tr>\n",
       "      <th>20</th>\n",
       "      <td>303</td>\n",
       "      <td>https://t.me/+synza2388S80NWM0</td>\n",
       "      <td>5.328389e+09</td>\n",
       "      <td>\"Dear MDP team,\\n\\nThank you for your message....</td>\n",
       "      <td>NaN</td>\n",
       "      <td>2024-03-01 08:33:36+00:00</td>\n",
       "      <td>0</td>\n",
       "    </tr>\n",
       "    <tr>\n",
       "      <th>21</th>\n",
       "      <td>302</td>\n",
       "      <td>https://t.me/+synza2388S80NWM0</td>\n",
       "      <td>9.844475e+08</td>\n",
       "      <td>I have a doctor appointment that I cannot miss...</td>\n",
       "      <td>NaN</td>\n",
       "      <td>2024-03-01 08:38:29+00:00</td>\n",
       "      <td>0</td>\n",
       "    </tr>\n",
       "    <tr>\n",
       "      <th>22</th>\n",
       "      <td>301</td>\n",
       "      <td>https://t.me/+synza2388S80NWM0</td>\n",
       "      <td>5.328389e+09</td>\n",
       "      <td>No worries, that's the whole point of these em...</td>\n",
       "      <td>NaN</td>\n",
       "      <td>2024-03-01 08:46:57+00:00</td>\n",
       "      <td>0</td>\n",
       "    </tr>\n",
       "    <tr>\n",
       "      <th>23</th>\n",
       "      <td>299</td>\n",
       "      <td>https://t.me/+synza2388S80NWM0</td>\n",
       "      <td>3.822811e+08</td>\n",
       "      <td>No, I'm probably ok.</td>\n",
       "      <td>29.0</td>\n",
       "      <td>2024-03-01 08:53:18+00:00</td>\n",
       "      <td>0</td>\n",
       "    </tr>\n",
       "    <tr>\n",
       "      <th>24</th>\n",
       "      <td>298</td>\n",
       "      <td>https://t.me/+synza2388S80NWM0</td>\n",
       "      <td>4.806755e+08</td>\n",
       "      <td>For me only on 5 afternoon it’s not good5 March</td>\n",
       "      <td>NaN</td>\n",
       "      <td>2024-03-01 08:53:49+00:00</td>\n",
       "      <td>0</td>\n",
       "    </tr>\n",
       "    <tr>\n",
       "      <th>25</th>\n",
       "      <td>296</td>\n",
       "      <td>https://t.me/+synza2388S80NWM0</td>\n",
       "      <td>3.822811e+08</td>\n",
       "      <td>Ok, I'll ask for another time.What do we do?</td>\n",
       "      <td>NaN</td>\n",
       "      <td>2024-03-01 08:55:48+00:00</td>\n",
       "      <td>0</td>\n",
       "    </tr>\n",
       "    <tr>\n",
       "      <th>26</th>\n",
       "      <td>292</td>\n",
       "      <td>https://t.me/+synza2388S80NWM0</td>\n",
       "      <td>9.844475e+08</td>\n",
       "      <td>I am still not available, as I said in the pre...</td>\n",
       "      <td>NaN</td>\n",
       "      <td>2024-03-01 10:01:20+00:00</td>\n",
       "      <td>0</td>\n",
       "    </tr>\n",
       "    <tr>\n",
       "      <th>27</th>\n",
       "      <td>289</td>\n",
       "      <td>https://t.me/+synza2388S80NWM0</td>\n",
       "      <td>5.328389e+09</td>\n",
       "      <td>the email looks goodI think we weren't Cc'd in...</td>\n",
       "      <td>38.0</td>\n",
       "      <td>2024-03-01 10:11:13+00:00</td>\n",
       "      <td>0</td>\n",
       "    </tr>\n",
       "    <tr>\n",
       "      <th>28</th>\n",
       "      <td>287</td>\n",
       "      <td>https://t.me/+synza2388S80NWM0</td>\n",
       "      <td>3.822811e+08</td>\n",
       "      <td>Yeah, my badShould i send the email?I don't  t...</td>\n",
       "      <td>41.0</td>\n",
       "      <td>2024-03-01 10:12:30+00:00</td>\n",
       "      <td>0</td>\n",
       "    </tr>\n",
       "    <tr>\n",
       "      <th>29</th>\n",
       "      <td>284</td>\n",
       "      <td>https://t.me/+synza2388S80NWM0</td>\n",
       "      <td>9.844475e+08</td>\n",
       "      <td>If you want that's ok for me. You should proba...</td>\n",
       "      <td>43.0</td>\n",
       "      <td>2024-03-01 10:14:51+00:00</td>\n",
       "      <td>0</td>\n",
       "    </tr>\n",
       "  </tbody>\n",
       "</table>\n",
       "</div>"
      ],
      "text/plain": [
       "    Unnamed: 0                           group        sender  \\\n",
       "20         303  https://t.me/+synza2388S80NWM0  5.328389e+09   \n",
       "21         302  https://t.me/+synza2388S80NWM0  9.844475e+08   \n",
       "22         301  https://t.me/+synza2388S80NWM0  5.328389e+09   \n",
       "23         299  https://t.me/+synza2388S80NWM0  3.822811e+08   \n",
       "24         298  https://t.me/+synza2388S80NWM0  4.806755e+08   \n",
       "25         296  https://t.me/+synza2388S80NWM0  3.822811e+08   \n",
       "26         292  https://t.me/+synza2388S80NWM0  9.844475e+08   \n",
       "27         289  https://t.me/+synza2388S80NWM0  5.328389e+09   \n",
       "28         287  https://t.me/+synza2388S80NWM0  3.822811e+08   \n",
       "29         284  https://t.me/+synza2388S80NWM0  9.844475e+08   \n",
       "\n",
       "                                                 text  reply  \\\n",
       "20  \"Dear MDP team,\\n\\nThank you for your message....    NaN   \n",
       "21  I have a doctor appointment that I cannot miss...    NaN   \n",
       "22  No worries, that's the whole point of these em...    NaN   \n",
       "23                               No, I'm probably ok.   29.0   \n",
       "24    For me only on 5 afternoon it’s not good5 March    NaN   \n",
       "25       Ok, I'll ask for another time.What do we do?    NaN   \n",
       "26  I am still not available, as I said in the pre...    NaN   \n",
       "27  the email looks goodI think we weren't Cc'd in...   38.0   \n",
       "28  Yeah, my badShould i send the email?I don't  t...   41.0   \n",
       "29  If you want that's ok for me. You should proba...   43.0   \n",
       "\n",
       "                         date  reactions  \n",
       "20  2024-03-01 08:33:36+00:00          0  \n",
       "21  2024-03-01 08:38:29+00:00          0  \n",
       "22  2024-03-01 08:46:57+00:00          0  \n",
       "23  2024-03-01 08:53:18+00:00          0  \n",
       "24  2024-03-01 08:53:49+00:00          0  \n",
       "25  2024-03-01 08:55:48+00:00          0  \n",
       "26  2024-03-01 10:01:20+00:00          0  \n",
       "27  2024-03-01 10:11:13+00:00          0  \n",
       "28  2024-03-01 10:12:30+00:00          0  \n",
       "29  2024-03-01 10:14:51+00:00          0  "
      ]
     },
     "execution_count": 61,
     "metadata": {},
     "output_type": "execute_result"
    }
   ],
   "source": [
    "ourdf_1[20:30]"
   ]
  },
  {
   "cell_type": "code",
   "execution_count": 260,
   "metadata": {},
   "outputs": [
    {
     "name": "stdout",
     "output_type": "stream",
     "text": [
      "-----NORMAL TEXTS-----\n",
      "['Hi guys', 'Hi', 'Hi😊', 'hey everyone!', 'I don’t know why I see just Amir']\n",
      "\n",
      "-----PREPROCESSED TEXTS-----\n",
      "['hi guys', 'hi', 'hi', 'hey everyone', 'i dont know why i see just amir']\n",
      "304\n",
      "316\n"
     ]
    }
   ],
   "source": [
    "texts = ourdf['text']\n",
    "texts = [str(text) for text in texts]\n",
    "texts = [text for text in texts if text != \"nan\"]\n",
    "preprocessed_texts = [preprocess_message(str(text), \"english\") for text in texts]\n",
    "preprocessed_texts = [text for text in preprocessed_texts if text != \"\"]\n",
    "print(\"-----NORMAL TEXTS-----\")\n",
    "print(texts[0:5])\n",
    "print(\"\\n-----PREPROCESSED TEXTS-----\")\n",
    "print(preprocessed_texts[0:5])\n",
    "\n",
    "print(len(preprocessed_texts))\n",
    "print(len(texts))\n"
   ]
  },
  {
   "cell_type": "code",
   "execution_count": 261,
   "metadata": {},
   "outputs": [
    {
     "data": {
      "text/plain": [
       "(316, 1024)"
      ]
     },
     "execution_count": 261,
     "metadata": {},
     "output_type": "execute_result"
    }
   ],
   "source": [
    "langs = [\"en\" for i in range(len(texts))]\n",
    "\n",
    "from laserembeddings import Laser\n",
    "\n",
    "laser = Laser()\n",
    "\n",
    "# if all sentences are in the same language:\n",
    "\n",
    "embeddings = laser.embed_sentences(\n",
    "    texts,\n",
    "    lang=langs)\n",
    "\n",
    "embeddings.shape"
   ]
  },
  {
   "cell_type": "code",
   "execution_count": 262,
   "metadata": {},
   "outputs": [],
   "source": [
    "def plot_reduced_embeddings_2D(texts, lang):\n",
    "    langs = [lang for i in range(len(texts))]\n",
    "\n",
    "    from laserembeddings import Laser\n",
    "\n",
    "    laser = Laser()\n",
    "\n",
    "    # if all sentences are in the same language:\n",
    "\n",
    "    embeddings = laser.embed_sentences(\n",
    "    texts,\n",
    "    lang=langs)\n",
    "\n",
    "    pca = PCA(n_components=2)\n",
    "    reduced_embeddings = pca.fit_transform(embeddings)\n",
    "    # Plottare i punti\n",
    "    plt.scatter(reduced_embeddings[:, 0], reduced_embeddings[:, 1])\n",
    "\n",
    "    for i, point in enumerate(reduced_embeddings):\n",
    "        # Annotate each point with the message number\n",
    "        plt.annotate(str(i + 1), point, ha='center', va='center')\n",
    "\n",
    "    plt.show()"
   ]
  },
  {
   "cell_type": "code",
   "execution_count": 263,
   "metadata": {},
   "outputs": [
    {
     "data": {
      "image/png": "[encoded data removed]",
      "text/plain": [
       "<Figure size 640x480 with 1 Axes>"
      ]
     },
     "metadata": {},
     "output_type": "display_data"
    }
   ],
   "source": [
    "plot_reduced_embeddings_2D(texts, \"en\")"
   ]
  },
  {
   "cell_type": "markdown",
   "metadata": {},
   "source": [
    "Now we use the messages of the polinetwork group \n",
    "\n",
    "We'll plot the data as we have done before to see if there is any change in the distribution of the messages of two different groups"
   ]
  },
  {
   "cell_type": "code",
   "execution_count": 264,
   "metadata": {},
   "outputs": [
    {
     "data": {
      "text/html": [
       "<div>\n",
       "<style scoped>\n",
       "    .dataframe tbody tr th:only-of-type {\n",
       "        vertical-align: middle;\n",
       "    }\n",
       "\n",
       "    .dataframe tbody tr th {\n",
       "        vertical-align: top;\n",
       "    }\n",
       "\n",
       "    .dataframe thead th {\n",
       "        text-align: right;\n",
       "    }\n",
       "</style>\n",
       "<table border=\"1\" class=\"dataframe\">\n",
       "  <thead>\n",
       "    <tr style=\"text-align: right;\">\n",
       "      <th></th>\n",
       "      <th>Unnamed: 0</th>\n",
       "      <th>group</th>\n",
       "      <th>sender</th>\n",
       "      <th>text</th>\n",
       "      <th>reply</th>\n",
       "      <th>date</th>\n",
       "      <th>reactions</th>\n",
       "    </tr>\n",
       "  </thead>\n",
       "  <tbody>\n",
       "    <tr>\n",
       "      <th>329</th>\n",
       "      <td>999</td>\n",
       "      <td>https://t.me/PoliGruppo</td>\n",
       "      <td>1.377961e+09</td>\n",
       "      <td>ma ce una sezione si o no?</td>\n",
       "      <td>NaN</td>\n",
       "      <td>2024-03-03 10:24:58+00:00</td>\n",
       "      <td>0</td>\n",
       "    </tr>\n",
       "    <tr>\n",
       "      <th>330</th>\n",
       "      <td>998</td>\n",
       "      <td>https://t.me/PoliGruppo</td>\n",
       "      <td>1.265578e+09</td>\n",
       "      <td>Se é per l'Erasmus o per mobilità internaziona...</td>\n",
       "      <td>204165.0</td>\n",
       "      <td>2024-03-03 10:32:32+00:00</td>\n",
       "      <td>0</td>\n",
       "    </tr>\n",
       "    <tr>\n",
       "      <th>331</th>\n",
       "      <td>997</td>\n",
       "      <td>https://t.me/PoliGruppo</td>\n",
       "      <td>4.690109e+08</td>\n",
       "      <td>Ci sono delle restrizioni a cosa si può portar...</td>\n",
       "      <td>NaN</td>\n",
       "      <td>2024-03-03 10:34:09+00:00</td>\n",
       "      <td>0</td>\n",
       "    </tr>\n",
       "    <tr>\n",
       "      <th>332</th>\n",
       "      <td>996</td>\n",
       "      <td>https://t.me/PoliGruppo</td>\n",
       "      <td>4.282712e+08</td>\n",
       "      <td>Cerca su libgen</td>\n",
       "      <td>204159.0</td>\n",
       "      <td>2024-03-03 10:41:34+00:00</td>\n",
       "      <td>0</td>\n",
       "    </tr>\n",
       "    <tr>\n",
       "      <th>333</th>\n",
       "      <td>995</td>\n",
       "      <td>https://t.me/PoliGruppo</td>\n",
       "      <td>6.277756e+08</td>\n",
       "      <td>Da regolamento c'è scritto che sono tassativam...</td>\n",
       "      <td>204167.0</td>\n",
       "      <td>2024-03-03 11:03:14+00:00</td>\n",
       "      <td>0</td>\n",
       "    </tr>\n",
       "  </tbody>\n",
       "</table>\n",
       "</div>"
      ],
      "text/plain": [
       "     Unnamed: 0                    group        sender  \\\n",
       "329         999  https://t.me/PoliGruppo  1.377961e+09   \n",
       "330         998  https://t.me/PoliGruppo  1.265578e+09   \n",
       "331         997  https://t.me/PoliGruppo  4.690109e+08   \n",
       "332         996  https://t.me/PoliGruppo  4.282712e+08   \n",
       "333         995  https://t.me/PoliGruppo  6.277756e+08   \n",
       "\n",
       "                                                  text     reply  \\\n",
       "329                         ma ce una sezione si o no?       NaN   \n",
       "330  Se é per l'Erasmus o per mobilità internaziona...  204165.0   \n",
       "331  Ci sono delle restrizioni a cosa si può portar...       NaN   \n",
       "332                                    Cerca su libgen  204159.0   \n",
       "333  Da regolamento c'è scritto che sono tassativam...  204167.0   \n",
       "\n",
       "                          date  reactions  \n",
       "329  2024-03-03 10:24:58+00:00          0  \n",
       "330  2024-03-03 10:32:32+00:00          0  \n",
       "331  2024-03-03 10:34:09+00:00          0  \n",
       "332  2024-03-03 10:41:34+00:00          0  \n",
       "333  2024-03-03 11:03:14+00:00          0  "
      ]
     },
     "execution_count": 264,
     "metadata": {},
     "output_type": "execute_result"
    }
   ],
   "source": [
    "polidf = df.loc[df['group'] == poligroup]\n",
    "\n",
    "polidf.head()"
   ]
  },
  {
   "cell_type": "code",
   "execution_count": 265,
   "metadata": {},
   "outputs": [],
   "source": [
    "def plot_and_compare_reduced_embeddings_2D(texts1, texts2, lang1, lang2):\n",
    "    langs1 = [lang1 for i in range(100)]\n",
    "    langs2 = [lang2 for i in range(100)]\n",
    "\n",
    "    from laserembeddings import Laser\n",
    "\n",
    "    laser = Laser()\n",
    "#\n",
    "    # if all sentences are in the same language:\n",
    "\n",
    "    embeddings1 = laser.embed_sentences(\n",
    "    texts1[0:100],\n",
    "    lang=langs1)\n",
    "\n",
    "    embeddings2 = laser.embed_sentences(\n",
    "    texts2[0:100],\n",
    "    lang=langs2)\n",
    "\n",
    "    pca = PCA(n_components=2)\n",
    "    reduced_embeddings1 = pca.fit_transform(embeddings1)\n",
    "    pca = PCA(n_components=2)\n",
    "    reduced_embeddings2 = pca.fit_transform(embeddings2)\n",
    "\n",
    "    # Plottare i punti\n",
    "    plt.scatter(reduced_embeddings1[:, 0], reduced_embeddings1[:, 1], c='b')\n",
    "    plt.scatter(reduced_embeddings2[:, 0], reduced_embeddings2[:, 1], c='r')\n",
    "\n",
    "    plt.show()"
   ]
  },
  {
   "cell_type": "code",
   "execution_count": 266,
   "metadata": {},
   "outputs": [
    {
     "data": {
      "image/png": "[encoded data removed]",
      "text/plain": [
       "<Figure size 640x480 with 1 Axes>"
      ]
     },
     "metadata": {},
     "output_type": "display_data"
    }
   ],
   "source": [
    "plot_and_compare_reduced_embeddings_2D(texts, polidf['text'], \"en\", \"it\")"
   ]
  },
  {
   "cell_type": "code",
   "execution_count": 267,
   "metadata": {},
   "outputs": [
    {
     "name": "stdout",
     "output_type": "stream",
     "text": [
      "['ma ce una sezione si o no?', \"Se é per l'Erasmus o per mobilità internazionale c'é l'apposito gruppo\", 'Ci sono delle restrizioni a cosa si può portare alla laurea per quanto riguarda coriandoli, botti ecc?', 'Cerca su libgen', \"Da regolamento c'è scritto che sono tassativamente vietati i festeggiamenti all'interno del campus. Mi pareva di aver scritto da qualche altra parte di evitare di lasciare sporcizia in giro cordiandoli compresi\"]\n"
     ]
    }
   ],
   "source": [
    "poli_texts = polidf['text']\n",
    "poli_texts_strings = [str(text) for text in poli_texts if isinstance(text, str)] \n",
    "print(poli_texts_strings[0:5])\n",
    "\n"
   ]
  },
  {
   "cell_type": "markdown",
   "metadata": {},
   "source": [
    "Try by plotting in the space"
   ]
  },
  {
   "cell_type": "code",
   "execution_count": 268,
   "metadata": {},
   "outputs": [],
   "source": [
    "def plot_and_compare_reduced_embeddings_3D(texts1, texts2, lang1, lang2, name1, name2):\n",
    "    langs1 = [lang1 for i in range(100)]\n",
    "    langs2 = [lang2 for i in range(100)]\n",
    "\n",
    "    from laserembeddings import Laser\n",
    "\n",
    "    laser = Laser()\n",
    "\n",
    "    # if all sentences are in the same language:\n",
    "\n",
    "    embeddings1 = laser.embed_sentences(\n",
    "    texts1[0:100],\n",
    "    lang=langs1)\n",
    "\n",
    "    embeddings2 = laser.embed_sentences(\n",
    "    texts2[0:100],\n",
    "    lang=langs2)\n",
    "\n",
    "    pca = PCA(n_components=3)\n",
    "    reduced_embeddings1 = pca.fit_transform(embeddings1)\n",
    "    pca = PCA(n_components=3)\n",
    "    reduced_embeddings2 = pca.fit_transform(embeddings2)\n",
    "\n",
    "    import plotly.graph_objects as go\n",
    "\n",
    "    # Importare i dati\n",
    "    import numpy as np\n",
    "\n",
    "    # Creare la figura\n",
    "    fig = go.Figure()\n",
    "\n",
    "    # Plot each set of points with a unique colormap\n",
    "    fig.add_scatter3d(\n",
    "        x=reduced_embeddings1[:, 0],\n",
    "        y=reduced_embeddings1[:, 1],\n",
    "        z=reduced_embeddings1[:, 2],\n",
    "        mode='markers',\n",
    "        marker=dict(color='blue', size=8),  # Use a color name or hex code for direct coloring\n",
    "        name=name1\n",
    "    )\n",
    "\n",
    "    fig.add_scatter3d(\n",
    "        x=reduced_embeddings2[:, 0],\n",
    "        y=reduced_embeddings2[:, 1],\n",
    "        z=reduced_embeddings2[:, 2],\n",
    "        mode='markers',\n",
    "        marker=dict(color='red', size=8),  # Use a different color for this set\n",
    "        name=name2\n",
    "    )\n",
    "\n",
    "    # Aggiungere le legende\n",
    "    fig.update_layout(legend=dict(yanchor=\"top\", y=0.99, xanchor=\"left\", x=0.01))\n",
    "\n",
    "    # Mostrare il plot\n",
    "    fig.show()"
   ]
  },
  {
   "cell_type": "code",
   "execution_count": 269,
   "metadata": {},
   "outputs": [
    {
     "data": {
      "application/vnd.plotly.v1+json": {
       "config": {
        "plotlyServerURL": "https://plot.ly"
       },
       "data": [
        {
         "marker": {
          "color": "blue",
          "size": 8
         },
         "mode": "markers",
         "name": "Our Group",
         "type": "scatter3d",
         "x": [
          -0.3187341094017029,
          -0.3723651170730591,
          -0.35738620162010193,
          -0.30606794357299805,
          -0.05311750993132591,
          0.22028934955596924,
          -0.18162906169891357,
          -0.11694010347127914,
          -0.020887909457087517,
          -0.23730677366256714,
          -0.11421094834804535,
          -0.06405823677778244,
          -0.08968187868595123,
          -0.3589901924133301,
          -0.11490719765424728,
          -0.12050039321184158,
          0.05207008495926857,
          0.03663286194205284,
          0.16207639873027802,
          0.053527820855379105,
          0.06853838264942169,
          0.023766474798321724,
          -0.1126520037651062,
          0.3906112313270569,
          0.3949163258075714,
          0.21091629564762115,
          0.23195283114910126,
          -0.16577288508415222,
          -0.0034737554378807545,
          -0.2502095401287079,
          -0.11895246058702469,
          -0.26092126965522766,
          0.464681476354599,
          -0.012854015454649925,
          0.20278994739055634,
          -0.1408347636461258,
          0.011733390390872955,
          -0.237178236246109,
          -0.13242709636688232,
          0.056907180696725845,
          0.2048088014125824,
          0.11245265603065491,
          0.32588720321655273,
          -0.10100161284208298,
          0.2741595506668091,
          -0.18998472392559052,
          0.2009693682193756,
          -0.02696056477725506,
          0.09724317491054535,
          0.008933298289775848,
          -0.14145448803901672,
          -0.12616296112537384,
          0.22683559358119965,
          0.2677749693393707,
          0.24127934873104095,
          -0.1769614815711975,
          0.21668635308742523,
          -0.15316426753997803,
          -0.015312111005187035,
          0.12487747520208359,
          0.23692366480827332,
          0.22202876210212708,
          0.11762981861829758,
          -0.3680439889431,
          -0.17309921979904175,
          -0.09218061715364456,
          -0.15991954505443573,
          -0.3826638162136078,
          -0.2304602861404419,
          -0.1972295492887497,
          -0.19399528205394745,
          -0.09711451083421707,
          -0.21793271601200104,
          0.044113639742136,
          0.2106941044330597,
          0.28389784693717957,
          0.2663406729698181,
          0.14138829708099365,
          0.09216416627168655,
          0.06596898287534714,
          0.11297062784433365,
          0.08352223038673401,
          -0.32308313250541687,
          -0.32308313250541687,
          0.20792080461978912,
          0.1948966681957245,
          0.0804828479886055,
          0.09473410248756409,
          0.3657799959182739,
          -0.25526872277259827,
          0.4480920433998108,
          0.23057664930820465,
          -0.030384473502635956,
          0.14734987914562225,
          0.08744312077760696,
          0.03312382474541664,
          -0.16972510516643524,
          -0.2611636519432068,
          -0.0070633660070598125,
          0.02411322295665741
         ],
         "y": [
          0.006439889781177044,
          0.024419276043772697,
          0.020443454384803772,
          0.00788199808448553,
          -0.057300716638565063,
          -0.07674429565668106,
          0.03440588712692261,
          -0.017031613737344742,
          -0.055561359971761703,
          -0.0361834354698658,
          0.030079826712608337,
          -0.02467825822532177,
          -0.008981716819107533,
          0.045283909887075424,
          0.037907712161540985,
          -0.002531584119424224,
          -0.0005954648950137198,
          -0.13332146406173706,
          -0.09392748028039932,
          -0.08755446970462799,
          -0.0919252336025238,
          -0.05567152053117752,
          -0.06950993090867996,
          0.1786668598651886,
          0.1877337098121643,
          -0.09858938306570053,
          0.06074948236346245,
          -0.05619256570935249,
          0.20704831182956696,
          0.1696358472108841,
          -0.026829151436686516,
          -0.025554059073328972,
          0.10667853057384491,
          -0.1395520567893982,
          -0.06670651584863663,
          -0.054548315703868866,
          -0.07339736074209213,
          -0.0022056293673813343,
          -0.06777595728635788,
          0.041370902210474014,
          -0.16756998002529144,
          0.004911386873573065,
          -0.04270133748650551,
          -0.09634635597467422,
          -0.059918101876974106,
          0.21571198105812073,
          -0.0776023268699646,
          0.3714694082736969,
          0.039598990231752396,
          0.3031284809112549,
          0.02640681155025959,
          0.03689670190215111,
          0.39966121315956116,
          0.21848097443580627,
          0.40418338775634766,
          -0.08007314056158066,
          -0.15547840297222137,
          -0.04400017485022545,
          0.18313521146774292,
          0.0017667801585048437,
          0.16206319630146027,
          -0.12947922945022583,
          -0.01218533143401146,
          0.01300192903727293,
          -0.05572482943534851,
          -0.09555137902498245,
          -0.03971995785832405,
          0.010656217113137245,
          -0.02794225700199604,
          -0.026578377932310104,
          -0.04215147718787193,
          0.0974179208278656,
          0.20104287564754486,
          -0.0005465985741466284,
          -0.13417717814445496,
          -0.10746293514966965,
          -0.11703725904226303,
          -0.10591203719377518,
          -0.07377638667821884,
          -0.10994116961956024,
          -0.11998505145311356,
          -0.11053498089313507,
          0.01912708766758442,
          0.01912708766758442,
          -0.06614099442958832,
          -0.12875056266784668,
          0.0012322175316512585,
          -0.03327718749642372,
          0.09928783029317856,
          -0.012264464050531387,
          -0.06145932152867317,
          -0.08805379271507263,
          -0.05239095911383629,
          -0.00488235242664814,
          -0.04663700610399246,
          -0.0382339209318161,
          -0.05384804308414459,
          -0.022938335314393044,
          0.059944573789834976,
          0.017144784331321716
         ],
         "z": [
          0.11034733057022095,
          0.08676901459693909,
          0.09865297377109528,
          0.05242844298481941,
          0.08546000719070435,
          0.07456114143133163,
          0.16713476181030273,
          0.023372363299131393,
          -0.027762306854128838,
          -0.05233289673924446,
          0.0655096173286438,
          0.14478011429309845,
          0.07767042517662048,
          0.07389817386865616,
          -0.0443098247051239,
          0.02084301970899105,
          0.18010066449642181,
          0.007002598140388727,
          -0.03449414297938347,
          -0.11721130460500717,
          -0.02451445162296295,
          -0.020229706540703773,
          -0.024337416514754295,
          0.27746182680130005,
          -0.04525367170572281,
          -0.02084220014512539,
          0.17917394638061523,
          -0.0512668713927269,
          -0.17810972034931183,
          -0.009472987614572048,
          -0.0983232632279396,
          -0.03989221900701523,
          0.027817433699965477,
          -0.07414800673723221,
          0.17663732171058655,
          0.007132616825401783,
          0.010350145399570465,
          0.044199131429195404,
          -0.019794348627328873,
          0.014497843571007252,
          -0.049012236297130585,
          -0.0517178475856781,
          -0.09632765501737595,
          0.00598860252648592,
          0.13383542001247406,
          0.011233222670853138,
          -0.09169898182153702,
          -0.07583480328321457,
          -0.10604160279035568,
          -0.12183614075183868,
          -0.14616866409778595,
          -0.0991704985499382,
          -0.06718137115240097,
          -0.07947655022144318,
          -0.06695014238357544,
          -0.03990432992577553,
          -0.021645857021212578,
          -0.05525411665439606,
          -0.11480025202035904,
          -0.05608024075627327,
          -0.09297318011522293,
          -0.0335928350687027,
          -0.12542220950126648,
          0.06468012928962708,
          -0.06839501112699509,
          -0.03502928465604782,
          0.11261440813541412,
          0.04910307750105858,
          -0.042324259877204895,
          0.08485876768827438,
          -0.00214040232822299,
          0.05868734046816826,
          0.0065865409560501575,
          -0.03109060972929001,
          -0.07849995046854019,
          -0.05714742839336395,
          0.06334400177001953,
          0.010543813928961754,
          -0.0368947833776474,
          -0.10164719820022583,
          -0.1029016450047493,
          -0.0986761525273323,
          0.03445027023553848,
          0.03445027023553848,
          -0.10672011971473694,
          -0.05166274681687355,
          -0.09644535183906555,
          -0.10504190623760223,
          0.35929200053215027,
          -0.01094507984817028,
          0.17680630087852478,
          0.02096559852361679,
          -0.09136483818292618,
          0.07160280644893646,
          -0.002925013890489936,
          0.13240179419517517,
          -0.02661251090466976,
          -0.04113074019551277,
          0.2145390510559082,
          0.009195580147206783
         ]
        },
        {
         "marker": {
          "color": "red",
          "size": 8
         },
         "mode": "markers",
         "name": "PoliNetwork Group",
         "type": "scatter3d",
         "x": [
          0.1599772870540619,
          0.024459747597575188,
          -0.10727410018444061,
          0.22943854331970215,
          -0.19193287193775177,
          -0.10130053013563156,
          -0.02089356631040573,
          0.008388971909880638,
          -0.009361841715872288,
          -0.18742682039737701,
          -0.014436331577599049,
          -0.12216626852750778,
          -0.15249504148960114,
          -0.2291797399520874,
          -0.19826418161392212,
          -0.2477634847164154,
          0.06222796440124512,
          0.16221138834953308,
          -0.0589374303817749,
          -0.22752991318702698,
          0.0909784659743309,
          -0.3512876033782959,
          -0.019240727648139,
          -0.19339695572853088,
          0.14494726061820984,
          -0.04652780666947365,
          0.18325009942054749,
          -0.20446796715259552,
          -0.1186780035495758,
          -0.07260941714048386,
          -0.1306726485490799,
          -0.2207362800836563,
          0.321551114320755,
          0.19677197933197021,
          0.27866196632385254,
          -0.11990856379270554,
          -0.20912012457847595,
          0.11789311468601227,
          -0.21455751359462738,
          -0.21248994767665863,
          -0.07969233393669128,
          0.05953342840075493,
          0.21851402521133423,
          -0.03159647807478905,
          -0.10434066504240036,
          0.06821989268064499,
          0.09302739799022675,
          0.2870956063270569,
          -0.249135360121727,
          0.05690271407365799,
          0.1015973687171936,
          0.32414376735687256,
          0.0828763097524643,
          0.23047751188278198,
          0.2652733325958252,
          -0.37300965189933777,
          0.23896735906600952,
          0.03282301872968674,
          0.2047712802886963,
          0.10127289593219757,
          0.06929422914981842,
          0.15613582730293274,
          0.2532021403312683,
          -0.061788707971572876,
          0.1302279680967331,
          0.15106706321239471,
          0.4214937090873718,
          0.05791057273745537,
          0.14191053807735443,
          0.10169018805027008,
          -0.12836845219135284,
          -0.2727363109588623,
          -0.20729762315750122,
          0.3814032971858978,
          -0.0883813425898552,
          -0.17565612494945526,
          -0.03135697543621063,
          0.3814033269882202,
          0.053564682602882385,
          0.05908646062016487,
          -0.10527926683425903,
          0.2901298403739929,
          -0.28496456146240234,
          0.0887698158621788,
          0.20286007225513458,
          -0.2524617314338684,
          0.20286007225513458,
          0.09993788599967957,
          -0.22297567129135132,
          0.05276460200548172,
          -0.05474408343434334,
          0.12624332308769226,
          0.29808998107910156,
          -0.2586067020893097,
          -0.24341943860054016,
          -0.06251070648431778,
          -0.10732288658618927,
          -0.30490970611572266,
          -0.14406061172485352,
          -0.23902778327465057
         ],
         "y": [
          0.0037014568224549294,
          0.05199318751692772,
          0.19763074815273285,
          0.00299985334277153,
          -0.11483631283044815,
          0.16241520643234253,
          0.07350341975688934,
          0.08832389861345291,
          0.2039596289396286,
          -0.11762813478708267,
          0.12131107598543167,
          -0.15555982291698456,
          -0.0603301078081131,
          0.16256190836429596,
          -0.042933981865644455,
          -0.05368482321500778,
          -0.10469775646924973,
          -0.18296048045158386,
          0.09669502824544907,
          -0.06295347958803177,
          -0.0065972586162388325,
          -0.0466032400727272,
          0.16251136362552643,
          -0.03807380050420761,
          0.13448427617549896,
          -0.04677247256040573,
          -0.0007559946971014142,
          0.01158356573432684,
          -0.13420435786247253,
          -0.018612531945109367,
          0.02711758017539978,
          -0.10358576476573944,
          0.009480343200266361,
          0.031980279833078384,
          -0.10084589570760727,
          -0.024520741775631905,
          -0.020797692239284515,
          -0.004697368014603853,
          -0.14024470746517181,
          -0.0730963796377182,
          0.00042034941725432873,
          0.05141012370586395,
          -0.07482480257749557,
          0.10414530336856842,
          -0.13500124216079712,
          0.04107765480875969,
          0.11390383541584015,
          -0.07364438474178314,
          -0.10699169337749481,
          0.1444542407989502,
          0.0017424863763153553,
          0.013914617709815502,
          0.0369538739323616,
          -0.020298434421420097,
          -0.07025892287492752,
          -0.11983085423707962,
          0.03849160671234131,
          -0.10321088880300522,
          -0.003116853768005967,
          -0.0852677971124649,
          -0.011382676661014557,
          -0.05187836289405823,
          -0.13613922894001007,
          0.06576737016439438,
          -0.07114610075950623,
          0.054295141249895096,
          -0.08518753945827484,
          -0.09297703206539154,
          -0.040083397179841995,
          0.08057528734207153,
          -0.06219019368290901,
          0.011841106228530407,
          0.20544345676898956,
          -0.0611577108502388,
          0.10159100592136383,
          -0.01616530492901802,
          0.13106229901313782,
          -0.0611577108502388,
          0.1482623815536499,
          0.09455514699220657,
          0.2174515277147293,
          -0.07377731055021286,
          -0.15417097508907318,
          0.20855268836021423,
          -0.14122939109802246,
          0.12085645645856857,
          -0.14122939109802246,
          0.19878780841827393,
          -0.014773388393223286,
          0.13166558742523193,
          0.01289357803761959,
          0.035144492983818054,
          0.0005248498637229204,
          -0.05927233025431633,
          -0.01794423535466194,
          -0.11525908857584,
          0.09782198816537857,
          -0.10383004695177078,
          -0.04871702194213867,
          0.0012479248689487576
         ],
         "z": [
          -0.05404103919863701,
          0.03112775646150112,
          0.017141828313469887,
          0.00599151523783803,
          -0.028583839535713196,
          0.056584682315588,
          0.22658948600292206,
          -0.045912593603134155,
          -0.0785854235291481,
          -0.028674539178609848,
          -0.12587817013263702,
          -0.078994981944561,
          0.008018430322408676,
          -0.0908450335264206,
          0.24675822257995605,
          0.0738997682929039,
          -0.048640064895153046,
          0.12827911972999573,
          0.04717026278376579,
          0.27936673164367676,
          -0.032324835658073425,
          0.10111264884471893,
          0.017398376017808914,
          0.02230474166572094,
          0.03885893151164055,
          0.08909841626882553,
          -0.011576667428016663,
          0.029271457344293594,
          -0.06954699009656906,
          0.03437425568699837,
          -0.06401624530553818,
          -0.04623447731137276,
          0.055485066026449203,
          -0.032135047018527985,
          -0.011037955991923809,
          -0.057990845292806625,
          -0.12490992248058319,
          -0.016280658543109894,
          0.035739824175834656,
          -0.016028380021452904,
          -0.09262733906507492,
          -0.12826672196388245,
          -0.01587671786546707,
          0.08071371167898178,
          -0.019497081637382507,
          -0.04488926753401756,
          -0.09551213681697845,
          -0.031323082745075226,
          -0.08163341134786606,
          -0.028991833329200745,
          -0.025632934644818306,
          0.07403196394443512,
          -0.0561189241707325,
          0.024136127904057503,
          -0.0052000777795910835,
          0.008501497097313404,
          -0.02428276464343071,
          -0.09913363307714462,
          -0.05497340112924576,
          -0.09720853716135025,
          -0.025992199778556824,
          -0.01724361442029476,
          0.06421123445034027,
          -0.12901505827903748,
          -0.09241752326488495,
          -0.09094691276550293,
          0.08164848387241364,
          -0.11884963512420654,
          -0.009933218359947205,
          -0.06001169979572296,
          -0.0908145010471344,
          -0.03448590263724327,
          0.07538530230522156,
          0.03537244722247124,
          -0.10321269184350967,
          0.24902445077896118,
          0.08296214044094086,
          0.035372450947761536,
          0.0014502446865662932,
          -0.07918718457221985,
          0.11870067566633224,
          -0.04418177902698517,
          -0.022312650457024574,
          0.06569941341876984,
          0.09184172004461288,
          0.005819265730679035,
          0.09184172004461288,
          0.06120918691158295,
          -0.004034917335957289,
          -0.062365759164094925,
          -0.09097911417484283,
          0.06316262483596802,
          0.2383807897567749,
          0.01099937129765749,
          -0.07969672977924347,
          -0.05669727921485901,
          -0.10305037349462509,
          -0.029411841183900833,
          -0.05521519109606743,
          0.2584247291088104
         ]
        }
       ],
       "layout": {
        "legend": {
         "x": 0.01,
         "xanchor": "left",
         "y": 0.99,
         "yanchor": "top"
        },
        "template": {
         "data": {
          "bar": [
           {
            "error_x": {
             "color": "#2a3f5f"
            },
            "error_y": {
             "color": "#2a3f5f"
            },
            "marker": {
             "line": {
              "color": "#E5ECF6",
              "width": 0.5
             },
             "pattern": {
              "fillmode": "overlay",
              "size": 10,
              "solidity": 0.2
             }
            },
            "type": "bar"
           }
          ],
          "barpolar": [
           {
            "marker": {
             "line": {
              "color": "#E5ECF6",
              "width": 0.5
             },
             "pattern": {
              "fillmode": "overlay",
              "size": 10,
              "solidity": 0.2
             }
            },
            "type": "barpolar"
           }
          ],
          "carpet": [
           {
            "aaxis": {
             "endlinecolor": "#2a3f5f",
             "gridcolor": "white",
             "linecolor": "white",
             "minorgridcolor": "white",
             "startlinecolor": "#2a3f5f"
            },
            "baxis": {
             "endlinecolor": "#2a3f5f",
             "gridcolor": "white",
             "linecolor": "white",
             "minorgridcolor": "white",
             "startlinecolor": "#2a3f5f"
            },
            "type": "carpet"
           }
          ],
          "choropleth": [
           {
            "colorbar": {
             "outlinewidth": 0,
             "ticks": ""
            },
            "type": "choropleth"
           }
          ],
          "contour": [
           {
            "colorbar": {
             "outlinewidth": 0,
             "ticks": ""
            },
            "colorscale": [
             [
              0,
              "#0d0887"
             ],
             [
              0.1111111111111111,
              "#46039f"
             ],
             [
              0.2222222222222222,
              "#7201a8"
             ],
             [
              0.3333333333333333,
              "#9c179e"
             ],
             [
              0.4444444444444444,
              "#bd3786"
             ],
             [
              0.5555555555555556,
              "#d8576b"
             ],
             [
              0.6666666666666666,
              "#ed7953"
             ],
             [
              0.7777777777777778,
              "#fb9f3a"
             ],
             [
              0.8888888888888888,
              "#fdca26"
             ],
             [
              1,
              "#f0f921"
             ]
            ],
            "type": "contour"
           }
          ],
          "contourcarpet": [
           {
            "colorbar": {
             "outlinewidth": 0,
             "ticks": ""
            },
            "type": "contourcarpet"
           }
          ],
          "heatmap": [
           {
            "colorbar": {
             "outlinewidth": 0,
             "ticks": ""
            },
            "colorscale": [
             [
              0,
              "#0d0887"
             ],
             [
              0.1111111111111111,
              "#46039f"
             ],
             [
              0.2222222222222222,
              "#7201a8"
             ],
             [
              0.3333333333333333,
              "#9c179e"
             ],
             [
              0.4444444444444444,
              "#bd3786"
             ],
             [
              0.5555555555555556,
              "#d8576b"
             ],
             [
              0.6666666666666666,
              "#ed7953"
             ],
             [
              0.7777777777777778,
              "#fb9f3a"
             ],
             [
              0.8888888888888888,
              "#fdca26"
             ],
             [
              1,
              "#f0f921"
             ]
            ],
            "type": "heatmap"
           }
          ],
          "heatmapgl": [
           {
            "colorbar": {
             "outlinewidth": 0,
             "ticks": ""
            },
            "colorscale": [
             [
              0,
              "#0d0887"
             ],
             [
              0.1111111111111111,
              "#46039f"
             ],
             [
              0.2222222222222222,
              "#7201a8"
             ],
             [
              0.3333333333333333,
              "#9c179e"
             ],
             [
              0.4444444444444444,
              "#bd3786"
             ],
             [
              0.5555555555555556,
              "#d8576b"
             ],
             [
              0.6666666666666666,
              "#ed7953"
             ],
             [
              0.7777777777777778,
              "#fb9f3a"
             ],
             [
              0.8888888888888888,
              "#fdca26"
             ],
             [
              1,
              "#f0f921"
             ]
            ],
            "type": "heatmapgl"
           }
          ],
          "histogram": [
           {
            "marker": {
             "pattern": {
              "fillmode": "overlay",
              "size": 10,
              "solidity": 0.2
             }
            },
            "type": "histogram"
           }
          ],
          "histogram2d": [
           {
            "colorbar": {
             "outlinewidth": 0,
             "ticks": ""
            },
            "colorscale": [
             [
              0,
              "#0d0887"
             ],
             [
              0.1111111111111111,
              "#46039f"
             ],
             [
              0.2222222222222222,
              "#7201a8"
             ],
             [
              0.3333333333333333,
              "#9c179e"
             ],
             [
              0.4444444444444444,
              "#bd3786"
             ],
             [
              0.5555555555555556,
              "#d8576b"
             ],
             [
              0.6666666666666666,
              "#ed7953"
             ],
             [
              0.7777777777777778,
              "#fb9f3a"
             ],
             [
              0.8888888888888888,
              "#fdca26"
             ],
             [
              1,
              "#f0f921"
             ]
            ],
            "type": "histogram2d"
           }
          ],
          "histogram2dcontour": [
           {
            "colorbar": {
             "outlinewidth": 0,
             "ticks": ""
            },
            "colorscale": [
             [
              0,
              "#0d0887"
             ],
             [
              0.1111111111111111,
              "#46039f"
             ],
             [
              0.2222222222222222,
              "#7201a8"
             ],
             [
              0.3333333333333333,
              "#9c179e"
             ],
             [
              0.4444444444444444,
              "#bd3786"
             ],
             [
              0.5555555555555556,
              "#d8576b"
             ],
             [
              0.6666666666666666,
              "#ed7953"
             ],
             [
              0.7777777777777778,
              "#fb9f3a"
             ],
             [
              0.8888888888888888,
              "#fdca26"
             ],
             [
              1,
              "#f0f921"
             ]
            ],
            "type": "histogram2dcontour"
           }
          ],
          "mesh3d": [
           {
            "colorbar": {
             "outlinewidth": 0,
             "ticks": ""
            },
            "type": "mesh3d"
           }
          ],
          "parcoords": [
           {
            "line": {
             "colorbar": {
              "outlinewidth": 0,
              "ticks": ""
             }
            },
            "type": "parcoords"
           }
          ],
          "pie": [
           {
            "automargin": true,
            "type": "pie"
           }
          ],
          "scatter": [
           {
            "fillpattern": {
             "fillmode": "overlay",
             "size": 10,
             "solidity": 0.2
            },
            "type": "scatter"
           }
          ],
          "scatter3d": [
           {
            "line": {
             "colorbar": {
              "outlinewidth": 0,
              "ticks": ""
             }
            },
            "marker": {
             "colorbar": {
              "outlinewidth": 0,
              "ticks": ""
             }
            },
            "type": "scatter3d"
           }
          ],
          "scattercarpet": [
           {
            "marker": {
             "colorbar": {
              "outlinewidth": 0,
              "ticks": ""
             }
            },
            "type": "scattercarpet"
           }
          ],
          "scattergeo": [
           {
            "marker": {
             "colorbar": {
              "outlinewidth": 0,
              "ticks": ""
             }
            },
            "type": "scattergeo"
           }
          ],
          "scattergl": [
           {
            "marker": {
             "colorbar": {
              "outlinewidth": 0,
              "ticks": ""
             }
            },
            "type": "scattergl"
           }
          ],
          "scattermapbox": [
           {
            "marker": {
             "colorbar": {
              "outlinewidth": 0,
              "ticks": ""
             }
            },
            "type": "scattermapbox"
           }
          ],
          "scatterpolar": [
           {
            "marker": {
             "colorbar": {
              "outlinewidth": 0,
              "ticks": ""
             }
            },
            "type": "scatterpolar"
           }
          ],
          "scatterpolargl": [
           {
            "marker": {
             "colorbar": {
              "outlinewidth": 0,
              "ticks": ""
             }
            },
            "type": "scatterpolargl"
           }
          ],
          "scatterternary": [
           {
            "marker": {
             "colorbar": {
              "outlinewidth": 0,
              "ticks": ""
             }
            },
            "type": "scatterternary"
           }
          ],
          "surface": [
           {
            "colorbar": {
             "outlinewidth": 0,
             "ticks": ""
            },
            "colorscale": [
             [
              0,
              "#0d0887"
             ],
             [
              0.1111111111111111,
              "#46039f"
             ],
             [
              0.2222222222222222,
              "#7201a8"
             ],
             [
              0.3333333333333333,
              "#9c179e"
             ],
             [
              0.4444444444444444,
              "#bd3786"
             ],
             [
              0.5555555555555556,
              "#d8576b"
             ],
             [
              0.6666666666666666,
              "#ed7953"
             ],
             [
              0.7777777777777778,
              "#fb9f3a"
             ],
             [
              0.8888888888888888,
              "#fdca26"
             ],
             [
              1,
              "#f0f921"
             ]
            ],
            "type": "surface"
           }
          ],
          "table": [
           {
            "cells": {
             "fill": {
              "color": "#EBF0F8"
             },
             "line": {
              "color": "white"
             }
            },
            "header": {
             "fill": {
              "color": "#C8D4E3"
             },
             "line": {
              "color": "white"
             }
            },
            "type": "table"
           }
          ]
         },
         "layout": {
          "annotationdefaults": {
           "arrowcolor": "#2a3f5f",
           "arrowhead": 0,
           "arrowwidth": 1
          },
          "autotypenumbers": "strict",
          "coloraxis": {
           "colorbar": {
            "outlinewidth": 0,
            "ticks": ""
           }
          },
          "colorscale": {
           "diverging": [
            [
             0,
             "#8e0152"
            ],
            [
             0.1,
             "#c51b7d"
            ],
            [
             0.2,
             "#de77ae"
            ],
            [
             0.3,
             "#f1b6da"
            ],
            [
             0.4,
             "#fde0ef"
            ],
            [
             0.5,
             "#f7f7f7"
            ],
            [
             0.6,
             "#e6f5d0"
            ],
            [
             0.7,
             "#b8e186"
            ],
            [
             0.8,
             "#7fbc41"
            ],
            [
             0.9,
             "#4d9221"
            ],
            [
             1,
             "#276419"
            ]
           ],
           "sequential": [
            [
             0,
             "#0d0887"
            ],
            [
             0.1111111111111111,
             "#46039f"
            ],
            [
             0.2222222222222222,
             "#7201a8"
            ],
            [
             0.3333333333333333,
             "#9c179e"
            ],
            [
             0.4444444444444444,
             "#bd3786"
            ],
            [
             0.5555555555555556,
             "#d8576b"
            ],
            [
             0.6666666666666666,
             "#ed7953"
            ],
            [
             0.7777777777777778,
             "#fb9f3a"
            ],
            [
             0.8888888888888888,
             "#fdca26"
            ],
            [
             1,
             "#f0f921"
            ]
           ],
           "sequentialminus": [
            [
             0,
             "#0d0887"
            ],
            [
             0.1111111111111111,
             "#46039f"
            ],
            [
             0.2222222222222222,
             "#7201a8"
            ],
            [
             0.3333333333333333,
             "#9c179e"
            ],
            [
             0.4444444444444444,
             "#bd3786"
            ],
            [
             0.5555555555555556,
             "#d8576b"
            ],
            [
             0.6666666666666666,
             "#ed7953"
            ],
            [
             0.7777777777777778,
             "#fb9f3a"
            ],
            [
             0.8888888888888888,
             "#fdca26"
            ],
            [
             1,
             "#f0f921"
            ]
           ]
          },
          "colorway": [
           "#636efa",
           "#EF553B",
           "#00cc96",
           "#ab63fa",
           "#FFA15A",
           "#19d3f3",
           "#FF6692",
           "#B6E880",
           "#FF97FF",
           "#FECB52"
          ],
          "font": {
           "color": "#2a3f5f"
          },
          "geo": {
           "bgcolor": "white",
           "lakecolor": "white",
           "landcolor": "#E5ECF6",
           "showlakes": true,
           "showland": true,
           "subunitcolor": "white"
          },
          "hoverlabel": {
           "align": "left"
          },
          "hovermode": "closest",
          "mapbox": {
           "style": "light"
          },
          "paper_bgcolor": "white",
          "plot_bgcolor": "#E5ECF6",
          "polar": {
           "angularaxis": {
            "gridcolor": "white",
            "linecolor": "white",
            "ticks": ""
           },
           "bgcolor": "#E5ECF6",
           "radialaxis": {
            "gridcolor": "white",
            "linecolor": "white",
            "ticks": ""
           }
          },
          "scene": {
           "xaxis": {
            "backgroundcolor": "#E5ECF6",
            "gridcolor": "white",
            "gridwidth": 2,
            "linecolor": "white",
            "showbackground": true,
            "ticks": "",
            "zerolinecolor": "white"
           },
           "yaxis": {
            "backgroundcolor": "#E5ECF6",
            "gridcolor": "white",
            "gridwidth": 2,
            "linecolor": "white",
            "showbackground": true,
            "ticks": "",
            "zerolinecolor": "white"
           },
           "zaxis": {
            "backgroundcolor": "#E5ECF6",
            "gridcolor": "white",
            "gridwidth": 2,
            "linecolor": "white",
            "showbackground": true,
            "ticks": "",
            "zerolinecolor": "white"
           }
          },
          "shapedefaults": {
           "line": {
            "color": "#2a3f5f"
           }
          },
          "ternary": {
           "aaxis": {
            "gridcolor": "white",
            "linecolor": "white",
            "ticks": ""
           },
           "baxis": {
            "gridcolor": "white",
            "linecolor": "white",
            "ticks": ""
           },
           "bgcolor": "#E5ECF6",
           "caxis": {
            "gridcolor": "white",
            "linecolor": "white",
            "ticks": ""
           }
          },
          "title": {
           "x": 0.05
          },
          "xaxis": {
           "automargin": true,
           "gridcolor": "white",
           "linecolor": "white",
           "ticks": "",
           "title": {
            "standoff": 15
           },
           "zerolinecolor": "white",
           "zerolinewidth": 2
          },
          "yaxis": {
           "automargin": true,
           "gridcolor": "white",
           "linecolor": "white",
           "ticks": "",
           "title": {
            "standoff": 15
           },
           "zerolinecolor": "white",
           "zerolinewidth": 2
          }
         }
        }
       }
      }
     },
     "metadata": {},
     "output_type": "display_data"
    }
   ],
   "source": [
    "plot_and_compare_reduced_embeddings_3D(texts, poli_texts_strings, \"en\", \"it\", \"Our Group\", \"PoliNetwork Group\")"
   ]
  },
  {
   "cell_type": "markdown",
   "metadata": {},
   "source": [
    "Doing the same as before using the preprocessed texts"
   ]
  },
  {
   "cell_type": "code",
   "execution_count": 270,
   "metadata": {},
   "outputs": [],
   "source": [
    "#preprocessed_texts = [preprocess_message(text, \"english\") for text in texts]\n",
    "poli_preprocessed_texts = [preprocess_message(text, \"italian\") for text in poli_texts_strings]\n"
   ]
  },
  {
   "cell_type": "code",
   "execution_count": 271,
   "metadata": {},
   "outputs": [
    {
     "data": {
      "image/png": "[encoded data removed]",
      "text/plain": [
       "<Figure size 640x480 with 1 Axes>"
      ]
     },
     "metadata": {},
     "output_type": "display_data"
    }
   ],
   "source": [
    "plot_and_compare_reduced_embeddings_2D(preprocessed_texts, poli_preprocessed_texts, \"en\", \"it\")"
   ]
  },
  {
   "cell_type": "code",
   "execution_count": 272,
   "metadata": {},
   "outputs": [
    {
     "data": {
      "application/vnd.plotly.v1+json": {
       "config": {
        "plotlyServerURL": "https://plot.ly"
       },
       "data": [
        {
         "marker": {
          "color": "blue",
          "size": 8
         },
         "mode": "markers",
         "name": "Our Group",
         "type": "scatter3d",
         "x": [
          -0.31206944584846497,
          -0.3703606128692627,
          -0.3703606128692627,
          -0.32087811827659607,
          -0.026036225259304047,
          0.16128264367580414,
          -0.17986474931240082,
          -0.1811659038066864,
          -0.009072763845324516,
          -0.19963380694389343,
          -0.16187189519405365,
          -0.06032797321677208,
          -0.07802903652191162,
          -0.35836005210876465,
          -0.10651952028274536,
          -0.11421652138233185,
          0.04000328481197357,
          0.06791030615568161,
          0.19470173120498657,
          0.08319590985774994,
          0.05958275496959686,
          -0.03409475460648537,
          -0.09529300779104233,
          0.33339783549308777,
          0.4141785800457001,
          0.22124679386615753,
          0.1585562825202942,
          -0.15731944143772125,
          0.011619430966675282,
          -0.2476353645324707,
          -0.0706460028886795,
          -0.2557338774204254,
          0.4758762717247009,
          0.006211258005350828,
          0.11578742414712906,
          -0.12394306063652039,
          0.03025072254240513,
          -0.2462703436613083,
          -0.11848565191030502,
          0.07621195167303085,
          0.22493399679660797,
          0.1334361582994461,
          0.3128223419189453,
          -0.05886279046535492,
          0.2339666187763214,
          -0.20487600564956665,
          0.21972733736038208,
          -0.02762402594089508,
          0.12534910440444946,
          0.01947006769478321,
          -0.12829412519931793,
          -0.11044557392597198,
          0.1940845549106598,
          0.2774597704410553,
          0.2001461237668991,
          -0.1726873219013214,
          0.2086692601442337,
          -0.13068969547748566,
          -0.0724024698138237,
          0.1110650822520256,
          0.22729139029979706,
          0.191203773021698,
          0.15221495926380157,
          -0.3801328241825104,
          -0.16841883957386017,
          -0.07645309716463089,
          -0.15547071397304535,
          -0.3801328241825104,
          -0.21671535074710846,
          -0.17191527783870697,
          -0.18053700029850006,
          -0.09003022313117981,
          -0.2157759815454483,
          0.020103150978684425,
          0.23374733328819275,
          0.2905876040458679,
          0.2969807982444763,
          0.14333297312259674,
          0.09559475630521774,
          0.07610304653644562,
          0.13560007512569427,
          0.09486786276102066,
          -0.31849390268325806,
          -0.31849390268325806,
          0.2204442024230957,
          0.21817728877067566,
          0.10317385196685791,
          0.12002348899841309,
          0.19357538223266602,
          -0.2530207335948944,
          0.4377540946006775,
          0.25182875990867615,
          0.006537312641739845,
          0.16425451636314392,
          0.10020865499973297,
          0.061598483473062515,
          -0.12734678387641907,
          -0.2489621937274933,
          -0.1623520702123642,
          0.021974850445985794
         ],
         "y": [
          -0.0045557403936982155,
          0.016697894781827927,
          0.01669778861105442,
          -0.011447559110820293,
          -0.06178642436861992,
          -0.07501093298196793,
          0.034121476113796234,
          -0.035301581025123596,
          -0.04626848176121712,
          -0.025103693827986717,
          -0.030552608892321587,
          -0.02779925800859928,
          -0.008683526888489723,
          0.04384413734078407,
          0.03859785571694374,
          0.005053604952991009,
          -0.014510145410895348,
          -0.13499663770198822,
          -0.07298370450735092,
          -0.07781358808279037,
          -0.08388753980398178,
          -0.04748570919036865,
          -0.06678305566310883,
          0.2026849389076233,
          0.15053009986877441,
          -0.0822741687297821,
          -0.0018146411748602986,
          -0.049084581434726715,
          0.2041737139225006,
          0.18280431628227234,
          -0.02141580544412136,
          -0.042934782803058624,
          0.11397132277488708,
          -0.1383649706840515,
          -0.09458974003791809,
          -0.04845907539129257,
          -0.049194663763046265,
          -0.0061914692632853985,
          -0.08318295329809189,
          0.040121376514434814,
          -0.13894009590148926,
          0.019547689706087112,
          -0.011782098561525345,
          -0.12315458804368973,
          -0.038498710840940475,
          0.22858603298664093,
          -0.03289742022752762,
          0.38293886184692383,
          0.054375410079956055,
          0.3149072527885437,
          0.04235992580652237,
          0.03762732446193695,
          0.40572303533554077,
          0.22281135618686676,
          0.4113186001777649,
          -0.09654229134321213,
          -0.1496179699897766,
          -0.01606246642768383,
          0.09677579253911972,
          -0.014148578979074955,
          0.1676322966814041,
          -0.12366070598363876,
          0.01735350489616394,
          0.005951144732534885,
          -0.06750285625457764,
          -0.11031589657068253,
          -0.041612397879362106,
          0.005951144732534885,
          -0.034494850784540176,
          -0.049604322761297226,
          -0.04781627282500267,
          0.10958520323038101,
          0.210981547832489,
          0.002188935410231352,
          -0.11599627882242203,
          -0.0722145214676857,
          -0.11524012684822083,
          -0.09519227594137192,
          -0.06414633244276047,
          -0.11862197518348694,
          -0.09154335409402847,
          -0.08877848833799362,
          0.012804390862584114,
          0.012804390862584114,
          -0.061394285410642624,
          -0.11173548549413681,
          0.02341260015964508,
          -0.01779228448867798,
          -0.06728660315275192,
          -0.01592359133064747,
          -0.047749076038599014,
          -0.06792508065700531,
          -0.07086792588233948,
          0.042392149567604065,
          -0.03429059311747551,
          -0.04918494075536728,
          -0.02874116040766239,
          -0.016539903357625008,
          -0.024526601657271385,
          0.03749256581068039
         ],
         "z": [
          0.10991565138101578,
          0.19801704585552216,
          0.19801704585552216,
          0.05273706465959549,
          -0.03347017616033554,
          -0.02304290048778057,
          0.09992700815200806,
          -0.055421121418476105,
          -0.015173214487731457,
          -0.019389044493436813,
          -0.029176710173487663,
          0.022581886500120163,
          -0.008624907582998276,
          0.15729184448719025,
          -0.054382942616939545,
          -0.030866369605064392,
          0.01158276479691267,
          -0.0750877857208252,
          -0.0029187542386353016,
          -0.08741746097803116,
          -0.01175141055136919,
          -0.06210670992732048,
          -0.022295059636235237,
          0.19499097764492035,
          0.1369568407535553,
          0.01923997886478901,
          -0.07915350794792175,
          -0.0009379826369695365,
          -0.1356809437274933,
          0.015360681340098381,
          -0.030766621232032776,
          -0.051422204822301865,
          0.20982626080513,
          -0.1093197762966156,
          0.0015495042316615582,
          0.014746082946658134,
          0.04384474828839302,
          0.03574381768703461,
          -0.02892988733947277,
          0.014725429937243462,
          0.020151864737272263,
          -0.0384383350610733,
          0.06224605068564415,
          -0.02164042927324772,
          0.09259855002164841,
          -0.011952904984354973,
          -0.013926388695836067,
          -0.11409371346235275,
          -0.10316616296768188,
          -0.06438491493463516,
          -0.14160023629665375,
          -0.12996049225330353,
          -0.08578844368457794,
          0.03281400725245476,
          -0.08006884902715683,
          -0.07710233330726624,
          -0.018359998241066933,
          -0.029155055060982704,
          -0.05283297225832939,
          -0.08037963509559631,
          0.012640334665775299,
          -0.04552116245031357,
          -0.03857003524899483,
          0.20980261266231537,
          -0.08606687933206558,
          -0.07702656835317612,
          0.008759716525673866,
          0.20980261266231537,
          -0.07252464443445206,
          -0.04677208140492439,
          -0.0311143659055233,
          0.022854359820485115,
          0.01500946655869484,
          -0.054173558950424194,
          0.029654700309038162,
          0.08282744139432907,
          0.08323635905981064,
          0.0051027508452534676,
          -0.045651089400053024,
          -0.04375278949737549,
          -0.040625881403684616,
          -0.03893819451332092,
          0.07520992308855057,
          0.07520992308855057,
          -0.016126254573464394,
          -0.010402887128293514,
          -0.079886794090271,
          -0.08782193809747696,
          0.05339471995830536,
          0.03361910209059715,
          0.2719042897224426,
          0.07355308532714844,
          -0.10272011905908585,
          0.04870210960507393,
          -0.017605047672986984,
          -0.007914970628917217,
          0.012130390852689743,
          -0.015432928688824177,
          -0.04517575353384018,
          -0.03426814079284668
         ]
        },
        {
         "marker": {
          "color": "red",
          "size": 8
         },
         "mode": "markers",
         "name": "PoliNetwork Group",
         "type": "scatter3d",
         "x": [
          0.15896180272102356,
          -0.02041361853480339,
          -0.0947803407907486,
          0.21622949838638306,
          -0.2232970893383026,
          -0.06676807254552841,
          -0.03173711150884628,
          0.02536272443830967,
          0.002923124935477972,
          -0.2074105143547058,
          -0.01029916200786829,
          -0.1642153561115265,
          -0.1810196042060852,
          -0.24540619552135468,
          -0.17392057180404663,
          -0.23022785782814026,
          0.06180107593536377,
          0.26975393295288086,
          -0.12227855622768402,
          -0.15626512467861176,
          0.07493342459201813,
          -0.35482150316238403,
          -0.01695706695318222,
          -0.23375029861927032,
          0.15204018354415894,
          -0.04807388409972191,
          0.17027859389781952,
          -0.21113765239715576,
          -0.14299294352531433,
          -0.08964749425649643,
          -0.1345938742160797,
          -0.24692480266094208,
          0.3141019344329834,
          0.1792854517698288,
          0.26063206791877747,
          -0.13782723248004913,
          -0.23107339441776276,
          0.10057807713747025,
          -0.23810270428657532,
          -0.25177308917045593,
          -0.0633203461766243,
          0.06728781759738922,
          0.16251172125339508,
          0.01403557974845171,
          -0.11956807971000671,
          0.06992402672767639,
          0.09654903411865234,
          0.2768624424934387,
          -0.2664732038974762,
          0.06302516907453537,
          0.08182977139949799,
          0.3168902099132538,
          0.07083569467067719,
          0.21377350389957428,
          0.27383872866630554,
          -0.37323665618896484,
          0.22446808218955994,
          0.020426835864782333,
          0.187301903963089,
          0.06360167264938354,
          0.054456889629364014,
          0.14209817349910736,
          0.3097709119319916,
          -0.04656852036714554,
          0.10885872691869736,
          0.13818757236003876,
          0.41724148392677307,
          0.05614292621612549,
          0.12496884912252426,
          0.10183816403150558,
          -0.14354045689105988,
          -0.27224215865135193,
          -0.1891670674085617,
          0.3925507366657257,
          -0.09412350505590439,
          0.003220636397600174,
          -0.04115879908204079,
          0.3925507366657257,
          0.06280464679002762,
          0.05645740404725075,
          -0.10305312275886536,
          0.27313756942749023,
          -0.27778756618499756,
          0.10517603904008865,
          0.2999188303947449,
          -0.23500287532806396,
          0.2999188303947449,
          0.11841890960931778,
          -0.2238861322402954,
          0.05200614407658577,
          -0.0717996135354042,
          0.1128784790635109,
          0.2887551486492157,
          -0.2552195191383362,
          -0.24355509877204895,
          -0.08072049915790558,
          -0.11663792282342911,
          -0.34925004839897156,
          -0.15152035653591156,
          -0.11785577982664108
         ],
         "y": [
          -0.07086292654275894,
          0.09129787981510162,
          0.15100902318954468,
          0.003937267232686281,
          -0.07349734753370285,
          0.15246038138866425,
          0.22765237092971802,
          0.027058979496359825,
          0.09862544387578964,
          -0.06979597359895706,
          -0.004129943437874317,
          -0.10816530138254166,
          -0.033767588436603546,
          0.08458622545003891,
          0.07082731276750565,
          0.0369049608707428,
          -0.1111607551574707,
          -0.03299187496304512,
          0.2905915379524231,
          0.05221495404839516,
          -0.03026125580072403,
          0.0563250333070755,
          0.12309687584638596,
          -0.0049226065166294575,
          0.1427653282880783,
          0.048553965985774994,
          -0.016263453289866447,
          0.03169358894228935,
          -0.1251697689294815,
          0.010341532528400421,
          -0.03631206229329109,
          -0.0739784762263298,
          0.06303262710571289,
          0.00029325170908123255,
          -0.10154017806053162,
          -0.037906713783741,
          -0.1001545786857605,
          -0.03217297047376633,
          -0.07518880069255829,
          -0.04891665652394295,
          -0.08240159600973129,
          -0.07360474765300751,
          -0.0103983199223876,
          0.12226531654596329,
          -0.1276398003101349,
          0.08103512227535248,
          0.004897760692983866,
          -0.0882408544421196,
          -0.11670808494091034,
          0.05655186250805855,
          -0.017122210934758186,
          0.07550746947526932,
          -0.021367240697145462,
          0.17543599009513855,
          -0.08625958859920502,
          -0.05302398279309273,
          0.02698904275894165,
          -0.14506173133850098,
          -0.041126929223537445,
          -0.12283061444759369,
          -0.04243514686822891,
          -0.05903172120451927,
          -0.10062969475984573,
          -0.03779573738574982,
          -0.11825632303953171,
          -0.013794206082820892,
          -0.05123421922326088,
          -0.12712498009204865,
          -0.04237120971083641,
          -0.018663771450519562,
          -0.1078810840845108,
          -0.0003366340242791921,
          0.1948602944612503,
          -0.0635211393237114,
          -0.011913273483514786,
          -0.04985237494111061,
          0.17855985462665558,
          -0.0635211393237114,
          0.0871366411447525,
          -0.011540601961314678,
          0.22051072120666504,
          -0.09899409115314484,
          -0.13000251352787018,
          0.21194545924663544,
          -0.03881440311670303,
          0.04480087384581566,
          -0.03881440311670303,
          0.19415827095508575,
          -0.012158169411122799,
          0.035720665007829666,
          -0.04098188504576683,
          0.08854565769433975,
          0.13971863687038422,
          -0.004379344638437033,
          -0.050264887511730194,
          -0.11414589732885361,
          0.003581804921850562,
          -0.06022875756025314,
          -0.03297143056988716,
          0.009114150889217854
         ],
         "z": [
          0.020403917878866196,
          -0.018616950139403343,
          -0.10638783872127533,
          -0.040756575763225555,
          0.04031698778271675,
          -0.020181754603981972,
          0.1121794581413269,
          -0.07662656158208847,
          -0.14863352477550507,
          0.037079356610774994,
          -0.1497725248336792,
          0.08671526610851288,
          0.08722056448459625,
          -0.0829782709479332,
          0.033116333186626434,
          0.05734509602189064,
          0.018037214875221252,
          -0.041065528988838196,
          0.06615959107875824,
          0.04129551351070404,
          -0.08555974066257477,
          0.16311436891555786,
          -0.0566197969019413,
          0.10426103323698044,
          0.037812694907188416,
          0.04693800210952759,
          -0.0408051498234272,
          0.0035313465632498264,
          0.08076933026313782,
          -0.015471909195184708,
          0.04055093228816986,
          0.09986811131238937,
          0.041499849408864975,
          -0.045668017119169235,
          0.07976248115301132,
          -0.05906197801232338,
          -0.08632759004831314,
          -0.026305796578526497,
          0.09285090863704681,
          0.11880241334438324,
          -0.0318203866481781,
          -0.10300971567630768,
          0.012836799956858158,
          -0.008709274232387543,
          0.03538985922932625,
          -0.07484781742095947,
          -0.14019131660461426,
          0.06270287930965424,
          -0.03875714913010597,
          -0.046747639775276184,
          -0.04525065794587135,
          0.07505854219198227,
          -0.13189834356307983,
          0.1233305111527443,
          0.053091373294591904,
          0.09352321177721024,
          -0.057265505194664,
          -0.03524982929229736,
          -0.07582338899374008,
          -0.07053551822900772,
          -0.05293269082903862,
          0.01316885370761156,
          0.08450474590063095,
          -0.09969088435173035,
          -0.07808610796928406,
          0.0008993879891932011,
          0.22570978105068207,
          -0.05305034667253494,
          -0.011176744475960732,
          -0.05343689024448395,
          -0.014362359419465065,
          0.01574408821761608,
          -0.0005779259372502565,
          0.14757460355758667,
          -0.023592934012413025,
          -0.09100231528282166,
          -0.08456913381814957,
          0.14757460355758667,
          -0.025412362068891525,
          -0.04703519865870476,
          0.025341974571347237,
          0.024072404950857162,
          0.09944921731948853,
          -0.0006226041587069631,
          -0.02553403191268444,
          0.02075527422130108,
          -0.02553403191268444,
          -0.009954134933650494,
          0.008312531746923923,
          -0.1257593333721161,
          -0.1284908503293991,
          -0.029634026810526848,
          0.22812744975090027,
          0.03236254304647446,
          -0.017863402143120766,
          -0.05126079544425011,
          -0.10081721097230911,
          0.1106208935379982,
          -0.029985954985022545,
          -0.008453777059912682
         ]
        }
       ],
       "layout": {
        "legend": {
         "x": 0.01,
         "xanchor": "left",
         "y": 0.99,
         "yanchor": "top"
        },
        "template": {
         "data": {
          "bar": [
           {
            "error_x": {
             "color": "#2a3f5f"
            },
            "error_y": {
             "color": "#2a3f5f"
            },
            "marker": {
             "line": {
              "color": "#E5ECF6",
              "width": 0.5
             },
             "pattern": {
              "fillmode": "overlay",
              "size": 10,
              "solidity": 0.2
             }
            },
            "type": "bar"
           }
          ],
          "barpolar": [
           {
            "marker": {
             "line": {
              "color": "#E5ECF6",
              "width": 0.5
             },
             "pattern": {
              "fillmode": "overlay",
              "size": 10,
              "solidity": 0.2
             }
            },
            "type": "barpolar"
           }
          ],
          "carpet": [
           {
            "aaxis": {
             "endlinecolor": "#2a3f5f",
             "gridcolor": "white",
             "linecolor": "white",
             "minorgridcolor": "white",
             "startlinecolor": "#2a3f5f"
            },
            "baxis": {
             "endlinecolor": "#2a3f5f",
             "gridcolor": "white",
             "linecolor": "white",
             "minorgridcolor": "white",
             "startlinecolor": "#2a3f5f"
            },
            "type": "carpet"
           }
          ],
          "choropleth": [
           {
            "colorbar": {
             "outlinewidth": 0,
             "ticks": ""
            },
            "type": "choropleth"
           }
          ],
          "contour": [
           {
            "colorbar": {
             "outlinewidth": 0,
             "ticks": ""
            },
            "colorscale": [
             [
              0,
              "#0d0887"
             ],
             [
              0.1111111111111111,
              "#46039f"
             ],
             [
              0.2222222222222222,
              "#7201a8"
             ],
             [
              0.3333333333333333,
              "#9c179e"
             ],
             [
              0.4444444444444444,
              "#bd3786"
             ],
             [
              0.5555555555555556,
              "#d8576b"
             ],
             [
              0.6666666666666666,
              "#ed7953"
             ],
             [
              0.7777777777777778,
              "#fb9f3a"
             ],
             [
              0.8888888888888888,
              "#fdca26"
             ],
             [
              1,
              "#f0f921"
             ]
            ],
            "type": "contour"
           }
          ],
          "contourcarpet": [
           {
            "colorbar": {
             "outlinewidth": 0,
             "ticks": ""
            },
            "type": "contourcarpet"
           }
          ],
          "heatmap": [
           {
            "colorbar": {
             "outlinewidth": 0,
             "ticks": ""
            },
            "colorscale": [
             [
              0,
              "#0d0887"
             ],
             [
              0.1111111111111111,
              "#46039f"
             ],
             [
              0.2222222222222222,
              "#7201a8"
             ],
             [
              0.3333333333333333,
              "#9c179e"
             ],
             [
              0.4444444444444444,
              "#bd3786"
             ],
             [
              0.5555555555555556,
              "#d8576b"
             ],
             [
              0.6666666666666666,
              "#ed7953"
             ],
             [
              0.7777777777777778,
              "#fb9f3a"
             ],
             [
              0.8888888888888888,
              "#fdca26"
             ],
             [
              1,
              "#f0f921"
             ]
            ],
            "type": "heatmap"
           }
          ],
          "heatmapgl": [
           {
            "colorbar": {
             "outlinewidth": 0,
             "ticks": ""
            },
            "colorscale": [
             [
              0,
              "#0d0887"
             ],
             [
              0.1111111111111111,
              "#46039f"
             ],
             [
              0.2222222222222222,
              "#7201a8"
             ],
             [
              0.3333333333333333,
              "#9c179e"
             ],
             [
              0.4444444444444444,
              "#bd3786"
             ],
             [
              0.5555555555555556,
              "#d8576b"
             ],
             [
              0.6666666666666666,
              "#ed7953"
             ],
             [
              0.7777777777777778,
              "#fb9f3a"
             ],
             [
              0.8888888888888888,
              "#fdca26"
             ],
             [
              1,
              "#f0f921"
             ]
            ],
            "type": "heatmapgl"
           }
          ],
          "histogram": [
           {
            "marker": {
             "pattern": {
              "fillmode": "overlay",
              "size": 10,
              "solidity": 0.2
             }
            },
            "type": "histogram"
           }
          ],
          "histogram2d": [
           {
            "colorbar": {
             "outlinewidth": 0,
             "ticks": ""
            },
            "colorscale": [
             [
              0,
              "#0d0887"
             ],
             [
              0.1111111111111111,
              "#46039f"
             ],
             [
              0.2222222222222222,
              "#7201a8"
             ],
             [
              0.3333333333333333,
              "#9c179e"
             ],
             [
              0.4444444444444444,
              "#bd3786"
             ],
             [
              0.5555555555555556,
              "#d8576b"
             ],
             [
              0.6666666666666666,
              "#ed7953"
             ],
             [
              0.7777777777777778,
              "#fb9f3a"
             ],
             [
              0.8888888888888888,
              "#fdca26"
             ],
             [
              1,
              "#f0f921"
             ]
            ],
            "type": "histogram2d"
           }
          ],
          "histogram2dcontour": [
           {
            "colorbar": {
             "outlinewidth": 0,
             "ticks": ""
            },
            "colorscale": [
             [
              0,
              "#0d0887"
             ],
             [
              0.1111111111111111,
              "#46039f"
             ],
             [
              0.2222222222222222,
              "#7201a8"
             ],
             [
              0.3333333333333333,
              "#9c179e"
             ],
             [
              0.4444444444444444,
              "#bd3786"
             ],
             [
              0.5555555555555556,
              "#d8576b"
             ],
             [
              0.6666666666666666,
              "#ed7953"
             ],
             [
              0.7777777777777778,
              "#fb9f3a"
             ],
             [
              0.8888888888888888,
              "#fdca26"
             ],
             [
              1,
              "#f0f921"
             ]
            ],
            "type": "histogram2dcontour"
           }
          ],
          "mesh3d": [
           {
            "colorbar": {
             "outlinewidth": 0,
             "ticks": ""
            },
            "type": "mesh3d"
           }
          ],
          "parcoords": [
           {
            "line": {
             "colorbar": {
              "outlinewidth": 0,
              "ticks": ""
             }
            },
            "type": "parcoords"
           }
          ],
          "pie": [
           {
            "automargin": true,
            "type": "pie"
           }
          ],
          "scatter": [
           {
            "fillpattern": {
             "fillmode": "overlay",
             "size": 10,
             "solidity": 0.2
            },
            "type": "scatter"
           }
          ],
          "scatter3d": [
           {
            "line": {
             "colorbar": {
              "outlinewidth": 0,
              "ticks": ""
             }
            },
            "marker": {
             "colorbar": {
              "outlinewidth": 0,
              "ticks": ""
             }
            },
            "type": "scatter3d"
           }
          ],
          "scattercarpet": [
           {
            "marker": {
             "colorbar": {
              "outlinewidth": 0,
              "ticks": ""
             }
            },
            "type": "scattercarpet"
           }
          ],
          "scattergeo": [
           {
            "marker": {
             "colorbar": {
              "outlinewidth": 0,
              "ticks": ""
             }
            },
            "type": "scattergeo"
           }
          ],
          "scattergl": [
           {
            "marker": {
             "colorbar": {
              "outlinewidth": 0,
              "ticks": ""
             }
            },
            "type": "scattergl"
           }
          ],
          "scattermapbox": [
           {
            "marker": {
             "colorbar": {
              "outlinewidth": 0,
              "ticks": ""
             }
            },
            "type": "scattermapbox"
           }
          ],
          "scatterpolar": [
           {
            "marker": {
             "colorbar": {
              "outlinewidth": 0,
              "ticks": ""
             }
            },
            "type": "scatterpolar"
           }
          ],
          "scatterpolargl": [
           {
            "marker": {
             "colorbar": {
              "outlinewidth": 0,
              "ticks": ""
             }
            },
            "type": "scatterpolargl"
           }
          ],
          "scatterternary": [
           {
            "marker": {
             "colorbar": {
              "outlinewidth": 0,
              "ticks": ""
             }
            },
            "type": "scatterternary"
           }
          ],
          "surface": [
           {
            "colorbar": {
             "outlinewidth": 0,
             "ticks": ""
            },
            "colorscale": [
             [
              0,
              "#0d0887"
             ],
             [
              0.1111111111111111,
              "#46039f"
             ],
             [
              0.2222222222222222,
              "#7201a8"
             ],
             [
              0.3333333333333333,
              "#9c179e"
             ],
             [
              0.4444444444444444,
              "#bd3786"
             ],
             [
              0.5555555555555556,
              "#d8576b"
             ],
             [
              0.6666666666666666,
              "#ed7953"
             ],
             [
              0.7777777777777778,
              "#fb9f3a"
             ],
             [
              0.8888888888888888,
              "#fdca26"
             ],
             [
              1,
              "#f0f921"
             ]
            ],
            "type": "surface"
           }
          ],
          "table": [
           {
            "cells": {
             "fill": {
              "color": "#EBF0F8"
             },
             "line": {
              "color": "white"
             }
            },
            "header": {
             "fill": {
              "color": "#C8D4E3"
             },
             "line": {
              "color": "white"
             }
            },
            "type": "table"
           }
          ]
         },
         "layout": {
          "annotationdefaults": {
           "arrowcolor": "#2a3f5f",
           "arrowhead": 0,
           "arrowwidth": 1
          },
          "autotypenumbers": "strict",
          "coloraxis": {
           "colorbar": {
            "outlinewidth": 0,
            "ticks": ""
           }
          },
          "colorscale": {
           "diverging": [
            [
             0,
             "#8e0152"
            ],
            [
             0.1,
             "#c51b7d"
            ],
            [
             0.2,
             "#de77ae"
            ],
            [
             0.3,
             "#f1b6da"
            ],
            [
             0.4,
             "#fde0ef"
            ],
            [
             0.5,
             "#f7f7f7"
            ],
            [
             0.6,
             "#e6f5d0"
            ],
            [
             0.7,
             "#b8e186"
            ],
            [
             0.8,
             "#7fbc41"
            ],
            [
             0.9,
             "#4d9221"
            ],
            [
             1,
             "#276419"
            ]
           ],
           "sequential": [
            [
             0,
             "#0d0887"
            ],
            [
             0.1111111111111111,
             "#46039f"
            ],
            [
             0.2222222222222222,
             "#7201a8"
            ],
            [
             0.3333333333333333,
             "#9c179e"
            ],
            [
             0.4444444444444444,
             "#bd3786"
            ],
            [
             0.5555555555555556,
             "#d8576b"
            ],
            [
             0.6666666666666666,
             "#ed7953"
            ],
            [
             0.7777777777777778,
             "#fb9f3a"
            ],
            [
             0.8888888888888888,
             "#fdca26"
            ],
            [
             1,
             "#f0f921"
            ]
           ],
           "sequentialminus": [
            [
             0,
             "#0d0887"
            ],
            [
             0.1111111111111111,
             "#46039f"
            ],
            [
             0.2222222222222222,
             "#7201a8"
            ],
            [
             0.3333333333333333,
             "#9c179e"
            ],
            [
             0.4444444444444444,
             "#bd3786"
            ],
            [
             0.5555555555555556,
             "#d8576b"
            ],
            [
             0.6666666666666666,
             "#ed7953"
            ],
            [
             0.7777777777777778,
             "#fb9f3a"
            ],
            [
             0.8888888888888888,
             "#fdca26"
            ],
            [
             1,
             "#f0f921"
            ]
           ]
          },
          "colorway": [
           "#636efa",
           "#EF553B",
           "#00cc96",
           "#ab63fa",
           "#FFA15A",
           "#19d3f3",
           "#FF6692",
           "#B6E880",
           "#FF97FF",
           "#FECB52"
          ],
          "font": {
           "color": "#2a3f5f"
          },
          "geo": {
           "bgcolor": "white",
           "lakecolor": "white",
           "landcolor": "#E5ECF6",
           "showlakes": true,
           "showland": true,
           "subunitcolor": "white"
          },
          "hoverlabel": {
           "align": "left"
          },
          "hovermode": "closest",
          "mapbox": {
           "style": "light"
          },
          "paper_bgcolor": "white",
          "plot_bgcolor": "#E5ECF6",
          "polar": {
           "angularaxis": {
            "gridcolor": "white",
            "linecolor": "white",
            "ticks": ""
           },
           "bgcolor": "#E5ECF6",
           "radialaxis": {
            "gridcolor": "white",
            "linecolor": "white",
            "ticks": ""
           }
          },
          "scene": {
           "xaxis": {
            "backgroundcolor": "#E5ECF6",
            "gridcolor": "white",
            "gridwidth": 2,
            "linecolor": "white",
            "showbackground": true,
            "ticks": "",
            "zerolinecolor": "white"
           },
           "yaxis": {
            "backgroundcolor": "#E5ECF6",
            "gridcolor": "white",
            "gridwidth": 2,
            "linecolor": "white",
            "showbackground": true,
            "ticks": "",
            "zerolinecolor": "white"
           },
           "zaxis": {
            "backgroundcolor": "#E5ECF6",
            "gridcolor": "white",
            "gridwidth": 2,
            "linecolor": "white",
            "showbackground": true,
            "ticks": "",
            "zerolinecolor": "white"
           }
          },
          "shapedefaults": {
           "line": {
            "color": "#2a3f5f"
           }
          },
          "ternary": {
           "aaxis": {
            "gridcolor": "white",
            "linecolor": "white",
            "ticks": ""
           },
           "baxis": {
            "gridcolor": "white",
            "linecolor": "white",
            "ticks": ""
           },
           "bgcolor": "#E5ECF6",
           "caxis": {
            "gridcolor": "white",
            "linecolor": "white",
            "ticks": ""
           }
          },
          "title": {
           "x": 0.05
          },
          "xaxis": {
           "automargin": true,
           "gridcolor": "white",
           "linecolor": "white",
           "ticks": "",
           "title": {
            "standoff": 15
           },
           "zerolinecolor": "white",
           "zerolinewidth": 2
          },
          "yaxis": {
           "automargin": true,
           "gridcolor": "white",
           "linecolor": "white",
           "ticks": "",
           "title": {
            "standoff": 15
           },
           "zerolinecolor": "white",
           "zerolinewidth": 2
          }
         }
        }
       }
      }
     },
     "metadata": {},
     "output_type": "display_data"
    }
   ],
   "source": [
    "plot_and_compare_reduced_embeddings_3D(preprocessed_texts, poli_preprocessed_texts, \"en\", \"it\", \"Our Group\", \"PoliNetwork Group\")"
   ]
  },
  {
   "cell_type": "markdown",
   "metadata": {},
   "source": [
    "**Cosine Similarity**"
   ]
  },
  {
   "cell_type": "code",
   "execution_count": 273,
   "metadata": {},
   "outputs": [
    {
     "name": "stdout",
     "output_type": "stream",
     "text": [
      "Cosine similarity between sentences: 0.7246\n",
      "Cosine similarity between two equal sentences: 1.0000\n"
     ]
    }
   ],
   "source": [
    "\n",
    "# Define your two sentences\n",
    "sentence1 = \"This is the first sentence.\"\n",
    "sentence2 = \"This sentence is very similar to the first one.\"\n",
    "\n",
    "# Get the LASER embeddings for the sentences\n",
    "embedding1 = laser.embed_sentences(\n",
    "  sentence1,\n",
    "  lang='en')\n",
    "\n",
    "embedding2 = laser.embed_sentences(\n",
    "  sentence2,\n",
    "  lang='en')\n",
    "\n",
    "embedding3 = laser.embed_sentences(\n",
    "  sentence1,\n",
    "  lang='en')\n",
    "\n",
    "# Calculate cosine similarity\n",
    "import numpy as np\n",
    "similarity1 = np.dot(embedding1[0], embedding2[0]) / (np.linalg.norm(embedding1[0]) * np.linalg.norm(embedding2[0]))\n",
    "\n",
    "# Print the similarity score\n",
    "print(f\"Cosine similarity between sentences: {similarity1:.4f}\")\n",
    "\n",
    "# Calculate cosine similarity OF THE SAME SENTENCE\n",
    "similarity2 = np.dot(embedding1[0], embedding3[0]) / (np.linalg.norm(embedding1[0]) * np.linalg.norm(embedding3[0]))\n",
    "print(f\"Cosine similarity between two equal sentences: {similarity2:.4f}\")\n",
    "\n"
   ]
  },
  {
   "cell_type": "code",
   "execution_count": 274,
   "metadata": {},
   "outputs": [
    {
     "name": "stdout",
     "output_type": "stream",
     "text": [
      "[0 1 2 3 4]\n"
     ]
    }
   ],
   "source": [
    "range_ = np.arange(5)\n",
    "print(range_)"
   ]
  },
  {
   "cell_type": "code",
   "execution_count": 275,
   "metadata": {},
   "outputs": [
    {
     "name": "stdout",
     "output_type": "stream",
     "text": [
      "316\n"
     ]
    }
   ],
   "source": [
    "#Return the average cosine similarity between the last k embeddings\n",
    "def average_k_cosine_similarity(embeddings, k):\n",
    "    tmp_similarity = []\n",
    "    for i in np.arange(k):\n",
    "        if i != k-1:\n",
    "            tmp_similarity.append(np.dot(embeddings[k-1], embeddings[i]) / (np.linalg.norm(embeddings[k-1]) * np.linalg.norm(embeddings[i])))\n",
    "    return np.mean(tmp_similarity)\n",
    "\n",
    "print(len(embeddings))\n",
    "\n",
    "similarities = average_k_cosine_similarity(embeddings, 5)"
   ]
  },
  {
   "cell_type": "code",
   "execution_count": 276,
   "metadata": {},
   "outputs": [],
   "source": [
    "def cosine_similarities_last_k_sliding_window (embeddings2, k):\n",
    "    trial_similarities = list()\n",
    "    for i in np.arange(len(embeddings2)-k):\n",
    "        if i+2 > k:\n",
    "            window = [emb for emb in embeddings2[i:i+k]]\n",
    "            trial_similarities.append(average_k_cosine_similarity(window, k))\n",
    "            #329 print(i)\n",
    "        else:\n",
    "            window = [emb for emb in embeddings2[0:i+2]]\n",
    "            lenw = len(window)\n",
    "            lent = len(trial_similarities)\n",
    "            trial_similarities.append(average_k_cosine_similarity(window, i+2))\n",
    "    return trial_similarities"
   ]
  },
  {
   "cell_type": "code",
   "execution_count": 277,
   "metadata": {},
   "outputs": [
    {
     "name": "stdout",
     "output_type": "stream",
     "text": [
      "['hi guys', 'hi', 'hi', 'hey everyone', 'i dont know why i see just amir']\n"
     ]
    }
   ],
   "source": [
    "print(preprocessed_texts[0:5])\n",
    "prep_text = preprocessed_texts"
   ]
  },
  {
   "cell_type": "code",
   "execution_count": 278,
   "metadata": {},
   "outputs": [],
   "source": [
    "laser = Laser()\n",
    "langs = ['en' for i in range(len(preprocessed_texts))]\n",
    "embeddings2 = laser.embed_sentences(\n",
    "  prep_text,\n",
    "  lang=langs)"
   ]
  },
  {
   "cell_type": "code",
   "execution_count": 279,
   "metadata": {},
   "outputs": [
    {
     "data": {
      "text/plain": [
       "8"
      ]
     },
     "execution_count": 279,
     "metadata": {},
     "output_type": "execute_result"
    }
   ],
   "source": [
    "len(embeddings2[0:8])"
   ]
  },
  {
   "cell_type": "code",
   "execution_count": 280,
   "metadata": {},
   "outputs": [
    {
     "name": "stdout",
     "output_type": "stream",
     "text": [
      "0.7389633\n",
      "296\n",
      "304\n"
     ]
    },
    {
     "data": {
      "image/png": "[encoded data removed]",
      "text/plain": [
       "<Figure size 640x480 with 1 Axes>"
      ]
     },
     "metadata": {},
     "output_type": "display_data"
    }
   ],
   "source": [
    "k = 8\n",
    "our_group_similarities = cosine_similarities_last_k_sliding_window(embeddings2, k)\n",
    "\n",
    "print(our_group_similarities[0])\n",
    "\n",
    "print(len(our_group_similarities))\n",
    "print(len(embeddings2))\n",
    "\n",
    "# Plot the list\n",
    "plt.plot(our_group_similarities)\n",
    "plt.show()\n",
    "\n"
   ]
  },
  {
   "cell_type": "code",
   "execution_count": 282,
   "metadata": {},
   "outputs": [
    {
     "name": "stdout",
     "output_type": "stream",
     "text": [
      "['Hi guys', 'Hi', 'Hi😊', 'hey everyone!', 'I don’t know why I see just Amir']\n",
      "[225]\n",
      "[3, 4, 38, 56, 75, 105, 131, 134, 174, 175, 187, 211, 212, 225, 255, 261, 280, 286]\n",
      "50 : do i simply say until 1130\n",
      "51 : yes maybe specify that in the morning is ok i dont really know\n",
      "52 : apologies if the email was unclear well all be available on monday morning until 1130\n",
      "53 : i did not get any response from that could someone else try to setup a meeting or remind her of the appointment\n",
      "54 : lets wait and if she didnt respond by the end of monday well remind her\n",
      "55 : ok\n",
      "56 : has anyone replied yet\n",
      "57 : has someone replied to confirm\n",
      "58 : yes amir did it\n",
      "59 : ok\n"
     ]
    }
   ],
   "source": [
    "def watch_messages_in_a_range(messages, start, end, k):\n",
    "    for i in np.arange(start, end):\n",
    "        print(str(i) +\" : \" + messages[i+k])\n",
    "print(texts[0:5])\n",
    "#printing indices where the average cosine similarity of the previous k message is below 0.30\n",
    "indices = [i for i, num in enumerate(our_group_similarities) if num < 0.30]\n",
    "#minindex = min(enumerate(our_group_similarities.min()))\n",
    "minimum = [i for i, num in enumerate(our_group_similarities) if num == min(our_group_similarities)]\n",
    "print(minimum)\n",
    "print(indices)\n",
    "watch_messages_in_a_range(preprocessed_texts,50, 60, k)"
   ]
  },
  {
   "cell_type": "code",
   "execution_count": 60,
   "metadata": {},
   "outputs": [
    {
     "ename": "KeyboardInterrupt",
     "evalue": "",
     "output_type": "error",
     "traceback": [
      "\u001b[1;31m---------------------------------------------------------------------------\u001b[0m",
      "\u001b[1;31mKeyboardInterrupt\u001b[0m                         Traceback (most recent call last)",
      "Cell \u001b[1;32mIn[60], line 3\u001b[0m\n\u001b[0;32m      1\u001b[0m laser \u001b[38;5;241m=\u001b[39m Laser()\n\u001b[0;32m      2\u001b[0m langs \u001b[38;5;241m=\u001b[39m [\u001b[38;5;124m'\u001b[39m\u001b[38;5;124mit\u001b[39m\u001b[38;5;124m'\u001b[39m \u001b[38;5;28;01mfor\u001b[39;00m i \u001b[38;5;129;01min\u001b[39;00m \u001b[38;5;28mrange\u001b[39m(\u001b[38;5;28mlen\u001b[39m(poli_preprocessed_texts))]\n\u001b[1;32m----> 3\u001b[0m prep_poli_embeddings \u001b[38;5;241m=\u001b[39m \u001b[43mlaser\u001b[49m\u001b[38;5;241;43m.\u001b[39;49m\u001b[43membed_sentences\u001b[49m\u001b[43m(\u001b[49m\n\u001b[0;32m      4\u001b[0m \u001b[43m  \u001b[49m\u001b[43mpoli_preprocessed_texts\u001b[49m\u001b[43m,\u001b[49m\n\u001b[0;32m      5\u001b[0m \u001b[43m  \u001b[49m\u001b[43mlang\u001b[49m\u001b[38;5;241;43m=\u001b[39;49m\u001b[43mlangs\u001b[49m\u001b[43m)\u001b[49m\n",
      "File \u001b[1;32mc:\\Users\\asus-zen\\anaconda3\\envs\\telegramprj\\lib\\site-packages\\laserembeddings\\laser.py:122\u001b[0m, in \u001b[0;36mLaser.embed_sentences\u001b[1;34m(self, sentences, lang)\u001b[0m\n\u001b[0;32m    114\u001b[0m sentence_tokens \u001b[38;5;241m=\u001b[39m [\n\u001b[0;32m    115\u001b[0m     \u001b[38;5;28mself\u001b[39m\u001b[38;5;241m.\u001b[39m_get_tokenizer(sentence_lang)\u001b[38;5;241m.\u001b[39mtokenize(sentence)\n\u001b[0;32m    116\u001b[0m     \u001b[38;5;28;01mfor\u001b[39;00m sentence, sentence_lang \u001b[38;5;129;01min\u001b[39;00m \u001b[38;5;28mzip\u001b[39m(sentences, lang)\n\u001b[0;32m    117\u001b[0m ]\n\u001b[0;32m    118\u001b[0m bpe_encoded \u001b[38;5;241m=\u001b[39m [\n\u001b[0;32m    119\u001b[0m     \u001b[38;5;28mself\u001b[39m\u001b[38;5;241m.\u001b[39mbpe\u001b[38;5;241m.\u001b[39mencode_tokens(tokens) \u001b[38;5;28;01mfor\u001b[39;00m tokens \u001b[38;5;129;01min\u001b[39;00m sentence_tokens\n\u001b[0;32m    120\u001b[0m ]\n\u001b[1;32m--> 122\u001b[0m \u001b[38;5;28;01mreturn\u001b[39;00m \u001b[38;5;28;43mself\u001b[39;49m\u001b[38;5;241;43m.\u001b[39;49m\u001b[43mbpeSentenceEmbedding\u001b[49m\u001b[38;5;241;43m.\u001b[39;49m\u001b[43membed_bpe_sentences\u001b[49m\u001b[43m(\u001b[49m\u001b[43mbpe_encoded\u001b[49m\u001b[43m)\u001b[49m\n",
      "File \u001b[1;32mc:\\Users\\asus-zen\\anaconda3\\envs\\telegramprj\\lib\\site-packages\\laserembeddings\\embedding.py:49\u001b[0m, in \u001b[0;36mBPESentenceEmbedding.embed_bpe_sentences\u001b[1;34m(self, bpe_sentences)\u001b[0m\n\u001b[0;32m     39\u001b[0m \u001b[38;5;28;01mdef\u001b[39;00m \u001b[38;5;21membed_bpe_sentences\u001b[39m(\u001b[38;5;28mself\u001b[39m, bpe_sentences: List[\u001b[38;5;28mstr\u001b[39m]) \u001b[38;5;241m-\u001b[39m\u001b[38;5;241m>\u001b[39m np\u001b[38;5;241m.\u001b[39mndarray:\n\u001b[0;32m     40\u001b[0m \u001b[38;5;250m    \u001b[39m\u001b[38;5;124;03m\"\"\"\u001b[39;00m\n\u001b[0;32m     41\u001b[0m \u001b[38;5;124;03m    Computes the LASER embeddings of BPE-encoded sentences\u001b[39;00m\n\u001b[0;32m     42\u001b[0m \n\u001b[1;32m   (...)\u001b[0m\n\u001b[0;32m     47\u001b[0m \u001b[38;5;124;03m        np.ndarray: A N * 1024 NumPy array containing the embeddings, N being the number of sentences provided.\u001b[39;00m\n\u001b[0;32m     48\u001b[0m \u001b[38;5;124;03m    \"\"\"\u001b[39;00m\n\u001b[1;32m---> 49\u001b[0m     \u001b[38;5;28;01mreturn\u001b[39;00m \u001b[38;5;28;43mself\u001b[39;49m\u001b[38;5;241;43m.\u001b[39;49m\u001b[43mencoder\u001b[49m\u001b[38;5;241;43m.\u001b[39;49m\u001b[43mencode_sentences\u001b[49m\u001b[43m(\u001b[49m\u001b[43mbpe_sentences\u001b[49m\u001b[43m)\u001b[49m\n",
      "File \u001b[1;32mc:\\Users\\asus-zen\\anaconda3\\envs\\telegramprj\\lib\\site-packages\\laserembeddings\\encoder.py:139\u001b[0m, in \u001b[0;36mSentenceEncoder.encode_sentences\u001b[1;34m(self, sentences)\u001b[0m\n\u001b[0;32m    137\u001b[0m \u001b[38;5;28;01mfor\u001b[39;00m batch, batch_indices \u001b[38;5;129;01min\u001b[39;00m \u001b[38;5;28mself\u001b[39m\u001b[38;5;241m.\u001b[39m_make_batches(sentences):\n\u001b[0;32m    138\u001b[0m     indices\u001b[38;5;241m.\u001b[39mextend(batch_indices)\n\u001b[1;32m--> 139\u001b[0m     results\u001b[38;5;241m.\u001b[39mappend(\u001b[38;5;28;43mself\u001b[39;49m\u001b[38;5;241;43m.\u001b[39;49m\u001b[43m_process_batch\u001b[49m\u001b[43m(\u001b[49m\u001b[43mbatch\u001b[49m\u001b[43m)\u001b[49m)\n\u001b[0;32m    140\u001b[0m \u001b[38;5;28;01mreturn\u001b[39;00m np\u001b[38;5;241m.\u001b[39mvstack(results)[np\u001b[38;5;241m.\u001b[39margsort(indices, kind\u001b[38;5;241m=\u001b[39m\u001b[38;5;28mself\u001b[39m\u001b[38;5;241m.\u001b[39msort_kind)]\n",
      "File \u001b[1;32mc:\\Users\\asus-zen\\anaconda3\\envs\\telegramprj\\lib\\site-packages\\laserembeddings\\encoder.py:90\u001b[0m, in \u001b[0;36mSentenceEncoder._process_batch\u001b[1;34m(self, batch)\u001b[0m\n\u001b[0;32m     88\u001b[0m     lengths \u001b[38;5;241m=\u001b[39m lengths\u001b[38;5;241m.\u001b[39mcuda()\n\u001b[0;32m     89\u001b[0m \u001b[38;5;28mself\u001b[39m\u001b[38;5;241m.\u001b[39mencoder\u001b[38;5;241m.\u001b[39meval()\n\u001b[1;32m---> 90\u001b[0m embeddings \u001b[38;5;241m=\u001b[39m \u001b[38;5;28;43mself\u001b[39;49m\u001b[38;5;241;43m.\u001b[39;49m\u001b[43mencoder\u001b[49m\u001b[43m(\u001b[49m\u001b[43mtokens\u001b[49m\u001b[43m,\u001b[49m\u001b[43m \u001b[49m\u001b[43mlengths\u001b[49m\u001b[43m)\u001b[49m[\u001b[38;5;124m'\u001b[39m\u001b[38;5;124msentemb\u001b[39m\u001b[38;5;124m'\u001b[39m]\n\u001b[0;32m     91\u001b[0m \u001b[38;5;28;01mreturn\u001b[39;00m embeddings\u001b[38;5;241m.\u001b[39mdetach()\u001b[38;5;241m.\u001b[39mcpu()\u001b[38;5;241m.\u001b[39mnumpy()\n",
      "File \u001b[1;32mc:\\Users\\asus-zen\\anaconda3\\envs\\telegramprj\\lib\\site-packages\\torch\\nn\\modules\\module.py:1194\u001b[0m, in \u001b[0;36mModule._call_impl\u001b[1;34m(self, *input, **kwargs)\u001b[0m\n\u001b[0;32m   1190\u001b[0m \u001b[38;5;66;03m# If we don't have any hooks, we want to skip the rest of the logic in\u001b[39;00m\n\u001b[0;32m   1191\u001b[0m \u001b[38;5;66;03m# this function, and just call forward.\u001b[39;00m\n\u001b[0;32m   1192\u001b[0m \u001b[38;5;28;01mif\u001b[39;00m \u001b[38;5;129;01mnot\u001b[39;00m (\u001b[38;5;28mself\u001b[39m\u001b[38;5;241m.\u001b[39m_backward_hooks \u001b[38;5;129;01mor\u001b[39;00m \u001b[38;5;28mself\u001b[39m\u001b[38;5;241m.\u001b[39m_forward_hooks \u001b[38;5;129;01mor\u001b[39;00m \u001b[38;5;28mself\u001b[39m\u001b[38;5;241m.\u001b[39m_forward_pre_hooks \u001b[38;5;129;01mor\u001b[39;00m _global_backward_hooks\n\u001b[0;32m   1193\u001b[0m         \u001b[38;5;129;01mor\u001b[39;00m _global_forward_hooks \u001b[38;5;129;01mor\u001b[39;00m _global_forward_pre_hooks):\n\u001b[1;32m-> 1194\u001b[0m     \u001b[38;5;28;01mreturn\u001b[39;00m \u001b[43mforward_call\u001b[49m\u001b[43m(\u001b[49m\u001b[38;5;241;43m*\u001b[39;49m\u001b[38;5;28;43minput\u001b[39;49m\u001b[43m,\u001b[49m\u001b[43m \u001b[49m\u001b[38;5;241;43m*\u001b[39;49m\u001b[38;5;241;43m*\u001b[39;49m\u001b[43mkwargs\u001b[49m\u001b[43m)\u001b[49m\n\u001b[0;32m   1195\u001b[0m \u001b[38;5;66;03m# Do not call functions when jit is used\u001b[39;00m\n\u001b[0;32m   1196\u001b[0m full_backward_hooks, non_full_backward_hooks \u001b[38;5;241m=\u001b[39m [], []\n",
      "File \u001b[1;32mc:\\Users\\asus-zen\\anaconda3\\envs\\telegramprj\\lib\\site-packages\\laserembeddings\\encoder.py:205\u001b[0m, in \u001b[0;36mEncoder.forward\u001b[1;34m(self, src_tokens, src_lengths)\u001b[0m\n\u001b[0;32m    202\u001b[0m h0 \u001b[38;5;241m=\u001b[39m x\u001b[38;5;241m.\u001b[39mdata\u001b[38;5;241m.\u001b[39mnew(\u001b[38;5;241m*\u001b[39mstate_size)\u001b[38;5;241m.\u001b[39mzero_()\n\u001b[0;32m    203\u001b[0m c0 \u001b[38;5;241m=\u001b[39m x\u001b[38;5;241m.\u001b[39mdata\u001b[38;5;241m.\u001b[39mnew(\u001b[38;5;241m*\u001b[39mstate_size)\u001b[38;5;241m.\u001b[39mzero_()\n\u001b[0;32m    204\u001b[0m packed_outs, (final_hiddens,\n\u001b[1;32m--> 205\u001b[0m               final_cells) \u001b[38;5;241m=\u001b[39m \u001b[38;5;28;43mself\u001b[39;49m\u001b[38;5;241;43m.\u001b[39;49m\u001b[43mlstm\u001b[49m\u001b[43m(\u001b[49m\u001b[43mpacked_x\u001b[49m\u001b[43m,\u001b[49m\u001b[43m \u001b[49m\u001b[43m(\u001b[49m\u001b[43mh0\u001b[49m\u001b[43m,\u001b[49m\u001b[43m \u001b[49m\u001b[43mc0\u001b[49m\u001b[43m)\u001b[49m\u001b[43m)\u001b[49m\n\u001b[0;32m    207\u001b[0m \u001b[38;5;66;03m# unpack outputs and apply dropout\u001b[39;00m\n\u001b[0;32m    208\u001b[0m x, _ \u001b[38;5;241m=\u001b[39m nn\u001b[38;5;241m.\u001b[39mutils\u001b[38;5;241m.\u001b[39mrnn\u001b[38;5;241m.\u001b[39mpad_packed_sequence(\n\u001b[0;32m    209\u001b[0m     packed_outs, padding_value\u001b[38;5;241m=\u001b[39m\u001b[38;5;28mself\u001b[39m\u001b[38;5;241m.\u001b[39mpadding_value)\n",
      "File \u001b[1;32mc:\\Users\\asus-zen\\anaconda3\\envs\\telegramprj\\lib\\site-packages\\torch\\nn\\modules\\module.py:1194\u001b[0m, in \u001b[0;36mModule._call_impl\u001b[1;34m(self, *input, **kwargs)\u001b[0m\n\u001b[0;32m   1190\u001b[0m \u001b[38;5;66;03m# If we don't have any hooks, we want to skip the rest of the logic in\u001b[39;00m\n\u001b[0;32m   1191\u001b[0m \u001b[38;5;66;03m# this function, and just call forward.\u001b[39;00m\n\u001b[0;32m   1192\u001b[0m \u001b[38;5;28;01mif\u001b[39;00m \u001b[38;5;129;01mnot\u001b[39;00m (\u001b[38;5;28mself\u001b[39m\u001b[38;5;241m.\u001b[39m_backward_hooks \u001b[38;5;129;01mor\u001b[39;00m \u001b[38;5;28mself\u001b[39m\u001b[38;5;241m.\u001b[39m_forward_hooks \u001b[38;5;129;01mor\u001b[39;00m \u001b[38;5;28mself\u001b[39m\u001b[38;5;241m.\u001b[39m_forward_pre_hooks \u001b[38;5;129;01mor\u001b[39;00m _global_backward_hooks\n\u001b[0;32m   1193\u001b[0m         \u001b[38;5;129;01mor\u001b[39;00m _global_forward_hooks \u001b[38;5;129;01mor\u001b[39;00m _global_forward_pre_hooks):\n\u001b[1;32m-> 1194\u001b[0m     \u001b[38;5;28;01mreturn\u001b[39;00m \u001b[43mforward_call\u001b[49m\u001b[43m(\u001b[49m\u001b[38;5;241;43m*\u001b[39;49m\u001b[38;5;28;43minput\u001b[39;49m\u001b[43m,\u001b[49m\u001b[43m \u001b[49m\u001b[38;5;241;43m*\u001b[39;49m\u001b[38;5;241;43m*\u001b[39;49m\u001b[43mkwargs\u001b[49m\u001b[43m)\u001b[49m\n\u001b[0;32m   1195\u001b[0m \u001b[38;5;66;03m# Do not call functions when jit is used\u001b[39;00m\n\u001b[0;32m   1196\u001b[0m full_backward_hooks, non_full_backward_hooks \u001b[38;5;241m=\u001b[39m [], []\n",
      "File \u001b[1;32mc:\\Users\\asus-zen\\anaconda3\\envs\\telegramprj\\lib\\site-packages\\torch\\nn\\modules\\rnn.py:777\u001b[0m, in \u001b[0;36mLSTM.forward\u001b[1;34m(self, input, hx)\u001b[0m\n\u001b[0;32m    774\u001b[0m     result \u001b[38;5;241m=\u001b[39m _VF\u001b[38;5;241m.\u001b[39mlstm(\u001b[38;5;28minput\u001b[39m, hx, \u001b[38;5;28mself\u001b[39m\u001b[38;5;241m.\u001b[39m_flat_weights, \u001b[38;5;28mself\u001b[39m\u001b[38;5;241m.\u001b[39mbias, \u001b[38;5;28mself\u001b[39m\u001b[38;5;241m.\u001b[39mnum_layers,\n\u001b[0;32m    775\u001b[0m                       \u001b[38;5;28mself\u001b[39m\u001b[38;5;241m.\u001b[39mdropout, \u001b[38;5;28mself\u001b[39m\u001b[38;5;241m.\u001b[39mtraining, \u001b[38;5;28mself\u001b[39m\u001b[38;5;241m.\u001b[39mbidirectional, \u001b[38;5;28mself\u001b[39m\u001b[38;5;241m.\u001b[39mbatch_first)\n\u001b[0;32m    776\u001b[0m \u001b[38;5;28;01melse\u001b[39;00m:\n\u001b[1;32m--> 777\u001b[0m     result \u001b[38;5;241m=\u001b[39m \u001b[43m_VF\u001b[49m\u001b[38;5;241;43m.\u001b[39;49m\u001b[43mlstm\u001b[49m\u001b[43m(\u001b[49m\u001b[38;5;28;43minput\u001b[39;49m\u001b[43m,\u001b[49m\u001b[43m \u001b[49m\u001b[43mbatch_sizes\u001b[49m\u001b[43m,\u001b[49m\u001b[43m \u001b[49m\u001b[43mhx\u001b[49m\u001b[43m,\u001b[49m\u001b[43m \u001b[49m\u001b[38;5;28;43mself\u001b[39;49m\u001b[38;5;241;43m.\u001b[39;49m\u001b[43m_flat_weights\u001b[49m\u001b[43m,\u001b[49m\u001b[43m \u001b[49m\u001b[38;5;28;43mself\u001b[39;49m\u001b[38;5;241;43m.\u001b[39;49m\u001b[43mbias\u001b[49m\u001b[43m,\u001b[49m\n\u001b[0;32m    778\u001b[0m \u001b[43m                      \u001b[49m\u001b[38;5;28;43mself\u001b[39;49m\u001b[38;5;241;43m.\u001b[39;49m\u001b[43mnum_layers\u001b[49m\u001b[43m,\u001b[49m\u001b[43m \u001b[49m\u001b[38;5;28;43mself\u001b[39;49m\u001b[38;5;241;43m.\u001b[39;49m\u001b[43mdropout\u001b[49m\u001b[43m,\u001b[49m\u001b[43m \u001b[49m\u001b[38;5;28;43mself\u001b[39;49m\u001b[38;5;241;43m.\u001b[39;49m\u001b[43mtraining\u001b[49m\u001b[43m,\u001b[49m\u001b[43m \u001b[49m\u001b[38;5;28;43mself\u001b[39;49m\u001b[38;5;241;43m.\u001b[39;49m\u001b[43mbidirectional\u001b[49m\u001b[43m)\u001b[49m\n\u001b[0;32m    779\u001b[0m output \u001b[38;5;241m=\u001b[39m result[\u001b[38;5;241m0\u001b[39m]\n\u001b[0;32m    780\u001b[0m hidden \u001b[38;5;241m=\u001b[39m result[\u001b[38;5;241m1\u001b[39m:]\n",
      "\u001b[1;31mKeyboardInterrupt\u001b[0m: "
     ]
    }
   ],
   "source": [
    "laser = Laser()\n",
    "langs = ['it' for i in range(len(poli_preprocessed_texts))]\n",
    "prep_poli_embeddings = laser.embed_sentences(\n",
    "  poli_preprocessed_texts,\n",
    "  lang=langs)"
   ]
  },
  {
   "cell_type": "code",
   "execution_count": null,
   "metadata": {},
   "outputs": [
    {
     "data": {
      "image/png": "[encoded data removed]",
      "text/plain": [
       "<Figure size 640x480 with 1 Axes>"
      ]
     },
     "metadata": {},
     "output_type": "display_data"
    }
   ],
   "source": [
    "poli_similarities = cosine_similarities_last_k_sliding_window(prep_poli_embeddings, 6)\n",
    "#printing indices where the average similarity of the last k message is below 0.30\n",
    "# Plot the list\n",
    "plt.plot(poli_similarities)\n",
    "plt.show()"
   ]
  },
  {
   "cell_type": "code",
   "execution_count": null,
   "metadata": {},
   "outputs": [
    {
     "name": "stdout",
     "output_type": "stream",
     "text": [
      "[27, 61, 68, 98, 110, 119, 147, 157, 159, 179, 218, 228, 235, 241, 251, 267, 276, 295, 310, 314, 315, 440, 456, 464, 466, 477, 483, 486, 509, 511, 544, 560, 569, 583, 600, 630, 633, 646, 648, 719, 735, 739, 755, 769, 775, 795, 809, 812, 819, 826, 841, 843, 850, 854, 860, 901, 920, 935, 936, 943, 957, 963, 981, 1003, 1021, 1035, 1042, 1060, 1071, 1098, 1108, 1109, 1111, 1122, 1125, 1209, 1243, 1276, 1317, 1319, 1327, 1336, 1350, 1359, 1386, 1398, 1407, 1444, 1460, 1469, 1477, 1483, 1548, 1572, 1579, 1589, 1592, 1607, 1625, 1626, 1652, 1665, 1685, 1702, 1712, 1715, 1726, 1738, 1758, 1765, 1781, 1795, 1822, 1824, 1833, 1868, 1881, 1907, 1933, 1948, 1949, 1960, 1961, 1973, 1975, 1987, 1992, 1994, 2004, 2007, 2022, 2025, 2027, 2054, 2117, 2120, 2138, 2159, 2185, 2197, 2199, 2209, 2219, 2236, 2238, 2247, 2249, 2278, 2296, 2297, 2303, 2308, 2309, 2334, 2351, 2354, 2356, 2357, 2375, 2383, 2396, 2434, 2448, 2462, 2477, 2497, 2536, 2542, 2553, 2585, 2623, 2651, 2657, 2713, 2729, 2736, 2755, 2780, 2842, 2854, 2887, 2895, 2904, 2917, 2965, 2972, 2973, 2977, 2979, 2996, 3025, 3040, 3079, 3084, 3100, 3102, 3135, 3143, 3231, 3263, 3309, 3311, 3314, 3328, 3344, 3350, 3362, 3380, 3386, 3395, 3421, 3501, 3502, 3511, 3517, 3548, 3549, 3572, 3575, 3590, 3592, 3613, 3631, 3635, 3653, 3671, 3686, 3710, 3711, 3752, 3753, 3770, 3791, 3800, 3813, 3827, 3844, 3866, 3910, 3914, 3980, 4001, 4003, 4042, 4081, 4084, 4085, 4093, 4101, 4130, 4151, 4170, 4219, 4224, 4235, 4252, 4265, 4273, 4284, 4337, 4352, 4367, 4374, 4405, 4426, 4432, 4453, 4454, 4471, 4491, 4524, 4574, 4585, 4609, 4637, 4654, 4680, 4685, 4700, 4706, 4714, 4720, 4730, 4757, 4777, 4784, 4832, 4847, 4853, 4859, 4877, 4903, 4939, 4943, 4947, 4952, 4961, 4968, 5012, 5041, 5058, 5073, 5079, 5082, 5086, 5102, 5139, 5151, 5181, 5191, 5221, 5232, 5237, 5248, 5252, 5254, 5257, 5261, 5269, 5295, 5301, 5341, 5360, 5367, 5408, 5418, 5467, 5480, 5618, 5626, 5632, 5657, 5665, 5685, 5686, 5688, 5697, 5705, 5717, 5750, 5759, 5793, 5798, 5831, 5858, 5880, 5895, 5897, 5925, 5926, 5930, 5942, 5972, 5995, 6010, 6012, 6014, 6023, 6092, 6111, 6123, 6159, 6161, 6163, 6174, 6191, 6192, 6194, 6201, 6291, 6318, 6328, 6355, 6361, 6367, 6381, 6409, 6454, 6487, 6506, 6515, 6526, 6553, 6564, 6591, 6600, 6623, 6667, 6705, 6733, 6787, 6812, 6818, 6827, 6865, 6873, 6876, 6880, 6894, 6925]\n"
     ]
    },
    {
     "ename": "TypeError",
     "evalue": "watch_messages_in_a_range() missing 1 required positional argument: 'k'",
     "output_type": "error",
     "traceback": [
      "\u001b[1;31m---------------------------------------------------------------------------\u001b[0m",
      "\u001b[1;31mTypeError\u001b[0m                                 Traceback (most recent call last)",
      "Cell \u001b[1;32mIn[31], line 3\u001b[0m\n\u001b[0;32m      1\u001b[0m indices \u001b[38;5;241m=\u001b[39m [i \u001b[38;5;28;01mfor\u001b[39;00m i, num \u001b[38;5;129;01min\u001b[39;00m \u001b[38;5;28menumerate\u001b[39m(poli_similarities) \u001b[38;5;28;01mif\u001b[39;00m num \u001b[38;5;241m<\u001b[39m \u001b[38;5;241m0.30\u001b[39m]\n\u001b[0;32m      2\u001b[0m \u001b[38;5;28mprint\u001b[39m(indices)\n\u001b[1;32m----> 3\u001b[0m \u001b[43mwatch_messages_in_a_range\u001b[49m\u001b[43m(\u001b[49m\u001b[43mpoli_texts_strings\u001b[49m\u001b[43m,\u001b[49m\u001b[43m \u001b[49m\u001b[38;5;241;43m20\u001b[39;49m\u001b[43m,\u001b[49m\u001b[38;5;241;43m35\u001b[39;49m\u001b[43m)\u001b[49m\n",
      "\u001b[1;31mTypeError\u001b[0m: watch_messages_in_a_range() missing 1 required positional argument: 'k'"
     ]
    }
   ],
   "source": [
    "indices = [i for i, num in enumerate(poli_similarities) if num < 0.30]\n",
    "print(indices)\n",
    "watch_messages_in_a_range(poli_texts_strings, 20,35)"
   ]
  }
 ],
 "metadata": {
  "kernelspec": {
   "display_name": "telegramprj",
   "language": "python",
   "name": "python3"
  },
  "language_info": {
   "codemirror_mode": {
    "name": "ipython",
    "version": 3
   },
   "file_extension": ".py",
   "mimetype": "text/x-python",
   "name": "python",
   "nbconvert_exporter": "python",
   "pygments_lexer": "ipython3",
   "version": "3.8.19"
  }
 },
 "nbformat": 4,
 "nbformat_minor": 2
}
