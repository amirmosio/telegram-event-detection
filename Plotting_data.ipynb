{
 "cells": [
  {
   "cell_type": "markdown",
   "metadata": {},
   "source": [
    "**Lorenzo's Notebook**"
   ]
  },
  {
   "cell_type": "markdown",
   "metadata": {},
   "source": [
    "Importing useful packages and modules"
   ]
  },
  {
   "cell_type": "code",
   "execution_count": 46,
   "metadata": {},
   "outputs": [],
   "source": [
    "from data_collector_client import AnomalyDetectionClient\n",
    "from telethon.tl.types import MessageReactions\n",
    "import asyncio\n",
    "from decouple import config\n",
    "import pandas as pd\n",
    "import numpy as np\n",
    "from sklearn.decomposition import PCA\n",
    "import matplotlib.pyplot as plt"
   ]
  },
  {
   "cell_type": "code",
   "execution_count": 6,
   "metadata": {},
   "outputs": [],
   "source": [
    "import re\n",
    "def reactions_splitting(message):\n",
    "    pattern = r\"emoticon=['\\\"](.*?)['\\\"].*?count=(\\d+)\"\n",
    "    matches = re.findall(pattern, message)\n",
    "    if matches:\n",
    "        return matches\n",
    "    else:\n",
    "        return None"
   ]
  },
  {
   "cell_type": "code",
   "execution_count": 7,
   "metadata": {},
   "outputs": [],
   "source": [
    "\n",
    "# Function to count the number of reactions in a message using the splitted reactions\n",
    "def count_reactions(splitted_reaction):\n",
    "    if(splitted_reaction == None):\n",
    "        return 0\n",
    "    else:\n",
    "        tmp = []\n",
    "        for i in range(len(splitted_reaction)):\n",
    "            tmp.append(int(splitted_reaction[:][i][1]))\n",
    "        return sum(tmp)"
   ]
  },
  {
   "cell_type": "code",
   "execution_count": 31,
   "metadata": {},
   "outputs": [
    {
     "name": "stdout",
     "output_type": "stream",
     "text": [
      "['ciao', 'come va', 'oggi bella giornata']\n"
     ]
    },
    {
     "name": "stderr",
     "output_type": "stream",
     "text": [
      "[nltk_data] Downloading package stopwords to C:\\Users\\asus-\n",
      "[nltk_data]     zen\\AppData\\Roaming\\nltk_data...\n",
      "[nltk_data]   Package stopwords is already up-to-date!\n"
     ]
    }
   ],
   "source": [
    "import nltk\n",
    "nltk.download('stopwords')\n",
    "from nltk.corpus import stopwords\n",
    "\n",
    "#Function to preprocess a message removing stopwords of the specified language and special characters\n",
    "def preprocess_message(message, language):\n",
    "  # Removing special characters and \\n\n",
    "  message = re.sub(r\"[^\\w\\s]\", \"\", message)\n",
    "  message = re.sub(r\"\\n\", \"\", message)\n",
    "\n",
    "\n",
    "  # Removing Stopwords\n",
    "  stop_words = set(stopwords.words(language))\n",
    "  message = \" \".join([word for word in message.split() if word not in stop_words])\n",
    "\n",
    "  # Convert to lowercase\n",
    "  message = message.lower()\n",
    "\n",
    "  # Removing empty words\n",
    "  message = \" \".join(message.split())\n",
    "\n",
    "  return message\n",
    "\n",
    "# example\n",
    "messaggi = [\"Ciao a tutti!\", \"Come va?\", \"Oggi è una bella giornata\\n.\"]\n",
    "preprocessed_messages = [preprocess_message(message,\"italian\") for message in messaggi]\n",
    "print(preprocessed_messages)\n"
   ]
  },
  {
   "cell_type": "code",
   "execution_count": 9,
   "metadata": {},
   "outputs": [],
   "source": [
    "df = pd.read_csv('trial.csv')\n",
    "\n",
    "df['reactions'].fillna('', inplace=True)\n",
    "df['reactions'] = df['reactions'].apply(lambda x: count_reactions(reactions_splitting(x)))"
   ]
  },
  {
   "cell_type": "code",
   "execution_count": 10,
   "metadata": {},
   "outputs": [
    {
     "data": {
      "text/html": [
       "<div>\n",
       "<style scoped>\n",
       "    .dataframe tbody tr th:only-of-type {\n",
       "        vertical-align: middle;\n",
       "    }\n",
       "\n",
       "    .dataframe tbody tr th {\n",
       "        vertical-align: top;\n",
       "    }\n",
       "\n",
       "    .dataframe thead th {\n",
       "        text-align: right;\n",
       "    }\n",
       "</style>\n",
       "<table border=\"1\" class=\"dataframe\">\n",
       "  <thead>\n",
       "    <tr style=\"text-align: right;\">\n",
       "      <th></th>\n",
       "      <th>Unnamed: 0</th>\n",
       "      <th>group</th>\n",
       "      <th>sender</th>\n",
       "      <th>msg_id</th>\n",
       "      <th>reply</th>\n",
       "      <th>text</th>\n",
       "      <th>date</th>\n",
       "      <th>reactions</th>\n",
       "    </tr>\n",
       "  </thead>\n",
       "  <tbody>\n",
       "    <tr>\n",
       "      <th>19</th>\n",
       "      <td>1</td>\n",
       "      <td>https://t.me/+synza2388S80NWM0</td>\n",
       "      <td>5328388801</td>\n",
       "      <td>289</td>\n",
       "      <td>NaN</td>\n",
       "      <td>If you found anything interesting send it here</td>\n",
       "      <td>2024-03-29 13:46:55+00:00</td>\n",
       "      <td>1</td>\n",
       "    </tr>\n",
       "    <tr>\n",
       "      <th>26</th>\n",
       "      <td>1</td>\n",
       "      <td>https://t.me/+synza2388S80NWM0</td>\n",
       "      <td>480675472</td>\n",
       "      <td>282</td>\n",
       "      <td>NaN</td>\n",
       "      <td>Anyway for What concern the meeting I have no ...</td>\n",
       "      <td>2024-03-29 13:18:17+00:00</td>\n",
       "      <td>1</td>\n",
       "    </tr>\n",
       "    <tr>\n",
       "      <th>30</th>\n",
       "      <td>1</td>\n",
       "      <td>https://t.me/+synza2388S80NWM0</td>\n",
       "      <td>5328388801</td>\n",
       "      <td>278</td>\n",
       "      <td>274.0</td>\n",
       "      <td>I can do it from 15h00 if you want to have a m...</td>\n",
       "      <td>2024-03-29 12:03:11+00:00</td>\n",
       "      <td>1</td>\n",
       "    </tr>\n",
       "    <tr>\n",
       "      <th>31</th>\n",
       "      <td>1</td>\n",
       "      <td>https://t.me/+synza2388S80NWM0</td>\n",
       "      <td>984447467</td>\n",
       "      <td>277</td>\n",
       "      <td>NaN</td>\n",
       "      <td>Also yesterday I made a small script to automa...</td>\n",
       "      <td>2024-03-29 12:01:18+00:00</td>\n",
       "      <td>1</td>\n",
       "    </tr>\n",
       "    <tr>\n",
       "      <th>37</th>\n",
       "      <td>1</td>\n",
       "      <td>https://t.me/+synza2388S80NWM0</td>\n",
       "      <td>480675472</td>\n",
       "      <td>271</td>\n",
       "      <td>NaN</td>\n",
       "      <td>Yesterday I added also the message_id and repl...</td>\n",
       "      <td>2024-03-29 11:44:40+00:00</td>\n",
       "      <td>1</td>\n",
       "    </tr>\n",
       "    <tr>\n",
       "      <th>40</th>\n",
       "      <td>1</td>\n",
       "      <td>https://t.me/+synza2388S80NWM0</td>\n",
       "      <td>480675472</td>\n",
       "      <td>268</td>\n",
       "      <td>NaN</td>\n",
       "      <td>You could normalize it and use it as feature f...</td>\n",
       "      <td>2024-03-29 11:41:16+00:00</td>\n",
       "      <td>1</td>\n",
       "    </tr>\n",
       "    <tr>\n",
       "      <th>43</th>\n",
       "      <td>1</td>\n",
       "      <td>https://t.me/+synza2388S80NWM0</td>\n",
       "      <td>5328388801</td>\n",
       "      <td>265</td>\n",
       "      <td>NaN</td>\n",
       "      <td>Sorry i got caught up in the middle of somethi...</td>\n",
       "      <td>2024-03-28 18:46:07+00:00</td>\n",
       "      <td>2</td>\n",
       "    </tr>\n",
       "    <tr>\n",
       "      <th>45</th>\n",
       "      <td>1</td>\n",
       "      <td>https://t.me/+synza2388S80NWM0</td>\n",
       "      <td>5328388801</td>\n",
       "      <td>263</td>\n",
       "      <td>NaN</td>\n",
       "      <td>This is what i thought \\n\\nI didn't wanted to ...</td>\n",
       "      <td>2024-03-28 16:30:26+00:00</td>\n",
       "      <td>3</td>\n",
       "    </tr>\n",
       "    <tr>\n",
       "      <th>46</th>\n",
       "      <td>1</td>\n",
       "      <td>https://t.me/+synza2388S80NWM0</td>\n",
       "      <td>382281069</td>\n",
       "      <td>262</td>\n",
       "      <td>261.0</td>\n",
       "      <td>Excellent\\nDon't forget to put us in cc</td>\n",
       "      <td>2024-03-28 16:28:19+00:00</td>\n",
       "      <td>1</td>\n",
       "    </tr>\n",
       "    <tr>\n",
       "      <th>47</th>\n",
       "      <td>1</td>\n",
       "      <td>https://t.me/+synza2388S80NWM0</td>\n",
       "      <td>5328388801</td>\n",
       "      <td>261</td>\n",
       "      <td>NaN</td>\n",
       "      <td>Hello Prof. Pernici,\\n\\nWe wanted to update yo...</td>\n",
       "      <td>2024-03-28 16:27:10+00:00</td>\n",
       "      <td>2</td>\n",
       "    </tr>\n",
       "    <tr>\n",
       "      <th>49</th>\n",
       "      <td>1</td>\n",
       "      <td>https://t.me/+synza2388S80NWM0</td>\n",
       "      <td>5328388801</td>\n",
       "      <td>259</td>\n",
       "      <td>NaN</td>\n",
       "      <td>I'll be in the meeting in 5mins</td>\n",
       "      <td>2024-03-28 15:52:22+00:00</td>\n",
       "      <td>1</td>\n",
       "    </tr>\n",
       "  </tbody>\n",
       "</table>\n",
       "</div>"
      ],
      "text/plain": [
       "    Unnamed: 0                           group      sender  msg_id  reply  \\\n",
       "19           1  https://t.me/+synza2388S80NWM0  5328388801     289    NaN   \n",
       "26           1  https://t.me/+synza2388S80NWM0   480675472     282    NaN   \n",
       "30           1  https://t.me/+synza2388S80NWM0  5328388801     278  274.0   \n",
       "31           1  https://t.me/+synza2388S80NWM0   984447467     277    NaN   \n",
       "37           1  https://t.me/+synza2388S80NWM0   480675472     271    NaN   \n",
       "40           1  https://t.me/+synza2388S80NWM0   480675472     268    NaN   \n",
       "43           1  https://t.me/+synza2388S80NWM0  5328388801     265    NaN   \n",
       "45           1  https://t.me/+synza2388S80NWM0  5328388801     263    NaN   \n",
       "46           1  https://t.me/+synza2388S80NWM0   382281069     262  261.0   \n",
       "47           1  https://t.me/+synza2388S80NWM0  5328388801     261    NaN   \n",
       "49           1  https://t.me/+synza2388S80NWM0  5328388801     259    NaN   \n",
       "\n",
       "                                                 text  \\\n",
       "19     If you found anything interesting send it here   \n",
       "26  Anyway for What concern the meeting I have no ...   \n",
       "30  I can do it from 15h00 if you want to have a m...   \n",
       "31  Also yesterday I made a small script to automa...   \n",
       "37  Yesterday I added also the message_id and repl...   \n",
       "40  You could normalize it and use it as feature f...   \n",
       "43  Sorry i got caught up in the middle of somethi...   \n",
       "45  This is what i thought \\n\\nI didn't wanted to ...   \n",
       "46            Excellent\\nDon't forget to put us in cc   \n",
       "47  Hello Prof. Pernici,\\n\\nWe wanted to update yo...   \n",
       "49                    I'll be in the meeting in 5mins   \n",
       "\n",
       "                         date  reactions  \n",
       "19  2024-03-29 13:46:55+00:00          1  \n",
       "26  2024-03-29 13:18:17+00:00          1  \n",
       "30  2024-03-29 12:03:11+00:00          1  \n",
       "31  2024-03-29 12:01:18+00:00          1  \n",
       "37  2024-03-29 11:44:40+00:00          1  \n",
       "40  2024-03-29 11:41:16+00:00          1  \n",
       "43  2024-03-28 18:46:07+00:00          2  \n",
       "45  2024-03-28 16:30:26+00:00          3  \n",
       "46  2024-03-28 16:28:19+00:00          1  \n",
       "47  2024-03-28 16:27:10+00:00          2  \n",
       "49  2024-03-28 15:52:22+00:00          1  "
      ]
     },
     "execution_count": 10,
     "metadata": {},
     "output_type": "execute_result"
    }
   ],
   "source": [
    "df.loc[df['reactions'] > 0]"
   ]
  },
  {
   "cell_type": "markdown",
   "metadata": {},
   "source": [
    "**Laser Embedding**"
   ]
  },
  {
   "cell_type": "code",
   "execution_count": 11,
   "metadata": {},
   "outputs": [
    {
     "name": "stdout",
     "output_type": "stream",
     "text": [
      "-----NORMAL TEXTS-----\n",
      "0    I think that we’ll use chatgpt in the future, ...\n",
      "1    not sure either. Maybe trying to read some pap...\n",
      "2    Yes it's probably better this way. It might be...\n",
      "3    Also I'm not sure about what I should be worki...\n",
      "4    yeah, probably\\nbut maybe transformers are com...\n",
      "Name: text, dtype: object\n",
      "\n",
      "-----PREPROCESSED TEXTS-----\n",
      "['i think well use chatgpt future maybe create python script useful functions use easily future works', 'sure either maybe trying read paper compare others work i donno', 'yes probably better way it might useful since messages short even stopwords importat', 'also im sure i working specif task mind let know ill', 'yeah probablybut maybe transformers complex enough ignore words i mean trained huge amount data we postpone later implement model performance high enough']\n",
      "55\n",
      "55\n"
     ]
    }
   ],
   "source": [
    "texts = df['text']\n",
    "preprocessed_texts = [preprocess_message(text, \"english\") for text in texts]\n",
    "print(\"-----NORMAL TEXTS-----\")\n",
    "print(texts[0:5])\n",
    "print(\"\\n-----PREPROCESSED TEXTS-----\")\n",
    "print(preprocessed_texts[0:5])\n",
    "\n",
    "print(len(preprocessed_texts))\n",
    "print(len(texts))\n"
   ]
  },
  {
   "cell_type": "code",
   "execution_count": 12,
   "metadata": {},
   "outputs": [
    {
     "data": {
      "text/plain": [
       "(55, 1024)"
      ]
     },
     "execution_count": 12,
     "metadata": {},
     "output_type": "execute_result"
    }
   ],
   "source": [
    "langs = [\"en\" for i in range(len(texts))]\n",
    "\n",
    "from laserembeddings import Laser\n",
    "\n",
    "laser = Laser()\n",
    "\n",
    "# if all sentences are in the same language:\n",
    "\n",
    "embeddings = laser.embed_sentences(\n",
    "    texts,\n",
    "    lang=langs)\n",
    "\n",
    "embeddings.shape"
   ]
  },
  {
   "cell_type": "code",
   "execution_count": 17,
   "metadata": {},
   "outputs": [],
   "source": [
    "def plot_reduced_embeddings_2D(texts, lang):\n",
    "    langs = [lang for i in range(len(texts))]\n",
    "\n",
    "    from laserembeddings import Laser\n",
    "\n",
    "    laser = Laser()\n",
    "\n",
    "    # if all sentences are in the same language:\n",
    "\n",
    "    embeddings = laser.embed_sentences(\n",
    "    texts,\n",
    "    lang=langs)\n",
    "\n",
    "    pca = PCA(n_components=2)\n",
    "    reduced_embeddings = pca.fit_transform(embeddings)\n",
    "    # Plottare i punti\n",
    "    plt.scatter(reduced_embeddings[:, 0], reduced_embeddings[:, 1])\n",
    "\n",
    "    for i, point in enumerate(reduced_embeddings):\n",
    "        # Annotate each point with the message number\n",
    "        plt.annotate(str(i + 1), point, ha='center', va='center')\n",
    "\n",
    "    plt.show()"
   ]
  },
  {
   "cell_type": "code",
   "execution_count": 18,
   "metadata": {},
   "outputs": [
    {
     "data": {
      "image/png": "[encoded data removed]",
      "text/plain": [
       "<Figure size 640x480 with 1 Axes>"
      ]
     },
     "metadata": {},
     "output_type": "display_data"
    }
   ],
   "source": [
    "plot_reduced_embeddings_2D(texts, \"en\")"
   ]
  },
  {
   "cell_type": "code",
   "execution_count": 19,
   "metadata": {},
   "outputs": [
    {
     "name": "stdout",
     "output_type": "stream",
     "text": [
      "30 : I can do it from 15h00 if you want to have a meeting\n",
      "52 : Ok\n",
      "51 : https://meet.google.com/akm-dase-qca\n"
     ]
    }
   ],
   "source": [
    "print(\"30 : \" + texts[30])\n",
    "print(\"52 : \" + texts[52])\n",
    "print(\"51 : \" + texts[51])"
   ]
  },
  {
   "cell_type": "markdown",
   "metadata": {},
   "source": [
    "Now we use the dataset 'poli_msgs.csv' where there are information about the messages of the polinetwork group \n",
    "\n",
    "We'll plot the data as we have done before to see if there is any change in the distribution of the messages of two different groups"
   ]
  },
  {
   "cell_type": "code",
   "execution_count": 20,
   "metadata": {},
   "outputs": [
    {
     "data": {
      "text/html": [
       "<div>\n",
       "<style scoped>\n",
       "    .dataframe tbody tr th:only-of-type {\n",
       "        vertical-align: middle;\n",
       "    }\n",
       "\n",
       "    .dataframe tbody tr th {\n",
       "        vertical-align: top;\n",
       "    }\n",
       "\n",
       "    .dataframe thead th {\n",
       "        text-align: right;\n",
       "    }\n",
       "</style>\n",
       "<table border=\"1\" class=\"dataframe\">\n",
       "  <thead>\n",
       "    <tr style=\"text-align: right;\">\n",
       "      <th></th>\n",
       "      <th>Unnamed: 0</th>\n",
       "      <th>group</th>\n",
       "      <th>sender</th>\n",
       "      <th>msg_id</th>\n",
       "      <th>reply</th>\n",
       "      <th>text</th>\n",
       "      <th>date</th>\n",
       "      <th>reactions</th>\n",
       "    </tr>\n",
       "  </thead>\n",
       "  <tbody>\n",
       "    <tr>\n",
       "      <th>0</th>\n",
       "      <td>1</td>\n",
       "      <td>https://t.me/PoliGruppo</td>\n",
       "      <td>768169879</td>\n",
       "      <td>205531</td>\n",
       "      <td>205529.0</td>\n",
       "      <td>**Here are the groups **:</td>\n",
       "      <td>2024-03-29 13:18:37+00:00</td>\n",
       "      <td>0</td>\n",
       "    </tr>\n",
       "    <tr>\n",
       "      <th>1</th>\n",
       "      <td>1</td>\n",
       "      <td>https://t.me/PoliGruppo</td>\n",
       "      <td>825112400</td>\n",
       "      <td>205529</td>\n",
       "      <td>NaN</td>\n",
       "      <td>Ciao a tutti, dovrei fare l'esame di stato a g...</td>\n",
       "      <td>2024-03-29 13:00:05+00:00</td>\n",
       "      <td>0</td>\n",
       "    </tr>\n",
       "    <tr>\n",
       "      <th>2</th>\n",
       "      <td>1</td>\n",
       "      <td>https://t.me/PoliGruppo</td>\n",
       "      <td>768169879</td>\n",
       "      <td>205525</td>\n",
       "      <td>205522.0</td>\n",
       "      <td>**Ecco i gruppi**:</td>\n",
       "      <td>2024-03-29 10:20:47+00:00</td>\n",
       "      <td>0</td>\n",
       "    </tr>\n",
       "    <tr>\n",
       "      <th>3</th>\n",
       "      <td>1</td>\n",
       "      <td>https://t.me/PoliGruppo</td>\n",
       "      <td>821857100</td>\n",
       "      <td>205523</td>\n",
       "      <td>205522.0</td>\n",
       "      <td>Non è un gruppo per fare recruiting</td>\n",
       "      <td>2024-03-29 10:19:15+00:00</td>\n",
       "      <td>0</td>\n",
       "    </tr>\n",
       "    <tr>\n",
       "      <th>4</th>\n",
       "      <td>1</td>\n",
       "      <td>https://t.me/PoliGruppo</td>\n",
       "      <td>450217695</td>\n",
       "      <td>205522</td>\n",
       "      <td>NaN</td>\n",
       "      <td>Ragazzi Ciao!\\nCi sono ingegneri strutturisti ...</td>\n",
       "      <td>2024-03-29 10:15:54+00:00</td>\n",
       "      <td>0</td>\n",
       "    </tr>\n",
       "  </tbody>\n",
       "</table>\n",
       "</div>"
      ],
      "text/plain": [
       "   Unnamed: 0                    group     sender  msg_id     reply  \\\n",
       "0           1  https://t.me/PoliGruppo  768169879  205531  205529.0   \n",
       "1           1  https://t.me/PoliGruppo  825112400  205529       NaN   \n",
       "2           1  https://t.me/PoliGruppo  768169879  205525  205522.0   \n",
       "3           1  https://t.me/PoliGruppo  821857100  205523  205522.0   \n",
       "4           1  https://t.me/PoliGruppo  450217695  205522       NaN   \n",
       "\n",
       "                                                text  \\\n",
       "0                          **Here are the groups **:   \n",
       "1  Ciao a tutti, dovrei fare l'esame di stato a g...   \n",
       "2                                 **Ecco i gruppi**:   \n",
       "3                Non è un gruppo per fare recruiting   \n",
       "4  Ragazzi Ciao!\\nCi sono ingegneri strutturisti ...   \n",
       "\n",
       "                        date  reactions  \n",
       "0  2024-03-29 13:18:37+00:00          0  \n",
       "1  2024-03-29 13:00:05+00:00          0  \n",
       "2  2024-03-29 10:20:47+00:00          0  \n",
       "3  2024-03-29 10:19:15+00:00          0  \n",
       "4  2024-03-29 10:15:54+00:00          0  "
      ]
     },
     "execution_count": 20,
     "metadata": {},
     "output_type": "execute_result"
    }
   ],
   "source": [
    "polidf = pd.read_csv('poli_msgs.csv')\n",
    "\n",
    "polidf['reactions'].fillna('', inplace=True)\n",
    "polidf['reactions'] = polidf['reactions'].apply(lambda x: count_reactions(reactions_splitting(x)))\n",
    "\n",
    "polidf.head()"
   ]
  },
  {
   "cell_type": "code",
   "execution_count": 28,
   "metadata": {},
   "outputs": [],
   "source": [
    "def plot_and_compare_reduced_embeddings_2D(texts1, texts2, lang1, lang2):\n",
    "    langs1 = [lang1 for i in range(len(texts1))]\n",
    "    langs2 = [lang2 for i in range(len(texts2))]\n",
    "\n",
    "    from laserembeddings import Laser\n",
    "\n",
    "    laser = Laser()\n",
    "\n",
    "    # if all sentences are in the same language:\n",
    "\n",
    "    embeddings1 = laser.embed_sentences(\n",
    "    texts1,\n",
    "    lang=langs1)\n",
    "\n",
    "    embeddings2 = laser.embed_sentences(\n",
    "    texts2,\n",
    "    lang=langs2)\n",
    "\n",
    "    pca = PCA(n_components=2)\n",
    "    reduced_embeddings1 = pca.fit_transform(embeddings1)\n",
    "    pca = PCA(n_components=2)\n",
    "    reduced_embeddings2 = pca.fit_transform(embeddings2)\n",
    "\n",
    "    # Plottare i punti\n",
    "    plt.scatter(reduced_embeddings1[:, 0], reduced_embeddings1[:, 1], c='b')\n",
    "    plt.scatter(reduced_embeddings2[:, 0], reduced_embeddings2[:, 1], c='r')\n",
    "\n",
    "    plt.show()"
   ]
  },
  {
   "cell_type": "code",
   "execution_count": 27,
   "metadata": {},
   "outputs": [
    {
     "data": {
      "image/png": "[encoded data removed]",
      "text/plain": [
       "<Figure size 640x480 with 1 Axes>"
      ]
     },
     "metadata": {},
     "output_type": "display_data"
    }
   ],
   "source": [
    "plot_and_compare_reduced_embeddings_2D(texts, polidf['text'], \"en\", \"it\")"
   ]
  },
  {
   "cell_type": "code",
   "execution_count": 38,
   "metadata": {},
   "outputs": [
    {
     "name": "stdout",
     "output_type": "stream",
     "text": [
      "0                            **Here are the groups **:\n",
      "1    Ciao a tutti, dovrei fare l'esame di stato a g...\n",
      "2                                   **Ecco i gruppi**:\n",
      "3                  Non è un gruppo per fare recruiting\n",
      "4    Ragazzi Ciao!\\nCi sono ingegneri strutturisti ...\n",
      "Name: text, dtype: object\n",
      "['**Here are the groups **:', \"Ciao a tutti, dovrei fare l'esame di stato a giugno di ingegneria industriale, online non ho trovato corsi o consigli su come prepararsi. Qualcuno ha già svolto l'esame? o conosce qualcuno che l'ha fatto?\", '**Ecco i gruppi**:', 'Non è un gruppo per fare recruiting', \"Ragazzi Ciao!\\nCi sono ingegneri strutturisti iscritto all'albo qui nel gruppo? \\nSe sì, o se ne conoscete uno, scrivetemi in privato che ho bisogno per un lavoro.\"]\n"
     ]
    }
   ],
   "source": [
    "poli_texts = polidf['text']\n",
    "poli_texts_strings = [str(text) for text in poli_texts if isinstance(text, str)] \n",
    "print(poli_texts[0:5])\n",
    "print(poli_texts_strings[0:5])\n",
    "\n"
   ]
  },
  {
   "cell_type": "markdown",
   "metadata": {},
   "source": [
    "Try by plotting in the space"
   ]
  },
  {
   "cell_type": "code",
   "execution_count": 43,
   "metadata": {},
   "outputs": [],
   "source": [
    "def plot_and_compare_reduced_embeddings_3D(texts1, texts2, lang1, lang2, name1, name2):\n",
    "    langs1 = [lang1 for i in range(len(texts1))]\n",
    "    langs2 = [lang2 for i in range(len(texts2))]\n",
    "\n",
    "    from laserembeddings import Laser\n",
    "\n",
    "    laser = Laser()\n",
    "\n",
    "    # if all sentences are in the same language:\n",
    "\n",
    "    embeddings1 = laser.embed_sentences(\n",
    "    texts1,\n",
    "    lang=langs1)\n",
    "\n",
    "    embeddings2 = laser.embed_sentences(\n",
    "    texts2,\n",
    "    lang=langs2)\n",
    "\n",
    "    pca = PCA(n_components=3)\n",
    "    reduced_embeddings1 = pca.fit_transform(embeddings1)\n",
    "    pca = PCA(n_components=3)\n",
    "    reduced_embeddings2 = pca.fit_transform(embeddings2)\n",
    "\n",
    "    import plotly.graph_objects as go\n",
    "\n",
    "    # Importare i dati\n",
    "    import numpy as np\n",
    "\n",
    "    # Creare la figura\n",
    "    fig = go.Figure()\n",
    "\n",
    "    # Plot each set of points with a unique colormap\n",
    "    fig.add_scatter3d(\n",
    "        x=reduced_embeddings1[:, 0],\n",
    "        y=reduced_embeddings1[:, 1],\n",
    "        z=reduced_embeddings1[:, 2],\n",
    "        mode='markers',\n",
    "        marker=dict(color='blue', size=8),  # Use a color name or hex code for direct coloring\n",
    "        name=name1\n",
    "    )\n",
    "\n",
    "    fig.add_scatter3d(\n",
    "        x=reduced_embeddings2[:, 0],\n",
    "        y=reduced_embeddings2[:, 1],\n",
    "        z=reduced_embeddings2[:, 2],\n",
    "        mode='markers',\n",
    "        marker=dict(color='red', size=8),  # Use a different color for this set\n",
    "        name=name2\n",
    "    )\n",
    "\n",
    "    # Aggiungere le legende\n",
    "    fig.update_layout(legend=dict(yanchor=\"top\", y=0.99, xanchor=\"left\", x=0.01))\n",
    "\n",
    "    # Mostrare il plot\n",
    "    fig.show()"
   ]
  },
  {
   "cell_type": "code",
   "execution_count": 44,
   "metadata": {},
   "outputs": [
    {
     "data": {
      "application/vnd.plotly.v1+json": {
       "config": {
        "plotlyServerURL": "https://plot.ly"
       },
       "data": [
        {
         "marker": {
          "color": "blue",
          "size": 8
         },
         "mode": "markers",
         "name": "Our Group",
         "type": "scatter3d",
         "x": [
          -0.1131267100572586,
          0.015754131600260735,
          -0.051905710250139236,
          0.015605960041284561,
          -0.2072249799966812,
          0.07424475997686386,
          -0.19243183732032776,
          -0.23419442772865295,
          0.1952507346868515,
          -0.01176102738827467,
          -0.15107321739196777,
          -0.38941293954849243,
          0.2093081921339035,
          -0.22767679393291473,
          0.4504559636116028,
          -0.2929918169975281,
          0.10498641431331635,
          -0.25233229994773865,
          -0.17441047728061676,
          0.225001722574234,
          0.45805081725120544,
          0.00734640471637249,
          -0.23411427438259125,
          0.05925273150205612,
          -0.3253026306629181,
          0.3457449972629547,
          -0.1573454588651657,
          0.2247753143310547,
          -0.040974605828523636,
          -0.11964508891105652,
          0.21542811393737793,
          -0.034023795276880264,
          0.05129145830869675,
          0.269950270652771,
          0.3289104700088501,
          0.1351865977048874,
          0.3585982322692871,
          -0.03147845342755318,
          0.17763137817382812,
          -0.18970143795013428,
          0.13237474858760834,
          0.11277740448713303,
          -0.41330254077911377,
          0.030732333660125732,
          0.12436459213495255,
          -0.2198091596364975,
          0.1688934713602066,
          -0.4331730306148529,
          -0.3940804600715637,
          0.27695003151893616,
          0.1969875991344452,
          -0.047965411096811295,
          0.4866322875022888,
          -0.2103518396615982,
          -0.3026772737503052
         ],
         "y": [
          -0.050192803144454956,
          -0.023955928161740303,
          -0.12785018980503082,
          -0.17285092175006866,
          -0.11253491789102554,
          -0.05515120550990105,
          -0.08488639444112778,
          -0.018429728224873543,
          0.0007275818497873843,
          -0.010391900315880775,
          -0.1429228037595749,
          -0.01516258530318737,
          0.02311866730451584,
          -0.1102161630988121,
          0.03837195783853531,
          -0.06159867346286774,
          0.06065577268600464,
          0.0012833968503400683,
          0.04624965414404869,
          -0.10525565594434738,
          0.05778026580810547,
          0.058281704783439636,
          -0.06472407281398773,
          -0.1064211055636406,
          0.10951779782772064,
          -0.050654083490371704,
          -0.15187139809131622,
          -0.00156608026009053,
          0.07810782641172409,
          0.4959409534931183,
          -0.11650954931974411,
          -0.08652815967798233,
          -0.07286006957292557,
          -0.08778059482574463,
          -0.06091390177607536,
          -0.02018767036497593,
          0.05128678306937218,
          0.10750385373830795,
          -0.07713073492050171,
          0.0999230295419693,
          -0.037158191204071045,
          -0.0029647722840309143,
          -0.02168472297489643,
          -0.13248203694820404,
          -0.05327298119664192,
          -0.1281268447637558,
          0.018651414662599564,
          0.056658778339624405,
          0.08677081763744354,
          -0.027541305869817734,
          0.3608843684196472,
          0.4853380024433136,
          0.08094390481710434,
          0.07720538228750229,
          -0.0034238125663250685
         ],
         "z": [
          -0.12353525310754776,
          -0.04240516200661659,
          -0.10689938813447952,
          -0.04143820330500603,
          -0.05340154096484184,
          -0.10593844205141068,
          -0.06060129776597023,
          0.03997151181101799,
          -0.013989792205393314,
          -0.10338566452264786,
          -0.11426880955696106,
          0.14194151759147644,
          -0.032780248671770096,
          -0.10107389837503433,
          0.1653105765581131,
          0.014705365523695946,
          -0.07182285189628601,
          -0.06541504710912704,
          -0.018497461453080177,
          -0.02484753169119358,
          0.19832037389278412,
          -0.09211880713701248,
          -0.014993058517575264,
          -0.05861782655119896,
          0.021616853773593903,
          0.058203332126140594,
          0.057195134460926056,
          0.01704089716076851,
          -0.08307626843452454,
          -0.14130209386348724,
          0.024810533970594406,
          -0.08139605820178986,
          -0.09262458235025406,
          0.05519150197505951,
          0.13093461096286774,
          -0.012490912340581417,
          0.08745795488357544,
          -0.08774237334728241,
          -0.037624526768922806,
          -0.12689071893692017,
          -0.050579965114593506,
          -0.062259942293167114,
          0.31903883814811707,
          -0.06471744924783707,
          -0.03588858246803284,
          0.05069943144917488,
          -0.019619250670075417,
          0.31775984168052673,
          0.2782914638519287,
          0.0069937994703650475,
          -0.010012803599238396,
          -0.09527797251939774,
          0.21914508938789368,
          0.09673870354890823,
          -0.05383346229791641
         ]
        },
        {
         "marker": {
          "color": "red",
          "size": 8
         },
         "mode": "markers",
         "name": "PoliNetwork Group",
         "type": "scatter3d",
         "x": [
          0.08671494573354721,
          -0.3632526993751526,
          0.11905176192522049,
          0.058017339557409286,
          -0.2615460753440857,
          0.3511727750301361,
          0.08671482652425766,
          -0.2224472165107727,
          -0.133262038230896,
          -0.22174036502838135,
          0.11905176192522049,
          0.13640062510967255,
          0.05895179882645607,
          -0.13871197402477264,
          -0.11365032941102982,
          0.17786313593387604,
          -0.1590292751789093,
          -0.21335360407829285,
          -0.20391294360160828,
          0.34344902634620667,
          -0.16299846768379211,
          0.08671482652425766,
          -0.3825094699859619,
          -0.01025969348847866,
          0.03019743785262108,
          0.41132810711860657,
          -0.10146953165531158,
          -0.33781787753105164,
          0.13268667459487915,
          -0.26684603095054626,
          0.2699615955352783,
          0.004848492797464132,
          0.378570556640625,
          0.02945750765502453,
          0.32601284980773926,
          -0.3391859233379364,
          0.41107794642448425,
          -0.029789462685585022,
          0.29617249965667725,
          0.21362152695655823,
          -0.314894437789917,
          -0.36759182810783386,
          -0.03610863536596298,
          -0.27400675415992737,
          0.23467732965946198,
          0.16575348377227783,
          -0.13484860956668854,
          -0.1624436229467392,
          0.030292505398392677,
          0.2171093374490738,
          0.07445761561393738,
          -0.31881025433540344,
          0.04124540090560913,
          0.37891361117362976
         ],
         "y": [
          0.4196651875972748,
          -0.037025026977062225,
          0.31084883213043213,
          -0.008306780830025673,
          -0.0039014818612486124,
          -0.08638888597488403,
          0.41966524720191956,
          -0.05374870076775551,
          -0.042671870440244675,
          0.08976394683122635,
          0.31084883213043213,
          0.12604296207427979,
          -0.09301707148551941,
          -0.07325384765863419,
          -0.06579761207103729,
          -0.04094812273979187,
          -0.014008459635078907,
          -0.08810736984014511,
          -0.04095408320426941,
          -0.10683871805667877,
          0.07894997298717499,
          0.41966524720191956,
          -0.052244435995817184,
          -0.08138647675514221,
          -0.03898961469531059,
          -0.11816149950027466,
          -0.08092997223138809,
          -0.036691270768642426,
          -0.03576500341296196,
          -0.07386014610528946,
          -0.07006563246250153,
          -0.06641197204589844,
          -0.04680357128381729,
          0.002721917349845171,
          -0.05795072764158249,
          -0.03446841612458229,
          -0.11941001564264297,
          -0.1197027862071991,
          -0.05217161774635315,
          -0.04460690915584564,
          -0.08155138790607452,
          0.19873926043510437,
          -0.01838454231619835,
          -0.08099646121263504,
          -0.05812500789761543,
          0.14911296963691711,
          -0.004718967247754335,
          -0.06375262886285782,
          -0.02750590071082115,
          -0.0689992755651474,
          -0.06211691349744797,
          -0.03551911562681198,
          -0.01787777617573738,
          -0.12188819795846939
         ],
         "z": [
          -0.03992367163300514,
          0.041522931307554245,
          -0.07577228546142578,
          -0.10375729203224182,
          0.016191670671105385,
          0.09419338405132294,
          -0.039923667907714844,
          0.019528232514858246,
          -0.09394234418869019,
          0.2922075390815735,
          -0.07577233761548996,
          -0.055766597390174866,
          -0.167925164103508,
          -0.024288691580295563,
          -0.055320464074611664,
          -0.06880615651607513,
          -0.04610712453722954,
          -0.06041266396641731,
          -0.022058386355638504,
          0.062102921307086945,
          0.0606713704764843,
          -0.039923667907714844,
          0.06496378034353256,
          -0.16326916217803955,
          -0.06499814242124557,
          0.20896050333976746,
          -0.04365640878677368,
          0.05825527384877205,
          -0.06234703212976456,
          -0.053858861327171326,
          0.2152571976184845,
          -0.13987606763839722,
          0.2601117193698883,
          -0.09392061829566956,
          -0.08206789940595627,
          0.1387970745563507,
          0.1628171056509018,
          -0.14448486268520355,
          -0.09238433092832565,
          -0.11661665886640549,
          0.02349274419248104,
          0.38388827443122864,
          -0.07608193904161453,
          0.02771938219666481,
          -0.07640872150659561,
          0.06913328170776367,
          -0.028438884764909744,
          -0.048500318080186844,
          -0.09700176864862442,
          0.0862978994846344,
          -0.049195703119039536,
          0.04564787074923515,
          -0.10342244058847427,
          0.17447009682655334
         ]
        }
       ],
       "layout": {
        "legend": {
         "x": 0.01,
         "xanchor": "left",
         "y": 0.99,
         "yanchor": "top"
        },
        "template": {
         "data": {
          "bar": [
           {
            "error_x": {
             "color": "#2a3f5f"
            },
            "error_y": {
             "color": "#2a3f5f"
            },
            "marker": {
             "line": {
              "color": "#E5ECF6",
              "width": 0.5
             },
             "pattern": {
              "fillmode": "overlay",
              "size": 10,
              "solidity": 0.2
             }
            },
            "type": "bar"
           }
          ],
          "barpolar": [
           {
            "marker": {
             "line": {
              "color": "#E5ECF6",
              "width": 0.5
             },
             "pattern": {
              "fillmode": "overlay",
              "size": 10,
              "solidity": 0.2
             }
            },
            "type": "barpolar"
           }
          ],
          "carpet": [
           {
            "aaxis": {
             "endlinecolor": "#2a3f5f",
             "gridcolor": "white",
             "linecolor": "white",
             "minorgridcolor": "white",
             "startlinecolor": "#2a3f5f"
            },
            "baxis": {
             "endlinecolor": "#2a3f5f",
             "gridcolor": "white",
             "linecolor": "white",
             "minorgridcolor": "white",
             "startlinecolor": "#2a3f5f"
            },
            "type": "carpet"
           }
          ],
          "choropleth": [
           {
            "colorbar": {
             "outlinewidth": 0,
             "ticks": ""
            },
            "type": "choropleth"
           }
          ],
          "contour": [
           {
            "colorbar": {
             "outlinewidth": 0,
             "ticks": ""
            },
            "colorscale": [
             [
              0,
              "#0d0887"
             ],
             [
              0.1111111111111111,
              "#46039f"
             ],
             [
              0.2222222222222222,
              "#7201a8"
             ],
             [
              0.3333333333333333,
              "#9c179e"
             ],
             [
              0.4444444444444444,
              "#bd3786"
             ],
             [
              0.5555555555555556,
              "#d8576b"
             ],
             [
              0.6666666666666666,
              "#ed7953"
             ],
             [
              0.7777777777777778,
              "#fb9f3a"
             ],
             [
              0.8888888888888888,
              "#fdca26"
             ],
             [
              1,
              "#f0f921"
             ]
            ],
            "type": "contour"
           }
          ],
          "contourcarpet": [
           {
            "colorbar": {
             "outlinewidth": 0,
             "ticks": ""
            },
            "type": "contourcarpet"
           }
          ],
          "heatmap": [
           {
            "colorbar": {
             "outlinewidth": 0,
             "ticks": ""
            },
            "colorscale": [
             [
              0,
              "#0d0887"
             ],
             [
              0.1111111111111111,
              "#46039f"
             ],
             [
              0.2222222222222222,
              "#7201a8"
             ],
             [
              0.3333333333333333,
              "#9c179e"
             ],
             [
              0.4444444444444444,
              "#bd3786"
             ],
             [
              0.5555555555555556,
              "#d8576b"
             ],
             [
              0.6666666666666666,
              "#ed7953"
             ],
             [
              0.7777777777777778,
              "#fb9f3a"
             ],
             [
              0.8888888888888888,
              "#fdca26"
             ],
             [
              1,
              "#f0f921"
             ]
            ],
            "type": "heatmap"
           }
          ],
          "heatmapgl": [
           {
            "colorbar": {
             "outlinewidth": 0,
             "ticks": ""
            },
            "colorscale": [
             [
              0,
              "#0d0887"
             ],
             [
              0.1111111111111111,
              "#46039f"
             ],
             [
              0.2222222222222222,
              "#7201a8"
             ],
             [
              0.3333333333333333,
              "#9c179e"
             ],
             [
              0.4444444444444444,
              "#bd3786"
             ],
             [
              0.5555555555555556,
              "#d8576b"
             ],
             [
              0.6666666666666666,
              "#ed7953"
             ],
             [
              0.7777777777777778,
              "#fb9f3a"
             ],
             [
              0.8888888888888888,
              "#fdca26"
             ],
             [
              1,
              "#f0f921"
             ]
            ],
            "type": "heatmapgl"
           }
          ],
          "histogram": [
           {
            "marker": {
             "pattern": {
              "fillmode": "overlay",
              "size": 10,
              "solidity": 0.2
             }
            },
            "type": "histogram"
           }
          ],
          "histogram2d": [
           {
            "colorbar": {
             "outlinewidth": 0,
             "ticks": ""
            },
            "colorscale": [
             [
              0,
              "#0d0887"
             ],
             [
              0.1111111111111111,
              "#46039f"
             ],
             [
              0.2222222222222222,
              "#7201a8"
             ],
             [
              0.3333333333333333,
              "#9c179e"
             ],
             [
              0.4444444444444444,
              "#bd3786"
             ],
             [
              0.5555555555555556,
              "#d8576b"
             ],
             [
              0.6666666666666666,
              "#ed7953"
             ],
             [
              0.7777777777777778,
              "#fb9f3a"
             ],
             [
              0.8888888888888888,
              "#fdca26"
             ],
             [
              1,
              "#f0f921"
             ]
            ],
            "type": "histogram2d"
           }
          ],
          "histogram2dcontour": [
           {
            "colorbar": {
             "outlinewidth": 0,
             "ticks": ""
            },
            "colorscale": [
             [
              0,
              "#0d0887"
             ],
             [
              0.1111111111111111,
              "#46039f"
             ],
             [
              0.2222222222222222,
              "#7201a8"
             ],
             [
              0.3333333333333333,
              "#9c179e"
             ],
             [
              0.4444444444444444,
              "#bd3786"
             ],
             [
              0.5555555555555556,
              "#d8576b"
             ],
             [
              0.6666666666666666,
              "#ed7953"
             ],
             [
              0.7777777777777778,
              "#fb9f3a"
             ],
             [
              0.8888888888888888,
              "#fdca26"
             ],
             [
              1,
              "#f0f921"
             ]
            ],
            "type": "histogram2dcontour"
           }
          ],
          "mesh3d": [
           {
            "colorbar": {
             "outlinewidth": 0,
             "ticks": ""
            },
            "type": "mesh3d"
           }
          ],
          "parcoords": [
           {
            "line": {
             "colorbar": {
              "outlinewidth": 0,
              "ticks": ""
             }
            },
            "type": "parcoords"
           }
          ],
          "pie": [
           {
            "automargin": true,
            "type": "pie"
           }
          ],
          "scatter": [
           {
            "fillpattern": {
             "fillmode": "overlay",
             "size": 10,
             "solidity": 0.2
            },
            "type": "scatter"
           }
          ],
          "scatter3d": [
           {
            "line": {
             "colorbar": {
              "outlinewidth": 0,
              "ticks": ""
             }
            },
            "marker": {
             "colorbar": {
              "outlinewidth": 0,
              "ticks": ""
             }
            },
            "type": "scatter3d"
           }
          ],
          "scattercarpet": [
           {
            "marker": {
             "colorbar": {
              "outlinewidth": 0,
              "ticks": ""
             }
            },
            "type": "scattercarpet"
           }
          ],
          "scattergeo": [
           {
            "marker": {
             "colorbar": {
              "outlinewidth": 0,
              "ticks": ""
             }
            },
            "type": "scattergeo"
           }
          ],
          "scattergl": [
           {
            "marker": {
             "colorbar": {
              "outlinewidth": 0,
              "ticks": ""
             }
            },
            "type": "scattergl"
           }
          ],
          "scattermapbox": [
           {
            "marker": {
             "colorbar": {
              "outlinewidth": 0,
              "ticks": ""
             }
            },
            "type": "scattermapbox"
           }
          ],
          "scatterpolar": [
           {
            "marker": {
             "colorbar": {
              "outlinewidth": 0,
              "ticks": ""
             }
            },
            "type": "scatterpolar"
           }
          ],
          "scatterpolargl": [
           {
            "marker": {
             "colorbar": {
              "outlinewidth": 0,
              "ticks": ""
             }
            },
            "type": "scatterpolargl"
           }
          ],
          "scatterternary": [
           {
            "marker": {
             "colorbar": {
              "outlinewidth": 0,
              "ticks": ""
             }
            },
            "type": "scatterternary"
           }
          ],
          "surface": [
           {
            "colorbar": {
             "outlinewidth": 0,
             "ticks": ""
            },
            "colorscale": [
             [
              0,
              "#0d0887"
             ],
             [
              0.1111111111111111,
              "#46039f"
             ],
             [
              0.2222222222222222,
              "#7201a8"
             ],
             [
              0.3333333333333333,
              "#9c179e"
             ],
             [
              0.4444444444444444,
              "#bd3786"
             ],
             [
              0.5555555555555556,
              "#d8576b"
             ],
             [
              0.6666666666666666,
              "#ed7953"
             ],
             [
              0.7777777777777778,
              "#fb9f3a"
             ],
             [
              0.8888888888888888,
              "#fdca26"
             ],
             [
              1,
              "#f0f921"
             ]
            ],
            "type": "surface"
           }
          ],
          "table": [
           {
            "cells": {
             "fill": {
              "color": "#EBF0F8"
             },
             "line": {
              "color": "white"
             }
            },
            "header": {
             "fill": {
              "color": "#C8D4E3"
             },
             "line": {
              "color": "white"
             }
            },
            "type": "table"
           }
          ]
         },
         "layout": {
          "annotationdefaults": {
           "arrowcolor": "#2a3f5f",
           "arrowhead": 0,
           "arrowwidth": 1
          },
          "autotypenumbers": "strict",
          "coloraxis": {
           "colorbar": {
            "outlinewidth": 0,
            "ticks": ""
           }
          },
          "colorscale": {
           "diverging": [
            [
             0,
             "#8e0152"
            ],
            [
             0.1,
             "#c51b7d"
            ],
            [
             0.2,
             "#de77ae"
            ],
            [
             0.3,
             "#f1b6da"
            ],
            [
             0.4,
             "#fde0ef"
            ],
            [
             0.5,
             "#f7f7f7"
            ],
            [
             0.6,
             "#e6f5d0"
            ],
            [
             0.7,
             "#b8e186"
            ],
            [
             0.8,
             "#7fbc41"
            ],
            [
             0.9,
             "#4d9221"
            ],
            [
             1,
             "#276419"
            ]
           ],
           "sequential": [
            [
             0,
             "#0d0887"
            ],
            [
             0.1111111111111111,
             "#46039f"
            ],
            [
             0.2222222222222222,
             "#7201a8"
            ],
            [
             0.3333333333333333,
             "#9c179e"
            ],
            [
             0.4444444444444444,
             "#bd3786"
            ],
            [
             0.5555555555555556,
             "#d8576b"
            ],
            [
             0.6666666666666666,
             "#ed7953"
            ],
            [
             0.7777777777777778,
             "#fb9f3a"
            ],
            [
             0.8888888888888888,
             "#fdca26"
            ],
            [
             1,
             "#f0f921"
            ]
           ],
           "sequentialminus": [
            [
             0,
             "#0d0887"
            ],
            [
             0.1111111111111111,
             "#46039f"
            ],
            [
             0.2222222222222222,
             "#7201a8"
            ],
            [
             0.3333333333333333,
             "#9c179e"
            ],
            [
             0.4444444444444444,
             "#bd3786"
            ],
            [
             0.5555555555555556,
             "#d8576b"
            ],
            [
             0.6666666666666666,
             "#ed7953"
            ],
            [
             0.7777777777777778,
             "#fb9f3a"
            ],
            [
             0.8888888888888888,
             "#fdca26"
            ],
            [
             1,
             "#f0f921"
            ]
           ]
          },
          "colorway": [
           "#636efa",
           "#EF553B",
           "#00cc96",
           "#ab63fa",
           "#FFA15A",
           "#19d3f3",
           "#FF6692",
           "#B6E880",
           "#FF97FF",
           "#FECB52"
          ],
          "font": {
           "color": "#2a3f5f"
          },
          "geo": {
           "bgcolor": "white",
           "lakecolor": "white",
           "landcolor": "#E5ECF6",
           "showlakes": true,
           "showland": true,
           "subunitcolor": "white"
          },
          "hoverlabel": {
           "align": "left"
          },
          "hovermode": "closest",
          "mapbox": {
           "style": "light"
          },
          "paper_bgcolor": "white",
          "plot_bgcolor": "#E5ECF6",
          "polar": {
           "angularaxis": {
            "gridcolor": "white",
            "linecolor": "white",
            "ticks": ""
           },
           "bgcolor": "#E5ECF6",
           "radialaxis": {
            "gridcolor": "white",
            "linecolor": "white",
            "ticks": ""
           }
          },
          "scene": {
           "xaxis": {
            "backgroundcolor": "#E5ECF6",
            "gridcolor": "white",
            "gridwidth": 2,
            "linecolor": "white",
            "showbackground": true,
            "ticks": "",
            "zerolinecolor": "white"
           },
           "yaxis": {
            "backgroundcolor": "#E5ECF6",
            "gridcolor": "white",
            "gridwidth": 2,
            "linecolor": "white",
            "showbackground": true,
            "ticks": "",
            "zerolinecolor": "white"
           },
           "zaxis": {
            "backgroundcolor": "#E5ECF6",
            "gridcolor": "white",
            "gridwidth": 2,
            "linecolor": "white",
            "showbackground": true,
            "ticks": "",
            "zerolinecolor": "white"
           }
          },
          "shapedefaults": {
           "line": {
            "color": "#2a3f5f"
           }
          },
          "ternary": {
           "aaxis": {
            "gridcolor": "white",
            "linecolor": "white",
            "ticks": ""
           },
           "baxis": {
            "gridcolor": "white",
            "linecolor": "white",
            "ticks": ""
           },
           "bgcolor": "#E5ECF6",
           "caxis": {
            "gridcolor": "white",
            "linecolor": "white",
            "ticks": ""
           }
          },
          "title": {
           "x": 0.05
          },
          "xaxis": {
           "automargin": true,
           "gridcolor": "white",
           "linecolor": "white",
           "ticks": "",
           "title": {
            "standoff": 15
           },
           "zerolinecolor": "white",
           "zerolinewidth": 2
          },
          "yaxis": {
           "automargin": true,
           "gridcolor": "white",
           "linecolor": "white",
           "ticks": "",
           "title": {
            "standoff": 15
           },
           "zerolinecolor": "white",
           "zerolinewidth": 2
          }
         }
        }
       }
      }
     },
     "metadata": {},
     "output_type": "display_data"
    }
   ],
   "source": [
    "plot_and_compare_reduced_embeddings_3D(texts, poli_texts_strings, \"en\", \"it\", \"Our Group\", \"PoliNetwork Group\")"
   ]
  },
  {
   "cell_type": "markdown",
   "metadata": {},
   "source": [
    "Doing the same as before using the preprocessed texts"
   ]
  },
  {
   "cell_type": "code",
   "execution_count": 4,
   "metadata": {},
   "outputs": [
    {
     "ename": "NameError",
     "evalue": "name 'texts' is not defined",
     "output_type": "error",
     "traceback": [
      "\u001b[1;31m---------------------------------------------------------------------------\u001b[0m",
      "\u001b[1;31mNameError\u001b[0m                                 Traceback (most recent call last)",
      "Cell \u001b[1;32mIn[4], line 1\u001b[0m\n\u001b[1;32m----> 1\u001b[0m preprocessed_texts \u001b[38;5;241m=\u001b[39m [preprocess_message(text, \u001b[38;5;124m\"\u001b[39m\u001b[38;5;124menglish\u001b[39m\u001b[38;5;124m\"\u001b[39m) \u001b[38;5;28;01mfor\u001b[39;00m text \u001b[38;5;129;01min\u001b[39;00m \u001b[43mtexts\u001b[49m]\n\u001b[0;32m      2\u001b[0m plot_reduced_embeddings_2D(preprocessed_texts, \u001b[38;5;124m\"\u001b[39m\u001b[38;5;124men\u001b[39m\u001b[38;5;124m\"\u001b[39m)\n",
      "\u001b[1;31mNameError\u001b[0m: name 'texts' is not defined"
     ]
    }
   ],
   "source": [
    "preprocessed_texts = [preprocess_message(text, \"english\") for text in texts]\n",
    "poli_preprocessed_texts = [preprocess_message(text, \"italian\") for text in poli_texts_strings]\n"
   ]
  },
  {
   "cell_type": "code",
   "execution_count": 41,
   "metadata": {},
   "outputs": [
    {
     "data": {
      "image/png": "[encoded data removed]",
      "text/plain": [
       "<Figure size 640x480 with 1 Axes>"
      ]
     },
     "metadata": {},
     "output_type": "display_data"
    }
   ],
   "source": [
    "plot_and_compare_reduced_embeddings_2D(preprocessed_texts, poli_preprocessed_texts, \"en\", \"it\")"
   ]
  },
  {
   "cell_type": "code",
   "execution_count": 45,
   "metadata": {},
   "outputs": [
    {
     "data": {
      "application/vnd.plotly.v1+json": {
       "config": {
        "plotlyServerURL": "https://plot.ly"
       },
       "data": [
        {
         "marker": {
          "color": "blue",
          "size": 8
         },
         "mode": "markers",
         "name": "Our Group",
         "type": "scatter3d",
         "x": [
          -0.12880539894104004,
          -0.04295489192008972,
          -0.053730159997940063,
          0.01709209382534027,
          -0.23227380216121674,
          0.026581184938549995,
          -0.1740889698266983,
          -0.3102719485759735,
          0.21734872460365295,
          -0.08110445737838745,
          -0.1297999620437622,
          -0.3398762345314026,
          0.22584812343120575,
          -0.19653917849063873,
          0.4256824851036072,
          -0.23696458339691162,
          0.07886090874671936,
          -0.21846580505371094,
          -0.20377624034881592,
          0.1827600747346878,
          0.4817650616168976,
          -0.04779895395040512,
          -0.1953269988298416,
          0.010748795233666897,
          -0.31851619482040405,
          0.4042690694332123,
          -0.1474350392818451,
          0.17587877810001373,
          -0.08275807648897171,
          -0.09964874386787415,
          0.24674196541309357,
          -0.07079479843378067,
          0.09605029225349426,
          0.260567843914032,
          0.3257327675819397,
          0.028658639639616013,
          0.3549816906452179,
          -0.051645778119564056,
          0.11589504033327103,
          -0.1694197803735733,
          0.12311890721321106,
          0.05569665879011154,
          -0.38585948944091797,
          0.02643803507089615,
          0.11464039981365204,
          -0.2300553172826767,
          0.10150904208421707,
          -0.3739045560359955,
          -0.33494165539741516,
          0.20904730260372162,
          0.31169962882995605,
          0.254791796207428,
          0.4817650616168976,
          -0.24545985460281372,
          -0.2519533932209015
         ],
         "y": [
          -0.10881257802248001,
          -0.1369616538286209,
          -0.19481609761714935,
          -0.12187929451465607,
          -0.120040662586689,
          -0.10317336767911911,
          -0.09321960061788559,
          0.14144185185432434,
          -0.05625488981604576,
          -0.04423908889293671,
          -0.08388815820217133,
          0.11947842687368393,
          -0.01862984336912632,
          -0.11183509975671768,
          0.098841592669487,
          -0.0618986152112484,
          0.017415661364793777,
          0.03622329235076904,
          0.11008495837450027,
          -0.1588641107082367,
          0.18198004364967346,
          -0.003082675626501441,
          -0.03618580475449562,
          -0.15125097334384918,
          0.10083278268575668,
          0.030249372124671936,
          -0.09429427981376648,
          -0.0008513888460583985,
          -0.012062021531164646,
          0.24868398904800415,
          -0.0007940696668811142,
          -0.11763893067836761,
          -0.019586723297834396,
          -0.026029761880636215,
          0.02191530540585518,
          0.02832009829580784,
          0.12418163567781448,
          -0.025276051834225655,
          -0.12797307968139648,
          0.03787659481167793,
          -0.0391019843518734,
          -0.023818867281079292,
          0.24865801632404327,
          -0.13673144578933716,
          -0.09439241886138916,
          0.01667962782084942,
          0.02557835914194584,
          0.20565231144428253,
          0.1624940186738968,
          0.025853142142295837,
          0.0845271646976471,
          0.09772744029760361,
          0.18198004364967346,
          0.019463317468762398,
          -0.042555518448352814
         ],
         "z": [
          0.04162346571683884,
          0.013791010715067387,
          -0.05993427336215973,
          0.05203283578157425,
          -0.061321601271629333,
          -0.01533020380884409,
          -0.05937771871685982,
          -0.01036303024739027,
          -0.03138820081949234,
          0.010026129893958569,
          -0.01944573223590851,
          -0.10679078102111816,
          0.006027943920344114,
          -0.055722542107105255,
          -0.0974646583199501,
          -0.1048092246055603,
          0.03927364945411682,
          0.03516650199890137,
          -0.0018486332846805453,
          -0.064900241792202,
          -0.10514967888593674,
          0.16142691671848297,
          -0.07273703813552856,
          0.011047749780118465,
          0.011849039234220982,
          -0.09202112257480621,
          0.017336059361696243,
          0.09197360277175903,
          0.14536742866039276,
          0.48582032322883606,
          -0.04527948424220085,
          -0.0159961748868227,
          -0.029416637495160103,
          -0.0905856341123581,
          -0.061083339154720306,
          0.08567873388528824,
          -0.007177210412919521,
          0.17208078503608704,
          -0.017711488530039787,
          0.14368119835853577,
          0.04108457639813423,
          0.0994139239192009,
          -0.1964063048362732,
          -0.004184519872069359,
          0.022896472364664078,
          -0.07068349421024323,
          0.14501604437828064,
          -0.16633012890815735,
          -0.12492098659276962,
          0.08526403456926346,
          0.006556146778166294,
          -0.02746092714369297,
          -0.10514967888593674,
          0.04245191812515259,
          -0.04589572548866272
         ]
        },
        {
         "marker": {
          "color": "red",
          "size": 8
         },
         "mode": "markers",
         "name": "PoliNetwork Group",
         "type": "scatter3d",
         "x": [
          0.15061286091804504,
          -0.3008936047554016,
          0.197567418217659,
          0.04739643260836601,
          -0.24383576214313507,
          0.3150973618030548,
          0.15061289072036743,
          -0.23033830523490906,
          -0.15336406230926514,
          -0.09733166545629501,
          0.197567418217659,
          0.22012880444526672,
          0.05971050262451172,
          -0.10291904956102371,
          -0.07882390916347504,
          0.10231292992830276,
          -0.18211281299591064,
          -0.2048925906419754,
          -0.2527766227722168,
          0.31100502610206604,
          -0.1328992247581482,
          0.15061289072036743,
          -0.35966840386390686,
          0.009278029203414917,
          0.007627407554537058,
          0.36305320262908936,
          -0.1376809924840927,
          -0.3141300678253174,
          0.09085440635681152,
          -0.24291424453258514,
          0.23432126641273499,
          0.012589303776621819,
          0.3531548082828522,
          0.05252683535218239,
          0.35154908895492554,
          -0.3489053249359131,
          0.38260042667388916,
          -0.027191942557692528,
          0.3132169246673584,
          0.074641652405262,
          -0.3233756721019745,
          -0.3733242452144623,
          -0.030070150271058083,
          -0.2470645010471344,
          0.20590955018997192,
          0.14749370515346527,
          -0.12769629061222076,
          -0.20662617683410645,
          -0.0665050819516182,
          0.17908696830272675,
          0.08313079923391342,
          -0.33669835329055786,
          0.0051445066928863525,
          0.3532363772392273
         ],
         "y": [
          -0.20751680433750153,
          0.018233515322208405,
          -0.1770942658185959,
          -0.11478821933269501,
          -0.01728142239153385,
          0.08423721045255661,
          -0.2075168341398239,
          0.05440632998943329,
          -0.03871802240610123,
          0.12555982172489166,
          -0.1770942658185959,
          -0.02858559414744377,
          -0.08275475353002548,
          0.02203841507434845,
          -0.07113439589738846,
          -0.057228367775678635,
          -0.0573967806994915,
          -0.07308036088943481,
          0.049241386353969574,
          0.07083044201135635,
          -0.06988433003425598,
          -0.2075168341398239,
          0.08552341908216476,
          -0.07614482194185257,
          -0.04687126725912094,
          0.09563173353672028,
          0.02064562402665615,
          0.0674564465880394,
          -0.04537959024310112,
          -0.022485515102744102,
          0.1785881370306015,
          -0.09572761505842209,
          0.23970049619674683,
          -0.04377710819244385,
          0.10706987231969833,
          0.1058105081319809,
          0.16681092977523804,
          -0.05282198265194893,
          0.13224929571151733,
          -0.016202202066779137,
          0.04737069830298424,
          0.3104337751865387,
          -0.08572100102901459,
          0.0180923230946064,
          -0.04517791420221329,
          -0.006124516949057579,
          -0.024861065670847893,
          -0.02482469566166401,
          -0.0012968010269105434,
          0.06328246742486954,
          -0.027042392641305923,
          0.03570348396897316,
          -0.06956484168767929,
          0.17269790172576904
         ],
         "z": [
          0.1142561212182045,
          -0.10265301167964935,
          0.09783117473125458,
          -0.0009999884059652686,
          -0.03227991983294487,
          -0.07348954677581787,
          0.11425613611936569,
          0.06686138361692429,
          0.01502998173236847,
          0.1690465211868286,
          0.09783117473125458,
          -0.024151770398020744,
          0.04551190137863159,
          0.1149911880493164,
          0.011019137687981129,
          -0.04362946376204491,
          -0.07721184194087982,
          -0.20739831030368805,
          0.017191199585795403,
          -0.07874569296836853,
          -0.07461217790842056,
          0.11425613611936569,
          -0.04255001246929169,
          0.057475123554468155,
          0.016530582681298256,
          -0.05311635881662369,
          0.045088477432727814,
          -0.019359655678272247,
          0.05993973836302757,
          -0.13925595581531525,
          0.05143628269433975,
          -0.10404665768146515,
          -0.04817577451467514,
          0.10295594483613968,
          -0.07849421352148056,
          0.01642797887325287,
          -0.11186746507883072,
          -0.05419544503092766,
          -0.05460098013281822,
          0.024603769183158875,
          -0.05904887244105339,
          0.3544171154499054,
          -0.14785224199295044,
          -0.09612114727497101,
          -0.027467679232358932,
          0.10544848442077637,
          0.03874913975596428,
          -0.111953504383564,
          0.09064697474241257,
          0.07340952008962631,
          0.05040130391716957,
          -0.10999850928783417,
          -0.019026555120944977,
          -0.07330990582704544
         ]
        }
       ],
       "layout": {
        "legend": {
         "x": 0.01,
         "xanchor": "left",
         "y": 0.99,
         "yanchor": "top"
        },
        "template": {
         "data": {
          "bar": [
           {
            "error_x": {
             "color": "#2a3f5f"
            },
            "error_y": {
             "color": "#2a3f5f"
            },
            "marker": {
             "line": {
              "color": "#E5ECF6",
              "width": 0.5
             },
             "pattern": {
              "fillmode": "overlay",
              "size": 10,
              "solidity": 0.2
             }
            },
            "type": "bar"
           }
          ],
          "barpolar": [
           {
            "marker": {
             "line": {
              "color": "#E5ECF6",
              "width": 0.5
             },
             "pattern": {
              "fillmode": "overlay",
              "size": 10,
              "solidity": 0.2
             }
            },
            "type": "barpolar"
           }
          ],
          "carpet": [
           {
            "aaxis": {
             "endlinecolor": "#2a3f5f",
             "gridcolor": "white",
             "linecolor": "white",
             "minorgridcolor": "white",
             "startlinecolor": "#2a3f5f"
            },
            "baxis": {
             "endlinecolor": "#2a3f5f",
             "gridcolor": "white",
             "linecolor": "white",
             "minorgridcolor": "white",
             "startlinecolor": "#2a3f5f"
            },
            "type": "carpet"
           }
          ],
          "choropleth": [
           {
            "colorbar": {
             "outlinewidth": 0,
             "ticks": ""
            },
            "type": "choropleth"
           }
          ],
          "contour": [
           {
            "colorbar": {
             "outlinewidth": 0,
             "ticks": ""
            },
            "colorscale": [
             [
              0,
              "#0d0887"
             ],
             [
              0.1111111111111111,
              "#46039f"
             ],
             [
              0.2222222222222222,
              "#7201a8"
             ],
             [
              0.3333333333333333,
              "#9c179e"
             ],
             [
              0.4444444444444444,
              "#bd3786"
             ],
             [
              0.5555555555555556,
              "#d8576b"
             ],
             [
              0.6666666666666666,
              "#ed7953"
             ],
             [
              0.7777777777777778,
              "#fb9f3a"
             ],
             [
              0.8888888888888888,
              "#fdca26"
             ],
             [
              1,
              "#f0f921"
             ]
            ],
            "type": "contour"
           }
          ],
          "contourcarpet": [
           {
            "colorbar": {
             "outlinewidth": 0,
             "ticks": ""
            },
            "type": "contourcarpet"
           }
          ],
          "heatmap": [
           {
            "colorbar": {
             "outlinewidth": 0,
             "ticks": ""
            },
            "colorscale": [
             [
              0,
              "#0d0887"
             ],
             [
              0.1111111111111111,
              "#46039f"
             ],
             [
              0.2222222222222222,
              "#7201a8"
             ],
             [
              0.3333333333333333,
              "#9c179e"
             ],
             [
              0.4444444444444444,
              "#bd3786"
             ],
             [
              0.5555555555555556,
              "#d8576b"
             ],
             [
              0.6666666666666666,
              "#ed7953"
             ],
             [
              0.7777777777777778,
              "#fb9f3a"
             ],
             [
              0.8888888888888888,
              "#fdca26"
             ],
             [
              1,
              "#f0f921"
             ]
            ],
            "type": "heatmap"
           }
          ],
          "heatmapgl": [
           {
            "colorbar": {
             "outlinewidth": 0,
             "ticks": ""
            },
            "colorscale": [
             [
              0,
              "#0d0887"
             ],
             [
              0.1111111111111111,
              "#46039f"
             ],
             [
              0.2222222222222222,
              "#7201a8"
             ],
             [
              0.3333333333333333,
              "#9c179e"
             ],
             [
              0.4444444444444444,
              "#bd3786"
             ],
             [
              0.5555555555555556,
              "#d8576b"
             ],
             [
              0.6666666666666666,
              "#ed7953"
             ],
             [
              0.7777777777777778,
              "#fb9f3a"
             ],
             [
              0.8888888888888888,
              "#fdca26"
             ],
             [
              1,
              "#f0f921"
             ]
            ],
            "type": "heatmapgl"
           }
          ],
          "histogram": [
           {
            "marker": {
             "pattern": {
              "fillmode": "overlay",
              "size": 10,
              "solidity": 0.2
             }
            },
            "type": "histogram"
           }
          ],
          "histogram2d": [
           {
            "colorbar": {
             "outlinewidth": 0,
             "ticks": ""
            },
            "colorscale": [
             [
              0,
              "#0d0887"
             ],
             [
              0.1111111111111111,
              "#46039f"
             ],
             [
              0.2222222222222222,
              "#7201a8"
             ],
             [
              0.3333333333333333,
              "#9c179e"
             ],
             [
              0.4444444444444444,
              "#bd3786"
             ],
             [
              0.5555555555555556,
              "#d8576b"
             ],
             [
              0.6666666666666666,
              "#ed7953"
             ],
             [
              0.7777777777777778,
              "#fb9f3a"
             ],
             [
              0.8888888888888888,
              "#fdca26"
             ],
             [
              1,
              "#f0f921"
             ]
            ],
            "type": "histogram2d"
           }
          ],
          "histogram2dcontour": [
           {
            "colorbar": {
             "outlinewidth": 0,
             "ticks": ""
            },
            "colorscale": [
             [
              0,
              "#0d0887"
             ],
             [
              0.1111111111111111,
              "#46039f"
             ],
             [
              0.2222222222222222,
              "#7201a8"
             ],
             [
              0.3333333333333333,
              "#9c179e"
             ],
             [
              0.4444444444444444,
              "#bd3786"
             ],
             [
              0.5555555555555556,
              "#d8576b"
             ],
             [
              0.6666666666666666,
              "#ed7953"
             ],
             [
              0.7777777777777778,
              "#fb9f3a"
             ],
             [
              0.8888888888888888,
              "#fdca26"
             ],
             [
              1,
              "#f0f921"
             ]
            ],
            "type": "histogram2dcontour"
           }
          ],
          "mesh3d": [
           {
            "colorbar": {
             "outlinewidth": 0,
             "ticks": ""
            },
            "type": "mesh3d"
           }
          ],
          "parcoords": [
           {
            "line": {
             "colorbar": {
              "outlinewidth": 0,
              "ticks": ""
             }
            },
            "type": "parcoords"
           }
          ],
          "pie": [
           {
            "automargin": true,
            "type": "pie"
           }
          ],
          "scatter": [
           {
            "fillpattern": {
             "fillmode": "overlay",
             "size": 10,
             "solidity": 0.2
            },
            "type": "scatter"
           }
          ],
          "scatter3d": [
           {
            "line": {
             "colorbar": {
              "outlinewidth": 0,
              "ticks": ""
             }
            },
            "marker": {
             "colorbar": {
              "outlinewidth": 0,
              "ticks": ""
             }
            },
            "type": "scatter3d"
           }
          ],
          "scattercarpet": [
           {
            "marker": {
             "colorbar": {
              "outlinewidth": 0,
              "ticks": ""
             }
            },
            "type": "scattercarpet"
           }
          ],
          "scattergeo": [
           {
            "marker": {
             "colorbar": {
              "outlinewidth": 0,
              "ticks": ""
             }
            },
            "type": "scattergeo"
           }
          ],
          "scattergl": [
           {
            "marker": {
             "colorbar": {
              "outlinewidth": 0,
              "ticks": ""
             }
            },
            "type": "scattergl"
           }
          ],
          "scattermapbox": [
           {
            "marker": {
             "colorbar": {
              "outlinewidth": 0,
              "ticks": ""
             }
            },
            "type": "scattermapbox"
           }
          ],
          "scatterpolar": [
           {
            "marker": {
             "colorbar": {
              "outlinewidth": 0,
              "ticks": ""
             }
            },
            "type": "scatterpolar"
           }
          ],
          "scatterpolargl": [
           {
            "marker": {
             "colorbar": {
              "outlinewidth": 0,
              "ticks": ""
             }
            },
            "type": "scatterpolargl"
           }
          ],
          "scatterternary": [
           {
            "marker": {
             "colorbar": {
              "outlinewidth": 0,
              "ticks": ""
             }
            },
            "type": "scatterternary"
           }
          ],
          "surface": [
           {
            "colorbar": {
             "outlinewidth": 0,
             "ticks": ""
            },
            "colorscale": [
             [
              0,
              "#0d0887"
             ],
             [
              0.1111111111111111,
              "#46039f"
             ],
             [
              0.2222222222222222,
              "#7201a8"
             ],
             [
              0.3333333333333333,
              "#9c179e"
             ],
             [
              0.4444444444444444,
              "#bd3786"
             ],
             [
              0.5555555555555556,
              "#d8576b"
             ],
             [
              0.6666666666666666,
              "#ed7953"
             ],
             [
              0.7777777777777778,
              "#fb9f3a"
             ],
             [
              0.8888888888888888,
              "#fdca26"
             ],
             [
              1,
              "#f0f921"
             ]
            ],
            "type": "surface"
           }
          ],
          "table": [
           {
            "cells": {
             "fill": {
              "color": "#EBF0F8"
             },
             "line": {
              "color": "white"
             }
            },
            "header": {
             "fill": {
              "color": "#C8D4E3"
             },
             "line": {
              "color": "white"
             }
            },
            "type": "table"
           }
          ]
         },
         "layout": {
          "annotationdefaults": {
           "arrowcolor": "#2a3f5f",
           "arrowhead": 0,
           "arrowwidth": 1
          },
          "autotypenumbers": "strict",
          "coloraxis": {
           "colorbar": {
            "outlinewidth": 0,
            "ticks": ""
           }
          },
          "colorscale": {
           "diverging": [
            [
             0,
             "#8e0152"
            ],
            [
             0.1,
             "#c51b7d"
            ],
            [
             0.2,
             "#de77ae"
            ],
            [
             0.3,
             "#f1b6da"
            ],
            [
             0.4,
             "#fde0ef"
            ],
            [
             0.5,
             "#f7f7f7"
            ],
            [
             0.6,
             "#e6f5d0"
            ],
            [
             0.7,
             "#b8e186"
            ],
            [
             0.8,
             "#7fbc41"
            ],
            [
             0.9,
             "#4d9221"
            ],
            [
             1,
             "#276419"
            ]
           ],
           "sequential": [
            [
             0,
             "#0d0887"
            ],
            [
             0.1111111111111111,
             "#46039f"
            ],
            [
             0.2222222222222222,
             "#7201a8"
            ],
            [
             0.3333333333333333,
             "#9c179e"
            ],
            [
             0.4444444444444444,
             "#bd3786"
            ],
            [
             0.5555555555555556,
             "#d8576b"
            ],
            [
             0.6666666666666666,
             "#ed7953"
            ],
            [
             0.7777777777777778,
             "#fb9f3a"
            ],
            [
             0.8888888888888888,
             "#fdca26"
            ],
            [
             1,
             "#f0f921"
            ]
           ],
           "sequentialminus": [
            [
             0,
             "#0d0887"
            ],
            [
             0.1111111111111111,
             "#46039f"
            ],
            [
             0.2222222222222222,
             "#7201a8"
            ],
            [
             0.3333333333333333,
             "#9c179e"
            ],
            [
             0.4444444444444444,
             "#bd3786"
            ],
            [
             0.5555555555555556,
             "#d8576b"
            ],
            [
             0.6666666666666666,
             "#ed7953"
            ],
            [
             0.7777777777777778,
             "#fb9f3a"
            ],
            [
             0.8888888888888888,
             "#fdca26"
            ],
            [
             1,
             "#f0f921"
            ]
           ]
          },
          "colorway": [
           "#636efa",
           "#EF553B",
           "#00cc96",
           "#ab63fa",
           "#FFA15A",
           "#19d3f3",
           "#FF6692",
           "#B6E880",
           "#FF97FF",
           "#FECB52"
          ],
          "font": {
           "color": "#2a3f5f"
          },
          "geo": {
           "bgcolor": "white",
           "lakecolor": "white",
           "landcolor": "#E5ECF6",
           "showlakes": true,
           "showland": true,
           "subunitcolor": "white"
          },
          "hoverlabel": {
           "align": "left"
          },
          "hovermode": "closest",
          "mapbox": {
           "style": "light"
          },
          "paper_bgcolor": "white",
          "plot_bgcolor": "#E5ECF6",
          "polar": {
           "angularaxis": {
            "gridcolor": "white",
            "linecolor": "white",
            "ticks": ""
           },
           "bgcolor": "#E5ECF6",
           "radialaxis": {
            "gridcolor": "white",
            "linecolor": "white",
            "ticks": ""
           }
          },
          "scene": {
           "xaxis": {
            "backgroundcolor": "#E5ECF6",
            "gridcolor": "white",
            "gridwidth": 2,
            "linecolor": "white",
            "showbackground": true,
            "ticks": "",
            "zerolinecolor": "white"
           },
           "yaxis": {
            "backgroundcolor": "#E5ECF6",
            "gridcolor": "white",
            "gridwidth": 2,
            "linecolor": "white",
            "showbackground": true,
            "ticks": "",
            "zerolinecolor": "white"
           },
           "zaxis": {
            "backgroundcolor": "#E5ECF6",
            "gridcolor": "white",
            "gridwidth": 2,
            "linecolor": "white",
            "showbackground": true,
            "ticks": "",
            "zerolinecolor": "white"
           }
          },
          "shapedefaults": {
           "line": {
            "color": "#2a3f5f"
           }
          },
          "ternary": {
           "aaxis": {
            "gridcolor": "white",
            "linecolor": "white",
            "ticks": ""
           },
           "baxis": {
            "gridcolor": "white",
            "linecolor": "white",
            "ticks": ""
           },
           "bgcolor": "#E5ECF6",
           "caxis": {
            "gridcolor": "white",
            "linecolor": "white",
            "ticks": ""
           }
          },
          "title": {
           "x": 0.05
          },
          "xaxis": {
           "automargin": true,
           "gridcolor": "white",
           "linecolor": "white",
           "ticks": "",
           "title": {
            "standoff": 15
           },
           "zerolinecolor": "white",
           "zerolinewidth": 2
          },
          "yaxis": {
           "automargin": true,
           "gridcolor": "white",
           "linecolor": "white",
           "ticks": "",
           "title": {
            "standoff": 15
           },
           "zerolinecolor": "white",
           "zerolinewidth": 2
          }
         }
        }
       }
      }
     },
     "metadata": {},
     "output_type": "display_data"
    }
   ],
   "source": [
    "plot_and_compare_reduced_embeddings_3D(preprocessed_texts, poli_preprocessed_texts, \"en\", \"it\", \"Our Group\", \"PoliNetwork Group\")"
   ]
  }
 ],
 "metadata": {
  "kernelspec": {
   "display_name": "telegramprj",
   "language": "python",
   "name": "python3"
  },
  "language_info": {
   "codemirror_mode": {
    "name": "ipython",
    "version": 3
   },
   "file_extension": ".py",
   "mimetype": "text/x-python",
   "name": "python",
   "nbconvert_exporter": "python",
   "pygments_lexer": "ipython3",
   "version": "3.8.19"
  }
 },
 "nbformat": 4,
 "nbformat_minor": 2
}
