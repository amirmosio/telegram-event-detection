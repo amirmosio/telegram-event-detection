{
 "cells": [
  {
   "cell_type": "markdown",
   "metadata": {},
   "source": [
    "**Lorenzo's Notebook**"
   ]
  },
  {
   "cell_type": "markdown",
   "metadata": {},
   "source": [
    "Importing useful packages and modules"
   ]
  },
  {
   "cell_type": "code",
   "execution_count": 150,
   "metadata": {},
   "outputs": [],
   "source": [
    "from data_collector_client import AnomalyDetectionClient\n",
    "from telethon.tl.types import MessageReactions\n",
    "import asyncio\n",
    "from decouple import config\n",
    "import pandas as pd\n",
    "import numpy as np\n",
    "from sklearn.decomposition import PCA\n",
    "import matplotlib.pyplot as plt"
   ]
  },
  {
   "cell_type": "code",
   "execution_count": 151,
   "metadata": {},
   "outputs": [],
   "source": [
    "import re\n",
    "def reactions_splitting(message):\n",
    "    pattern = r\"emoticon=['\\\"](.*?)['\\\"].*?count=(\\d+)\"\n",
    "    matches = re.findall(pattern, message)\n",
    "    if matches:\n",
    "        return matches\n",
    "    else:\n",
    "        return None"
   ]
  },
  {
   "cell_type": "code",
   "execution_count": 152,
   "metadata": {},
   "outputs": [],
   "source": [
    "\n",
    "# Function to count the number of reactions in a message using the splitted reactions\n",
    "def count_reactions(splitted_reaction):\n",
    "    if(splitted_reaction == None):\n",
    "        return 0\n",
    "    else:\n",
    "        tmp = []\n",
    "        for i in range(len(splitted_reaction)):\n",
    "            tmp.append(int(splitted_reaction[:][i][1]))\n",
    "        return sum(tmp)"
   ]
  },
  {
   "cell_type": "code",
   "execution_count": 153,
   "metadata": {},
   "outputs": [
    {
     "name": "stdout",
     "output_type": "stream",
     "text": [
      "['ciao', 'come va', 'oggi bella giornata']\n"
     ]
    },
    {
     "name": "stderr",
     "output_type": "stream",
     "text": [
      "[nltk_data] Downloading package stopwords to C:\\Users\\asus-\n",
      "[nltk_data]     zen\\AppData\\Roaming\\nltk_data...\n",
      "[nltk_data]   Package stopwords is already up-to-date!\n"
     ]
    }
   ],
   "source": [
    "import nltk\n",
    "nltk.download('stopwords')\n",
    "from nltk.corpus import stopwords\n",
    "\n",
    "#Function to preprocess a message removing stopwords of the specified language and special characters\n",
    "def preprocess_message(message, language):\n",
    "  # Removing special characters and \\n\n",
    "  message = re.sub(r\"[^\\w\\s]\", \"\", message)\n",
    "  message = re.sub(r\"\\n\", \"\", message)\n",
    "\n",
    "\n",
    "  # Removing Stopwords\n",
    "  stop_words = set(stopwords.words(language))\n",
    "  message = \" \".join([word for word in message.split() if word not in stop_words])\n",
    "\n",
    "  # Convert to lowercase\n",
    "  message = message.lower()\n",
    "\n",
    "  # Removing empty words\n",
    "  message = \" \".join(message.split())\n",
    "\n",
    "  return message\n",
    "\n",
    "# example\n",
    "messaggi = [\"Ciao a tutti!\", \"Come va?\", \"Oggi è una bella giornata\\n.\"]\n",
    "preprocessed_messages = [preprocess_message(message,\"italian\") for message in messaggi]\n",
    "print(preprocessed_messages)\n"
   ]
  },
  {
   "cell_type": "code",
   "execution_count": 154,
   "metadata": {},
   "outputs": [],
   "source": [
    "df = pd.read_csv('./data/trial.csv')\n",
    "\n",
    "df['reactions'].fillna('', inplace=True)\n",
    "df['reactions'] = df['reactions'].apply(lambda x: count_reactions(reactions_splitting(x)))"
   ]
  },
  {
   "cell_type": "code",
   "execution_count": 155,
   "metadata": {},
   "outputs": [],
   "source": [
    "\n",
    "ourgroup = \"https://t.me/+synza2388S80NWM0\"\n",
    "poligroup = \"https://t.me/PoliGruppo\"\n",
    "\n",
    "ourdf = df.loc[df['group'] == ourgroup]"
   ]
  },
  {
   "cell_type": "markdown",
   "metadata": {},
   "source": [
    "**Laser Embedding**"
   ]
  },
  {
   "cell_type": "code",
   "execution_count": 156,
   "metadata": {},
   "outputs": [
    {
     "name": "stdout",
     "output_type": "stream",
     "text": [
      "-----NORMAL TEXTS-----\n",
      "['nan', 'Hi guys', 'Hi', 'Hi😊', 'hey everyone!']\n",
      "\n",
      "-----PREPROCESSED TEXTS-----\n",
      "['nan', 'hi guys', 'hi', 'hi', 'hey everyone']\n",
      "329\n",
      "329\n"
     ]
    }
   ],
   "source": [
    "texts = ourdf['text']\n",
    "texts = [str(text) for text in texts]\n",
    "preprocessed_texts = [preprocess_message(str(text), \"english\") for text in texts]\n",
    "print(\"-----NORMAL TEXTS-----\")\n",
    "print(texts[0:5])\n",
    "print(\"\\n-----PREPROCESSED TEXTS-----\")\n",
    "print(preprocessed_texts[0:5])\n",
    "\n",
    "print(len(preprocessed_texts))\n",
    "print(len(texts))\n"
   ]
  },
  {
   "cell_type": "code",
   "execution_count": 157,
   "metadata": {},
   "outputs": [
    {
     "data": {
      "text/plain": [
       "(329, 1024)"
      ]
     },
     "execution_count": 157,
     "metadata": {},
     "output_type": "execute_result"
    }
   ],
   "source": [
    "langs = [\"en\" for i in range(len(texts))]\n",
    "\n",
    "from laserembeddings import Laser\n",
    "\n",
    "laser = Laser()\n",
    "\n",
    "# if all sentences are in the same language:\n",
    "\n",
    "embeddings = laser.embed_sentences(\n",
    "    texts,\n",
    "    lang=langs)\n",
    "\n",
    "embeddings.shape"
   ]
  },
  {
   "cell_type": "code",
   "execution_count": 159,
   "metadata": {},
   "outputs": [],
   "source": [
    "def plot_reduced_embeddings_2D(texts, lang):\n",
    "    langs = [lang for i in range(len(texts))]\n",
    "\n",
    "    from laserembeddings import Laser\n",
    "\n",
    "    laser = Laser()\n",
    "\n",
    "    # if all sentences are in the same language:\n",
    "\n",
    "    embeddings = laser.embed_sentences(\n",
    "    texts,\n",
    "    lang=langs)\n",
    "\n",
    "    pca = PCA(n_components=2)\n",
    "    reduced_embeddings = pca.fit_transform(embeddings)\n",
    "    # Plottare i punti\n",
    "    plt.scatter(reduced_embeddings[:, 0], reduced_embeddings[:, 1])\n",
    "\n",
    "    for i, point in enumerate(reduced_embeddings):\n",
    "        # Annotate each point with the message number\n",
    "        plt.annotate(str(i + 1), point, ha='center', va='center')\n",
    "\n",
    "    plt.show()"
   ]
  },
  {
   "cell_type": "code",
   "execution_count": 160,
   "metadata": {},
   "outputs": [
    {
     "data": {
      "image/png": "[encoded data removed]",
      "text/plain": [
       "<Figure size 640x480 with 1 Axes>"
      ]
     },
     "metadata": {},
     "output_type": "display_data"
    }
   ],
   "source": [
    "plot_reduced_embeddings_2D(texts, \"en\")"
   ]
  },
  {
   "cell_type": "markdown",
   "metadata": {},
   "source": [
    "Now we use the messages of the polinetwork group \n",
    "\n",
    "We'll plot the data as we have done before to see if there is any change in the distribution of the messages of two different groups"
   ]
  },
  {
   "cell_type": "code",
   "execution_count": 115,
   "metadata": {},
   "outputs": [
    {
     "data": {
      "text/html": [
       "<div>\n",
       "<style scoped>\n",
       "    .dataframe tbody tr th:only-of-type {\n",
       "        vertical-align: middle;\n",
       "    }\n",
       "\n",
       "    .dataframe tbody tr th {\n",
       "        vertical-align: top;\n",
       "    }\n",
       "\n",
       "    .dataframe thead th {\n",
       "        text-align: right;\n",
       "    }\n",
       "</style>\n",
       "<table border=\"1\" class=\"dataframe\">\n",
       "  <thead>\n",
       "    <tr style=\"text-align: right;\">\n",
       "      <th></th>\n",
       "      <th>Unnamed: 0</th>\n",
       "      <th>group</th>\n",
       "      <th>sender</th>\n",
       "      <th>text</th>\n",
       "      <th>reply</th>\n",
       "      <th>date</th>\n",
       "      <th>reactions</th>\n",
       "    </tr>\n",
       "  </thead>\n",
       "  <tbody>\n",
       "    <tr>\n",
       "      <th>329</th>\n",
       "      <td>999</td>\n",
       "      <td>https://t.me/PoliGruppo</td>\n",
       "      <td>1.377961e+09</td>\n",
       "      <td>ma ce una sezione si o no?</td>\n",
       "      <td>NaN</td>\n",
       "      <td>2024-03-03 10:24:58+00:00</td>\n",
       "      <td>0</td>\n",
       "    </tr>\n",
       "    <tr>\n",
       "      <th>330</th>\n",
       "      <td>998</td>\n",
       "      <td>https://t.me/PoliGruppo</td>\n",
       "      <td>1.265578e+09</td>\n",
       "      <td>Se é per l'Erasmus o per mobilità internaziona...</td>\n",
       "      <td>204165.0</td>\n",
       "      <td>2024-03-03 10:32:32+00:00</td>\n",
       "      <td>0</td>\n",
       "    </tr>\n",
       "    <tr>\n",
       "      <th>331</th>\n",
       "      <td>997</td>\n",
       "      <td>https://t.me/PoliGruppo</td>\n",
       "      <td>4.690109e+08</td>\n",
       "      <td>Ci sono delle restrizioni a cosa si può portar...</td>\n",
       "      <td>NaN</td>\n",
       "      <td>2024-03-03 10:34:09+00:00</td>\n",
       "      <td>0</td>\n",
       "    </tr>\n",
       "    <tr>\n",
       "      <th>332</th>\n",
       "      <td>996</td>\n",
       "      <td>https://t.me/PoliGruppo</td>\n",
       "      <td>4.282712e+08</td>\n",
       "      <td>Cerca su libgen</td>\n",
       "      <td>204159.0</td>\n",
       "      <td>2024-03-03 10:41:34+00:00</td>\n",
       "      <td>0</td>\n",
       "    </tr>\n",
       "    <tr>\n",
       "      <th>333</th>\n",
       "      <td>995</td>\n",
       "      <td>https://t.me/PoliGruppo</td>\n",
       "      <td>6.277756e+08</td>\n",
       "      <td>Da regolamento c'è scritto che sono tassativam...</td>\n",
       "      <td>204167.0</td>\n",
       "      <td>2024-03-03 11:03:14+00:00</td>\n",
       "      <td>0</td>\n",
       "    </tr>\n",
       "  </tbody>\n",
       "</table>\n",
       "</div>"
      ],
      "text/plain": [
       "     Unnamed: 0                    group        sender  \\\n",
       "329         999  https://t.me/PoliGruppo  1.377961e+09   \n",
       "330         998  https://t.me/PoliGruppo  1.265578e+09   \n",
       "331         997  https://t.me/PoliGruppo  4.690109e+08   \n",
       "332         996  https://t.me/PoliGruppo  4.282712e+08   \n",
       "333         995  https://t.me/PoliGruppo  6.277756e+08   \n",
       "\n",
       "                                                  text     reply  \\\n",
       "329                         ma ce una sezione si o no?       NaN   \n",
       "330  Se é per l'Erasmus o per mobilità internaziona...  204165.0   \n",
       "331  Ci sono delle restrizioni a cosa si può portar...       NaN   \n",
       "332                                    Cerca su libgen  204159.0   \n",
       "333  Da regolamento c'è scritto che sono tassativam...  204167.0   \n",
       "\n",
       "                          date  reactions  \n",
       "329  2024-03-03 10:24:58+00:00          0  \n",
       "330  2024-03-03 10:32:32+00:00          0  \n",
       "331  2024-03-03 10:34:09+00:00          0  \n",
       "332  2024-03-03 10:41:34+00:00          0  \n",
       "333  2024-03-03 11:03:14+00:00          0  "
      ]
     },
     "execution_count": 115,
     "metadata": {},
     "output_type": "execute_result"
    }
   ],
   "source": [
    "polidf = df.loc[df['group'] == poligroup]\n",
    "\n",
    "polidf.head()"
   ]
  },
  {
   "cell_type": "code",
   "execution_count": 163,
   "metadata": {},
   "outputs": [],
   "source": [
    "def plot_and_compare_reduced_embeddings_2D(texts1, texts2, lang1, lang2):\n",
    "    langs1 = [lang1 for i in range(100)]\n",
    "    langs2 = [lang2 for i in range(100)]\n",
    "\n",
    "    from laserembeddings import Laser\n",
    "\n",
    "    laser = Laser()\n",
    "#\n",
    "    # if all sentences are in the same language:\n",
    "\n",
    "    embeddings1 = laser.embed_sentences(\n",
    "    texts1[0:100],\n",
    "    lang=langs1)\n",
    "\n",
    "    embeddings2 = laser.embed_sentences(\n",
    "    texts2[0:100],\n",
    "    lang=langs2)\n",
    "\n",
    "    pca = PCA(n_components=2)\n",
    "    reduced_embeddings1 = pca.fit_transform(embeddings1)\n",
    "    pca = PCA(n_components=2)\n",
    "    reduced_embeddings2 = pca.fit_transform(embeddings2)\n",
    "\n",
    "    # Plottare i punti\n",
    "    plt.scatter(reduced_embeddings1[:, 0], reduced_embeddings1[:, 1], c='b')\n",
    "    plt.scatter(reduced_embeddings2[:, 0], reduced_embeddings2[:, 1], c='r')\n",
    "\n",
    "    plt.show()"
   ]
  },
  {
   "cell_type": "code",
   "execution_count": 164,
   "metadata": {},
   "outputs": [
    {
     "data": {
      "image/png": "[encoded data removed]",
      "text/plain": [
       "<Figure size 640x480 with 1 Axes>"
      ]
     },
     "metadata": {},
     "output_type": "display_data"
    }
   ],
   "source": [
    "plot_and_compare_reduced_embeddings_2D(texts, polidf['text'], \"en\", \"it\")"
   ]
  },
  {
   "cell_type": "code",
   "execution_count": 166,
   "metadata": {},
   "outputs": [
    {
     "name": "stdout",
     "output_type": "stream",
     "text": [
      "['ma ce una sezione si o no?', \"Se é per l'Erasmus o per mobilità internazionale c'é l'apposito gruppo\", 'Ci sono delle restrizioni a cosa si può portare alla laurea per quanto riguarda coriandoli, botti ecc?', 'Cerca su libgen', \"Da regolamento c'è scritto che sono tassativamente vietati i festeggiamenti all'interno del campus. Mi pareva di aver scritto da qualche altra parte di evitare di lasciare sporcizia in giro cordiandoli compresi\"]\n"
     ]
    }
   ],
   "source": [
    "poli_texts = polidf['text']\n",
    "poli_texts_strings = [str(text) for text in poli_texts if isinstance(text, str)] \n",
    "print(poli_texts_strings[0:5])\n",
    "\n"
   ]
  },
  {
   "cell_type": "markdown",
   "metadata": {},
   "source": [
    "Try by plotting in the space"
   ]
  },
  {
   "cell_type": "code",
   "execution_count": 168,
   "metadata": {},
   "outputs": [],
   "source": [
    "def plot_and_compare_reduced_embeddings_3D(texts1, texts2, lang1, lang2, name1, name2):\n",
    "    langs1 = [lang1 for i in range(100)]\n",
    "    langs2 = [lang2 for i in range(100)]\n",
    "\n",
    "    from laserembeddings import Laser\n",
    "\n",
    "    laser = Laser()\n",
    "\n",
    "    # if all sentences are in the same language:\n",
    "\n",
    "    embeddings1 = laser.embed_sentences(\n",
    "    texts1[0:100],\n",
    "    lang=langs1)\n",
    "\n",
    "    embeddings2 = laser.embed_sentences(\n",
    "    texts2[0:100],\n",
    "    lang=langs2)\n",
    "\n",
    "    pca = PCA(n_components=3)\n",
    "    reduced_embeddings1 = pca.fit_transform(embeddings1)\n",
    "    pca = PCA(n_components=3)\n",
    "    reduced_embeddings2 = pca.fit_transform(embeddings2)\n",
    "\n",
    "    import plotly.graph_objects as go\n",
    "\n",
    "    # Importare i dati\n",
    "    import numpy as np\n",
    "\n",
    "    # Creare la figura\n",
    "    fig = go.Figure()\n",
    "\n",
    "    # Plot each set of points with a unique colormap\n",
    "    fig.add_scatter3d(\n",
    "        x=reduced_embeddings1[:, 0],\n",
    "        y=reduced_embeddings1[:, 1],\n",
    "        z=reduced_embeddings1[:, 2],\n",
    "        mode='markers',\n",
    "        marker=dict(color='blue', size=8),  # Use a color name or hex code for direct coloring\n",
    "        name=name1\n",
    "    )\n",
    "\n",
    "    fig.add_scatter3d(\n",
    "        x=reduced_embeddings2[:, 0],\n",
    "        y=reduced_embeddings2[:, 1],\n",
    "        z=reduced_embeddings2[:, 2],\n",
    "        mode='markers',\n",
    "        marker=dict(color='red', size=8),  # Use a different color for this set\n",
    "        name=name2\n",
    "    )\n",
    "\n",
    "    # Aggiungere le legende\n",
    "    fig.update_layout(legend=dict(yanchor=\"top\", y=0.99, xanchor=\"left\", x=0.01))\n",
    "\n",
    "    # Mostrare il plot\n",
    "    fig.show()"
   ]
  },
  {
   "cell_type": "code",
   "execution_count": 169,
   "metadata": {},
   "outputs": [
    {
     "data": {
      "application/vnd.plotly.v1+json": {
       "config": {
        "plotlyServerURL": "https://plot.ly"
       },
       "data": [
        {
         "marker": {
          "color": "blue",
          "size": 8
         },
         "mode": "markers",
         "name": "Our Group",
         "type": "scatter3d",
         "x": [
          -0.3650639057159424,
          -0.29907768964767456,
          -0.3698691129684448,
          -0.3489035964012146,
          -0.28401994705200195,
          -0.03189639747142792,
          -0.36506402492523193,
          0.22835814952850342,
          -0.1664864867925644,
          -0.09421855211257935,
          0.008380670100450516,
          -0.20640450716018677,
          -0.08971012383699417,
          -0.03656265139579773,
          -0.0678819864988327,
          -0.3675357699394226,
          -0.0852418765425682,
          -0.1003890335559845,
          0.06887470930814743,
          0.064228855073452,
          0.18195226788520813,
          0.08149918168783188,
          0.09349966794252396,
          0.04376481845974922,
          -0.0832042247056961,
          0.38616180419921875,
          0.39944711327552795,
          0.2299305647611618,
          0.2387215495109558,
          -0.1315845102071762,
          0.024334754794836044,
          -0.2341340333223343,
          -0.08478178828954697,
          -0.36506402492523193,
          -0.36506402492523193,
          -0.22705630958080292,
          0.4665397107601166,
          0.018102100118994713,
          0.2110872119665146,
          -0.11330901086330414,
          0.03589985519647598,
          -0.21655456721782684,
          -0.10101934522390366,
          0.07631591707468033,
          0.22508148849010468,
          0.1334126591682434,
          0.3393247723579407,
          -0.06742361187934875,
          0.28341343998908997,
          -0.17244413495063782,
          0.22023288905620575,
          -0.00971751194447279,
          0.12668824195861816,
          0.0312516950070858,
          -0.11079604178667068,
          -0.1008158028125763,
          0.2395704835653305,
          0.27912336587905884,
          0.25264692306518555,
          -0.1431465446949005,
          0.23801171779632568,
          -0.12637539207935333,
          -0.36506402492523193,
          0.010577923618257046,
          0.14695240557193756,
          0.25226426124572754,
          0.2416113168001175,
          0.14091354608535767,
          -0.3627736568450928,
          -0.1399705559015274,
          -0.36506402492523193,
          -0.059925708919763565,
          -0.14125455915927887,
          -0.3827379047870636,
          -0.19999992847442627,
          -0.16926389932632446,
          -0.16295011341571808,
          -0.0769663006067276,
          -0.20278140902519226,
          0.06796211749315262,
          0.22764228284358978,
          0.2958802878856659,
          0.28031790256500244,
          0.1625341922044754,
          0.11460702121257782,
          0.09344328939914703,
          0.13768182694911957,
          0.1095828041434288,
          -0.3045147955417633,
          -0.3045148551464081,
          0.23086893558502197,
          0.21834273636341095,
          0.1059715524315834,
          0.11856339871883392,
          0.3614870309829712,
          -0.230093315243721,
          0.4500358998775482,
          0.24782569706439972,
          -0.0006384950247593224,
          0.15840840339660645
         ],
         "y": [
          0.06882144510746002,
          -0.005068393889814615,
          0.02516520395874977,
          0.01833980716764927,
          -0.009869744069874287,
          -0.06139363348484039,
          0.06882143020629883,
          -0.06350988894701004,
          0.026142027229070663,
          -0.02449061907827854,
          -0.06678672879934311,
          -0.05679285153746605,
          0.017214816063642502,
          -0.04078008979558945,
          -0.014549903571605682,
          0.05121557042002678,
          0.014952138066291809,
          -0.007997550070285797,
          -0.004075337201356888,
          -0.14161700010299683,
          -0.08986905962228775,
          -0.09468957036733627,
          -0.09373033046722412,
          -0.05802086740732193,
          -0.08565664291381836,
          0.21117869019508362,
          0.21134990453720093,
          -0.09111785888671875,
          0.07044469565153122,
          -0.07608887553215027,
          0.18472430109977722,
          0.15230384469032288,
          -0.04787347838282585,
          0.06882143020629883,
          0.06882143020629883,
          -0.05488676205277443,
          0.1388394832611084,
          -0.152960866689682,
          -0.05005767568945885,
          -0.07156865298748016,
          -0.07941653579473495,
          -0.012979483231902122,
          -0.0918075293302536,
          0.03576604276895523,
          -0.15626543760299683,
          0.0033251121640205383,
          -0.02160397171974182,
          -0.12091545760631561,
          -0.04115850105881691,
          0.19218556582927704,
          -0.07235066592693329,
          0.3464779555797577,
          0.027060432359576225,
          0.2855002284049988,
          0.0026943832635879517,
          0.016506044194102287,
          0.3905058205127716,
          0.2263127565383911,
          0.39803820848464966,
          -0.1107146143913269,
          -0.1521436721086502,
          -0.059202298521995544,
          0.06882143020629883,
          0.1600939780473709,
          0.0005732992431148887,
          0.16112039983272552,
          -0.12348365038633347,
          -0.019022904336452484,
          0.010237022303044796,
          -0.08648902922868729,
          0.06882143020629883,
          -0.12156657874584198,
          -0.046312641352415085,
          0.013710824772715569,
          -0.05035465955734253,
          -0.0451761931180954,
          -0.056489359587430954,
          0.08454163372516632,
          0.18346457183361053,
          -0.015368396416306496,
          -0.12642480432987213,
          -0.08899813145399094,
          -0.10046342015266418,
          -0.10290281474590302,
          -0.08064867556095123,
          -0.11881539225578308,
          -0.12311966717243195,
          -0.10949256271123886,
          0.010568678379058838,
          0.010568681173026562,
          -0.06894762814044952,
          -0.12274133414030075,
          -0.008370482362806797,
          -0.03383134305477142,
          0.13585153222084045,
          -0.035886574536561966,
          -0.01962861232459545,
          -0.07772672176361084,
          -0.07213585078716278,
          0.0065057361498475075
         ],
         "z": [
          0.19873858988285065,
          0.052518051117658615,
          0.1047750860452652,
          0.09772893041372299,
          -0.00847368873655796,
          0.029976563528180122,
          0.19873857498168945,
          0.08433596044778824,
          0.07228780537843704,
          -0.0057144612073898315,
          -0.04475008323788643,
          -0.07212847471237183,
          -0.005304296500980854,
          0.004198216833174229,
          0.015313904732465744,
          0.11779408901929855,
          -0.10320091247558594,
          0.010661677457392216,
          0.06783818453550339,
          -0.02343132160604,
          0.012021571397781372,
          -0.08216824382543564,
          0.003702054265886545,
          -0.021638404577970505,
          -0.060025863349437714,
          0.22793321311473846,
          0.048952531069517136,
          0.020088016986846924,
          0.09880413860082626,
          -0.07410255819559097,
          -0.176513209939003,
          -0.0572507418692112,
          -0.12035922706127167,
          0.19873857498168945,
          0.19873857498168945,
          -0.11479470133781433,
          0.12535952031612396,
          -0.06811616569757462,
          0.14649830758571625,
          -0.03036373294889927,
          -0.007280697114765644,
          0.013741512782871723,
          -0.08592105656862259,
          -0.017336944118142128,
          0.034217122942209244,
          -0.032161496579647064,
          0.038467008620500565,
          -0.07368109375238419,
          0.13051818311214447,
          -0.08364376425743103,
          -0.019861167296767235,
          -0.16822481155395508,
          -0.0954243391752243,
          -0.16119252145290375,
          -0.14056581258773804,
          -0.11783375591039658,
          -0.11599619686603546,
          -0.04000513255596161,
          -0.10926360636949539,
          -0.12089379131793976,
          0.01783597096800804,
          -0.06461405009031296,
          0.19873857498168945,
          -0.16037185490131378,
          -0.023763976991176605,
          -0.07409849017858505,
          0.0027124062180519104,
          -0.08194737881422043,
          0.08445683121681213,
          -0.1392916440963745,
          0.19873857498168945,
          -0.10722392797470093,
          0.04186040908098221,
          0.10236340016126633,
          -0.08096184581518173,
          -0.022564660757780075,
          -0.04269200935959816,
          -0.016273971647024155,
          -0.05706170201301575,
          -0.0748552605509758,
          0.012759522534906864,
          0.05532793328166008,
          0.10626225918531418,
          0.027276040986180305,
          -0.04344195872545242,
          -0.06546333432197571,
          -0.03762092813849449,
          -0.016873344779014587,
          0.030295480042696,
          0.030295491218566895,
          -0.06547513604164124,
          0.016237270087003708,
          -0.08691263198852539,
          -0.057444773614406586,
          0.29878488183021545,
          -0.06547444313764572,
          0.25150933861732483,
          0.06446050852537155,
          -0.12239573150873184,
          0.0718449205160141
         ]
        },
        {
         "marker": {
          "color": "red",
          "size": 8
         },
         "mode": "markers",
         "name": "PoliNetwork Group",
         "type": "scatter3d",
         "x": [
          0.15997730195522308,
          0.024459803476929665,
          -0.10727390646934509,
          0.22943860292434692,
          -0.1919330358505249,
          -0.10130035132169724,
          -0.020893484354019165,
          0.008389071561396122,
          -0.009361615404486656,
          -0.18742695450782776,
          -0.014436190947890282,
          -0.1221664547920227,
          -0.15249516069889069,
          -0.22917968034744263,
          -0.1982642412185669,
          -0.24776360392570496,
          0.06222786381840706,
          0.16221119463443756,
          -0.05893732234835625,
          -0.22752997279167175,
          0.0909784659743309,
          -0.3512876331806183,
          -0.019240552559494972,
          -0.19339701533317566,
          0.14494740962982178,
          -0.04652786627411842,
          0.18325011432170868,
          -0.20446790754795074,
          -0.11867812275886536,
          -0.07260946184396744,
          -0.1306726187467575,
          -0.22073645889759064,
          0.3215511739253998,
          0.196772038936615,
          0.27866193652153015,
          -0.11990853399038315,
          -0.20912013947963715,
          0.11789310723543167,
          -0.21455763280391693,
          -0.2124900370836258,
          -0.07969235628843307,
          0.0595334954559803,
          0.21851396560668945,
          -0.03159637004137039,
          -0.10434083640575409,
          0.06821992248296738,
          0.0930275097489357,
          0.2870956063270569,
          -0.24913543462753296,
          0.056902896612882614,
          0.10159745067358017,
          0.32414358854293823,
          0.08287638425827026,
          0.23047763109207153,
          0.2652733623981476,
          -0.37300989031791687,
          0.2389674037694931,
          0.03282291069626808,
          0.20477129518985748,
          0.101272813975811,
          0.06929419934749603,
          0.15613579750061035,
          0.25320199131965637,
          -0.06178863346576691,
          0.1302279680967331,
          0.15106715261936188,
          0.4214935600757599,
          0.05791046470403671,
          0.14191049337387085,
          0.10169026255607605,
          -0.12836851179599762,
          -0.27273640036582947,
          -0.2072973996400833,
          0.3814033567905426,
          -0.08838123083114624,
          -0.17565619945526123,
          -0.031356826424598694,
          0.3814034163951874,
          0.05356484651565552,
          0.05908656120300293,
          -0.10527905076742172,
          0.2901296615600586,
          -0.2849647104740143,
          0.08877008408308029,
          0.20285992324352264,
          -0.25246158242225647,
          0.20285992324352264,
          0.09993808716535568,
          -0.22297565639019012,
          0.05276475474238396,
          -0.05474404990673065,
          0.12624341249465942,
          0.29809004068374634,
          -0.2586067020893097,
          -0.24341948330402374,
          -0.06251084804534912,
          -0.10732277482748032,
          -0.30490994453430176,
          -0.14406074583530426,
          -0.239027738571167
         ],
         "y": [
          0.0036958984564989805,
          0.051992546766996384,
          0.19764433801174164,
          0.002999835880473256,
          -0.1148381158709526,
          0.1624181568622589,
          0.07349949330091476,
          0.0883214995265007,
          0.20396216213703156,
          -0.11763071268796921,
          0.12131661176681519,
          -0.155562624335289,
          -0.06031586974859238,
          0.1625695675611496,
          -0.04294045269489288,
          -0.05370122939348221,
          -0.10469096153974533,
          -0.1829564869403839,
          0.09669753909111023,
          -0.06295888870954514,
          -0.006599262356758118,
          -0.046602655202150345,
          0.16251437366008759,
          -0.03807691112160683,
          0.134475976228714,
          -0.04678833857178688,
          -0.0007628375897184014,
          0.011579963378608227,
          -0.13420085608959198,
          -0.018599005416035652,
          0.02711363323032856,
          -0.10357831418514252,
          0.009482214227318764,
          0.03197462856769562,
          -0.10084665566682816,
          -0.024521393701434135,
          -0.02079477533698082,
          -0.004690916743129492,
          -0.14023029804229736,
          -0.07309173792600632,
          0.00041884940583258867,
          0.05140802636742592,
          -0.07482393831014633,
          0.10413765162229538,
          -0.13499505817890167,
          0.041078198701143265,
          0.11390729248523712,
          -0.07363907992839813,
          -0.1069883480668068,
          0.14445094764232635,
          0.0017350738635286689,
          0.013915923424065113,
          0.036954283714294434,
          -0.020296284928917885,
          -0.07025784999132156,
          -0.11983560025691986,
          0.03849015012383461,
          -0.103205606341362,
          -0.0031225746497511864,
          -0.08526611328125,
          -0.011381368152797222,
          -0.051885638386011124,
          -0.1361449807882309,
          0.06575821340084076,
          -0.07115289568901062,
          0.05428526923060417,
          -0.08517932891845703,
          -0.09297928214073181,
          -0.04007886350154877,
          0.0805797204375267,
          -0.062184788286685944,
          0.011834554374217987,
          0.20543240010738373,
          -0.06115863099694252,
          0.10159233957529068,
          -0.016162678599357605,
          0.13106559216976166,
          -0.06115863099694252,
          0.1482584923505783,
          0.09454744309186935,
          0.21746091544628143,
          -0.07378101348876953,
          -0.15418100357055664,
          0.20855680108070374,
          -0.1412268579006195,
          0.12085464596748352,
          -0.1412268579006195,
          0.19879265129566193,
          -0.014780009165406227,
          0.13166892528533936,
          0.012886879965662956,
          0.03513925522565842,
          0.0005321303615346551,
          -0.05928075313568115,
          -0.01793581433594227,
          -0.115254245698452,
          0.09782227873802185,
          -0.103821761906147,
          -0.04871451109647751,
          0.0012559517053887248
         ],
         "z": [
          -0.05403446406126022,
          0.031079238280653954,
          0.017035411670804024,
          0.0060421619564294815,
          -0.028592132031917572,
          0.056446634232997894,
          0.22655972838401794,
          -0.04601548984646797,
          -0.07847199589014053,
          -0.02862798236310482,
          -0.12600234150886536,
          -0.07901942729949951,
          0.008030849508941174,
          -0.09087494015693665,
          0.2468106746673584,
          0.07390519231557846,
          -0.04870433360338211,
          0.1283320039510727,
          0.047348059713840485,
          0.2794147729873657,
          -0.032377973198890686,
          0.10119228065013885,
          0.017461124807596207,
          0.022398950532078743,
          0.038868196308612823,
          0.08891776949167252,
          -0.011650517582893372,
          0.029474418610334396,
          -0.0695159062743187,
          0.034332118928432465,
          -0.06384792923927307,
          -0.04637123644351959,
          0.05550602450966835,
          -0.032146815210580826,
          -0.011041631922125816,
          -0.05794426053762436,
          -0.12495540827512741,
          -0.016362546011805534,
          0.03568802773952484,
          -0.01593163050711155,
          -0.09271281957626343,
          -0.12810561060905457,
          -0.01587841287255287,
          0.08058895915746689,
          -0.01978434808552265,
          -0.04497570917010307,
          -0.09551317989826202,
          -0.03135954961180687,
          -0.08164273202419281,
          -0.029000120237469673,
          -0.025836078450083733,
          0.0740058645606041,
          -0.05613834038376808,
          0.02412039041519165,
          -0.005227803252637386,
          0.008653518743813038,
          -0.024240553379058838,
          -0.0992051437497139,
          -0.054962366819381714,
          -0.09718402475118637,
          -0.02577393129467964,
          -0.017176257446408272,
          0.06418400257825851,
          -0.1288929283618927,
          -0.0923885703086853,
          -0.0908282920718193,
          0.08163370937108994,
          -0.11880692094564438,
          -0.010065464302897453,
          -0.06015175208449364,
          -0.09093087166547775,
          -0.03438352793455124,
          0.07516281306743622,
          0.035412225872278214,
          -0.10319152474403381,
          0.2491108626127243,
          0.08296379446983337,
          0.035412222146987915,
          0.0014430384617298841,
          -0.07897063344717026,
          0.1185743436217308,
          -0.044117193669080734,
          -0.022337017580866814,
          0.06578868627548218,
          0.09190141409635544,
          0.005757657811045647,
          0.09190141409635544,
          0.06132034957408905,
          -0.004077828023582697,
          -0.06237851455807686,
          -0.09090039134025574,
          0.0631561204791069,
          0.23830614984035492,
          0.011001300066709518,
          -0.07980787009000778,
          -0.05674334242939949,
          -0.10291527211666107,
          -0.029467221349477768,
          -0.05518823862075806,
          0.2585061490535736
         ]
        }
       ],
       "layout": {
        "legend": {
         "x": 0.01,
         "xanchor": "left",
         "y": 0.99,
         "yanchor": "top"
        },
        "template": {
         "data": {
          "bar": [
           {
            "error_x": {
             "color": "#2a3f5f"
            },
            "error_y": {
             "color": "#2a3f5f"
            },
            "marker": {
             "line": {
              "color": "#E5ECF6",
              "width": 0.5
             },
             "pattern": {
              "fillmode": "overlay",
              "size": 10,
              "solidity": 0.2
             }
            },
            "type": "bar"
           }
          ],
          "barpolar": [
           {
            "marker": {
             "line": {
              "color": "#E5ECF6",
              "width": 0.5
             },
             "pattern": {
              "fillmode": "overlay",
              "size": 10,
              "solidity": 0.2
             }
            },
            "type": "barpolar"
           }
          ],
          "carpet": [
           {
            "aaxis": {
             "endlinecolor": "#2a3f5f",
             "gridcolor": "white",
             "linecolor": "white",
             "minorgridcolor": "white",
             "startlinecolor": "#2a3f5f"
            },
            "baxis": {
             "endlinecolor": "#2a3f5f",
             "gridcolor": "white",
             "linecolor": "white",
             "minorgridcolor": "white",
             "startlinecolor": "#2a3f5f"
            },
            "type": "carpet"
           }
          ],
          "choropleth": [
           {
            "colorbar": {
             "outlinewidth": 0,
             "ticks": ""
            },
            "type": "choropleth"
           }
          ],
          "contour": [
           {
            "colorbar": {
             "outlinewidth": 0,
             "ticks": ""
            },
            "colorscale": [
             [
              0,
              "#0d0887"
             ],
             [
              0.1111111111111111,
              "#46039f"
             ],
             [
              0.2222222222222222,
              "#7201a8"
             ],
             [
              0.3333333333333333,
              "#9c179e"
             ],
             [
              0.4444444444444444,
              "#bd3786"
             ],
             [
              0.5555555555555556,
              "#d8576b"
             ],
             [
              0.6666666666666666,
              "#ed7953"
             ],
             [
              0.7777777777777778,
              "#fb9f3a"
             ],
             [
              0.8888888888888888,
              "#fdca26"
             ],
             [
              1,
              "#f0f921"
             ]
            ],
            "type": "contour"
           }
          ],
          "contourcarpet": [
           {
            "colorbar": {
             "outlinewidth": 0,
             "ticks": ""
            },
            "type": "contourcarpet"
           }
          ],
          "heatmap": [
           {
            "colorbar": {
             "outlinewidth": 0,
             "ticks": ""
            },
            "colorscale": [
             [
              0,
              "#0d0887"
             ],
             [
              0.1111111111111111,
              "#46039f"
             ],
             [
              0.2222222222222222,
              "#7201a8"
             ],
             [
              0.3333333333333333,
              "#9c179e"
             ],
             [
              0.4444444444444444,
              "#bd3786"
             ],
             [
              0.5555555555555556,
              "#d8576b"
             ],
             [
              0.6666666666666666,
              "#ed7953"
             ],
             [
              0.7777777777777778,
              "#fb9f3a"
             ],
             [
              0.8888888888888888,
              "#fdca26"
             ],
             [
              1,
              "#f0f921"
             ]
            ],
            "type": "heatmap"
           }
          ],
          "heatmapgl": [
           {
            "colorbar": {
             "outlinewidth": 0,
             "ticks": ""
            },
            "colorscale": [
             [
              0,
              "#0d0887"
             ],
             [
              0.1111111111111111,
              "#46039f"
             ],
             [
              0.2222222222222222,
              "#7201a8"
             ],
             [
              0.3333333333333333,
              "#9c179e"
             ],
             [
              0.4444444444444444,
              "#bd3786"
             ],
             [
              0.5555555555555556,
              "#d8576b"
             ],
             [
              0.6666666666666666,
              "#ed7953"
             ],
             [
              0.7777777777777778,
              "#fb9f3a"
             ],
             [
              0.8888888888888888,
              "#fdca26"
             ],
             [
              1,
              "#f0f921"
             ]
            ],
            "type": "heatmapgl"
           }
          ],
          "histogram": [
           {
            "marker": {
             "pattern": {
              "fillmode": "overlay",
              "size": 10,
              "solidity": 0.2
             }
            },
            "type": "histogram"
           }
          ],
          "histogram2d": [
           {
            "colorbar": {
             "outlinewidth": 0,
             "ticks": ""
            },
            "colorscale": [
             [
              0,
              "#0d0887"
             ],
             [
              0.1111111111111111,
              "#46039f"
             ],
             [
              0.2222222222222222,
              "#7201a8"
             ],
             [
              0.3333333333333333,
              "#9c179e"
             ],
             [
              0.4444444444444444,
              "#bd3786"
             ],
             [
              0.5555555555555556,
              "#d8576b"
             ],
             [
              0.6666666666666666,
              "#ed7953"
             ],
             [
              0.7777777777777778,
              "#fb9f3a"
             ],
             [
              0.8888888888888888,
              "#fdca26"
             ],
             [
              1,
              "#f0f921"
             ]
            ],
            "type": "histogram2d"
           }
          ],
          "histogram2dcontour": [
           {
            "colorbar": {
             "outlinewidth": 0,
             "ticks": ""
            },
            "colorscale": [
             [
              0,
              "#0d0887"
             ],
             [
              0.1111111111111111,
              "#46039f"
             ],
             [
              0.2222222222222222,
              "#7201a8"
             ],
             [
              0.3333333333333333,
              "#9c179e"
             ],
             [
              0.4444444444444444,
              "#bd3786"
             ],
             [
              0.5555555555555556,
              "#d8576b"
             ],
             [
              0.6666666666666666,
              "#ed7953"
             ],
             [
              0.7777777777777778,
              "#fb9f3a"
             ],
             [
              0.8888888888888888,
              "#fdca26"
             ],
             [
              1,
              "#f0f921"
             ]
            ],
            "type": "histogram2dcontour"
           }
          ],
          "mesh3d": [
           {
            "colorbar": {
             "outlinewidth": 0,
             "ticks": ""
            },
            "type": "mesh3d"
           }
          ],
          "parcoords": [
           {
            "line": {
             "colorbar": {
              "outlinewidth": 0,
              "ticks": ""
             }
            },
            "type": "parcoords"
           }
          ],
          "pie": [
           {
            "automargin": true,
            "type": "pie"
           }
          ],
          "scatter": [
           {
            "fillpattern": {
             "fillmode": "overlay",
             "size": 10,
             "solidity": 0.2
            },
            "type": "scatter"
           }
          ],
          "scatter3d": [
           {
            "line": {
             "colorbar": {
              "outlinewidth": 0,
              "ticks": ""
             }
            },
            "marker": {
             "colorbar": {
              "outlinewidth": 0,
              "ticks": ""
             }
            },
            "type": "scatter3d"
           }
          ],
          "scattercarpet": [
           {
            "marker": {
             "colorbar": {
              "outlinewidth": 0,
              "ticks": ""
             }
            },
            "type": "scattercarpet"
           }
          ],
          "scattergeo": [
           {
            "marker": {
             "colorbar": {
              "outlinewidth": 0,
              "ticks": ""
             }
            },
            "type": "scattergeo"
           }
          ],
          "scattergl": [
           {
            "marker": {
             "colorbar": {
              "outlinewidth": 0,
              "ticks": ""
             }
            },
            "type": "scattergl"
           }
          ],
          "scattermapbox": [
           {
            "marker": {
             "colorbar": {
              "outlinewidth": 0,
              "ticks": ""
             }
            },
            "type": "scattermapbox"
           }
          ],
          "scatterpolar": [
           {
            "marker": {
             "colorbar": {
              "outlinewidth": 0,
              "ticks": ""
             }
            },
            "type": "scatterpolar"
           }
          ],
          "scatterpolargl": [
           {
            "marker": {
             "colorbar": {
              "outlinewidth": 0,
              "ticks": ""
             }
            },
            "type": "scatterpolargl"
           }
          ],
          "scatterternary": [
           {
            "marker": {
             "colorbar": {
              "outlinewidth": 0,
              "ticks": ""
             }
            },
            "type": "scatterternary"
           }
          ],
          "surface": [
           {
            "colorbar": {
             "outlinewidth": 0,
             "ticks": ""
            },
            "colorscale": [
             [
              0,
              "#0d0887"
             ],
             [
              0.1111111111111111,
              "#46039f"
             ],
             [
              0.2222222222222222,
              "#7201a8"
             ],
             [
              0.3333333333333333,
              "#9c179e"
             ],
             [
              0.4444444444444444,
              "#bd3786"
             ],
             [
              0.5555555555555556,
              "#d8576b"
             ],
             [
              0.6666666666666666,
              "#ed7953"
             ],
             [
              0.7777777777777778,
              "#fb9f3a"
             ],
             [
              0.8888888888888888,
              "#fdca26"
             ],
             [
              1,
              "#f0f921"
             ]
            ],
            "type": "surface"
           }
          ],
          "table": [
           {
            "cells": {
             "fill": {
              "color": "#EBF0F8"
             },
             "line": {
              "color": "white"
             }
            },
            "header": {
             "fill": {
              "color": "#C8D4E3"
             },
             "line": {
              "color": "white"
             }
            },
            "type": "table"
           }
          ]
         },
         "layout": {
          "annotationdefaults": {
           "arrowcolor": "#2a3f5f",
           "arrowhead": 0,
           "arrowwidth": 1
          },
          "autotypenumbers": "strict",
          "coloraxis": {
           "colorbar": {
            "outlinewidth": 0,
            "ticks": ""
           }
          },
          "colorscale": {
           "diverging": [
            [
             0,
             "#8e0152"
            ],
            [
             0.1,
             "#c51b7d"
            ],
            [
             0.2,
             "#de77ae"
            ],
            [
             0.3,
             "#f1b6da"
            ],
            [
             0.4,
             "#fde0ef"
            ],
            [
             0.5,
             "#f7f7f7"
            ],
            [
             0.6,
             "#e6f5d0"
            ],
            [
             0.7,
             "#b8e186"
            ],
            [
             0.8,
             "#7fbc41"
            ],
            [
             0.9,
             "#4d9221"
            ],
            [
             1,
             "#276419"
            ]
           ],
           "sequential": [
            [
             0,
             "#0d0887"
            ],
            [
             0.1111111111111111,
             "#46039f"
            ],
            [
             0.2222222222222222,
             "#7201a8"
            ],
            [
             0.3333333333333333,
             "#9c179e"
            ],
            [
             0.4444444444444444,
             "#bd3786"
            ],
            [
             0.5555555555555556,
             "#d8576b"
            ],
            [
             0.6666666666666666,
             "#ed7953"
            ],
            [
             0.7777777777777778,
             "#fb9f3a"
            ],
            [
             0.8888888888888888,
             "#fdca26"
            ],
            [
             1,
             "#f0f921"
            ]
           ],
           "sequentialminus": [
            [
             0,
             "#0d0887"
            ],
            [
             0.1111111111111111,
             "#46039f"
            ],
            [
             0.2222222222222222,
             "#7201a8"
            ],
            [
             0.3333333333333333,
             "#9c179e"
            ],
            [
             0.4444444444444444,
             "#bd3786"
            ],
            [
             0.5555555555555556,
             "#d8576b"
            ],
            [
             0.6666666666666666,
             "#ed7953"
            ],
            [
             0.7777777777777778,
             "#fb9f3a"
            ],
            [
             0.8888888888888888,
             "#fdca26"
            ],
            [
             1,
             "#f0f921"
            ]
           ]
          },
          "colorway": [
           "#636efa",
           "#EF553B",
           "#00cc96",
           "#ab63fa",
           "#FFA15A",
           "#19d3f3",
           "#FF6692",
           "#B6E880",
           "#FF97FF",
           "#FECB52"
          ],
          "font": {
           "color": "#2a3f5f"
          },
          "geo": {
           "bgcolor": "white",
           "lakecolor": "white",
           "landcolor": "#E5ECF6",
           "showlakes": true,
           "showland": true,
           "subunitcolor": "white"
          },
          "hoverlabel": {
           "align": "left"
          },
          "hovermode": "closest",
          "mapbox": {
           "style": "light"
          },
          "paper_bgcolor": "white",
          "plot_bgcolor": "#E5ECF6",
          "polar": {
           "angularaxis": {
            "gridcolor": "white",
            "linecolor": "white",
            "ticks": ""
           },
           "bgcolor": "#E5ECF6",
           "radialaxis": {
            "gridcolor": "white",
            "linecolor": "white",
            "ticks": ""
           }
          },
          "scene": {
           "xaxis": {
            "backgroundcolor": "#E5ECF6",
            "gridcolor": "white",
            "gridwidth": 2,
            "linecolor": "white",
            "showbackground": true,
            "ticks": "",
            "zerolinecolor": "white"
           },
           "yaxis": {
            "backgroundcolor": "#E5ECF6",
            "gridcolor": "white",
            "gridwidth": 2,
            "linecolor": "white",
            "showbackground": true,
            "ticks": "",
            "zerolinecolor": "white"
           },
           "zaxis": {
            "backgroundcolor": "#E5ECF6",
            "gridcolor": "white",
            "gridwidth": 2,
            "linecolor": "white",
            "showbackground": true,
            "ticks": "",
            "zerolinecolor": "white"
           }
          },
          "shapedefaults": {
           "line": {
            "color": "#2a3f5f"
           }
          },
          "ternary": {
           "aaxis": {
            "gridcolor": "white",
            "linecolor": "white",
            "ticks": ""
           },
           "baxis": {
            "gridcolor": "white",
            "linecolor": "white",
            "ticks": ""
           },
           "bgcolor": "#E5ECF6",
           "caxis": {
            "gridcolor": "white",
            "linecolor": "white",
            "ticks": ""
           }
          },
          "title": {
           "x": 0.05
          },
          "xaxis": {
           "automargin": true,
           "gridcolor": "white",
           "linecolor": "white",
           "ticks": "",
           "title": {
            "standoff": 15
           },
           "zerolinecolor": "white",
           "zerolinewidth": 2
          },
          "yaxis": {
           "automargin": true,
           "gridcolor": "white",
           "linecolor": "white",
           "ticks": "",
           "title": {
            "standoff": 15
           },
           "zerolinecolor": "white",
           "zerolinewidth": 2
          }
         }
        }
       }
      }
     },
     "metadata": {},
     "output_type": "display_data"
    }
   ],
   "source": [
    "plot_and_compare_reduced_embeddings_3D(texts, poli_texts_strings, \"en\", \"it\", \"Our Group\", \"PoliNetwork Group\")"
   ]
  },
  {
   "cell_type": "markdown",
   "metadata": {},
   "source": [
    "Doing the same as before using the preprocessed texts"
   ]
  },
  {
   "cell_type": "code",
   "execution_count": 170,
   "metadata": {},
   "outputs": [],
   "source": [
    "preprocessed_texts = [preprocess_message(text, \"english\") for text in texts]\n",
    "poli_preprocessed_texts = [preprocess_message(text, \"italian\") for text in poli_texts_strings]\n"
   ]
  },
  {
   "cell_type": "code",
   "execution_count": 171,
   "metadata": {},
   "outputs": [
    {
     "data": {
      "image/png": "[encoded data removed]",
      "text/plain": [
       "<Figure size 640x480 with 1 Axes>"
      ]
     },
     "metadata": {},
     "output_type": "display_data"
    }
   ],
   "source": [
    "plot_and_compare_reduced_embeddings_2D(preprocessed_texts, poli_preprocessed_texts, \"en\", \"it\")"
   ]
  },
  {
   "cell_type": "code",
   "execution_count": 172,
   "metadata": {},
   "outputs": [
    {
     "data": {
      "application/vnd.plotly.v1+json": {
       "config": {
        "plotlyServerURL": "https://plot.ly"
       },
       "data": [
        {
         "marker": {
          "color": "blue",
          "size": 8
         },
         "mode": "markers",
         "name": "Our Group",
         "type": "scatter3d",
         "x": [
          -0.33257856965065,
          -0.24573981761932373,
          -0.33829787373542786,
          -0.33829787373542786,
          -0.26771795749664307,
          0.01761411875486374,
          -0.3325785994529724,
          0.20133201777935028,
          -0.08569229394197464,
          -0.21864227950572968,
          0.02620990015566349,
          -0.23596061766147614,
          -0.1938011795282364,
          -0.017502017319202423,
          -0.013048460707068443,
          -0.3378859758377075,
          -0.07388333231210709,
          -0.24638205766677856,
          0.08586134761571884,
          0.07415169477462769,
          0.16424515843391418,
          0.0078107574954628944,
          0.10014194995164871,
          -0.03619982302188873,
          -0.11530080437660217,
          0.39342376589775085,
          0.4001590609550476,
          0.22669516503810883,
          0.29579854011535645,
          -0.08584029972553253,
          -0.038566794246435165,
          -0.18182368576526642,
          -0.0038228912744671106,
          -0.3325785994529724,
          -0.3325785994529724,
          -0.3358406722545624,
          0.4652632772922516,
          0.008278870955109596,
          0.20857281982898712,
          -0.06403869390487671,
          0.12218247354030609,
          -0.2459203600883484,
          -0.09143678843975067,
          0.15571677684783936,
          0.2068289816379547,
          0.11062218248844147,
          0.292598158121109,
          -0.063912034034729,
          0.3029836118221283,
          -0.13018789887428284,
          0.2395298033952713,
          0.028214991092681885,
          0.14085187017917633,
          0.05938294529914856,
          -0.11830748617649078,
          -0.15787257254123688,
          0.222539022564888,
          0.3163061738014221,
          0.23089604079723358,
          -0.13473576307296753,
          0.20674458146095276,
          -0.06012004241347313,
          -0.3325785994529724,
          -0.03778103366494179,
          0.13043104112148285,
          0.23527291417121887,
          0.1986904740333557,
          0.16364078223705292,
          -0.3605125844478607,
          -0.1077551394701004,
          -0.3325785994529724,
          -0.010347367264330387,
          -0.1754799485206604,
          -0.3605125844478607,
          -0.20591090619564056,
          -0.15247251093387604,
          -0.2087235003709793,
          -0.026832008734345436,
          -0.14218994975090027,
          0.09516234695911407,
          0.2106192260980606,
          0.2563183307647705,
          0.29340001940727234,
          0.1763266623020172,
          0.08167807012796402,
          0.08701672405004501,
          0.07797665894031525,
          -0.05732714757323265,
          -0.34935638308525085,
          -0.34935638308525085,
          0.21827882528305054,
          0.20502649247646332,
          0.10888274759054184,
          0.13797664642333984,
          0.29885372519493103,
          -0.19697849452495575,
          0.44214102625846863,
          0.2827695310115814,
          -0.024563318118453026,
          0.2269325703382492
         ],
         "y": [
          0.06396261602640152,
          -0.019614923745393753,
          0.008769000880420208,
          0.008769001811742783,
          -0.032698385417461395,
          -0.08370107412338257,
          0.06396263837814331,
          -0.09336026012897491,
          0.009516104124486446,
          -0.03735276311635971,
          -0.061404649168252945,
          -0.0245719812810421,
          -0.05019748583436012,
          0.012051702477037907,
          -0.041431695222854614,
          0.03789561986923218,
          0.02914445288479328,
          -0.00935454573482275,
          -0.023404324427247047,
          -0.12460341304540634,
          -0.08092932403087616,
          -0.0932648554444313,
          -0.10943098366260529,
          0.03066040202975273,
          -0.07789679616689682,
          0.17949143052101135,
          0.11852242797613144,
          -0.08594941347837448,
          0.10887185484170914,
          -0.09486647695302963,
          0.17713068425655365,
          0.16554707288742065,
          -0.06017148122191429,
          0.06396263837814331,
          0.06396263837814331,
          -0.012604188174009323,
          0.07894732058048248,
          -0.17051167786121368,
          -0.06844031065702438,
          -0.08374685049057007,
          -0.02857866883277893,
          -0.02307085506618023,
          -0.09752579778432846,
          -0.031083425506949425,
          -0.14293451607227325,
          0.040696825832128525,
          -0.053327109664678574,
          -0.10229399055242538,
          -0.019385777413845062,
          0.2223575860261917,
          -0.059742189943790436,
          0.3724350035190582,
          0.023109372705221176,
          0.2646060585975647,
          0.026296522468328476,
          0.020554861053824425,
          0.37689822912216187,
          0.17727220058441162,
          0.3943025767803192,
          -0.1253902018070221,
          -0.13884402811527252,
          -0.014514066278934479,
          0.06396263837814331,
          0.039854925125837326,
          -0.024508601054549217,
          0.13532434403896332,
          -0.12966999411582947,
          -0.016503535211086273,
          -0.007663797587156296,
          -0.10177621990442276,
          0.06396263837814331,
          -0.14431701600551605,
          0.008254692889750004,
          -0.007663797587156296,
          -0.022512497380375862,
          -0.02144295535981655,
          -0.02155343070626259,
          0.11295807361602783,
          0.192942813038826,
          0.016940882429480553,
          -0.11411152780056,
          -0.10657710582017899,
          -0.10799592733383179,
          -0.11060663312673569,
          -0.06049179658293724,
          -0.12593118846416473,
          -0.1295640468597412,
          -0.040244780480861664,
          0.03065151534974575,
          0.03065151534974575,
          -0.00367103167809546,
          -0.14418010413646698,
          -0.003505429020151496,
          0.013719450682401657,
          0.1562264859676361,
          -0.05111636221408844,
          -0.025588810443878174,
          -0.08121630549430847,
          -0.08726029098033905,
          0.06072505563497543
         ],
         "z": [
          0.1743333339691162,
          -0.01483717281371355,
          0.0716455727815628,
          0.07164563238620758,
          -0.040939025580883026,
          0.02814248390495777,
          0.1743333339691162,
          0.021111460402607918,
          0.034033969044685364,
          -0.04908546432852745,
          -0.012499164789915085,
          -0.03448697179555893,
          -0.06860802322626114,
          0.0740588828921318,
          0.009248960763216019,
          0.08292482048273087,
          -0.1136607676744461,
          0.006990913301706314,
          0.035025350749492645,
          -0.03633073717355728,
          0.024919919669628143,
          -0.11661737412214279,
          -0.03236761316657066,
          0.004499911796301603,
          -0.04428458586335182,
          0.21021947264671326,
          0.07066221535205841,
          -0.02433859184384346,
          0.1087399572134018,
          -0.08550617843866348,
          -0.1934293806552887,
          -0.09555231034755707,
          -0.0726749375462532,
          0.1743333339691162,
          0.1743333339691162,
          0.023520926013588905,
          0.15202738344669342,
          -0.11263006925582886,
          0.11936210095882416,
          -0.06203678622841835,
          0.14098681509494781,
          -0.010134530253708363,
          -0.06536360085010529,
          -0.010866624303162098,
          -0.0018349169986322522,
          0.020098555833101273,
          0.04665282741189003,
          -0.06531669199466705,
          0.1518862396478653,
          -0.11101175099611282,
          -0.01424877718091011,
          -0.15578757226467133,
          -0.12090155482292175,
          -0.11782125383615494,
          -0.16274945437908173,
          -0.1076061874628067,
          -0.14231902360916138,
          0.039199646562337875,
          -0.12861798703670502,
          -0.10610150545835495,
          -0.016350233927369118,
          -0.03793846443295479,
          0.1743333339691162,
          -0.06863915175199509,
          -0.08714067935943604,
          -0.048746466636657715,
          -0.025692857801914215,
          -0.08243857324123383,
          0.07885772734880447,
          -0.12559901177883148,
          0.1743333339691162,
          -0.09874356538057327,
          0.10722454637289047,
          0.07885772734880447,
          -0.08519574999809265,
          -0.03161996975541115,
          0.053242672234773636,
          -0.0364428274333477,
          -0.09785204380750656,
          -0.05896713212132454,
          -0.005311847664415836,
          0.037707481533288956,
          0.08247895538806915,
          -0.022811783477663994,
          -0.030056245625019073,
          -0.06838653236627579,
          -0.04929976537823677,
          0.017766034230589867,
          0.13313008844852448,
          0.13313008844852448,
          -0.016500309109687805,
          -0.027732018381357193,
          -0.0663030594587326,
          -0.04160650819540024,
          0.1723468154668808,
          -0.05891881510615349,
          0.21297544240951538,
          0.06987988948822021,
          -0.09303385019302368,
          0.14069236814975739
         ]
        },
        {
         "marker": {
          "color": "red",
          "size": 8
         },
         "mode": "markers",
         "name": "PoliNetwork Group",
         "type": "scatter3d",
         "x": [
          0.2466767132282257,
          -0.0033179079182446003,
          -0.12726186215877533,
          0.19563010334968567,
          -0.22528237104415894,
          -0.0894213542342186,
          -0.0936049148440361,
          0.056945014744997025,
          -0.03060024045407772,
          -0.20855221152305603,
          -0.015624945983290672,
          -0.1395561695098877,
          -0.16170889139175415,
          -0.27912548184394836,
          -0.3188479542732239,
          -0.2243552803993225,
          0.09193292260169983,
          0.24697141349315643,
          -0.16054275631904602,
          -0.23135237395763397,
          0.07191652804613113,
          -0.36324214935302734,
          -0.06085803359746933,
          -0.21928671002388,
          0.14224322140216827,
          -0.039082638919353485,
          0.20064926147460938,
          -0.22556208074092865,
          -0.0993654802441597,
          -0.08550829440355301,
          -0.10602838546037674,
          -0.215889573097229,
          0.29232460260391235,
          0.17694011330604553,
          0.2422359585762024,
          -0.10580070316791534,
          -0.22391515970230103,
          0.10756224393844604,
          -0.23365221917629242,
          -0.2196144014596939,
          -0.07358606904745102,
          0.06293107569217682,
          0.1905958503484726,
          0.02591356821358204,
          -0.09063960611820221,
          0.04451967030763626,
          0.13350218534469604,
          0.312105655670166,
          -0.21038192510604858,
          0.04680555686354637,
          0.08324844390153885,
          0.2915552258491516,
          0.12220188975334167,
          0.1744084507226944,
          0.25946539640426636,
          -0.3297930359840393,
          0.22818350791931152,
          0.01783410646021366,
          0.18783527612686157,
          0.06509941071271896,
          0.04790763556957245,
          0.17489838600158691,
          0.2911977767944336,
          -0.06159382686018944,
          0.19756098091602325,
          0.10629687458276749,
          0.40182656049728394,
          0.07947921007871628,
          0.09153161197900772,
          0.13743849098682404,
          -0.10962282121181488,
          -0.26427122950553894,
          -0.19403328001499176,
          0.3764849603176117,
          -0.08986038714647293,
          -0.06035282462835312,
          -0.051376547664403915,
          0.3764849603176117,
          0.08014332503080368,
          0.06516704708337784,
          -0.1351727843284607,
          0.3057410717010498,
          -0.23189109563827515,
          0.07515377551317215,
          0.29026171565055847,
          -0.22097165882587433,
          0.29026171565055847,
          0.09520974010229111,
          -0.22886860370635986,
          0.028949709609150887,
          -0.01533394306898117,
          0.07336954027414322,
          0.24228976666927338,
          -0.24067184329032898,
          -0.17751669883728027,
          -0.02880866825580597,
          -0.11923136562108994,
          -0.3084266781806946,
          -0.1650468409061432,
          -0.2314760982990265
         ],
         "y": [
          -0.015566564165055752,
          0.06861191987991333,
          0.11121345311403275,
          0.03139273449778557,
          -0.1065811887383461,
          0.07867448776960373,
          0.22469867765903473,
          0.0671745017170906,
          0.050051651895046234,
          -0.10181053727865219,
          -0.05464284494519234,
          -0.05522601678967476,
          -0.005379606503993273,
          0.013136569410562515,
          0.23616454005241394,
          -0.02749214507639408,
          -0.04031350463628769,
          -0.029707569628953934,
          0.2768944501876831,
          0.16225215792655945,
          -0.04049001634120941,
          0.08778786659240723,
          0.07233409583568573,
          -0.025148604065179825,
          0.18728967010974884,
          0.08267669379711151,
          0.06215527281165123,
          0.02410995587706566,
          -0.10481131821870804,
          0.04444994777441025,
          -0.051918596029281616,
          -0.11257859319448471,
          0.08854317665100098,
          -0.04278329759836197,
          -0.09168963879346848,
          0.00807751715183258,
          -0.16701045632362366,
          -0.02014385163784027,
          -0.027166927233338356,
          -0.05424389988183975,
          -0.15357589721679688,
          -0.10679307579994202,
          0.03948502615094185,
          0.13465134799480438,
          -0.11804024875164032,
          0.05204259231686592,
          -0.009262383915483952,
          -0.049618203192949295,
          -0.12292937189340591,
          0.04162893071770668,
          -0.006795524153858423,
          0.09718938171863556,
          -0.004302456043660641,
          0.19766952097415924,
          -0.07947313785552979,
          -0.00627429923042655,
          0.03561661019921303,
          -0.13637328147888184,
          -0.03608424589037895,
          -0.13585180044174194,
          -0.03833550214767456,
          -0.05975654348731041,
          -0.0896025002002716,
          -0.1128448024392128,
          -0.11491212248802185,
          -0.030766021460294724,
          0.0005900024552829564,
          -0.1548207551240921,
          -0.050429269671440125,
          -0.12246402353048325,
          -0.10501788556575775,
          -0.04819539561867714,
          0.1624876856803894,
          -0.0280485637485981,
          -0.09807969629764557,
          -0.006923858076334,
          0.17590336501598358,
          -0.0280485637485981,
          0.03434722125530243,
          -0.008824458345770836,
          0.163835346698761,
          -0.066495880484581,
          -0.11794670671224594,
          0.19511160254478455,
          -0.026068301871418953,
          -0.022691134363412857,
          -0.026068301871418953,
          0.16211602091789246,
          -0.016086695715785027,
          0.026080479845404625,
          0.031786490231752396,
          0.15801532566547394,
          0.1797364056110382,
          -0.03629940375685692,
          -0.09316560626029968,
          -0.11876583844423294,
          -0.05526706948876381,
          -0.039678651839494705,
          -0.04144677519798279,
          0.031146708875894547
         ],
         "z": [
          0.0015359824756160378,
          -0.08288642019033432,
          -0.03593456745147705,
          0.00873084831982851,
          0.04904446750879288,
          -0.062714122235775,
          0.10151337832212448,
          -0.11205784976482391,
          -0.13937291502952576,
          0.06700454652309418,
          -0.15669001638889313,
          0.047004684805870056,
          0.05298491194844246,
          -0.026939239352941513,
          0.1835775077342987,
          0.04729597270488739,
          0.029695535078644753,
          -0.038047678768634796,
          0.0648636743426323,
          0.10259395092725754,
          -0.07835668325424194,
          0.07649342715740204,
          -0.09353213012218475,
          0.10230088979005814,
          -0.02921425923705101,
          -0.007451820652931929,
          -0.05906890705227852,
          0.026188630610704422,
          0.06161133944988251,
          -0.03696046024560928,
          0.042071547359228134,
          0.04069589078426361,
          -0.015291525982320309,
          -0.04037303104996681,
          0.09479311853647232,
          -0.060230568051338196,
          -0.04684799909591675,
          -0.012239797040820122,
          0.06368137896060944,
          0.11327185481786728,
          0.023570312187075615,
          -0.08417056500911713,
          -0.03758338466286659,
          -0.09596199542284012,
          0.03878387063741684,
          -0.11515773087739944,
          -0.05908448249101639,
          0.08744432777166367,
          -0.01950865425169468,
          -0.03636816889047623,
          -0.04907606914639473,
          0.015109429135918617,
          -0.09732679277658463,
          0.06628213077783585,
          0.044986624270677567,
          0.010716326534748077,
          -0.06998110562562943,
          -0.03826804459095001,
          -0.0641765370965004,
          -0.01665317639708519,
          -0.03729908913373947,
          -0.01269958633929491,
          0.11313765496015549,
          -0.07593667507171631,
          -0.03093535266816616,
          0.02133055031299591,
          0.24147243797779083,
          -0.020734025165438652,
          -0.039342064410448074,
          0.02712314762175083,
          -0.03911086171865463,
          -0.05491914600133896,
          -0.014334060251712799,
          0.16244252026081085,
          0.021620115265250206,
          -0.0015092098619788885,
          -0.10168293863534927,
          0.16244252026081085,
          -0.019341692328453064,
          -0.03122488223016262,
          -0.018145591020584106,
          0.06915827840566635,
          0.047400835901498795,
          -0.08053451031446457,
          -0.016910605132579803,
          0.04301724582910538,
          -0.016910605132579803,
          -0.0844726413488388,
          0.01789284311234951,
          -0.08395007252693176,
          -0.14237479865550995,
          -0.028041156008839607,
          0.21592023968696594,
          0.046894729137420654,
          -0.01594247668981552,
          -0.021007446572184563,
          -0.02234431356191635,
          0.04144090786576271,
          -0.051406290382146835,
          0.0834965854883194
         ]
        }
       ],
       "layout": {
        "legend": {
         "x": 0.01,
         "xanchor": "left",
         "y": 0.99,
         "yanchor": "top"
        },
        "template": {
         "data": {
          "bar": [
           {
            "error_x": {
             "color": "#2a3f5f"
            },
            "error_y": {
             "color": "#2a3f5f"
            },
            "marker": {
             "line": {
              "color": "#E5ECF6",
              "width": 0.5
             },
             "pattern": {
              "fillmode": "overlay",
              "size": 10,
              "solidity": 0.2
             }
            },
            "type": "bar"
           }
          ],
          "barpolar": [
           {
            "marker": {
             "line": {
              "color": "#E5ECF6",
              "width": 0.5
             },
             "pattern": {
              "fillmode": "overlay",
              "size": 10,
              "solidity": 0.2
             }
            },
            "type": "barpolar"
           }
          ],
          "carpet": [
           {
            "aaxis": {
             "endlinecolor": "#2a3f5f",
             "gridcolor": "white",
             "linecolor": "white",
             "minorgridcolor": "white",
             "startlinecolor": "#2a3f5f"
            },
            "baxis": {
             "endlinecolor": "#2a3f5f",
             "gridcolor": "white",
             "linecolor": "white",
             "minorgridcolor": "white",
             "startlinecolor": "#2a3f5f"
            },
            "type": "carpet"
           }
          ],
          "choropleth": [
           {
            "colorbar": {
             "outlinewidth": 0,
             "ticks": ""
            },
            "type": "choropleth"
           }
          ],
          "contour": [
           {
            "colorbar": {
             "outlinewidth": 0,
             "ticks": ""
            },
            "colorscale": [
             [
              0,
              "#0d0887"
             ],
             [
              0.1111111111111111,
              "#46039f"
             ],
             [
              0.2222222222222222,
              "#7201a8"
             ],
             [
              0.3333333333333333,
              "#9c179e"
             ],
             [
              0.4444444444444444,
              "#bd3786"
             ],
             [
              0.5555555555555556,
              "#d8576b"
             ],
             [
              0.6666666666666666,
              "#ed7953"
             ],
             [
              0.7777777777777778,
              "#fb9f3a"
             ],
             [
              0.8888888888888888,
              "#fdca26"
             ],
             [
              1,
              "#f0f921"
             ]
            ],
            "type": "contour"
           }
          ],
          "contourcarpet": [
           {
            "colorbar": {
             "outlinewidth": 0,
             "ticks": ""
            },
            "type": "contourcarpet"
           }
          ],
          "heatmap": [
           {
            "colorbar": {
             "outlinewidth": 0,
             "ticks": ""
            },
            "colorscale": [
             [
              0,
              "#0d0887"
             ],
             [
              0.1111111111111111,
              "#46039f"
             ],
             [
              0.2222222222222222,
              "#7201a8"
             ],
             [
              0.3333333333333333,
              "#9c179e"
             ],
             [
              0.4444444444444444,
              "#bd3786"
             ],
             [
              0.5555555555555556,
              "#d8576b"
             ],
             [
              0.6666666666666666,
              "#ed7953"
             ],
             [
              0.7777777777777778,
              "#fb9f3a"
             ],
             [
              0.8888888888888888,
              "#fdca26"
             ],
             [
              1,
              "#f0f921"
             ]
            ],
            "type": "heatmap"
           }
          ],
          "heatmapgl": [
           {
            "colorbar": {
             "outlinewidth": 0,
             "ticks": ""
            },
            "colorscale": [
             [
              0,
              "#0d0887"
             ],
             [
              0.1111111111111111,
              "#46039f"
             ],
             [
              0.2222222222222222,
              "#7201a8"
             ],
             [
              0.3333333333333333,
              "#9c179e"
             ],
             [
              0.4444444444444444,
              "#bd3786"
             ],
             [
              0.5555555555555556,
              "#d8576b"
             ],
             [
              0.6666666666666666,
              "#ed7953"
             ],
             [
              0.7777777777777778,
              "#fb9f3a"
             ],
             [
              0.8888888888888888,
              "#fdca26"
             ],
             [
              1,
              "#f0f921"
             ]
            ],
            "type": "heatmapgl"
           }
          ],
          "histogram": [
           {
            "marker": {
             "pattern": {
              "fillmode": "overlay",
              "size": 10,
              "solidity": 0.2
             }
            },
            "type": "histogram"
           }
          ],
          "histogram2d": [
           {
            "colorbar": {
             "outlinewidth": 0,
             "ticks": ""
            },
            "colorscale": [
             [
              0,
              "#0d0887"
             ],
             [
              0.1111111111111111,
              "#46039f"
             ],
             [
              0.2222222222222222,
              "#7201a8"
             ],
             [
              0.3333333333333333,
              "#9c179e"
             ],
             [
              0.4444444444444444,
              "#bd3786"
             ],
             [
              0.5555555555555556,
              "#d8576b"
             ],
             [
              0.6666666666666666,
              "#ed7953"
             ],
             [
              0.7777777777777778,
              "#fb9f3a"
             ],
             [
              0.8888888888888888,
              "#fdca26"
             ],
             [
              1,
              "#f0f921"
             ]
            ],
            "type": "histogram2d"
           }
          ],
          "histogram2dcontour": [
           {
            "colorbar": {
             "outlinewidth": 0,
             "ticks": ""
            },
            "colorscale": [
             [
              0,
              "#0d0887"
             ],
             [
              0.1111111111111111,
              "#46039f"
             ],
             [
              0.2222222222222222,
              "#7201a8"
             ],
             [
              0.3333333333333333,
              "#9c179e"
             ],
             [
              0.4444444444444444,
              "#bd3786"
             ],
             [
              0.5555555555555556,
              "#d8576b"
             ],
             [
              0.6666666666666666,
              "#ed7953"
             ],
             [
              0.7777777777777778,
              "#fb9f3a"
             ],
             [
              0.8888888888888888,
              "#fdca26"
             ],
             [
              1,
              "#f0f921"
             ]
            ],
            "type": "histogram2dcontour"
           }
          ],
          "mesh3d": [
           {
            "colorbar": {
             "outlinewidth": 0,
             "ticks": ""
            },
            "type": "mesh3d"
           }
          ],
          "parcoords": [
           {
            "line": {
             "colorbar": {
              "outlinewidth": 0,
              "ticks": ""
             }
            },
            "type": "parcoords"
           }
          ],
          "pie": [
           {
            "automargin": true,
            "type": "pie"
           }
          ],
          "scatter": [
           {
            "fillpattern": {
             "fillmode": "overlay",
             "size": 10,
             "solidity": 0.2
            },
            "type": "scatter"
           }
          ],
          "scatter3d": [
           {
            "line": {
             "colorbar": {
              "outlinewidth": 0,
              "ticks": ""
             }
            },
            "marker": {
             "colorbar": {
              "outlinewidth": 0,
              "ticks": ""
             }
            },
            "type": "scatter3d"
           }
          ],
          "scattercarpet": [
           {
            "marker": {
             "colorbar": {
              "outlinewidth": 0,
              "ticks": ""
             }
            },
            "type": "scattercarpet"
           }
          ],
          "scattergeo": [
           {
            "marker": {
             "colorbar": {
              "outlinewidth": 0,
              "ticks": ""
             }
            },
            "type": "scattergeo"
           }
          ],
          "scattergl": [
           {
            "marker": {
             "colorbar": {
              "outlinewidth": 0,
              "ticks": ""
             }
            },
            "type": "scattergl"
           }
          ],
          "scattermapbox": [
           {
            "marker": {
             "colorbar": {
              "outlinewidth": 0,
              "ticks": ""
             }
            },
            "type": "scattermapbox"
           }
          ],
          "scatterpolar": [
           {
            "marker": {
             "colorbar": {
              "outlinewidth": 0,
              "ticks": ""
             }
            },
            "type": "scatterpolar"
           }
          ],
          "scatterpolargl": [
           {
            "marker": {
             "colorbar": {
              "outlinewidth": 0,
              "ticks": ""
             }
            },
            "type": "scatterpolargl"
           }
          ],
          "scatterternary": [
           {
            "marker": {
             "colorbar": {
              "outlinewidth": 0,
              "ticks": ""
             }
            },
            "type": "scatterternary"
           }
          ],
          "surface": [
           {
            "colorbar": {
             "outlinewidth": 0,
             "ticks": ""
            },
            "colorscale": [
             [
              0,
              "#0d0887"
             ],
             [
              0.1111111111111111,
              "#46039f"
             ],
             [
              0.2222222222222222,
              "#7201a8"
             ],
             [
              0.3333333333333333,
              "#9c179e"
             ],
             [
              0.4444444444444444,
              "#bd3786"
             ],
             [
              0.5555555555555556,
              "#d8576b"
             ],
             [
              0.6666666666666666,
              "#ed7953"
             ],
             [
              0.7777777777777778,
              "#fb9f3a"
             ],
             [
              0.8888888888888888,
              "#fdca26"
             ],
             [
              1,
              "#f0f921"
             ]
            ],
            "type": "surface"
           }
          ],
          "table": [
           {
            "cells": {
             "fill": {
              "color": "#EBF0F8"
             },
             "line": {
              "color": "white"
             }
            },
            "header": {
             "fill": {
              "color": "#C8D4E3"
             },
             "line": {
              "color": "white"
             }
            },
            "type": "table"
           }
          ]
         },
         "layout": {
          "annotationdefaults": {
           "arrowcolor": "#2a3f5f",
           "arrowhead": 0,
           "arrowwidth": 1
          },
          "autotypenumbers": "strict",
          "coloraxis": {
           "colorbar": {
            "outlinewidth": 0,
            "ticks": ""
           }
          },
          "colorscale": {
           "diverging": [
            [
             0,
             "#8e0152"
            ],
            [
             0.1,
             "#c51b7d"
            ],
            [
             0.2,
             "#de77ae"
            ],
            [
             0.3,
             "#f1b6da"
            ],
            [
             0.4,
             "#fde0ef"
            ],
            [
             0.5,
             "#f7f7f7"
            ],
            [
             0.6,
             "#e6f5d0"
            ],
            [
             0.7,
             "#b8e186"
            ],
            [
             0.8,
             "#7fbc41"
            ],
            [
             0.9,
             "#4d9221"
            ],
            [
             1,
             "#276419"
            ]
           ],
           "sequential": [
            [
             0,
             "#0d0887"
            ],
            [
             0.1111111111111111,
             "#46039f"
            ],
            [
             0.2222222222222222,
             "#7201a8"
            ],
            [
             0.3333333333333333,
             "#9c179e"
            ],
            [
             0.4444444444444444,
             "#bd3786"
            ],
            [
             0.5555555555555556,
             "#d8576b"
            ],
            [
             0.6666666666666666,
             "#ed7953"
            ],
            [
             0.7777777777777778,
             "#fb9f3a"
            ],
            [
             0.8888888888888888,
             "#fdca26"
            ],
            [
             1,
             "#f0f921"
            ]
           ],
           "sequentialminus": [
            [
             0,
             "#0d0887"
            ],
            [
             0.1111111111111111,
             "#46039f"
            ],
            [
             0.2222222222222222,
             "#7201a8"
            ],
            [
             0.3333333333333333,
             "#9c179e"
            ],
            [
             0.4444444444444444,
             "#bd3786"
            ],
            [
             0.5555555555555556,
             "#d8576b"
            ],
            [
             0.6666666666666666,
             "#ed7953"
            ],
            [
             0.7777777777777778,
             "#fb9f3a"
            ],
            [
             0.8888888888888888,
             "#fdca26"
            ],
            [
             1,
             "#f0f921"
            ]
           ]
          },
          "colorway": [
           "#636efa",
           "#EF553B",
           "#00cc96",
           "#ab63fa",
           "#FFA15A",
           "#19d3f3",
           "#FF6692",
           "#B6E880",
           "#FF97FF",
           "#FECB52"
          ],
          "font": {
           "color": "#2a3f5f"
          },
          "geo": {
           "bgcolor": "white",
           "lakecolor": "white",
           "landcolor": "#E5ECF6",
           "showlakes": true,
           "showland": true,
           "subunitcolor": "white"
          },
          "hoverlabel": {
           "align": "left"
          },
          "hovermode": "closest",
          "mapbox": {
           "style": "light"
          },
          "paper_bgcolor": "white",
          "plot_bgcolor": "#E5ECF6",
          "polar": {
           "angularaxis": {
            "gridcolor": "white",
            "linecolor": "white",
            "ticks": ""
           },
           "bgcolor": "#E5ECF6",
           "radialaxis": {
            "gridcolor": "white",
            "linecolor": "white",
            "ticks": ""
           }
          },
          "scene": {
           "xaxis": {
            "backgroundcolor": "#E5ECF6",
            "gridcolor": "white",
            "gridwidth": 2,
            "linecolor": "white",
            "showbackground": true,
            "ticks": "",
            "zerolinecolor": "white"
           },
           "yaxis": {
            "backgroundcolor": "#E5ECF6",
            "gridcolor": "white",
            "gridwidth": 2,
            "linecolor": "white",
            "showbackground": true,
            "ticks": "",
            "zerolinecolor": "white"
           },
           "zaxis": {
            "backgroundcolor": "#E5ECF6",
            "gridcolor": "white",
            "gridwidth": 2,
            "linecolor": "white",
            "showbackground": true,
            "ticks": "",
            "zerolinecolor": "white"
           }
          },
          "shapedefaults": {
           "line": {
            "color": "#2a3f5f"
           }
          },
          "ternary": {
           "aaxis": {
            "gridcolor": "white",
            "linecolor": "white",
            "ticks": ""
           },
           "baxis": {
            "gridcolor": "white",
            "linecolor": "white",
            "ticks": ""
           },
           "bgcolor": "#E5ECF6",
           "caxis": {
            "gridcolor": "white",
            "linecolor": "white",
            "ticks": ""
           }
          },
          "title": {
           "x": 0.05
          },
          "xaxis": {
           "automargin": true,
           "gridcolor": "white",
           "linecolor": "white",
           "ticks": "",
           "title": {
            "standoff": 15
           },
           "zerolinecolor": "white",
           "zerolinewidth": 2
          },
          "yaxis": {
           "automargin": true,
           "gridcolor": "white",
           "linecolor": "white",
           "ticks": "",
           "title": {
            "standoff": 15
           },
           "zerolinecolor": "white",
           "zerolinewidth": 2
          }
         }
        }
       }
      }
     },
     "metadata": {},
     "output_type": "display_data"
    }
   ],
   "source": [
    "plot_and_compare_reduced_embeddings_3D(preprocessed_texts, poli_preprocessed_texts, \"en\", \"it\", \"Our Group\", \"PoliNetwork Group\")"
   ]
  },
  {
   "cell_type": "markdown",
   "metadata": {},
   "source": [
    "**Cosine Similarity**"
   ]
  },
  {
   "cell_type": "code",
   "execution_count": 173,
   "metadata": {},
   "outputs": [
    {
     "name": "stdout",
     "output_type": "stream",
     "text": [
      "Cosine similarity between sentences: 0.7246\n"
     ]
    }
   ],
   "source": [
    "\n",
    "# Define your two sentences\n",
    "sentence1 = \"This is the first sentence.\"\n",
    "sentence2 = \"This sentence is very similar to the first one.\"\n",
    "\n",
    "# Get the LASER embeddings for the sentences\n",
    "embedding1 = laser.embed_sentences(\n",
    "  sentence1,\n",
    "  lang='en')\n",
    "\n",
    "embedding2 = laser.embed_sentences(\n",
    "  sentence2,\n",
    "  lang='en')\n",
    "\n",
    "\n",
    "\n",
    "# Calculate cosine similarity\n",
    "import numpy as np\n",
    "similarity = np.dot(embedding1[0], embedding2[0]) / (np.linalg.norm(embedding1[0]) * np.linalg.norm(embedding2[0]))\n",
    "\n",
    "# Print the similarity score\n",
    "print(f\"Cosine similarity between sentences: {similarity:.4f}\")\n"
   ]
  },
  {
   "cell_type": "code",
   "execution_count": 174,
   "metadata": {},
   "outputs": [
    {
     "name": "stdout",
     "output_type": "stream",
     "text": [
      "329\n"
     ]
    }
   ],
   "source": [
    "#Return the average cosine similarity between the last k embeddings\n",
    "def average_k_cosine_similarity(embeddings, k):\n",
    "    tmp_similarity = []\n",
    "    for i in np.arange(k-1):\n",
    "        tmp_similarity.append(np.dot(embeddings[k], embeddings[i]) / (np.linalg.norm(embeddings[k]) * np.linalg.norm(embeddings[i])))\n",
    "    return np.mean(tmp_similarity)\n",
    "\n",
    "print(len(embeddings))\n",
    "\n",
    "similarities = average_k_cosine_similarity(embeddings, 5)"
   ]
  },
  {
   "cell_type": "code",
   "execution_count": 175,
   "metadata": {},
   "outputs": [
    {
     "name": "stdout",
     "output_type": "stream",
     "text": [
      "['nan', 'hi guys', 'hi', 'hi', 'hey everyone']\n",
      "['nan', 'Hi guys', 'Hi', 'Hi😊', 'hey everyone!']\n"
     ]
    }
   ],
   "source": [
    "print(preprocessed_texts[0:5])\n",
    "prep_text = preprocessed_texts\n"
   ]
  },
  {
   "cell_type": "code",
   "execution_count": 178,
   "metadata": {},
   "outputs": [],
   "source": [
    "laser = Laser()\n",
    "langs = ['en' for i in range(len(preprocessed_texts))]\n",
    "embeddings2 = laser.embed_sentences(\n",
    "  prep_text,\n",
    "  lang=langs)"
   ]
  },
  {
   "cell_type": "code",
   "execution_count": 195,
   "metadata": {},
   "outputs": [
    {
     "name": "stdout",
     "output_type": "stream",
     "text": [
      "323\n"
     ]
    },
    {
     "data": {
      "image/png": "[encoded data removed]",
      "text/plain": [
       "<Figure size 640x480 with 1 Axes>"
      ]
     },
     "metadata": {},
     "output_type": "display_data"
    }
   ],
   "source": [
    "def cosine_similarities_last_k_sliding_window (embeddings2, k):\n",
    "    trial_similarities = []\n",
    "    for i in np.arange(0, len(embeddings2)-k):\n",
    "        window = [emb for emb in embeddings2[i:i+k]]\n",
    "        trial_similarities.append(average_k_cosine_similarity(window, k-1))\n",
    "    return trial_similarities\n",
    "\n",
    "our_group_similarities = cosine_similarities_last_k_sliding_window(embeddings2, 6)\n",
    "\n",
    "print(len(our_group_similarities))\n",
    "\n",
    "# Plot the list\n",
    "plt.plot(our_group_similarities)\n",
    "plt.show()\n",
    "\n"
   ]
  },
  {
   "cell_type": "code",
   "execution_count": 196,
   "metadata": {},
   "outputs": [
    {
     "name": "stdout",
     "output_type": "stream",
     "text": [
      "[2, 26, 31, 57, 63, 83, 115, 144, 181, 191, 192, 204, 205, 212, 217, 230, 236, 248, 280, 286, 311]\n",
      "20 : I don't know any of them, but I heard that in general professors aren't to strict for this course\n",
      "21 : I guess we'll find out about it once we have our first meeting with them\n",
      "22 : But I think that also depends on the amount of work done and its quality (obviously)\n",
      "23 : Ow, we should setup a meeting then:)\n",
      "24 : I will send the email now\n",
      "25 : \"Dear MDP team,\n",
      "\n",
      "Thank you for your message.\n",
      "I propose to meet on Monday in my office at DEIB bldg. 20, first floor, tel. 3526 at 15.\n",
      "\n",
      "Please confirm.\n",
      "\n",
      "Best regards,\n",
      "Barbara Pernici\"\n",
      "26 : I have a doctor appointment that I cannot miss on Monday afternoon😭 I am available pratically every other time during the week. If it is not possibile to reschedule I can join online, I should finish around 15:15/15:30. I'm really sorry about this inconvenience.\n",
      "27 : No worries, that's the whole point of these emails, we can try to find another time to schedule the meeting\n",
      "28 : @AmirMosio @LorenzoMondo do you guys have a time constraint or a specific day that doesn't work for you for the next week?\n",
      "29 : No, I'm probably ok.\n",
      "30 : For me only on 5 afternoon it’s not good\n",
      "31 : 5 March\n",
      "32 : Ok, I'll ask for another time.\n",
      "33 : nan\n",
      "34 : nan\n",
      "35 : What do we do?\n"
     ]
    }
   ],
   "source": [
    "def watch_messages_in_a_range(messages, start, end):\n",
    "    for i in np.arange(start, end+1):\n",
    "        print(str(i) +\" : \" + messages[i])\n",
    "\n",
    "#printing indices where the average similarity of the last k message is below 0.30\n",
    "indices = [i for i, num in enumerate(our_group_similarities) if num < 0.30]\n",
    "print(indices)\n",
    "watch_messages_in_a_range(texts, 20,35)"
   ]
  },
  {
   "cell_type": "code",
   "execution_count": 198,
   "metadata": {},
   "outputs": [],
   "source": [
    "laser = Laser()\n",
    "langs = ['it' for i in range(len(poli_preprocessed_texts))]\n",
    "prep_poli_embeddings = laser.embed_sentences(\n",
    "  poli_preprocessed_texts,\n",
    "  lang=langs)"
   ]
  },
  {
   "cell_type": "code",
   "execution_count": 201,
   "metadata": {},
   "outputs": [
    {
     "name": "stdout",
     "output_type": "stream",
     "text": [
      "[12, 27, 61, 68, 98, 119, 147, 159, 179, 218, 228, 241, 246, 251, 258, 276, 277, 295, 296, 299, 303, 304, 310, 314, 315, 374, 466, 477, 483, 486, 511, 512, 545, 560, 569, 583, 600, 630, 642, 646, 647, 648, 650, 719, 735, 739, 755, 758, 766, 769, 775, 795, 809, 819, 820, 826, 841, 850, 854, 860, 887, 920, 935, 936, 937, 939, 940, 943, 957, 981, 1003, 1021, 1035, 1042, 1060, 1071, 1098, 1099, 1109, 1110, 1112, 1113, 1121, 1122, 1125, 1126, 1209, 1223, 1276, 1288, 1315, 1319, 1330, 1331, 1336, 1350, 1359, 1378, 1386, 1398, 1399, 1400, 1402, 1444, 1460, 1469, 1477, 1483, 1548, 1592, 1607, 1619, 1625, 1626, 1652, 1665, 1685, 1702, 1712, 1715, 1723, 1726, 1758, 1765, 1781, 1795, 1818, 1823, 1824, 1829, 1833, 1868, 1882, 1889, 1907, 1933, 1948, 1949, 1960, 1961, 1973, 1975, 1987, 1992, 2004, 2005, 2006, 2008, 2022, 2026, 2051, 2061, 2065, 2117, 2120, 2138, 2159, 2185, 2197, 2199, 2209, 2219, 2236, 2238, 2247, 2259, 2278, 2296, 2297, 2303, 2308, 2309, 2334, 2351, 2352, 2356, 2357, 2362, 2375, 2383, 2396, 2434, 2448, 2462, 2477, 2497, 2536, 2537, 2543, 2553, 2585, 2651, 2657, 2713, 2729, 2736, 2737, 2755, 2775, 2780, 2854, 2862, 2887, 2895, 2899, 2904, 2917, 2965, 2972, 2973, 2977, 2979, 2996, 3025, 3040, 3079, 3080, 3084, 3100, 3102, 3135, 3143, 3231, 3239, 3263, 3309, 3311, 3328, 3344, 3350, 3362, 3372, 3380, 3386, 3395, 3421, 3502, 3511, 3517, 3522, 3548, 3549, 3572, 3590, 3592, 3631, 3653, 3671, 3686, 3711, 3752, 3753, 3770, 3791, 3800, 3813, 3827, 3844, 3866, 3867, 3910, 3914, 3932, 3958, 3980, 4001, 4039, 4042, 4065, 4068, 4081, 4085, 4093, 4098, 4101, 4107, 4120, 4151, 4170, 4219, 4235, 4244, 4252, 4265, 4273, 4284, 4315, 4337, 4352, 4374, 4405, 4426, 4432, 4433, 4453, 4454, 4491, 4504, 4574, 4575, 4585, 4609, 4637, 4654, 4680, 4681, 4698, 4700, 4702, 4706, 4714, 4720, 4730, 4731, 4736, 4757, 4777, 4832, 4847, 4853, 4859, 4877, 4903, 4939, 4943, 4947, 4948, 4952, 4961, 4968, 5012, 5041, 5058, 5070, 5074, 5075, 5079, 5082, 5086, 5102, 5103, 5105, 5139, 5151, 5174, 5181, 5191, 5221, 5232, 5237, 5248, 5254, 5257, 5258, 5261, 5269, 5295, 5301, 5308, 5341, 5360, 5367, 5372, 5408, 5418, 5467, 5468, 5480, 5597, 5618, 5626, 5632, 5655, 5657, 5665, 5670, 5685, 5686, 5687, 5691, 5697, 5705, 5717, 5718, 5750, 5759, 5793, 5798, 5815, 5816, 5831, 5858, 5859, 5862, 5863, 5880, 5895, 5897, 5914, 5925, 5926, 5927, 5930, 5942, 5960, 5995, 5996, 5999, 6011, 6012, 6014, 6023, 6037, 6092, 6111, 6123, 6160, 6164, 6169, 6191, 6192, 6194, 6201, 6291, 6328, 6355, 6361, 6367, 6381, 6409, 6454, 6487, 6506, 6515, 6526, 6553, 6564, 6591, 6600, 6623, 6681, 6705, 6733, 6734, 6735, 6737, 6787, 6812, 6818, 6827, 6865, 6870, 6873, 6876, 6880, 6881, 6894, 6925]\n"
     ]
    },
    {
     "data": {
      "image/png": "[encoded data removed]",
      "text/plain": [
       "<Figure size 640x480 with 1 Axes>"
      ]
     },
     "metadata": {},
     "output_type": "display_data"
    }
   ],
   "source": [
    "poli_similarities = cosine_similarities_last_k_sliding_window(prep_poli_embeddings, 6)\n",
    "#printing indices where the average similarity of the last k message is below 0.30\n",
    "# Plot the list\n",
    "plt.plot(poli_similarities)\n",
    "plt.show()"
   ]
  },
  {
   "cell_type": "code",
   "execution_count": 203,
   "metadata": {},
   "outputs": [
    {
     "name": "stdout",
     "output_type": "stream",
     "text": [
      "[12, 27, 61, 68, 98, 119, 147, 159, 179, 218, 228, 241, 246, 251, 258, 276, 277, 295, 296, 299, 303, 304, 310, 314, 315, 374, 466, 477, 483, 486, 511, 512, 545, 560, 569, 583, 600, 630, 642, 646, 647, 648, 650, 719, 735, 739, 755, 758, 766, 769, 775, 795, 809, 819, 820, 826, 841, 850, 854, 860, 887, 920, 935, 936, 937, 939, 940, 943, 957, 981, 1003, 1021, 1035, 1042, 1060, 1071, 1098, 1099, 1109, 1110, 1112, 1113, 1121, 1122, 1125, 1126, 1209, 1223, 1276, 1288, 1315, 1319, 1330, 1331, 1336, 1350, 1359, 1378, 1386, 1398, 1399, 1400, 1402, 1444, 1460, 1469, 1477, 1483, 1548, 1592, 1607, 1619, 1625, 1626, 1652, 1665, 1685, 1702, 1712, 1715, 1723, 1726, 1758, 1765, 1781, 1795, 1818, 1823, 1824, 1829, 1833, 1868, 1882, 1889, 1907, 1933, 1948, 1949, 1960, 1961, 1973, 1975, 1987, 1992, 2004, 2005, 2006, 2008, 2022, 2026, 2051, 2061, 2065, 2117, 2120, 2138, 2159, 2185, 2197, 2199, 2209, 2219, 2236, 2238, 2247, 2259, 2278, 2296, 2297, 2303, 2308, 2309, 2334, 2351, 2352, 2356, 2357, 2362, 2375, 2383, 2396, 2434, 2448, 2462, 2477, 2497, 2536, 2537, 2543, 2553, 2585, 2651, 2657, 2713, 2729, 2736, 2737, 2755, 2775, 2780, 2854, 2862, 2887, 2895, 2899, 2904, 2917, 2965, 2972, 2973, 2977, 2979, 2996, 3025, 3040, 3079, 3080, 3084, 3100, 3102, 3135, 3143, 3231, 3239, 3263, 3309, 3311, 3328, 3344, 3350, 3362, 3372, 3380, 3386, 3395, 3421, 3502, 3511, 3517, 3522, 3548, 3549, 3572, 3590, 3592, 3631, 3653, 3671, 3686, 3711, 3752, 3753, 3770, 3791, 3800, 3813, 3827, 3844, 3866, 3867, 3910, 3914, 3932, 3958, 3980, 4001, 4039, 4042, 4065, 4068, 4081, 4085, 4093, 4098, 4101, 4107, 4120, 4151, 4170, 4219, 4235, 4244, 4252, 4265, 4273, 4284, 4315, 4337, 4352, 4374, 4405, 4426, 4432, 4433, 4453, 4454, 4491, 4504, 4574, 4575, 4585, 4609, 4637, 4654, 4680, 4681, 4698, 4700, 4702, 4706, 4714, 4720, 4730, 4731, 4736, 4757, 4777, 4832, 4847, 4853, 4859, 4877, 4903, 4939, 4943, 4947, 4948, 4952, 4961, 4968, 5012, 5041, 5058, 5070, 5074, 5075, 5079, 5082, 5086, 5102, 5103, 5105, 5139, 5151, 5174, 5181, 5191, 5221, 5232, 5237, 5248, 5254, 5257, 5258, 5261, 5269, 5295, 5301, 5308, 5341, 5360, 5367, 5372, 5408, 5418, 5467, 5468, 5480, 5597, 5618, 5626, 5632, 5655, 5657, 5665, 5670, 5685, 5686, 5687, 5691, 5697, 5705, 5717, 5718, 5750, 5759, 5793, 5798, 5815, 5816, 5831, 5858, 5859, 5862, 5863, 5880, 5895, 5897, 5914, 5925, 5926, 5927, 5930, 5942, 5960, 5995, 5996, 5999, 6011, 6012, 6014, 6023, 6037, 6092, 6111, 6123, 6160, 6164, 6169, 6191, 6192, 6194, 6201, 6291, 6328, 6355, 6361, 6367, 6381, 6409, 6454, 6487, 6506, 6515, 6526, 6553, 6564, 6591, 6600, 6623, 6681, 6705, 6733, 6734, 6735, 6737, 6787, 6812, 6818, 6827, 6865, 6870, 6873, 6876, 6880, 6881, 6894, 6925]\n",
      "20 : Secondo me dipende tanto dai professori presenti in commissione\n",
      "21 : Ciao,\n",
      "Non riesco a collegarmi in nessun modo ne alla rete temporanea Polimi ne alla rete permanente Polimi-protected o eduroam (da Windows). Nel primo caso si collega al wifi ma non riesco ad accedere a internet e non riesco nemmeno a caricare manualmente nessuna pagina di autenticazione. Come faccio?\n",
      "22 : Dove posso trovare il link del gruppo di ing fisica 2 anno?\n",
      "23 : Ciao, qualcuno mi può spiegare come funziona il tutorato peer to peer? Ho provato a fare richiesta dal sito ma non mi fa compilare il modulo\n",
      "24 : ingegneria o design?\n",
      "25 : Ho chiesto sul instagram ma nessuno ha risposta(design)\n",
      "26 : la scadenza era al 24 gennaio\n",
      "27 : prova a scrivere al manager della scuola di design se hanno ancora bisogno di tutor PtoP e magari ti lascia comunque consegnare il modulo!\n",
      "28 : Ingegneria. Io non vorrei fare il tutor ma mi servirebbe qualcuno che aiuti me e non ho capito come si faccia a fare richiesta\n",
      "29 : Se hai cambiato impostazioni del DNS, devi toglierle perché le reti del poli ti bloccano\n",
      "30 : Conoscete aule studio a milano dove non devo registrarmi né un cazzo per accedere?\n",
      "31 : Che io sappia non ho modificato manualmente nulla...potrebbe essere stato un aggiornamento automatico del sistema? Sapresti spiegarmi dove andare per controllare ed eventualmente sistemare il problema.\n",
      "32 : biblioteche\n",
      "33 : Anche qualcosa vicino alla Centrale\n",
      "34 : Grazie mille comunque\n",
      "35 : Comunque o biblioteche o andare nelle altre università e cercare spazi in cui non si entra con il badge\n"
     ]
    }
   ],
   "source": [
    "indices = [i for i, num in enumerate(poli_similarities) if num < 0.30]\n",
    "print(indices)\n",
    "watch_messages_in_a_range(poli_texts_strings, 20,35)"
   ]
  }
 ],
 "metadata": {
  "kernelspec": {
   "display_name": "telegramprj",
   "language": "python",
   "name": "python3"
  },
  "language_info": {
   "codemirror_mode": {
    "name": "ipython",
    "version": 3
   },
   "file_extension": ".py",
   "mimetype": "text/x-python",
   "name": "python",
   "nbconvert_exporter": "python",
   "pygments_lexer": "ipython3",
   "version": "3.8.19"
  }
 },
 "nbformat": 4,
 "nbformat_minor": 2
}
