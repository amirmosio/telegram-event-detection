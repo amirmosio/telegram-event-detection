{
 "cells": [
  {
   "cell_type": "markdown",
   "metadata": {},
   "source": [
    "**Lorenzo's Notebook**"
   ]
  },
  {
   "cell_type": "markdown",
   "metadata": {},
   "source": [
    "Importing useful packages and modules"
   ]
  },
  {
   "cell_type": "code",
   "execution_count": 1,
   "metadata": {},
   "outputs": [],
   "source": [
    "from data_collection.data_collector_client import DataCollectorClient\n",
    "from telethon.tl.types import MessageReactions\n",
    "import asyncio\n",
    "from decouple import config\n",
    "import pandas as pd\n",
    "import numpy as np\n",
    "from sklearn.decomposition import PCA\n",
    "import matplotlib.pyplot as plt"
   ]
  },
  {
   "cell_type": "code",
   "execution_count": 2,
   "metadata": {},
   "outputs": [],
   "source": [
    "import re\n",
    "def reactions_splitting(message):\n",
    "    pattern = r\"emoticon=['\\\"](.*?)['\\\"].*?count=(\\d+)\"\n",
    "    matches = re.findall(pattern, message)\n",
    "    if matches:\n",
    "        return matches\n",
    "    else:\n",
    "        return None"
   ]
  },
  {
   "cell_type": "code",
   "execution_count": 3,
   "metadata": {},
   "outputs": [],
   "source": [
    "\n",
    "# Function to count the number of reactions in a message using the splitted reactions\n",
    "def count_reactions(splitted_reaction):\n",
    "    if(splitted_reaction == None):\n",
    "        return 0\n",
    "    else:\n",
    "        tmp = []\n",
    "        for i in range(len(splitted_reaction)):\n",
    "            tmp.append(int(splitted_reaction[:][i][1]))\n",
    "        return sum(tmp)"
   ]
  },
  {
   "cell_type": "code",
   "execution_count": 4,
   "metadata": {},
   "outputs": [
    {
     "name": "stdout",
     "output_type": "stream",
     "text": [
      "['ciao', 'come va', 'oggi bella giornata']\n"
     ]
    },
    {
     "name": "stderr",
     "output_type": "stream",
     "text": [
      "[nltk_data] Downloading package stopwords to C:\\Users\\asus-\n",
      "[nltk_data]     zen\\AppData\\Roaming\\nltk_data...\n",
      "[nltk_data]   Package stopwords is already up-to-date!\n"
     ]
    }
   ],
   "source": [
    "import nltk\n",
    "nltk.download('stopwords')\n",
    "from nltk.corpus import stopwords\n",
    "\n",
    "#Function to preprocess a message removing stopwords of the specified language and special characters\n",
    "def preprocess_message(message, language):\n",
    "  # Removing special characters and \\n\n",
    "  message = re.sub(r\"[^\\w\\s]\", \"\", message)\n",
    "  message = re.sub(r\"\\n\", \"\", message)\n",
    "\n",
    "\n",
    "  # Removing Stopwords\n",
    "  stop_words = set(stopwords.words(language))\n",
    "  message = \" \".join([word for word in message.split() if word not in stop_words])\n",
    "\n",
    "  # Convert to lowercase\n",
    "  message = message.lower()\n",
    "\n",
    "  # Removing empty words\n",
    "  message = \" \".join(message.split())\n",
    "\n",
    "  return message\n",
    "\n",
    "# example\n",
    "messaggi = [\"Ciao a tutti!\", \"Come va?\", \"Oggi è una bella giornata\\n.\"]\n",
    "preprocessed_messages = [preprocess_message(message,\"italian\") for message in messaggi]\n",
    "print(preprocessed_messages)\n"
   ]
  },
  {
   "cell_type": "code",
   "execution_count": 5,
   "metadata": {},
   "outputs": [],
   "source": [
    "df = pd.read_csv('./data/trial.csv')\n",
    "\n",
    "df['reactions'].fillna('', inplace=True)\n",
    "df['reactions'] = df['reactions'].apply(lambda x: count_reactions(reactions_splitting(x)))"
   ]
  },
  {
   "cell_type": "code",
   "execution_count": 6,
   "metadata": {},
   "outputs": [],
   "source": [
    "\n",
    "ourgroup = \"https://t.me/+synza2388S80NWM0\"\n",
    "poligroup = \"https://t.me/PoliGruppo\"\n",
    "\n",
    "ourdf = df.loc[df['group'] == ourgroup]"
   ]
  },
  {
   "cell_type": "markdown",
   "metadata": {},
   "source": [
    "**Laser Embedding**"
   ]
  },
  {
   "cell_type": "code",
   "execution_count": 7,
   "metadata": {},
   "outputs": [
    {
     "name": "stdout",
     "output_type": "stream",
     "text": [
      "-----NORMAL TEXTS-----\n",
      "['nan', 'Hi guys', 'Hi', 'Hi😊', 'hey everyone!']\n",
      "\n",
      "-----PREPROCESSED TEXTS-----\n",
      "['nan', 'hi guys', 'hi', 'hi', 'hey everyone']\n",
      "329\n",
      "329\n"
     ]
    }
   ],
   "source": [
    "texts = ourdf['text']\n",
    "texts = [str(text) for text in texts]\n",
    "preprocessed_texts = [preprocess_message(str(text), \"english\") for text in texts]\n",
    "print(\"-----NORMAL TEXTS-----\")\n",
    "print(texts[0:5])\n",
    "print(\"\\n-----PREPROCESSED TEXTS-----\")\n",
    "print(preprocessed_texts[0:5])\n",
    "\n",
    "print(len(preprocessed_texts))\n",
    "print(len(texts))\n"
   ]
  },
  {
   "cell_type": "code",
   "execution_count": 8,
   "metadata": {},
   "outputs": [
    {
     "data": {
      "text/plain": [
       "(329, 1024)"
      ]
     },
     "execution_count": 8,
     "metadata": {},
     "output_type": "execute_result"
    }
   ],
   "source": [
    "langs = [\"en\" for i in range(len(texts))]\n",
    "\n",
    "from laserembeddings import Laser\n",
    "\n",
    "laser = Laser()\n",
    "\n",
    "# if all sentences are in the same language:\n",
    "\n",
    "embeddings = laser.embed_sentences(\n",
    "    texts,\n",
    "    lang=langs)\n",
    "\n",
    "embeddings.shape"
   ]
  },
  {
   "cell_type": "code",
   "execution_count": 9,
   "metadata": {},
   "outputs": [],
   "source": [
    "def plot_reduced_embeddings_2D(texts, lang):\n",
    "    langs = [lang for i in range(len(texts))]\n",
    "\n",
    "    from laserembeddings import Laser\n",
    "\n",
    "    laser = Laser()\n",
    "\n",
    "    # if all sentences are in the same language:\n",
    "\n",
    "    embeddings = laser.embed_sentences(\n",
    "    texts,\n",
    "    lang=langs)\n",
    "\n",
    "    pca = PCA(n_components=2)\n",
    "    reduced_embeddings = pca.fit_transform(embeddings)\n",
    "    # Plottare i punti\n",
    "    plt.scatter(reduced_embeddings[:, 0], reduced_embeddings[:, 1])\n",
    "\n",
    "    for i, point in enumerate(reduced_embeddings):\n",
    "        # Annotate each point with the message number\n",
    "        plt.annotate(str(i + 1), point, ha='center', va='center')\n",
    "\n",
    "    plt.show()"
   ]
  },
  {
   "cell_type": "code",
   "execution_count": 10,
   "metadata": {},
   "outputs": [
    {
     "data": {
      "image/png": "[encoded data removed]",
      "text/plain": [
       "<Figure size 640x480 with 1 Axes>"
      ]
     },
     "metadata": {},
     "output_type": "display_data"
    }
   ],
   "source": [
    "plot_reduced_embeddings_2D(texts, \"en\")"
   ]
  },
  {
   "cell_type": "markdown",
   "metadata": {},
   "source": [
    "Now we use the messages of the polinetwork group \n",
    "\n",
    "We'll plot the data as we have done before to see if there is any change in the distribution of the messages of two different groups"
   ]
  },
  {
   "cell_type": "code",
   "execution_count": 11,
   "metadata": {},
   "outputs": [
    {
     "data": {
      "text/html": [
       "<div>\n",
       "<style scoped>\n",
       "    .dataframe tbody tr th:only-of-type {\n",
       "        vertical-align: middle;\n",
       "    }\n",
       "\n",
       "    .dataframe tbody tr th {\n",
       "        vertical-align: top;\n",
       "    }\n",
       "\n",
       "    .dataframe thead th {\n",
       "        text-align: right;\n",
       "    }\n",
       "</style>\n",
       "<table border=\"1\" class=\"dataframe\">\n",
       "  <thead>\n",
       "    <tr style=\"text-align: right;\">\n",
       "      <th></th>\n",
       "      <th>Unnamed: 0</th>\n",
       "      <th>group</th>\n",
       "      <th>sender</th>\n",
       "      <th>text</th>\n",
       "      <th>reply</th>\n",
       "      <th>date</th>\n",
       "      <th>reactions</th>\n",
       "    </tr>\n",
       "  </thead>\n",
       "  <tbody>\n",
       "    <tr>\n",
       "      <th>329</th>\n",
       "      <td>999</td>\n",
       "      <td>https://t.me/PoliGruppo</td>\n",
       "      <td>1.377961e+09</td>\n",
       "      <td>ma ce una sezione si o no?</td>\n",
       "      <td>NaN</td>\n",
       "      <td>2024-03-03 10:24:58+00:00</td>\n",
       "      <td>0</td>\n",
       "    </tr>\n",
       "    <tr>\n",
       "      <th>330</th>\n",
       "      <td>998</td>\n",
       "      <td>https://t.me/PoliGruppo</td>\n",
       "      <td>1.265578e+09</td>\n",
       "      <td>Se é per l'Erasmus o per mobilità internaziona...</td>\n",
       "      <td>204165.0</td>\n",
       "      <td>2024-03-03 10:32:32+00:00</td>\n",
       "      <td>0</td>\n",
       "    </tr>\n",
       "    <tr>\n",
       "      <th>331</th>\n",
       "      <td>997</td>\n",
       "      <td>https://t.me/PoliGruppo</td>\n",
       "      <td>4.690109e+08</td>\n",
       "      <td>Ci sono delle restrizioni a cosa si può portar...</td>\n",
       "      <td>NaN</td>\n",
       "      <td>2024-03-03 10:34:09+00:00</td>\n",
       "      <td>0</td>\n",
       "    </tr>\n",
       "    <tr>\n",
       "      <th>332</th>\n",
       "      <td>996</td>\n",
       "      <td>https://t.me/PoliGruppo</td>\n",
       "      <td>4.282712e+08</td>\n",
       "      <td>Cerca su libgen</td>\n",
       "      <td>204159.0</td>\n",
       "      <td>2024-03-03 10:41:34+00:00</td>\n",
       "      <td>0</td>\n",
       "    </tr>\n",
       "    <tr>\n",
       "      <th>333</th>\n",
       "      <td>995</td>\n",
       "      <td>https://t.me/PoliGruppo</td>\n",
       "      <td>6.277756e+08</td>\n",
       "      <td>Da regolamento c'è scritto che sono tassativam...</td>\n",
       "      <td>204167.0</td>\n",
       "      <td>2024-03-03 11:03:14+00:00</td>\n",
       "      <td>0</td>\n",
       "    </tr>\n",
       "  </tbody>\n",
       "</table>\n",
       "</div>"
      ],
      "text/plain": [
       "     Unnamed: 0                    group        sender  \\\n",
       "329         999  https://t.me/PoliGruppo  1.377961e+09   \n",
       "330         998  https://t.me/PoliGruppo  1.265578e+09   \n",
       "331         997  https://t.me/PoliGruppo  4.690109e+08   \n",
       "332         996  https://t.me/PoliGruppo  4.282712e+08   \n",
       "333         995  https://t.me/PoliGruppo  6.277756e+08   \n",
       "\n",
       "                                                  text     reply  \\\n",
       "329                         ma ce una sezione si o no?       NaN   \n",
       "330  Se é per l'Erasmus o per mobilità internaziona...  204165.0   \n",
       "331  Ci sono delle restrizioni a cosa si può portar...       NaN   \n",
       "332                                    Cerca su libgen  204159.0   \n",
       "333  Da regolamento c'è scritto che sono tassativam...  204167.0   \n",
       "\n",
       "                          date  reactions  \n",
       "329  2024-03-03 10:24:58+00:00          0  \n",
       "330  2024-03-03 10:32:32+00:00          0  \n",
       "331  2024-03-03 10:34:09+00:00          0  \n",
       "332  2024-03-03 10:41:34+00:00          0  \n",
       "333  2024-03-03 11:03:14+00:00          0  "
      ]
     },
     "execution_count": 11,
     "metadata": {},
     "output_type": "execute_result"
    }
   ],
   "source": [
    "polidf = df.loc[df['group'] == poligroup]\n",
    "\n",
    "polidf.head()"
   ]
  },
  {
   "cell_type": "code",
   "execution_count": 12,
   "metadata": {},
   "outputs": [],
   "source": [
    "def plot_and_compare_reduced_embeddings_2D(texts1, texts2, lang1, lang2):\n",
    "    langs1 = [lang1 for i in range(100)]\n",
    "    langs2 = [lang2 for i in range(100)]\n",
    "\n",
    "    from laserembeddings import Laser\n",
    "\n",
    "    laser = Laser()\n",
    "#\n",
    "    # if all sentences are in the same language:\n",
    "\n",
    "    embeddings1 = laser.embed_sentences(\n",
    "    texts1[0:100],\n",
    "    lang=langs1)\n",
    "\n",
    "    embeddings2 = laser.embed_sentences(\n",
    "    texts2[0:100],\n",
    "    lang=langs2)\n",
    "\n",
    "    pca = PCA(n_components=2)\n",
    "    reduced_embeddings1 = pca.fit_transform(embeddings1)\n",
    "    pca = PCA(n_components=2)\n",
    "    reduced_embeddings2 = pca.fit_transform(embeddings2)\n",
    "\n",
    "    # Plottare i punti\n",
    "    plt.scatter(reduced_embeddings1[:, 0], reduced_embeddings1[:, 1], c='b')\n",
    "    plt.scatter(reduced_embeddings2[:, 0], reduced_embeddings2[:, 1], c='r')\n",
    "\n",
    "    plt.show()"
   ]
  },
  {
   "cell_type": "code",
   "execution_count": 13,
   "metadata": {},
   "outputs": [
    {
     "data": {
      "image/png": "[encoded data removed]",
      "text/plain": [
       "<Figure size 640x480 with 1 Axes>"
      ]
     },
     "metadata": {},
     "output_type": "display_data"
    }
   ],
   "source": [
    "plot_and_compare_reduced_embeddings_2D(texts, polidf['text'], \"en\", \"it\")"
   ]
  },
  {
   "cell_type": "code",
   "execution_count": 14,
   "metadata": {},
   "outputs": [
    {
     "name": "stdout",
     "output_type": "stream",
     "text": [
      "['ma ce una sezione si o no?', \"Se é per l'Erasmus o per mobilità internazionale c'é l'apposito gruppo\", 'Ci sono delle restrizioni a cosa si può portare alla laurea per quanto riguarda coriandoli, botti ecc?', 'Cerca su libgen', \"Da regolamento c'è scritto che sono tassativamente vietati i festeggiamenti all'interno del campus. Mi pareva di aver scritto da qualche altra parte di evitare di lasciare sporcizia in giro cordiandoli compresi\"]\n"
     ]
    }
   ],
   "source": [
    "poli_texts = polidf['text']\n",
    "poli_texts_strings = [str(text) for text in poli_texts if isinstance(text, str)] \n",
    "print(poli_texts_strings[0:5])\n",
    "\n"
   ]
  },
  {
   "cell_type": "markdown",
   "metadata": {},
   "source": [
    "Try by plotting in the space"
   ]
  },
  {
   "cell_type": "code",
   "execution_count": 15,
   "metadata": {},
   "outputs": [],
   "source": [
    "def plot_and_compare_reduced_embeddings_3D(texts1, texts2, lang1, lang2, name1, name2):\n",
    "    langs1 = [lang1 for i in range(100)]\n",
    "    langs2 = [lang2 for i in range(100)]\n",
    "\n",
    "    from laserembeddings import Laser\n",
    "\n",
    "    laser = Laser()\n",
    "\n",
    "    # if all sentences are in the same language:\n",
    "\n",
    "    embeddings1 = laser.embed_sentences(\n",
    "    texts1[0:100],\n",
    "    lang=langs1)\n",
    "\n",
    "    embeddings2 = laser.embed_sentences(\n",
    "    texts2[0:100],\n",
    "    lang=langs2)\n",
    "\n",
    "    pca = PCA(n_components=3)\n",
    "    reduced_embeddings1 = pca.fit_transform(embeddings1)\n",
    "    pca = PCA(n_components=3)\n",
    "    reduced_embeddings2 = pca.fit_transform(embeddings2)\n",
    "\n",
    "    import plotly.graph_objects as go\n",
    "\n",
    "    # Importare i dati\n",
    "    import numpy as np\n",
    "\n",
    "    # Creare la figura\n",
    "    fig = go.Figure()\n",
    "\n",
    "    # Plot each set of points with a unique colormap\n",
    "    fig.add_scatter3d(\n",
    "        x=reduced_embeddings1[:, 0],\n",
    "        y=reduced_embeddings1[:, 1],\n",
    "        z=reduced_embeddings1[:, 2],\n",
    "        mode='markers',\n",
    "        marker=dict(color='blue', size=8),  # Use a color name or hex code for direct coloring\n",
    "        name=name1\n",
    "    )\n",
    "\n",
    "    fig.add_scatter3d(\n",
    "        x=reduced_embeddings2[:, 0],\n",
    "        y=reduced_embeddings2[:, 1],\n",
    "        z=reduced_embeddings2[:, 2],\n",
    "        mode='markers',\n",
    "        marker=dict(color='red', size=8),  # Use a different color for this set\n",
    "        name=name2\n",
    "    )\n",
    "\n",
    "    # Aggiungere le legende\n",
    "    fig.update_layout(legend=dict(yanchor=\"top\", y=0.99, xanchor=\"left\", x=0.01))\n",
    "\n",
    "    # Mostrare il plot\n",
    "    fig.show()"
   ]
  },
  {
   "cell_type": "code",
   "execution_count": 16,
   "metadata": {},
   "outputs": [
    {
     "data": {
      "application/vnd.plotly.v1+json": {
       "config": {
        "plotlyServerURL": "https://plot.ly"
       },
       "data": [
        {
         "marker": {
          "color": "blue",
          "size": 8
         },
         "mode": "markers",
         "name": "Our Group",
         "type": "scatter3d",
         "x": [
          -0.36506417393684387,
          -0.29907771944999695,
          -0.36986902356147766,
          -0.348903626203537,
          -0.28401994705200195,
          -0.0318964459002018,
          -0.3650641441345215,
          0.2283581644296646,
          -0.1664864718914032,
          -0.09421858936548233,
          0.008380618877708912,
          -0.20640461146831512,
          -0.08971010893583298,
          -0.03656269237399101,
          -0.0678820013999939,
          -0.36753588914871216,
          -0.08524186164140701,
          -0.10038907825946808,
          0.06887470185756683,
          0.06422875821590424,
          0.18195226788520813,
          0.0814991220831871,
          0.09349958598613739,
          0.043764788657426834,
          -0.08320429921150208,
          0.3861621618270874,
          0.3994472920894623,
          0.22993049025535583,
          0.2387215942144394,
          -0.13158456981182098,
          0.02433488704264164,
          -0.23413391411304474,
          -0.08478183299303055,
          -0.3650641441345215,
          -0.3650641441345215,
          -0.22705642879009247,
          0.46653977036476135,
          0.01810198836028576,
          0.211087167263031,
          -0.11330904811620712,
          0.03589979559183121,
          -0.21655456721782684,
          -0.1010194644331932,
          0.0763159692287445,
          0.2250814139842987,
          0.13341261446475983,
          0.3393247723579407,
          -0.06742369383573532,
          0.28341343998908997,
          -0.17244400084018707,
          0.22023282945156097,
          -0.009717244654893875,
          0.12668821215629578,
          0.031251922249794006,
          -0.11079607903957367,
          -0.10081581026315689,
          0.23957085609436035,
          0.27912354469299316,
          0.2526472210884094,
          -0.14314669370651245,
          0.23801159858703613,
          -0.12637542188167572,
          -0.3650641441345215,
          0.010578055866062641,
          0.14695245027542114,
          0.25226452946662903,
          0.2416113018989563,
          0.1409134864807129,
          -0.3627736568450928,
          -0.13997064530849457,
          -0.3650641441345215,
          -0.05992584303021431,
          -0.14125458896160126,
          -0.382737934589386,
          -0.19999995827674866,
          -0.16926395893096924,
          -0.16295018792152405,
          -0.07696626335382462,
          -0.2027812898159027,
          0.06796212494373322,
          0.2276422381401062,
          0.2958802878856659,
          0.28031784296035767,
          0.1625341922044754,
          0.11460699886083603,
          0.09344322979450226,
          0.137681782245636,
          0.10958269983530045,
          -0.3045147955417633,
          -0.3045147955417633,
          0.23086895048618317,
          0.21834266185760498,
          0.10597150772809982,
          0.11856339126825333,
          0.3614872992038727,
          -0.23009340465068817,
          0.45003610849380493,
          0.24782565236091614,
          -0.0006385330343618989,
          0.15840841829776764
         ],
         "y": [
          0.06882358342409134,
          -0.005071475636214018,
          0.02516203559935093,
          0.0183358583599329,
          -0.009871125221252441,
          -0.06139713153243065,
          0.06882359832525253,
          -0.06350728124380112,
          0.02614222653210163,
          -0.02448972314596176,
          -0.06678681820631027,
          -0.05679240822792053,
          0.01721242442727089,
          -0.04077865928411484,
          -0.014549270272254944,
          0.05121592804789543,
          0.014953358098864555,
          -0.008001107722520828,
          -0.004076729994267225,
          -0.1416167914867401,
          -0.0898672342300415,
          -0.09469306468963623,
          -0.09372993558645248,
          -0.05802629142999649,
          -0.08565693348646164,
          0.21117977797985077,
          0.21135112643241882,
          -0.09112106263637543,
          0.07044055312871933,
          -0.0760897547006607,
          0.1847263127565384,
          0.15230834484100342,
          -0.04787657409906387,
          0.06882359832525253,
          0.06882359832525253,
          -0.05488545075058937,
          0.1388365626335144,
          -0.15296201407909393,
          -0.050064317882061005,
          -0.07156585901975632,
          -0.07941649109125137,
          -0.012980683706700802,
          -0.09180629253387451,
          0.03576279059052467,
          -0.15626531839370728,
          0.003330637700855732,
          -0.021605299785733223,
          -0.12091362476348877,
          -0.041159193962812424,
          0.19218939542770386,
          -0.07235151529312134,
          0.3464803695678711,
          0.027061650529503822,
          0.2854979634284973,
          0.0026988452300429344,
          0.01650700904428959,
          0.3905054032802582,
          0.22630950808525085,
          0.3980361521244049,
          -0.11071154475212097,
          -0.15214554965496063,
          -0.05920499563217163,
          0.06882359832525253,
          0.16008803248405457,
          0.0005762952496297657,
          0.16111557185649872,
          -0.12348797917366028,
          -0.01902446523308754,
          0.010233787819743156,
          -0.08648711442947388,
          0.06882359832525253,
          -0.12156277894973755,
          -0.046313658356666565,
          0.013708293437957764,
          -0.05035480111837387,
          -0.04517807066440582,
          -0.056492630392313004,
          0.0845450907945633,
          0.18346917629241943,
          -0.015364371240139008,
          -0.12642426788806915,
          -0.08899892866611481,
          -0.10046277195215225,
          -0.10290157794952393,
          -0.080645352602005,
          -0.1188160851597786,
          -0.12311762571334839,
          -0.10949083417654037,
          0.01056569442152977,
          0.010565695352852345,
          -0.06894727051258087,
          -0.12273909896612167,
          -0.008368616923689842,
          -0.03383198007941246,
          0.13585565984249115,
          -0.03588629513978958,
          -0.019624756649136543,
          -0.07772082835435867,
          -0.07213488221168518,
          0.006505499593913555
         ],
         "z": [
          0.1987536996603012,
          0.052471090108156204,
          0.10475775599479675,
          0.09769754856824875,
          -0.008516490459442139,
          0.029947949573397636,
          0.19875366985797882,
          0.08435270190238953,
          0.07231039553880692,
          -0.005716970190405846,
          -0.044735051691532135,
          -0.07210531830787659,
          -0.005373616237193346,
          0.004191475920379162,
          0.015294572338461876,
          0.11779908835887909,
          -0.10320635139942169,
          0.010604205541312695,
          0.06782262027263641,
          -0.02344086579978466,
          0.011989111080765724,
          -0.08219724893569946,
          0.0037607455160468817,
          -0.02166997268795967,
          -0.06004667282104492,
          0.2279188632965088,
          0.04892871528863907,
          0.020022917538881302,
          0.09882327914237976,
          -0.07408972084522247,
          -0.17647382616996765,
          -0.0572267547249794,
          -0.12040019780397415,
          0.19875366985797882,
          0.19875366985797882,
          -0.11476173996925354,
          0.125285342335701,
          -0.06808802485466003,
          0.14645719528198242,
          -0.030324675142765045,
          -0.007297837641090155,
          0.013731615617871284,
          -0.08591137826442719,
          -0.017394866794347763,
          0.03423263877630234,
          -0.032112471759319305,
          0.03843098133802414,
          -0.07365916669368744,
          0.13045388460159302,
          -0.08360578864812851,
          -0.019873106852173805,
          -0.16817542910575867,
          -0.09540790319442749,
          -0.1612156331539154,
          -0.14048868417739868,
          -0.11785969883203506,
          -0.11596394330263138,
          -0.040009886026382446,
          -0.10925409942865372,
          -0.12085132300853729,
          0.017855795100331306,
          -0.06469688564538956,
          0.19875366985797882,
          -0.16041435301303864,
          -0.0236948411911726,
          -0.07417220622301102,
          0.0026606686878949404,
          -0.08198519796133041,
          0.0844775140285492,
          -0.13928529620170593,
          0.19875366985797882,
          -0.1071857437491417,
          0.04187571629881859,
          0.10237056761980057,
          -0.08098002523183823,
          -0.022599108517169952,
          -0.042741384357213974,
          -0.016273027285933495,
          -0.05704287067055702,
          -0.07483404129743576,
          0.012761978432536125,
          0.05528854578733444,
          0.10630714148283005,
          0.027315912768244743,
          -0.04340006783604622,
          -0.06546216458082199,
          -0.03758016601204872,
          -0.01684717647731304,
          0.030262893065810204,
          0.030262907966971397,
          -0.06543512642383575,
          0.016285663470625877,
          -0.08694431185722351,
          -0.05748096853494644,
          0.2988615334033966,
          -0.06545497477054596,
          0.2515433132648468,
          0.06455975770950317,
          -0.12238213419914246,
          0.07185041159391403
         ]
        },
        {
         "marker": {
          "color": "red",
          "size": 8
         },
         "mode": "markers",
         "name": "PoliNetwork Group",
         "type": "scatter3d",
         "x": [
          0.1599775105714798,
          0.02445981092751026,
          -0.10727386921644211,
          0.22943858802318573,
          -0.1919330656528473,
          -0.10130032151937485,
          -0.020893432199954987,
          0.008389081805944443,
          -0.009361596778035164,
          -0.18742698431015015,
          -0.014436201192438602,
          -0.12216649204492569,
          -0.15249520540237427,
          -0.22917960584163666,
          -0.19826415181159973,
          -0.24776364862918854,
          0.06222785264253616,
          0.16221117973327637,
          -0.05893730744719505,
          -0.22752997279167175,
          0.0909784659743309,
          -0.3512875735759735,
          -0.019240524619817734,
          -0.19339701533317566,
          0.14494748413562775,
          -0.04652785509824753,
          0.1832500845193863,
          -0.20446787774562836,
          -0.11867814511060715,
          -0.07260943204164505,
          -0.1306726336479187,
          -0.22073650360107422,
          0.32155120372772217,
          0.19677197933197021,
          0.27866196632385254,
          -0.11990857869386673,
          -0.20912019908428192,
          0.11789309978485107,
          -0.21455764770507812,
          -0.21249011158943176,
          -0.07969236373901367,
          0.05953346937894821,
          0.2185138612985611,
          -0.03159632533788681,
          -0.10434085130691528,
          0.06821992993354797,
          0.09302753210067749,
          0.28709548711776733,
          -0.24913550913333893,
          0.056902892887592316,
          0.1015973687171936,
          0.32414382696151733,
          0.08287636190652847,
          0.23047764599323273,
          0.26527324318885803,
          -0.3730098009109497,
          0.2389673888683319,
          0.0328228697180748,
          0.2047712802886963,
          0.10127276182174683,
          0.06929421424865723,
          0.15613573789596558,
          0.25320199131965637,
          -0.06178862974047661,
          0.13022789359092712,
          0.15106713771820068,
          0.42149361968040466,
          0.05791043862700462,
          0.14191049337387085,
          0.10169024765491486,
          -0.12836851179599762,
          -0.27273645997047424,
          -0.20729736983776093,
          0.38140323758125305,
          -0.08838122338056564,
          -0.17565616965293884,
          -0.031356777995824814,
          0.38140323758125305,
          0.05356486141681671,
          0.05908656492829323,
          -0.10527899116277695,
          0.29012978076934814,
          -0.2849646806716919,
          0.08877012133598328,
          0.20285996794700623,
          -0.25246164202690125,
          0.20285996794700623,
          0.09993813186883926,
          -0.2229756861925125,
          0.05276477336883545,
          -0.05474405363202095,
          0.12624339759349823,
          0.29809001088142395,
          -0.25860679149627686,
          -0.24341952800750732,
          -0.0625108852982521,
          -0.10732277482748032,
          -0.3049098551273346,
          -0.14406071603298187,
          -0.23902775347232819
         ],
         "y": [
          0.0036982169840484858,
          0.0519787073135376,
          0.19764290750026703,
          0.0030009730253368616,
          -0.11482809484004974,
          0.16240732371807098,
          0.07349243015050888,
          0.0883152186870575,
          0.20398014783859253,
          -0.11762518435716629,
          0.12130146473646164,
          -0.1555696725845337,
          -0.06031809002161026,
          0.16256199777126312,
          -0.04292142018675804,
          -0.05370090901851654,
          -0.1046922355890274,
          -0.1829579621553421,
          0.09670545160770416,
          -0.06294139474630356,
          -0.006597128696739674,
          -0.04658708721399307,
          0.16251727938652039,
          -0.03806472197175026,
          0.1344749480485916,
          -0.04679079353809357,
          -0.0007632406777702272,
          0.011585589498281479,
          -0.1341957300901413,
          -0.018618144094944,
          0.027126992121338844,
          -0.10359635949134827,
          0.009473896585404873,
          0.03197653964161873,
          -0.10084275156259537,
          -0.024526497349143028,
          -0.020808028057217598,
          -0.004700957331806421,
          -0.14023740589618683,
          -0.07308441400527954,
          0.00041270998190157115,
          0.051428649574518204,
          -0.0748283639550209,
          0.1041203960776329,
          -0.13501407206058502,
          0.04107566550374031,
          0.11391641944646835,
          -0.07364344596862793,
          -0.10699895769357681,
          0.14444659650325775,
          0.0017265952192246914,
          0.013905391097068787,
          0.036960095167160034,
          -0.020299164578318596,
          -0.07025407254695892,
          -0.11982055753469467,
          0.038494136184453964,
          -0.1032070443034172,
          -0.0031100318301469088,
          -0.08526906371116638,
          -0.011367561295628548,
          -0.05187088996171951,
          -0.1361398547887802,
          0.0657738596200943,
          -0.07115471363067627,
          0.054308511316776276,
          -0.08519526571035385,
          -0.0929809957742691,
          -0.04008733108639717,
          0.08056879043579102,
          -0.06220550835132599,
          0.011819294653832912,
          0.20542635023593903,
          -0.061151888221502304,
          0.10159110277891159,
          -0.01615827903151512,
          0.1310615986585617,
          -0.061151888221502304,
          0.14825944602489471,
          0.09457016736268997,
          0.21744689345359802,
          -0.07376893609762192,
          -0.15416911244392395,
          0.20855706930160522,
          -0.1412251591682434,
          0.1208532527089119,
          -0.1412251591682434,
          0.1987939327955246,
          -0.014782543294131756,
          0.13167667388916016,
          0.012900866568088531,
          0.03513630852103233,
          0.0005212462856434286,
          -0.05927536264061928,
          -0.01794436015188694,
          -0.11527124047279358,
          0.09783115983009338,
          -0.10382534563541412,
          -0.0487205907702446,
          0.001261568279005587
         ],
         "z": [
          -0.05407077446579933,
          0.03109973855316639,
          0.01709466055035591,
          0.006032964214682579,
          -0.028594862669706345,
          0.0565173476934433,
          0.22655649483203888,
          -0.045949339866638184,
          -0.07853526622056961,
          -0.028649209067225456,
          -0.12591150403022766,
          -0.07901281863451004,
          0.008040531538426876,
          -0.09081773459911346,
          0.24678774178028107,
          0.07387232780456543,
          -0.04865790903568268,
          0.1283034384250641,
          0.04726654291152954,
          0.27939513325691223,
          -0.03236432373523712,
          0.10111121088266373,
          0.017435763031244278,
          0.02231893688440323,
          0.03886815533041954,
          0.0889669731259346,
          -0.011612901464104652,
          0.02937527559697628,
          -0.06955698877573013,
          0.03442857041954994,
          -0.06395663321018219,
          -0.04625558480620384,
          0.055512670427560806,
          -0.03215307742357254,
          -0.011047333478927612,
          -0.057983919978141785,
          -0.12492400407791138,
          -0.016322940587997437,
          0.03572654351592064,
          -0.016013137996196747,
          -0.09265947341918945,
          -0.1282069981098175,
          -0.015878215432167053,
          0.08065944910049438,
          -0.01965652033686638,
          -0.04493911564350128,
          -0.09551884979009628,
          -0.031327132135629654,
          -0.08162766695022583,
          -0.029009371995925903,
          -0.025741953402757645,
          0.07403255999088287,
          -0.056147847324609756,
          0.024135863408446312,
          -0.0052147009409964085,
          0.008574835024774075,
          -0.02427094243466854,
          -0.09916152060031891,
          -0.05498628690838814,
          -0.09716565907001495,
          -0.025876669213175774,
          -0.017248764634132385,
          0.06418649107217789,
          -0.12898173928260803,
          -0.09240265935659409,
          -0.0909247174859047,
          0.08166555315256119,
          -0.11880642920732498,
          -0.010002470575273037,
          -0.060060255229473114,
          -0.0908622145652771,
          -0.03443330526351929,
          0.07519828528165817,
          0.03540201112627983,
          -0.10319337248802185,
          0.24908225238323212,
          0.08298515528440475,
          0.03540200740098953,
          0.001426859525963664,
          -0.07911486178636551,
          0.11865857243537903,
          -0.04417891427874565,
          -0.022342218086123466,
          0.06577953696250916,
          0.09186806529760361,
          0.005765154026448727,
          0.09186806529760361,
          0.061300791800022125,
          -0.004080000799149275,
          -0.06237126514315605,
          -0.09096735715866089,
          0.06316938996315002,
          0.23832689225673676,
          0.01099987979978323,
          -0.07970774918794632,
          -0.056690774857997894,
          -0.10297290980815887,
          -0.029405085369944572,
          -0.0551590770483017,
          0.2584863007068634
         ]
        }
       ],
       "layout": {
        "legend": {
         "x": 0.01,
         "xanchor": "left",
         "y": 0.99,
         "yanchor": "top"
        },
        "template": {
         "data": {
          "bar": [
           {
            "error_x": {
             "color": "#2a3f5f"
            },
            "error_y": {
             "color": "#2a3f5f"
            },
            "marker": {
             "line": {
              "color": "#E5ECF6",
              "width": 0.5
             },
             "pattern": {
              "fillmode": "overlay",
              "size": 10,
              "solidity": 0.2
             }
            },
            "type": "bar"
           }
          ],
          "barpolar": [
           {
            "marker": {
             "line": {
              "color": "#E5ECF6",
              "width": 0.5
             },
             "pattern": {
              "fillmode": "overlay",
              "size": 10,
              "solidity": 0.2
             }
            },
            "type": "barpolar"
           }
          ],
          "carpet": [
           {
            "aaxis": {
             "endlinecolor": "#2a3f5f",
             "gridcolor": "white",
             "linecolor": "white",
             "minorgridcolor": "white",
             "startlinecolor": "#2a3f5f"
            },
            "baxis": {
             "endlinecolor": "#2a3f5f",
             "gridcolor": "white",
             "linecolor": "white",
             "minorgridcolor": "white",
             "startlinecolor": "#2a3f5f"
            },
            "type": "carpet"
           }
          ],
          "choropleth": [
           {
            "colorbar": {
             "outlinewidth": 0,
             "ticks": ""
            },
            "type": "choropleth"
           }
          ],
          "contour": [
           {
            "colorbar": {
             "outlinewidth": 0,
             "ticks": ""
            },
            "colorscale": [
             [
              0,
              "#0d0887"
             ],
             [
              0.1111111111111111,
              "#46039f"
             ],
             [
              0.2222222222222222,
              "#7201a8"
             ],
             [
              0.3333333333333333,
              "#9c179e"
             ],
             [
              0.4444444444444444,
              "#bd3786"
             ],
             [
              0.5555555555555556,
              "#d8576b"
             ],
             [
              0.6666666666666666,
              "#ed7953"
             ],
             [
              0.7777777777777778,
              "#fb9f3a"
             ],
             [
              0.8888888888888888,
              "#fdca26"
             ],
             [
              1,
              "#f0f921"
             ]
            ],
            "type": "contour"
           }
          ],
          "contourcarpet": [
           {
            "colorbar": {
             "outlinewidth": 0,
             "ticks": ""
            },
            "type": "contourcarpet"
           }
          ],
          "heatmap": [
           {
            "colorbar": {
             "outlinewidth": 0,
             "ticks": ""
            },
            "colorscale": [
             [
              0,
              "#0d0887"
             ],
             [
              0.1111111111111111,
              "#46039f"
             ],
             [
              0.2222222222222222,
              "#7201a8"
             ],
             [
              0.3333333333333333,
              "#9c179e"
             ],
             [
              0.4444444444444444,
              "#bd3786"
             ],
             [
              0.5555555555555556,
              "#d8576b"
             ],
             [
              0.6666666666666666,
              "#ed7953"
             ],
             [
              0.7777777777777778,
              "#fb9f3a"
             ],
             [
              0.8888888888888888,
              "#fdca26"
             ],
             [
              1,
              "#f0f921"
             ]
            ],
            "type": "heatmap"
           }
          ],
          "heatmapgl": [
           {
            "colorbar": {
             "outlinewidth": 0,
             "ticks": ""
            },
            "colorscale": [
             [
              0,
              "#0d0887"
             ],
             [
              0.1111111111111111,
              "#46039f"
             ],
             [
              0.2222222222222222,
              "#7201a8"
             ],
             [
              0.3333333333333333,
              "#9c179e"
             ],
             [
              0.4444444444444444,
              "#bd3786"
             ],
             [
              0.5555555555555556,
              "#d8576b"
             ],
             [
              0.6666666666666666,
              "#ed7953"
             ],
             [
              0.7777777777777778,
              "#fb9f3a"
             ],
             [
              0.8888888888888888,
              "#fdca26"
             ],
             [
              1,
              "#f0f921"
             ]
            ],
            "type": "heatmapgl"
           }
          ],
          "histogram": [
           {
            "marker": {
             "pattern": {
              "fillmode": "overlay",
              "size": 10,
              "solidity": 0.2
             }
            },
            "type": "histogram"
           }
          ],
          "histogram2d": [
           {
            "colorbar": {
             "outlinewidth": 0,
             "ticks": ""
            },
            "colorscale": [
             [
              0,
              "#0d0887"
             ],
             [
              0.1111111111111111,
              "#46039f"
             ],
             [
              0.2222222222222222,
              "#7201a8"
             ],
             [
              0.3333333333333333,
              "#9c179e"
             ],
             [
              0.4444444444444444,
              "#bd3786"
             ],
             [
              0.5555555555555556,
              "#d8576b"
             ],
             [
              0.6666666666666666,
              "#ed7953"
             ],
             [
              0.7777777777777778,
              "#fb9f3a"
             ],
             [
              0.8888888888888888,
              "#fdca26"
             ],
             [
              1,
              "#f0f921"
             ]
            ],
            "type": "histogram2d"
           }
          ],
          "histogram2dcontour": [
           {
            "colorbar": {
             "outlinewidth": 0,
             "ticks": ""
            },
            "colorscale": [
             [
              0,
              "#0d0887"
             ],
             [
              0.1111111111111111,
              "#46039f"
             ],
             [
              0.2222222222222222,
              "#7201a8"
             ],
             [
              0.3333333333333333,
              "#9c179e"
             ],
             [
              0.4444444444444444,
              "#bd3786"
             ],
             [
              0.5555555555555556,
              "#d8576b"
             ],
             [
              0.6666666666666666,
              "#ed7953"
             ],
             [
              0.7777777777777778,
              "#fb9f3a"
             ],
             [
              0.8888888888888888,
              "#fdca26"
             ],
             [
              1,
              "#f0f921"
             ]
            ],
            "type": "histogram2dcontour"
           }
          ],
          "mesh3d": [
           {
            "colorbar": {
             "outlinewidth": 0,
             "ticks": ""
            },
            "type": "mesh3d"
           }
          ],
          "parcoords": [
           {
            "line": {
             "colorbar": {
              "outlinewidth": 0,
              "ticks": ""
             }
            },
            "type": "parcoords"
           }
          ],
          "pie": [
           {
            "automargin": true,
            "type": "pie"
           }
          ],
          "scatter": [
           {
            "fillpattern": {
             "fillmode": "overlay",
             "size": 10,
             "solidity": 0.2
            },
            "type": "scatter"
           }
          ],
          "scatter3d": [
           {
            "line": {
             "colorbar": {
              "outlinewidth": 0,
              "ticks": ""
             }
            },
            "marker": {
             "colorbar": {
              "outlinewidth": 0,
              "ticks": ""
             }
            },
            "type": "scatter3d"
           }
          ],
          "scattercarpet": [
           {
            "marker": {
             "colorbar": {
              "outlinewidth": 0,
              "ticks": ""
             }
            },
            "type": "scattercarpet"
           }
          ],
          "scattergeo": [
           {
            "marker": {
             "colorbar": {
              "outlinewidth": 0,
              "ticks": ""
             }
            },
            "type": "scattergeo"
           }
          ],
          "scattergl": [
           {
            "marker": {
             "colorbar": {
              "outlinewidth": 0,
              "ticks": ""
             }
            },
            "type": "scattergl"
           }
          ],
          "scattermapbox": [
           {
            "marker": {
             "colorbar": {
              "outlinewidth": 0,
              "ticks": ""
             }
            },
            "type": "scattermapbox"
           }
          ],
          "scatterpolar": [
           {
            "marker": {
             "colorbar": {
              "outlinewidth": 0,
              "ticks": ""
             }
            },
            "type": "scatterpolar"
           }
          ],
          "scatterpolargl": [
           {
            "marker": {
             "colorbar": {
              "outlinewidth": 0,
              "ticks": ""
             }
            },
            "type": "scatterpolargl"
           }
          ],
          "scatterternary": [
           {
            "marker": {
             "colorbar": {
              "outlinewidth": 0,
              "ticks": ""
             }
            },
            "type": "scatterternary"
           }
          ],
          "surface": [
           {
            "colorbar": {
             "outlinewidth": 0,
             "ticks": ""
            },
            "colorscale": [
             [
              0,
              "#0d0887"
             ],
             [
              0.1111111111111111,
              "#46039f"
             ],
             [
              0.2222222222222222,
              "#7201a8"
             ],
             [
              0.3333333333333333,
              "#9c179e"
             ],
             [
              0.4444444444444444,
              "#bd3786"
             ],
             [
              0.5555555555555556,
              "#d8576b"
             ],
             [
              0.6666666666666666,
              "#ed7953"
             ],
             [
              0.7777777777777778,
              "#fb9f3a"
             ],
             [
              0.8888888888888888,
              "#fdca26"
             ],
             [
              1,
              "#f0f921"
             ]
            ],
            "type": "surface"
           }
          ],
          "table": [
           {
            "cells": {
             "fill": {
              "color": "#EBF0F8"
             },
             "line": {
              "color": "white"
             }
            },
            "header": {
             "fill": {
              "color": "#C8D4E3"
             },
             "line": {
              "color": "white"
             }
            },
            "type": "table"
           }
          ]
         },
         "layout": {
          "annotationdefaults": {
           "arrowcolor": "#2a3f5f",
           "arrowhead": 0,
           "arrowwidth": 1
          },
          "autotypenumbers": "strict",
          "coloraxis": {
           "colorbar": {
            "outlinewidth": 0,
            "ticks": ""
           }
          },
          "colorscale": {
           "diverging": [
            [
             0,
             "#8e0152"
            ],
            [
             0.1,
             "#c51b7d"
            ],
            [
             0.2,
             "#de77ae"
            ],
            [
             0.3,
             "#f1b6da"
            ],
            [
             0.4,
             "#fde0ef"
            ],
            [
             0.5,
             "#f7f7f7"
            ],
            [
             0.6,
             "#e6f5d0"
            ],
            [
             0.7,
             "#b8e186"
            ],
            [
             0.8,
             "#7fbc41"
            ],
            [
             0.9,
             "#4d9221"
            ],
            [
             1,
             "#276419"
            ]
           ],
           "sequential": [
            [
             0,
             "#0d0887"
            ],
            [
             0.1111111111111111,
             "#46039f"
            ],
            [
             0.2222222222222222,
             "#7201a8"
            ],
            [
             0.3333333333333333,
             "#9c179e"
            ],
            [
             0.4444444444444444,
             "#bd3786"
            ],
            [
             0.5555555555555556,
             "#d8576b"
            ],
            [
             0.6666666666666666,
             "#ed7953"
            ],
            [
             0.7777777777777778,
             "#fb9f3a"
            ],
            [
             0.8888888888888888,
             "#fdca26"
            ],
            [
             1,
             "#f0f921"
            ]
           ],
           "sequentialminus": [
            [
             0,
             "#0d0887"
            ],
            [
             0.1111111111111111,
             "#46039f"
            ],
            [
             0.2222222222222222,
             "#7201a8"
            ],
            [
             0.3333333333333333,
             "#9c179e"
            ],
            [
             0.4444444444444444,
             "#bd3786"
            ],
            [
             0.5555555555555556,
             "#d8576b"
            ],
            [
             0.6666666666666666,
             "#ed7953"
            ],
            [
             0.7777777777777778,
             "#fb9f3a"
            ],
            [
             0.8888888888888888,
             "#fdca26"
            ],
            [
             1,
             "#f0f921"
            ]
           ]
          },
          "colorway": [
           "#636efa",
           "#EF553B",
           "#00cc96",
           "#ab63fa",
           "#FFA15A",
           "#19d3f3",
           "#FF6692",
           "#B6E880",
           "#FF97FF",
           "#FECB52"
          ],
          "font": {
           "color": "#2a3f5f"
          },
          "geo": {
           "bgcolor": "white",
           "lakecolor": "white",
           "landcolor": "#E5ECF6",
           "showlakes": true,
           "showland": true,
           "subunitcolor": "white"
          },
          "hoverlabel": {
           "align": "left"
          },
          "hovermode": "closest",
          "mapbox": {
           "style": "light"
          },
          "paper_bgcolor": "white",
          "plot_bgcolor": "#E5ECF6",
          "polar": {
           "angularaxis": {
            "gridcolor": "white",
            "linecolor": "white",
            "ticks": ""
           },
           "bgcolor": "#E5ECF6",
           "radialaxis": {
            "gridcolor": "white",
            "linecolor": "white",
            "ticks": ""
           }
          },
          "scene": {
           "xaxis": {
            "backgroundcolor": "#E5ECF6",
            "gridcolor": "white",
            "gridwidth": 2,
            "linecolor": "white",
            "showbackground": true,
            "ticks": "",
            "zerolinecolor": "white"
           },
           "yaxis": {
            "backgroundcolor": "#E5ECF6",
            "gridcolor": "white",
            "gridwidth": 2,
            "linecolor": "white",
            "showbackground": true,
            "ticks": "",
            "zerolinecolor": "white"
           },
           "zaxis": {
            "backgroundcolor": "#E5ECF6",
            "gridcolor": "white",
            "gridwidth": 2,
            "linecolor": "white",
            "showbackground": true,
            "ticks": "",
            "zerolinecolor": "white"
           }
          },
          "shapedefaults": {
           "line": {
            "color": "#2a3f5f"
           }
          },
          "ternary": {
           "aaxis": {
            "gridcolor": "white",
            "linecolor": "white",
            "ticks": ""
           },
           "baxis": {
            "gridcolor": "white",
            "linecolor": "white",
            "ticks": ""
           },
           "bgcolor": "#E5ECF6",
           "caxis": {
            "gridcolor": "white",
            "linecolor": "white",
            "ticks": ""
           }
          },
          "title": {
           "x": 0.05
          },
          "xaxis": {
           "automargin": true,
           "gridcolor": "white",
           "linecolor": "white",
           "ticks": "",
           "title": {
            "standoff": 15
           },
           "zerolinecolor": "white",
           "zerolinewidth": 2
          },
          "yaxis": {
           "automargin": true,
           "gridcolor": "white",
           "linecolor": "white",
           "ticks": "",
           "title": {
            "standoff": 15
           },
           "zerolinecolor": "white",
           "zerolinewidth": 2
          }
         }
        }
       }
      }
     },
     "metadata": {},
     "output_type": "display_data"
    }
   ],
   "source": [
    "plot_and_compare_reduced_embeddings_3D(texts, poli_texts_strings, \"en\", \"it\", \"Our Group\", \"PoliNetwork Group\")"
   ]
  },
  {
   "cell_type": "markdown",
   "metadata": {},
   "source": [
    "Doing the same as before using the preprocessed texts"
   ]
  },
  {
   "cell_type": "code",
   "execution_count": 17,
   "metadata": {},
   "outputs": [],
   "source": [
    "preprocessed_texts = [preprocess_message(text, \"english\") for text in texts]\n",
    "poli_preprocessed_texts = [preprocess_message(text, \"italian\") for text in poli_texts_strings]\n"
   ]
  },
  {
   "cell_type": "code",
   "execution_count": 18,
   "metadata": {},
   "outputs": [
    {
     "data": {
      "image/png": "[encoded data removed]",
      "text/plain": [
       "<Figure size 640x480 with 1 Axes>"
      ]
     },
     "metadata": {},
     "output_type": "display_data"
    }
   ],
   "source": [
    "plot_and_compare_reduced_embeddings_2D(preprocessed_texts, poli_preprocessed_texts, \"en\", \"it\")"
   ]
  },
  {
   "cell_type": "code",
   "execution_count": 19,
   "metadata": {},
   "outputs": [
    {
     "data": {
      "application/vnd.plotly.v1+json": {
       "config": {
        "plotlyServerURL": "https://plot.ly"
       },
       "data": [
        {
         "marker": {
          "color": "blue",
          "size": 8
         },
         "mode": "markers",
         "name": "Our Group",
         "type": "scatter3d",
         "x": [
          -0.33257877826690674,
          -0.24573975801467896,
          -0.33829784393310547,
          -0.33829784393310547,
          -0.2677179276943207,
          0.017614129930734634,
          -0.33257874846458435,
          0.2013320028781891,
          -0.08569232374429703,
          -0.2186422049999237,
          0.026209905743598938,
          -0.23596063256263733,
          -0.1938011795282364,
          -0.017502009868621826,
          -0.013048438355326653,
          -0.3378859758377075,
          -0.07388338446617126,
          -0.24638208746910095,
          0.08586136996746063,
          0.07415171712636948,
          0.16424518823623657,
          0.007810770999640226,
          0.10014194995164871,
          -0.036199841648340225,
          -0.11530081182718277,
          0.3934237062931061,
          0.4001590609550476,
          0.2266951948404312,
          0.2957985997200012,
          -0.08584028482437134,
          -0.03856681287288666,
          -0.1818237006664276,
          -0.003822878934442997,
          -0.33257874846458435,
          -0.33257874846458435,
          -0.33584070205688477,
          0.46526315808296204,
          0.008278893306851387,
          0.20857279002666473,
          -0.06403865665197372,
          0.12218250334262848,
          -0.24592038989067078,
          -0.09143681079149246,
          0.15571677684783936,
          0.2068290114402771,
          0.11062217503786087,
          0.29259809851646423,
          -0.06391202658414841,
          0.3029835820198059,
          -0.1301879584789276,
          0.2395298033952713,
          0.02821495570242405,
          0.14085182547569275,
          0.05938293784856796,
          -0.11830748617649078,
          -0.15787257254123688,
          0.22253897786140442,
          0.3163062036037445,
          0.2308959811925888,
          -0.13473570346832275,
          0.20674458146095276,
          -0.060120049864053726,
          -0.33257874846458435,
          -0.03778104856610298,
          0.13043107092380524,
          0.23527294397354126,
          0.19869044423103333,
          0.1636408120393753,
          -0.3605126142501831,
          -0.1077551320195198,
          -0.33257874846458435,
          -0.010347333736717701,
          -0.1754799634218216,
          -0.3605126142501831,
          -0.20591092109680176,
          -0.15247251093387604,
          -0.2087235450744629,
          -0.02683202177286148,
          -0.14219000935554504,
          0.09516233950853348,
          0.2106192409992218,
          0.2563183903694153,
          0.29340001940727234,
          0.1763266623020172,
          0.08167806267738342,
          0.08701672405004501,
          0.07797666639089584,
          -0.05732712894678116,
          -0.34935641288757324,
          -0.34935641288757324,
          0.21827885508537292,
          0.2050265222787857,
          0.10888275504112244,
          0.1379767209291458,
          0.29885369539260864,
          -0.19697852432727814,
          0.4421411454677582,
          0.2827695310115814,
          -0.024563316255807877,
          0.2269326150417328
         ],
         "y": [
          0.06395696103572845,
          -0.019620439037680626,
          0.008772803470492363,
          0.00877279881387949,
          -0.03270306810736656,
          -0.083699531853199,
          0.06395699083805084,
          -0.09335967898368835,
          0.009522192180156708,
          -0.03735059127211571,
          -0.061399247497320175,
          -0.024572111666202545,
          -0.05020175874233246,
          0.012052449397742748,
          -0.0414312370121479,
          0.03789665549993515,
          0.029144853353500366,
          -0.009351135231554508,
          -0.02341015823185444,
          -0.12460408359766006,
          -0.08093710988759995,
          -0.0932612419128418,
          -0.10942934453487396,
          0.03066493570804596,
          -0.07790112495422363,
          0.1794929802417755,
          0.11851575970649719,
          -0.08595071732997894,
          0.10887834429740906,
          -0.09486625343561172,
          0.17712271213531494,
          0.16554677486419678,
          -0.060169074684381485,
          0.06395699083805084,
          0.06395699083805084,
          -0.012599214911460876,
          0.07894300669431686,
          -0.17050689458847046,
          -0.06843694299459457,
          -0.0837530642747879,
          -0.028581729158759117,
          -0.02307227812707424,
          -0.09753065556287766,
          -0.03108213283121586,
          -0.14293432235717773,
          0.040688227862119675,
          -0.053332362323999405,
          -0.10229727625846863,
          -0.019386155530810356,
          0.22235767543315887,
          -0.05973649397492409,
          0.37243035435676575,
          0.02310503087937832,
          0.2646053731441498,
          0.026290254667401314,
          0.020550645887851715,
          0.37690219283103943,
          0.17728926241397858,
          0.3943077325820923,
          -0.12538491189479828,
          -0.1388484686613083,
          -0.014509731903672218,
          0.06395699083805084,
          0.039860647171735764,
          -0.024511760100722313,
          0.1353212594985962,
          -0.1296616792678833,
          -0.016499115154147148,
          -0.0076565989293158054,
          -0.10177130252122879,
          0.06395699083805084,
          -0.14431121945381165,
          0.008255521766841412,
          -0.0076565989293158054,
          -0.022511444985866547,
          -0.021449588239192963,
          -0.021550875157117844,
          0.11295855790376663,
          0.1929415464401245,
          0.016942180693149567,
          -0.1141190379858017,
          -0.10657969862222672,
          -0.10799482464790344,
          -0.11060802638530731,
          -0.060490917414426804,
          -0.12593483924865723,
          -0.12956200540065765,
          -0.04025593772530556,
          0.030659662559628487,
          0.030659662559628487,
          -0.0036738584749400616,
          -0.1441798359155655,
          -0.003512211609631777,
          0.013718386180698872,
          0.15623265504837036,
          -0.05110970884561539,
          -0.025590043514966965,
          -0.08121149241924286,
          -0.08725669234991074,
          0.060724880546331406
         ],
         "z": [
          0.17430676519870758,
          -0.014865986071527004,
          0.07167110592126846,
          0.07167113572359085,
          -0.0409756563603878,
          0.028133800253272057,
          0.17430676519870758,
          0.021104104816913605,
          0.03407503291964531,
          -0.04907872527837753,
          -0.012471931055188179,
          -0.034486547112464905,
          -0.06864582747220993,
          0.07408585399389267,
          0.009249230846762657,
          0.08293166756629944,
          -0.1136762797832489,
          0.007004737854003906,
          0.03496329486370087,
          -0.03635736554861069,
          0.024877967312932014,
          -0.11658909916877747,
          -0.032373182475566864,
          0.004531047772616148,
          -0.04430513456463814,
          0.21023887395858765,
          0.0706263929605484,
          -0.024328060448169708,
          0.10876520723104477,
          -0.08553311973810196,
          -0.1934599131345749,
          -0.09556694328784943,
          -0.07265407592058182,
          0.17430676519870758,
          0.17430676519870758,
          0.023547286167740822,
          0.15197421610355377,
          -0.11257923394441605,
          0.1193619966506958,
          -0.0620579868555069,
          0.14097322523593903,
          -0.010140135884284973,
          -0.06538403034210205,
          -0.010872362181544304,
          -0.001862391596660018,
          0.02007683366537094,
          0.04661982133984566,
          -0.06534963846206665,
          0.15190570056438446,
          -0.11103473603725433,
          -0.014202551916241646,
          -0.15581759810447693,
          -0.12093336135149002,
          -0.11782793700695038,
          -0.1627558022737503,
          -0.10762611031532288,
          -0.14230258762836456,
          0.039276279509067535,
          -0.12858714163303375,
          -0.10607828199863434,
          -0.016347642987966537,
          -0.03791522607207298,
          0.17430676519870758,
          -0.06859767436981201,
          -0.08715718984603882,
          -0.048719774931669235,
          -0.025653796270489693,
          -0.08239864557981491,
          0.07889119535684586,
          -0.12560532987117767,
          0.17430676519870758,
          -0.09873832017183304,
          0.10720668733119965,
          0.07889119535684586,
          -0.0851900726556778,
          -0.03165872022509575,
          0.053267743438482285,
          -0.03644105792045593,
          -0.09787370264530182,
          -0.05896059051156044,
          -0.005371938459575176,
          0.037702132016420364,
          0.08251425623893738,
          -0.02281755395233631,
          -0.030032293871045113,
          -0.06842131167650223,
          -0.04927867650985718,
          0.017723441123962402,
          0.13318291306495667,
          0.13318291306495667,
          -0.016494151204824448,
          -0.02771032601594925,
          -0.06631708145141602,
          -0.041609201580286026,
          0.17237046360969543,
          -0.05888022854924202,
          0.21295207738876343,
          0.06989756971597672,
          -0.09298864752054214,
          0.14067013561725616
         ]
        },
        {
         "marker": {
          "color": "red",
          "size": 8
         },
         "mode": "markers",
         "name": "PoliNetwork Group",
         "type": "scatter3d",
         "x": [
          0.2466767281293869,
          -0.003318036673590541,
          -0.12726204097270966,
          0.19562993943691254,
          -0.22528213262557983,
          -0.08942146599292755,
          -0.09360531717538834,
          0.05694490671157837,
          -0.030600329861044884,
          -0.20855200290679932,
          -0.015624837949872017,
          -0.13955610990524292,
          -0.16170895099639893,
          -0.27912554144859314,
          -0.31884831190109253,
          -0.22435525059700012,
          0.0919329896569252,
          0.24697162210941315,
          -0.1605432629585266,
          -0.23135265707969666,
          0.0719166025519371,
          -0.36324238777160645,
          -0.060858141630887985,
          -0.21928671002388,
          0.14224283397197723,
          -0.039082806557416916,
          0.2006491720676422,
          -0.22556215524673462,
          -0.09936531633138657,
          -0.08550837635993958,
          -0.10602828860282898,
          -0.21588942408561707,
          0.292324423789978,
          0.1769401878118515,
          0.2422361671924591,
          -0.10580074042081833,
          -0.22391487658023834,
          0.10756225138902664,
          -0.23365215957164764,
          -0.21961431205272675,
          -0.07358578592538834,
          0.06293126195669174,
          0.19059576094150543,
          0.025913333520293236,
          -0.0906393900513649,
          0.0445195697247982,
          0.13350220024585724,
          0.312105655670166,
          -0.21038174629211426,
          0.046805478632450104,
          0.08324848860502243,
          0.2915549576282501,
          0.12220191210508347,
          0.17440812289714813,
          0.2594655752182007,
          -0.3297930061817169,
          0.22818344831466675,
          0.01783435046672821,
          0.18783533573150635,
          0.06509962677955627,
          0.04790771007537842,
          0.17489846050739288,
          0.2911979556083679,
          -0.06159363314509392,
          0.19756123423576355,
          0.10629689693450928,
          0.4018264412879944,
          0.07947948575019836,
          0.09153171628713608,
          0.13743871450424194,
          -0.10962261259555817,
          -0.26427116990089417,
          -0.19403359293937683,
          0.37648504972457886,
          -0.08986024558544159,
          -0.06035280600190163,
          -0.051376841962337494,
          0.37648504972457886,
          0.0801432728767395,
          0.06516707688570023,
          -0.13517311215400696,
          0.30574122071266174,
          -0.23189085721969604,
          0.0751534104347229,
          0.2902618646621704,
          -0.22097164392471313,
          0.2902618646621704,
          0.09520943462848663,
          -0.22886863350868225,
          0.028949668630957603,
          -0.015334018506109715,
          0.07336925715208054,
          0.2422894984483719,
          -0.24067182838916779,
          -0.17751650512218475,
          -0.02880845218896866,
          -0.11923124641180038,
          -0.3084266781806946,
          -0.1650468409061432,
          -0.23147621750831604
         ],
         "y": [
          -0.015567759983241558,
          0.0686105340719223,
          0.11121074855327606,
          0.031394824385643005,
          -0.10657953470945358,
          0.07867372035980225,
          0.2247052639722824,
          0.06717246025800705,
          0.05004972964525223,
          -0.10180656611919403,
          -0.054634034633636475,
          -0.05522841587662697,
          -0.005376207176595926,
          0.013133898377418518,
          0.2361597865819931,
          -0.027484966441988945,
          -0.040321849286556244,
          -0.029711032286286354,
          0.2768929600715637,
          0.16224654018878937,
          -0.040495458990335464,
          0.08778949826955795,
          0.07233589142560959,
          -0.025150667876005173,
          0.1872870773077011,
          0.082680843770504,
          0.062148794531822205,
          0.024111714214086533,
          -0.10481935739517212,
          0.044450532644987106,
          -0.05191667750477791,
          -0.1125871017575264,
          0.08854895830154419,
          -0.042783405631780624,
          -0.09168868511915207,
          0.008089865557849407,
          -0.16700372099876404,
          -0.020140348002314568,
          -0.027156608179211617,
          -0.05424493923783302,
          -0.1535792052745819,
          -0.10678964108228683,
          0.039484571665525436,
          0.1346510946750641,
          -0.11804720759391785,
          0.05204107612371445,
          -0.009267535991966724,
          -0.04961983114480972,
          -0.12293083965778351,
          0.04162970557808876,
          -0.0067935120314359665,
          0.09718883782625198,
          -0.0042992099188268185,
          0.19766978919506073,
          -0.07947583496570587,
          -0.006277272943407297,
          0.03562156856060028,
          -0.1363724023103714,
          -0.03608633577823639,
          -0.13585320115089417,
          -0.038335759192705154,
          -0.059758126735687256,
          -0.08960207551717758,
          -0.11284036934375763,
          -0.11490865051746368,
          -0.030767321586608887,
          0.0005985799944028258,
          -0.1548212766647339,
          -0.050429314374923706,
          -0.1224684938788414,
          -0.10501927882432938,
          -0.048192787915468216,
          0.1624898761510849,
          -0.02804570458829403,
          -0.09808384627103806,
          -0.006930460687726736,
          0.175901398062706,
          -0.02804570458829403,
          0.0343504473567009,
          -0.008827261626720428,
          0.16383929550647736,
          -0.06649952381849289,
          -0.11794397979974747,
          0.1951032280921936,
          -0.026068028062582016,
          -0.022694643586874008,
          -0.026068028062582016,
          0.16210919618606567,
          -0.01608152873814106,
          0.02608351781964302,
          0.031791992485523224,
          0.15801897644996643,
          0.17974044382572174,
          -0.03629632294178009,
          -0.09316615760326385,
          -0.11876679956912994,
          -0.05526593700051308,
          -0.0396803542971611,
          -0.04144804924726486,
          0.031137706711888313
         ],
         "z": [
          0.0014369774144142866,
          -0.08286634087562561,
          -0.0360962450504303,
          0.008811228908598423,
          0.049038004130125046,
          -0.062373820692300797,
          0.10134835541248322,
          -0.11220567673444748,
          -0.13935837149620056,
          0.06705591082572937,
          -0.1569276601076126,
          0.04709404334425926,
          0.052783358842134476,
          -0.026881208643317223,
          0.18371619284152985,
          0.047463830560445786,
          0.029865769669413567,
          -0.03801032900810242,
          0.06479224562644958,
          0.10273253917694092,
          -0.07835943251848221,
          0.07652021944522858,
          -0.09344173967838287,
          0.10209997743368149,
          -0.02921881712973118,
          -0.007551642134785652,
          -0.05958497151732445,
          0.025830872356891632,
          0.061688799411058426,
          -0.03706321865320206,
          0.042107757180929184,
          0.0407131090760231,
          -0.015428575687110424,
          -0.040346626192331314,
          0.09487303346395493,
          -0.060356009751558304,
          -0.04708326235413551,
          -0.012593341059982777,
          0.06354030966758728,
          0.11293789744377136,
          0.023588821291923523,
          -0.08429032564163208,
          -0.037551917135715485,
          -0.09590375423431396,
          0.038748499006032944,
          -0.11503587663173676,
          -0.05919189751148224,
          0.08736614882946014,
          -0.019481724128127098,
          -0.036170873790979385,
          -0.0490049384534359,
          0.014961670152842999,
          -0.09727908670902252,
          0.0660390630364418,
          0.04496411979198456,
          0.010887688025832176,
          -0.07006794959306717,
          -0.0384598933160305,
          -0.06426393240690231,
          -0.016683129593729973,
          -0.03708583116531372,
          -0.012543508782982826,
          0.11324866861104965,
          -0.07614106684923172,
          -0.030788665637373924,
          0.021670358255505562,
          0.24149298667907715,
          -0.020761827006936073,
          -0.039379529654979706,
          0.02706793136894703,
          -0.03909514099359512,
          -0.05527551844716072,
          -0.014277578331530094,
          0.1625271439552307,
          0.021452583372592926,
          -0.001391040743328631,
          -0.10158565640449524,
          0.1625271439552307,
          -0.01954556442797184,
          -0.030830025672912598,
          -0.018394265323877335,
          0.06924352049827576,
          0.047382205724716187,
          -0.08014865219593048,
          -0.016823045909404755,
          0.0429910346865654,
          -0.016823045909404755,
          -0.0840805172920227,
          0.017984921112656593,
          -0.08395189046859741,
          -0.14241009950637817,
          -0.02812175080180168,
          0.2156752496957779,
          0.04718253016471863,
          -0.015678435564041138,
          -0.020894205197691917,
          -0.022205760702490807,
          0.041500065475702286,
          -0.05134698376059532,
          0.08376005291938782
         ]
        }
       ],
       "layout": {
        "legend": {
         "x": 0.01,
         "xanchor": "left",
         "y": 0.99,
         "yanchor": "top"
        },
        "template": {
         "data": {
          "bar": [
           {
            "error_x": {
             "color": "#2a3f5f"
            },
            "error_y": {
             "color": "#2a3f5f"
            },
            "marker": {
             "line": {
              "color": "#E5ECF6",
              "width": 0.5
             },
             "pattern": {
              "fillmode": "overlay",
              "size": 10,
              "solidity": 0.2
             }
            },
            "type": "bar"
           }
          ],
          "barpolar": [
           {
            "marker": {
             "line": {
              "color": "#E5ECF6",
              "width": 0.5
             },
             "pattern": {
              "fillmode": "overlay",
              "size": 10,
              "solidity": 0.2
             }
            },
            "type": "barpolar"
           }
          ],
          "carpet": [
           {
            "aaxis": {
             "endlinecolor": "#2a3f5f",
             "gridcolor": "white",
             "linecolor": "white",
             "minorgridcolor": "white",
             "startlinecolor": "#2a3f5f"
            },
            "baxis": {
             "endlinecolor": "#2a3f5f",
             "gridcolor": "white",
             "linecolor": "white",
             "minorgridcolor": "white",
             "startlinecolor": "#2a3f5f"
            },
            "type": "carpet"
           }
          ],
          "choropleth": [
           {
            "colorbar": {
             "outlinewidth": 0,
             "ticks": ""
            },
            "type": "choropleth"
           }
          ],
          "contour": [
           {
            "colorbar": {
             "outlinewidth": 0,
             "ticks": ""
            },
            "colorscale": [
             [
              0,
              "#0d0887"
             ],
             [
              0.1111111111111111,
              "#46039f"
             ],
             [
              0.2222222222222222,
              "#7201a8"
             ],
             [
              0.3333333333333333,
              "#9c179e"
             ],
             [
              0.4444444444444444,
              "#bd3786"
             ],
             [
              0.5555555555555556,
              "#d8576b"
             ],
             [
              0.6666666666666666,
              "#ed7953"
             ],
             [
              0.7777777777777778,
              "#fb9f3a"
             ],
             [
              0.8888888888888888,
              "#fdca26"
             ],
             [
              1,
              "#f0f921"
             ]
            ],
            "type": "contour"
           }
          ],
          "contourcarpet": [
           {
            "colorbar": {
             "outlinewidth": 0,
             "ticks": ""
            },
            "type": "contourcarpet"
           }
          ],
          "heatmap": [
           {
            "colorbar": {
             "outlinewidth": 0,
             "ticks": ""
            },
            "colorscale": [
             [
              0,
              "#0d0887"
             ],
             [
              0.1111111111111111,
              "#46039f"
             ],
             [
              0.2222222222222222,
              "#7201a8"
             ],
             [
              0.3333333333333333,
              "#9c179e"
             ],
             [
              0.4444444444444444,
              "#bd3786"
             ],
             [
              0.5555555555555556,
              "#d8576b"
             ],
             [
              0.6666666666666666,
              "#ed7953"
             ],
             [
              0.7777777777777778,
              "#fb9f3a"
             ],
             [
              0.8888888888888888,
              "#fdca26"
             ],
             [
              1,
              "#f0f921"
             ]
            ],
            "type": "heatmap"
           }
          ],
          "heatmapgl": [
           {
            "colorbar": {
             "outlinewidth": 0,
             "ticks": ""
            },
            "colorscale": [
             [
              0,
              "#0d0887"
             ],
             [
              0.1111111111111111,
              "#46039f"
             ],
             [
              0.2222222222222222,
              "#7201a8"
             ],
             [
              0.3333333333333333,
              "#9c179e"
             ],
             [
              0.4444444444444444,
              "#bd3786"
             ],
             [
              0.5555555555555556,
              "#d8576b"
             ],
             [
              0.6666666666666666,
              "#ed7953"
             ],
             [
              0.7777777777777778,
              "#fb9f3a"
             ],
             [
              0.8888888888888888,
              "#fdca26"
             ],
             [
              1,
              "#f0f921"
             ]
            ],
            "type": "heatmapgl"
           }
          ],
          "histogram": [
           {
            "marker": {
             "pattern": {
              "fillmode": "overlay",
              "size": 10,
              "solidity": 0.2
             }
            },
            "type": "histogram"
           }
          ],
          "histogram2d": [
           {
            "colorbar": {
             "outlinewidth": 0,
             "ticks": ""
            },
            "colorscale": [
             [
              0,
              "#0d0887"
             ],
             [
              0.1111111111111111,
              "#46039f"
             ],
             [
              0.2222222222222222,
              "#7201a8"
             ],
             [
              0.3333333333333333,
              "#9c179e"
             ],
             [
              0.4444444444444444,
              "#bd3786"
             ],
             [
              0.5555555555555556,
              "#d8576b"
             ],
             [
              0.6666666666666666,
              "#ed7953"
             ],
             [
              0.7777777777777778,
              "#fb9f3a"
             ],
             [
              0.8888888888888888,
              "#fdca26"
             ],
             [
              1,
              "#f0f921"
             ]
            ],
            "type": "histogram2d"
           }
          ],
          "histogram2dcontour": [
           {
            "colorbar": {
             "outlinewidth": 0,
             "ticks": ""
            },
            "colorscale": [
             [
              0,
              "#0d0887"
             ],
             [
              0.1111111111111111,
              "#46039f"
             ],
             [
              0.2222222222222222,
              "#7201a8"
             ],
             [
              0.3333333333333333,
              "#9c179e"
             ],
             [
              0.4444444444444444,
              "#bd3786"
             ],
             [
              0.5555555555555556,
              "#d8576b"
             ],
             [
              0.6666666666666666,
              "#ed7953"
             ],
             [
              0.7777777777777778,
              "#fb9f3a"
             ],
             [
              0.8888888888888888,
              "#fdca26"
             ],
             [
              1,
              "#f0f921"
             ]
            ],
            "type": "histogram2dcontour"
           }
          ],
          "mesh3d": [
           {
            "colorbar": {
             "outlinewidth": 0,
             "ticks": ""
            },
            "type": "mesh3d"
           }
          ],
          "parcoords": [
           {
            "line": {
             "colorbar": {
              "outlinewidth": 0,
              "ticks": ""
             }
            },
            "type": "parcoords"
           }
          ],
          "pie": [
           {
            "automargin": true,
            "type": "pie"
           }
          ],
          "scatter": [
           {
            "fillpattern": {
             "fillmode": "overlay",
             "size": 10,
             "solidity": 0.2
            },
            "type": "scatter"
           }
          ],
          "scatter3d": [
           {
            "line": {
             "colorbar": {
              "outlinewidth": 0,
              "ticks": ""
             }
            },
            "marker": {
             "colorbar": {
              "outlinewidth": 0,
              "ticks": ""
             }
            },
            "type": "scatter3d"
           }
          ],
          "scattercarpet": [
           {
            "marker": {
             "colorbar": {
              "outlinewidth": 0,
              "ticks": ""
             }
            },
            "type": "scattercarpet"
           }
          ],
          "scattergeo": [
           {
            "marker": {
             "colorbar": {
              "outlinewidth": 0,
              "ticks": ""
             }
            },
            "type": "scattergeo"
           }
          ],
          "scattergl": [
           {
            "marker": {
             "colorbar": {
              "outlinewidth": 0,
              "ticks": ""
             }
            },
            "type": "scattergl"
           }
          ],
          "scattermapbox": [
           {
            "marker": {
             "colorbar": {
              "outlinewidth": 0,
              "ticks": ""
             }
            },
            "type": "scattermapbox"
           }
          ],
          "scatterpolar": [
           {
            "marker": {
             "colorbar": {
              "outlinewidth": 0,
              "ticks": ""
             }
            },
            "type": "scatterpolar"
           }
          ],
          "scatterpolargl": [
           {
            "marker": {
             "colorbar": {
              "outlinewidth": 0,
              "ticks": ""
             }
            },
            "type": "scatterpolargl"
           }
          ],
          "scatterternary": [
           {
            "marker": {
             "colorbar": {
              "outlinewidth": 0,
              "ticks": ""
             }
            },
            "type": "scatterternary"
           }
          ],
          "surface": [
           {
            "colorbar": {
             "outlinewidth": 0,
             "ticks": ""
            },
            "colorscale": [
             [
              0,
              "#0d0887"
             ],
             [
              0.1111111111111111,
              "#46039f"
             ],
             [
              0.2222222222222222,
              "#7201a8"
             ],
             [
              0.3333333333333333,
              "#9c179e"
             ],
             [
              0.4444444444444444,
              "#bd3786"
             ],
             [
              0.5555555555555556,
              "#d8576b"
             ],
             [
              0.6666666666666666,
              "#ed7953"
             ],
             [
              0.7777777777777778,
              "#fb9f3a"
             ],
             [
              0.8888888888888888,
              "#fdca26"
             ],
             [
              1,
              "#f0f921"
             ]
            ],
            "type": "surface"
           }
          ],
          "table": [
           {
            "cells": {
             "fill": {
              "color": "#EBF0F8"
             },
             "line": {
              "color": "white"
             }
            },
            "header": {
             "fill": {
              "color": "#C8D4E3"
             },
             "line": {
              "color": "white"
             }
            },
            "type": "table"
           }
          ]
         },
         "layout": {
          "annotationdefaults": {
           "arrowcolor": "#2a3f5f",
           "arrowhead": 0,
           "arrowwidth": 1
          },
          "autotypenumbers": "strict",
          "coloraxis": {
           "colorbar": {
            "outlinewidth": 0,
            "ticks": ""
           }
          },
          "colorscale": {
           "diverging": [
            [
             0,
             "#8e0152"
            ],
            [
             0.1,
             "#c51b7d"
            ],
            [
             0.2,
             "#de77ae"
            ],
            [
             0.3,
             "#f1b6da"
            ],
            [
             0.4,
             "#fde0ef"
            ],
            [
             0.5,
             "#f7f7f7"
            ],
            [
             0.6,
             "#e6f5d0"
            ],
            [
             0.7,
             "#b8e186"
            ],
            [
             0.8,
             "#7fbc41"
            ],
            [
             0.9,
             "#4d9221"
            ],
            [
             1,
             "#276419"
            ]
           ],
           "sequential": [
            [
             0,
             "#0d0887"
            ],
            [
             0.1111111111111111,
             "#46039f"
            ],
            [
             0.2222222222222222,
             "#7201a8"
            ],
            [
             0.3333333333333333,
             "#9c179e"
            ],
            [
             0.4444444444444444,
             "#bd3786"
            ],
            [
             0.5555555555555556,
             "#d8576b"
            ],
            [
             0.6666666666666666,
             "#ed7953"
            ],
            [
             0.7777777777777778,
             "#fb9f3a"
            ],
            [
             0.8888888888888888,
             "#fdca26"
            ],
            [
             1,
             "#f0f921"
            ]
           ],
           "sequentialminus": [
            [
             0,
             "#0d0887"
            ],
            [
             0.1111111111111111,
             "#46039f"
            ],
            [
             0.2222222222222222,
             "#7201a8"
            ],
            [
             0.3333333333333333,
             "#9c179e"
            ],
            [
             0.4444444444444444,
             "#bd3786"
            ],
            [
             0.5555555555555556,
             "#d8576b"
            ],
            [
             0.6666666666666666,
             "#ed7953"
            ],
            [
             0.7777777777777778,
             "#fb9f3a"
            ],
            [
             0.8888888888888888,
             "#fdca26"
            ],
            [
             1,
             "#f0f921"
            ]
           ]
          },
          "colorway": [
           "#636efa",
           "#EF553B",
           "#00cc96",
           "#ab63fa",
           "#FFA15A",
           "#19d3f3",
           "#FF6692",
           "#B6E880",
           "#FF97FF",
           "#FECB52"
          ],
          "font": {
           "color": "#2a3f5f"
          },
          "geo": {
           "bgcolor": "white",
           "lakecolor": "white",
           "landcolor": "#E5ECF6",
           "showlakes": true,
           "showland": true,
           "subunitcolor": "white"
          },
          "hoverlabel": {
           "align": "left"
          },
          "hovermode": "closest",
          "mapbox": {
           "style": "light"
          },
          "paper_bgcolor": "white",
          "plot_bgcolor": "#E5ECF6",
          "polar": {
           "angularaxis": {
            "gridcolor": "white",
            "linecolor": "white",
            "ticks": ""
           },
           "bgcolor": "#E5ECF6",
           "radialaxis": {
            "gridcolor": "white",
            "linecolor": "white",
            "ticks": ""
           }
          },
          "scene": {
           "xaxis": {
            "backgroundcolor": "#E5ECF6",
            "gridcolor": "white",
            "gridwidth": 2,
            "linecolor": "white",
            "showbackground": true,
            "ticks": "",
            "zerolinecolor": "white"
           },
           "yaxis": {
            "backgroundcolor": "#E5ECF6",
            "gridcolor": "white",
            "gridwidth": 2,
            "linecolor": "white",
            "showbackground": true,
            "ticks": "",
            "zerolinecolor": "white"
           },
           "zaxis": {
            "backgroundcolor": "#E5ECF6",
            "gridcolor": "white",
            "gridwidth": 2,
            "linecolor": "white",
            "showbackground": true,
            "ticks": "",
            "zerolinecolor": "white"
           }
          },
          "shapedefaults": {
           "line": {
            "color": "#2a3f5f"
           }
          },
          "ternary": {
           "aaxis": {
            "gridcolor": "white",
            "linecolor": "white",
            "ticks": ""
           },
           "baxis": {
            "gridcolor": "white",
            "linecolor": "white",
            "ticks": ""
           },
           "bgcolor": "#E5ECF6",
           "caxis": {
            "gridcolor": "white",
            "linecolor": "white",
            "ticks": ""
           }
          },
          "title": {
           "x": 0.05
          },
          "xaxis": {
           "automargin": true,
           "gridcolor": "white",
           "linecolor": "white",
           "ticks": "",
           "title": {
            "standoff": 15
           },
           "zerolinecolor": "white",
           "zerolinewidth": 2
          },
          "yaxis": {
           "automargin": true,
           "gridcolor": "white",
           "linecolor": "white",
           "ticks": "",
           "title": {
            "standoff": 15
           },
           "zerolinecolor": "white",
           "zerolinewidth": 2
          }
         }
        }
       }
      }
     },
     "metadata": {},
     "output_type": "display_data"
    }
   ],
   "source": [
    "plot_and_compare_reduced_embeddings_3D(preprocessed_texts, poli_preprocessed_texts, \"en\", \"it\", \"Our Group\", \"PoliNetwork Group\")"
   ]
  },
  {
   "cell_type": "markdown",
   "metadata": {},
   "source": [
    "**Cosine Similarity**"
   ]
  },
  {
   "cell_type": "code",
   "execution_count": 20,
   "metadata": {},
   "outputs": [
    {
     "name": "stdout",
     "output_type": "stream",
     "text": [
      "Cosine similarity between sentences: 0.7246\n",
      "Cosine similarity between two equal sentences: 1.0000\n"
     ]
    }
   ],
   "source": [
    "\n",
    "# Define your two sentences\n",
    "sentence1 = \"This is the first sentence.\"\n",
    "sentence2 = \"This sentence is very similar to the first one.\"\n",
    "\n",
    "# Get the LASER embeddings for the sentences\n",
    "embedding1 = laser.embed_sentences(\n",
    "  sentence1,\n",
    "  lang='en')\n",
    "\n",
    "embedding2 = laser.embed_sentences(\n",
    "  sentence2,\n",
    "  lang='en')\n",
    "\n",
    "embedding3 = laser.embed_sentences(\n",
    "  sentence1,\n",
    "  lang='en')\n",
    "\n",
    "# Calculate cosine similarity\n",
    "import numpy as np\n",
    "similarity1 = np.dot(embedding1[0], embedding2[0]) / (np.linalg.norm(embedding1[0]) * np.linalg.norm(embedding2[0]))\n",
    "\n",
    "# Print the similarity score\n",
    "print(f\"Cosine similarity between sentences: {similarity1:.4f}\")\n",
    "\n",
    "# Calculate cosine similarity OF THE SAME SENTENCE\n",
    "similarity2 = np.dot(embedding1[0], embedding3[0]) / (np.linalg.norm(embedding1[0]) * np.linalg.norm(embedding3[0]))\n",
    "print(f\"Cosine similarity between two equal sentences: {similarity2:.4f}\")\n",
    "\n"
   ]
  },
  {
   "cell_type": "code",
   "execution_count": 21,
   "metadata": {},
   "outputs": [
    {
     "name": "stdout",
     "output_type": "stream",
     "text": [
      "[0 1 2 3 4]\n"
     ]
    }
   ],
   "source": [
    "range_ = np.arange(5)\n",
    "print(range_)"
   ]
  },
  {
   "cell_type": "code",
   "execution_count": 22,
   "metadata": {},
   "outputs": [
    {
     "name": "stdout",
     "output_type": "stream",
     "text": [
      "329\n"
     ]
    }
   ],
   "source": [
    "#Return the average cosine similarity between the last k embeddings\n",
    "def average_k_cosine_similarity(embeddings, k):\n",
    "    tmp_similarity = []\n",
    "    for i in np.arange(k):\n",
    "        if i != k-1:\n",
    "            tmp_similarity.append(np.dot(embeddings[k-1], embeddings[i]) / (np.linalg.norm(embeddings[k-1]) * np.linalg.norm(embeddings[i])))\n",
    "    return np.mean(tmp_similarity)\n",
    "\n",
    "print(len(embeddings))\n",
    "\n",
    "similarities = average_k_cosine_similarity(embeddings, 5)"
   ]
  },
  {
   "cell_type": "code",
   "execution_count": 31,
   "metadata": {},
   "outputs": [],
   "source": [
    "def cosine_similarities_last_k_sliding_window (embeddings2, k):\n",
    "    trial_similarities = list()\n",
    "    for i in np.arange(len(embeddings2)-k):\n",
    "        if i+1 > k:\n",
    "            window = [emb for emb in embeddings2[i:i+k-1]]\n",
    "            trial_similarities.append(average_k_cosine_similarity(window, k-1))\n",
    "            #329 print(i)\n",
    "        else:\n",
    "            window = [emb for emb in embeddings2[0:i+1]]\n",
    "            lenw = len(window)\n",
    "            lent = len(trial_similarities)\n",
    "            trial_similarities.append(average_k_cosine_similarity(window, i+1))\n",
    "    return trial_similarities"
   ]
  },
  {
   "cell_type": "code",
   "execution_count": 24,
   "metadata": {},
   "outputs": [
    {
     "name": "stdout",
     "output_type": "stream",
     "text": [
      "['nan', 'hi guys', 'hi', 'hi', 'hey everyone']\n"
     ]
    }
   ],
   "source": [
    "print(preprocessed_texts[0:5])\n",
    "prep_text = preprocessed_texts"
   ]
  },
  {
   "cell_type": "code",
   "execution_count": 25,
   "metadata": {},
   "outputs": [],
   "source": [
    "laser = Laser()\n",
    "langs = ['en' for i in range(len(preprocessed_texts))]\n",
    "embeddings2 = laser.embed_sentences(\n",
    "  prep_text,\n",
    "  lang=langs)"
   ]
  },
  {
   "cell_type": "code",
   "execution_count": 26,
   "metadata": {},
   "outputs": [
    {
     "data": {
      "text/plain": [
       "8"
      ]
     },
     "execution_count": 26,
     "metadata": {},
     "output_type": "execute_result"
    }
   ],
   "source": [
    "len(embeddings2[0:8])"
   ]
  },
  {
   "cell_type": "code",
   "execution_count": 33,
   "metadata": {},
   "outputs": [
    {
     "name": "stdout",
     "output_type": "stream",
     "text": [
      "nan\n",
      "322\n",
      "329\n"
     ]
    },
    {
     "data": {
      "image/png": "[encoded data removed]",
      "text/plain": [
       "<Figure size 640x480 with 1 Axes>"
      ]
     },
     "metadata": {},
     "output_type": "display_data"
    }
   ],
   "source": [
    "our_group_similarities = cosine_similarities_last_k_sliding_window(embeddings2, 7)\n",
    "\n",
    "print(our_group_similarities[0])\n",
    "\n",
    "print(len(our_group_similarities))\n",
    "print(len(embeddings2))\n",
    "\n",
    "# Plot the list\n",
    "plt.plot(our_group_similarities)\n",
    "plt.show()\n",
    "\n"
   ]
  },
  {
   "cell_type": "code",
   "execution_count": null,
   "metadata": {},
   "outputs": [
    {
     "name": "stdout",
     "output_type": "stream",
     "text": [
      "[]\n",
      "[30, 56, 62, 82, 114, 143, 190, 203, 211, 229, 235, 247, 279, 310]\n",
      "43 : I don't  think the meeting would take more than 30 minutes btw\n",
      "44 : If you want that's ok for me. You should probably put my name so she knows who in case will join online\n",
      "45 : I live about an hour by train from the university, so it is tricky for me\n",
      "46 : That is why I can join online, but in presence I am not sure when I will be available (since trains are not too reliable and I don't want to be late)\n",
      "47 : Is it ok? Did you see the email?\n",
      "48 : Yes. She just replied \n",
      "Dear Team\n",
      "\n",
      "Could you propose us some times in which you are all available, for all the tean?\n",
      "\n",
      "Best regards\n",
      "Barbara Pernici\n",
      "49 : Tuesday 14?\n",
      "50 : It's better if you give them a range of time rather than an exact time, since she's asking for the times we're available\n",
      "51 : Tuesday from morning to 4 pm?\n",
      "52 : If you want to propose also other days in addition to Tuesday it's fine by me\n",
      "53 : Tuesday i’m available before 3 pm\n",
      "54 : In the morning it’s better\n",
      "55 : Or any other day at any time\n",
      "56 : - Monday from morning to 2 pm\n",
      " - Tuesday from morning to 3 pm\n",
      " -  No constraint on other days\n",
      "?\n",
      "57 : Probably on monday is better until 11:30/12am, since my appointment is at 2 and i need to commute back home first\n",
      "58 : - Monday from morning to 11:30 am\n",
      " - Tuesday from morning to 3 pm\n",
      " -  No constraint on other days\n",
      "?\n",
      "59 : Did you see the response?\n",
      "60 : Please let me know if you had any idea how to responde to that? Maybe my email was a little bit vague:(\n",
      "61 : No i didn't receive any\n",
      "62 : nan\n"
     ]
    }
   ],
   "source": [
    "def watch_messages_in_a_range(messages, start, end):\n",
    "    for i in np.arange(start, end+1):\n",
    "        print(str(i) +\" : \" + messages[i])\n",
    "\n",
    "#printing indices where the average cosine similarity of the previous k message is below 0.30\n",
    "indices = [i for i, num in enumerate(our_group_similarities) if num < 0.30]\n",
    "#minindex = min(enumerate(our_group_similarities.min()))\n",
    "minimum = [i for i, num in enumerate(our_group_similarities) if num == min(our_group_similarities)]\n",
    "print(minimum)\n",
    "print(indices)\n",
    "watch_messages_in_a_range(texts, 43,62)"
   ]
  },
  {
   "cell_type": "code",
   "execution_count": null,
   "metadata": {},
   "outputs": [],
   "source": [
    "laser = Laser()\n",
    "langs = ['it' for i in range(len(poli_preprocessed_texts))]\n",
    "prep_poli_embeddings = laser.embed_sentences(\n",
    "  poli_preprocessed_texts,\n",
    "  lang=langs)"
   ]
  },
  {
   "cell_type": "code",
   "execution_count": null,
   "metadata": {},
   "outputs": [
    {
     "data": {
      "image/png": "[encoded data removed]",
      "text/plain": [
       "<Figure size 640x480 with 1 Axes>"
      ]
     },
     "metadata": {},
     "output_type": "display_data"
    }
   ],
   "source": [
    "poli_similarities = cosine_similarities_last_k_sliding_window(prep_poli_embeddings, 6)\n",
    "#printing indices where the average similarity of the last k message is below 0.30\n",
    "# Plot the list\n",
    "plt.plot(poli_similarities)\n",
    "plt.show()"
   ]
  },
  {
   "cell_type": "code",
   "execution_count": null,
   "metadata": {},
   "outputs": [
    {
     "name": "stdout",
     "output_type": "stream",
     "text": [
      "[12, 27, 61, 68, 98, 119, 147, 159, 179, 218, 228, 241, 246, 251, 258, 276, 277, 295, 296, 299, 303, 304, 310, 314, 315, 374, 466, 477, 483, 486, 511, 512, 545, 560, 569, 583, 600, 630, 642, 646, 647, 648, 650, 719, 735, 739, 755, 758, 766, 769, 775, 795, 809, 819, 820, 826, 841, 850, 854, 860, 887, 920, 935, 936, 937, 939, 940, 943, 957, 981, 1003, 1021, 1035, 1042, 1060, 1071, 1098, 1099, 1109, 1110, 1112, 1113, 1121, 1122, 1125, 1126, 1209, 1223, 1276, 1288, 1315, 1319, 1330, 1331, 1336, 1350, 1359, 1378, 1386, 1398, 1399, 1400, 1402, 1444, 1460, 1469, 1477, 1483, 1548, 1592, 1607, 1619, 1625, 1626, 1652, 1665, 1685, 1702, 1712, 1715, 1723, 1726, 1758, 1765, 1781, 1795, 1818, 1823, 1824, 1829, 1833, 1868, 1882, 1889, 1907, 1933, 1948, 1949, 1960, 1961, 1973, 1975, 1987, 1992, 2004, 2005, 2006, 2008, 2022, 2026, 2051, 2061, 2065, 2117, 2120, 2138, 2159, 2185, 2197, 2199, 2209, 2219, 2236, 2238, 2247, 2259, 2278, 2296, 2297, 2303, 2308, 2309, 2334, 2351, 2352, 2356, 2357, 2362, 2375, 2383, 2396, 2434, 2448, 2462, 2477, 2497, 2536, 2537, 2543, 2553, 2585, 2651, 2657, 2713, 2729, 2736, 2737, 2755, 2775, 2780, 2854, 2862, 2887, 2895, 2899, 2904, 2917, 2965, 2972, 2973, 2977, 2979, 2996, 3025, 3040, 3079, 3080, 3084, 3100, 3102, 3135, 3143, 3231, 3239, 3263, 3309, 3311, 3328, 3344, 3350, 3362, 3372, 3380, 3386, 3395, 3421, 3502, 3511, 3517, 3522, 3548, 3549, 3572, 3590, 3592, 3631, 3653, 3671, 3686, 3711, 3752, 3753, 3770, 3791, 3800, 3813, 3827, 3844, 3866, 3867, 3910, 3914, 3932, 3958, 3980, 4001, 4039, 4042, 4065, 4068, 4081, 4085, 4093, 4098, 4101, 4107, 4120, 4151, 4170, 4219, 4235, 4244, 4252, 4265, 4273, 4284, 4315, 4337, 4352, 4374, 4405, 4426, 4432, 4433, 4453, 4454, 4491, 4504, 4574, 4575, 4585, 4609, 4637, 4654, 4680, 4681, 4698, 4700, 4702, 4706, 4714, 4720, 4730, 4731, 4736, 4757, 4777, 4832, 4847, 4853, 4859, 4877, 4903, 4939, 4943, 4947, 4948, 4952, 4961, 4968, 5012, 5041, 5058, 5070, 5074, 5075, 5079, 5082, 5086, 5102, 5103, 5105, 5139, 5151, 5174, 5181, 5191, 5221, 5232, 5237, 5248, 5254, 5257, 5258, 5261, 5269, 5295, 5301, 5308, 5341, 5360, 5367, 5372, 5408, 5418, 5467, 5468, 5480, 5597, 5618, 5626, 5632, 5655, 5657, 5665, 5670, 5685, 5686, 5687, 5691, 5697, 5705, 5717, 5718, 5750, 5759, 5793, 5798, 5815, 5816, 5831, 5858, 5859, 5862, 5863, 5880, 5895, 5897, 5914, 5925, 5926, 5927, 5930, 5942, 5960, 5995, 5996, 5999, 6011, 6012, 6014, 6023, 6037, 6092, 6111, 6123, 6160, 6164, 6169, 6191, 6192, 6194, 6201, 6291, 6328, 6355, 6361, 6367, 6381, 6409, 6454, 6487, 6506, 6515, 6526, 6553, 6564, 6591, 6600, 6623, 6681, 6705, 6733, 6734, 6735, 6737, 6787, 6812, 6818, 6827, 6865, 6870, 6873, 6876, 6880, 6881, 6894, 6925]\n",
      "20 : Secondo me dipende tanto dai professori presenti in commissione\n",
      "21 : Ciao,\n",
      "Non riesco a collegarmi in nessun modo ne alla rete temporanea Polimi ne alla rete permanente Polimi-protected o eduroam (da Windows). Nel primo caso si collega al wifi ma non riesco ad accedere a internet e non riesco nemmeno a caricare manualmente nessuna pagina di autenticazione. Come faccio?\n",
      "22 : Dove posso trovare il link del gruppo di ing fisica 2 anno?\n",
      "23 : Ciao, qualcuno mi può spiegare come funziona il tutorato peer to peer? Ho provato a fare richiesta dal sito ma non mi fa compilare il modulo\n",
      "24 : ingegneria o design?\n",
      "25 : Ho chiesto sul instagram ma nessuno ha risposta(design)\n",
      "26 : la scadenza era al 24 gennaio\n",
      "27 : prova a scrivere al manager della scuola di design se hanno ancora bisogno di tutor PtoP e magari ti lascia comunque consegnare il modulo!\n",
      "28 : Ingegneria. Io non vorrei fare il tutor ma mi servirebbe qualcuno che aiuti me e non ho capito come si faccia a fare richiesta\n",
      "29 : Se hai cambiato impostazioni del DNS, devi toglierle perché le reti del poli ti bloccano\n",
      "30 : Conoscete aule studio a milano dove non devo registrarmi né un cazzo per accedere?\n",
      "31 : Che io sappia non ho modificato manualmente nulla...potrebbe essere stato un aggiornamento automatico del sistema? Sapresti spiegarmi dove andare per controllare ed eventualmente sistemare il problema.\n",
      "32 : biblioteche\n",
      "33 : Anche qualcosa vicino alla Centrale\n",
      "34 : Grazie mille comunque\n",
      "35 : Comunque o biblioteche o andare nelle altre università e cercare spazi in cui non si entra con il badge\n"
     ]
    }
   ],
   "source": [
    "indices = [i for i, num in enumerate(poli_similarities) if num < 0.30]\n",
    "print(indices)\n",
    "watch_messages_in_a_range(poli_texts_strings, 20,35)"
   ]
  }
 ],
 "metadata": {
  "kernelspec": {
   "display_name": "telegramprj",
   "language": "python",
   "name": "python3"
  },
  "language_info": {
   "codemirror_mode": {
    "name": "ipython",
    "version": 3
   },
   "file_extension": ".py",
   "mimetype": "text/x-python",
   "name": "python",
   "nbconvert_exporter": "python",
   "pygments_lexer": "ipython3",
   "version": "3.8.19"
  }
 },
 "nbformat": 4,
 "nbformat_minor": 2
}
