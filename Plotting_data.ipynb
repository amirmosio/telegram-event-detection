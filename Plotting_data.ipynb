{
 "cells": [
  {
   "cell_type": "markdown",
   "metadata": {},
   "source": [
    "**Lorenzo's Notebook**"
   ]
  },
  {
   "cell_type": "markdown",
   "metadata": {},
   "source": [
    "Importing useful packages and modules"
   ]
  },
  {
   "cell_type": "code",
   "execution_count": 1,
   "metadata": {},
   "outputs": [],
   "source": [
    "from data_collector_client import AnomalyDetectionClient\n",
    "from telethon.tl.types import MessageReactions\n",
    "import asyncio\n",
    "from decouple import config\n",
    "import pandas as pd\n",
    "import numpy as np\n",
    "from sklearn.decomposition import PCA\n",
    "import matplotlib.pyplot as plt"
   ]
  },
  {
   "cell_type": "code",
   "execution_count": 2,
   "metadata": {},
   "outputs": [],
   "source": [
    "import re\n",
    "def reactions_splitting(message):\n",
    "    pattern = r\"emoticon=['\\\"](.*?)['\\\"].*?count=(\\d+)\"\n",
    "    matches = re.findall(pattern, message)\n",
    "    if matches:\n",
    "        return matches\n",
    "    else:\n",
    "        return None"
   ]
  },
  {
   "cell_type": "code",
   "execution_count": 3,
   "metadata": {},
   "outputs": [],
   "source": [
    "\n",
    "# Function to count the number of reactions in a message using the splitted reactions\n",
    "def count_reactions(splitted_reaction):\n",
    "    if(splitted_reaction == None):\n",
    "        return 0\n",
    "    else:\n",
    "        tmp = []\n",
    "        for i in range(len(splitted_reaction)):\n",
    "            tmp.append(int(splitted_reaction[:][i][1]))\n",
    "        return sum(tmp)"
   ]
  },
  {
   "cell_type": "code",
   "execution_count": 4,
   "metadata": {},
   "outputs": [
    {
     "name": "stdout",
     "output_type": "stream",
     "text": [
      "['ciao', 'come va', 'oggi bella giornata']\n"
     ]
    },
    {
     "name": "stderr",
     "output_type": "stream",
     "text": [
      "[nltk_data] Downloading package stopwords to C:\\Users\\asus-\n",
      "[nltk_data]     zen\\AppData\\Roaming\\nltk_data...\n",
      "[nltk_data]   Package stopwords is already up-to-date!\n"
     ]
    }
   ],
   "source": [
    "import nltk\n",
    "nltk.download('stopwords')\n",
    "from nltk.corpus import stopwords\n",
    "\n",
    "#Function to preprocess a message removing stopwords of the specified language and special characters\n",
    "def preprocess_message(message, language):\n",
    "  # Removing special characters and \\n\n",
    "  message = re.sub(r\"[^\\w\\s]\", \"\", message)\n",
    "  message = re.sub(r\"\\n\", \"\", message)\n",
    "\n",
    "\n",
    "  # Removing Stopwords\n",
    "  stop_words = set(stopwords.words(language))\n",
    "  message = \" \".join([word for word in message.split() if word not in stop_words])\n",
    "\n",
    "  # Convert to lowercase\n",
    "  message = message.lower()\n",
    "\n",
    "  # Removing empty words\n",
    "  message = \" \".join(message.split())\n",
    "\n",
    "  return message\n",
    "\n",
    "# example\n",
    "messaggi = [\"Ciao a tutti!\", \"Come va?\", \"Oggi è una bella giornata\\n.\"]\n",
    "preprocessed_messages = [preprocess_message(message,\"italian\") for message in messaggi]\n",
    "print(preprocessed_messages)\n"
   ]
  },
  {
   "cell_type": "code",
   "execution_count": 5,
   "metadata": {},
   "outputs": [],
   "source": [
    "df = pd.read_csv('trial.csv')\n",
    "\n",
    "df['reactions'].fillna('', inplace=True)\n",
    "df['reactions'] = df['reactions'].apply(lambda x: count_reactions(reactions_splitting(x)))"
   ]
  },
  {
   "cell_type": "code",
   "execution_count": 6,
   "metadata": {},
   "outputs": [
    {
     "data": {
      "text/html": [
       "<div>\n",
       "<style scoped>\n",
       "    .dataframe tbody tr th:only-of-type {\n",
       "        vertical-align: middle;\n",
       "    }\n",
       "\n",
       "    .dataframe tbody tr th {\n",
       "        vertical-align: top;\n",
       "    }\n",
       "\n",
       "    .dataframe thead th {\n",
       "        text-align: right;\n",
       "    }\n",
       "</style>\n",
       "<table border=\"1\" class=\"dataframe\">\n",
       "  <thead>\n",
       "    <tr style=\"text-align: right;\">\n",
       "      <th></th>\n",
       "      <th>Unnamed: 0</th>\n",
       "      <th>group</th>\n",
       "      <th>sender</th>\n",
       "      <th>text</th>\n",
       "      <th>date</th>\n",
       "      <th>reactions</th>\n",
       "    </tr>\n",
       "  </thead>\n",
       "  <tbody>\n",
       "    <tr>\n",
       "      <th>0</th>\n",
       "      <td>1</td>\n",
       "      <td>https://t.me/+synza2388S80NWM0</td>\n",
       "      <td>5328388801</td>\n",
       "      <td>We can do it online so that everyone could join</td>\n",
       "      <td>2024-03-26 19:35:34+00:00</td>\n",
       "      <td>3</td>\n",
       "    </tr>\n",
       "    <tr>\n",
       "      <th>4</th>\n",
       "      <td>1</td>\n",
       "      <td>https://t.me/+synza2388S80NWM0</td>\n",
       "      <td>984447467</td>\n",
       "      <td>I am free from 11:30 to 15:30</td>\n",
       "      <td>2024-03-26 17:23:42+00:00</td>\n",
       "      <td>1</td>\n",
       "    </tr>\n",
       "    <tr>\n",
       "      <th>7</th>\n",
       "      <td>1</td>\n",
       "      <td>https://t.me/+synza2388S80NWM0</td>\n",
       "      <td>984447467</td>\n",
       "      <td>NaN</td>\n",
       "      <td>2024-03-25 18:01:09+00:00</td>\n",
       "      <td>1</td>\n",
       "    </tr>\n",
       "    <tr>\n",
       "      <th>12</th>\n",
       "      <td>1</td>\n",
       "      <td>https://t.me/+synza2388S80NWM0</td>\n",
       "      <td>984447467</td>\n",
       "      <td>If you react with different reactions to this ...</td>\n",
       "      <td>2024-03-25 16:32:10+00:00</td>\n",
       "      <td>3</td>\n",
       "    </tr>\n",
       "    <tr>\n",
       "      <th>14</th>\n",
       "      <td>1</td>\n",
       "      <td>https://t.me/+synza2388S80NWM0</td>\n",
       "      <td>984447467</td>\n",
       "      <td>I guess the csv can be modified once transform...</td>\n",
       "      <td>2024-03-25 16:07:19+00:00</td>\n",
       "      <td>1</td>\n",
       "    </tr>\n",
       "    <tr>\n",
       "      <th>25</th>\n",
       "      <td>1</td>\n",
       "      <td>https://t.me/+synza2388S80NWM0</td>\n",
       "      <td>984447467</td>\n",
       "      <td>I can try now</td>\n",
       "      <td>2024-03-25 15:06:50+00:00</td>\n",
       "      <td>1</td>\n",
       "    </tr>\n",
       "    <tr>\n",
       "      <th>32</th>\n",
       "      <td>1</td>\n",
       "      <td>https://t.me/+synza2388S80NWM0</td>\n",
       "      <td>382281069</td>\n",
       "      <td>Yeah,\\r\\nIt's probably ok. He was very support...</td>\n",
       "      <td>2024-03-25 15:03:15+00:00</td>\n",
       "      <td>1</td>\n",
       "    </tr>\n",
       "    <tr>\n",
       "      <th>38</th>\n",
       "      <td>1</td>\n",
       "      <td>https://t.me/+synza2388S80NWM0</td>\n",
       "      <td>984447467</td>\n",
       "      <td>I asked them where they want to meet, I'll let...</td>\n",
       "      <td>2024-03-25 11:27:43+00:00</td>\n",
       "      <td>1</td>\n",
       "    </tr>\n",
       "    <tr>\n",
       "      <th>39</th>\n",
       "      <td>1</td>\n",
       "      <td>https://t.me/+synza2388S80NWM0</td>\n",
       "      <td>984447467</td>\n",
       "      <td>Is tomorrow at 14 ok for you?</td>\n",
       "      <td>2024-03-24 15:51:41+00:00</td>\n",
       "      <td>2</td>\n",
       "    </tr>\n",
       "    <tr>\n",
       "      <th>40</th>\n",
       "      <td>1</td>\n",
       "      <td>https://t.me/+synza2388S80NWM0</td>\n",
       "      <td>480675472</td>\n",
       "      <td>https://github.com/facebookresearch/LASER</td>\n",
       "      <td>2024-03-24 10:41:55+00:00</td>\n",
       "      <td>1</td>\n",
       "    </tr>\n",
       "    <tr>\n",
       "      <th>42</th>\n",
       "      <td>1</td>\n",
       "      <td>https://t.me/+synza2388S80NWM0</td>\n",
       "      <td>382281069</td>\n",
       "      <td>No i haven't received anything. Somthing about...</td>\n",
       "      <td>2024-03-24 09:54:22+00:00</td>\n",
       "      <td>1</td>\n",
       "    </tr>\n",
       "    <tr>\n",
       "      <th>44</th>\n",
       "      <td>1</td>\n",
       "      <td>https://t.me/+synza2388S80NWM0</td>\n",
       "      <td>480675472</td>\n",
       "      <td>lorenzo.mondo@mail.polimi.it</td>\n",
       "      <td>2024-03-23 21:34:17+00:00</td>\n",
       "      <td>1</td>\n",
       "    </tr>\n",
       "    <tr>\n",
       "      <th>45</th>\n",
       "      <td>1</td>\n",
       "      <td>https://t.me/+synza2388S80NWM0</td>\n",
       "      <td>984447467</td>\n",
       "      <td>Martina2.vigano@mail.polimi.it</td>\n",
       "      <td>2024-03-23 19:22:10+00:00</td>\n",
       "      <td>1</td>\n",
       "    </tr>\n",
       "    <tr>\n",
       "      <th>50</th>\n",
       "      <td>1</td>\n",
       "      <td>https://t.me/+synza2388S80NWM0</td>\n",
       "      <td>480675472</td>\n",
       "      <td>I vote the 4th</td>\n",
       "      <td>2024-03-23 18:01:34+00:00</td>\n",
       "      <td>2</td>\n",
       "    </tr>\n",
       "  </tbody>\n",
       "</table>\n",
       "</div>"
      ],
      "text/plain": [
       "    Unnamed: 0                           group      sender  \\\n",
       "0            1  https://t.me/+synza2388S80NWM0  5328388801   \n",
       "4            1  https://t.me/+synza2388S80NWM0   984447467   \n",
       "7            1  https://t.me/+synza2388S80NWM0   984447467   \n",
       "12           1  https://t.me/+synza2388S80NWM0   984447467   \n",
       "14           1  https://t.me/+synza2388S80NWM0   984447467   \n",
       "25           1  https://t.me/+synza2388S80NWM0   984447467   \n",
       "32           1  https://t.me/+synza2388S80NWM0   382281069   \n",
       "38           1  https://t.me/+synza2388S80NWM0   984447467   \n",
       "39           1  https://t.me/+synza2388S80NWM0   984447467   \n",
       "40           1  https://t.me/+synza2388S80NWM0   480675472   \n",
       "42           1  https://t.me/+synza2388S80NWM0   382281069   \n",
       "44           1  https://t.me/+synza2388S80NWM0   480675472   \n",
       "45           1  https://t.me/+synza2388S80NWM0   984447467   \n",
       "50           1  https://t.me/+synza2388S80NWM0   480675472   \n",
       "\n",
       "                                                 text  \\\n",
       "0     We can do it online so that everyone could join   \n",
       "4                       I am free from 11:30 to 15:30   \n",
       "7                                                 NaN   \n",
       "12  If you react with different reactions to this ...   \n",
       "14  I guess the csv can be modified once transform...   \n",
       "25                                      I can try now   \n",
       "32  Yeah,\\r\\nIt's probably ok. He was very support...   \n",
       "38  I asked them where they want to meet, I'll let...   \n",
       "39                      Is tomorrow at 14 ok for you?   \n",
       "40          https://github.com/facebookresearch/LASER   \n",
       "42  No i haven't received anything. Somthing about...   \n",
       "44                       lorenzo.mondo@mail.polimi.it   \n",
       "45                     Martina2.vigano@mail.polimi.it   \n",
       "50                                     I vote the 4th   \n",
       "\n",
       "                         date  reactions  \n",
       "0   2024-03-26 19:35:34+00:00          3  \n",
       "4   2024-03-26 17:23:42+00:00          1  \n",
       "7   2024-03-25 18:01:09+00:00          1  \n",
       "12  2024-03-25 16:32:10+00:00          3  \n",
       "14  2024-03-25 16:07:19+00:00          1  \n",
       "25  2024-03-25 15:06:50+00:00          1  \n",
       "32  2024-03-25 15:03:15+00:00          1  \n",
       "38  2024-03-25 11:27:43+00:00          1  \n",
       "39  2024-03-24 15:51:41+00:00          2  \n",
       "40  2024-03-24 10:41:55+00:00          1  \n",
       "42  2024-03-24 09:54:22+00:00          1  \n",
       "44  2024-03-23 21:34:17+00:00          1  \n",
       "45  2024-03-23 19:22:10+00:00          1  \n",
       "50  2024-03-23 18:01:34+00:00          2  "
      ]
     },
     "execution_count": 6,
     "metadata": {},
     "output_type": "execute_result"
    }
   ],
   "source": [
    "df.loc[df['reactions'] > 0]"
   ]
  },
  {
   "cell_type": "markdown",
   "metadata": {},
   "source": [
    "**Laser Embedding**"
   ]
  },
  {
   "cell_type": "code",
   "execution_count": 9,
   "metadata": {},
   "outputs": [
    {
     "name": "stdout",
     "output_type": "stream",
     "text": [
      "-----NORMAL TEXTS-----\n",
      "0      We can do it online so that everyone could join\n",
      "1                            I'm ok if we do it online\n",
      "2                         I'm free but I prefer online\n",
      "3    What about the other days. I have probably les...\n",
      "4                        I am free from 11:30 to 15:30\n",
      "Name: text, dtype: object\n",
      "\n",
      "-----PREPROCESSED TEXTS-----\n",
      "['we online everyone could join', 'im ok online', 'im free i prefer online', 'what days i probably less constraint erfanamidi_i martinavigano', 'i free 1130 1530']\n",
      "55\n",
      "55\n"
     ]
    }
   ],
   "source": [
    "texts = df['text']\n",
    "preprocessed_texts = [preprocess_message(str(text), \"english\") for text in texts]\n",
    "print(\"-----NORMAL TEXTS-----\")\n",
    "print(texts[0:5])\n",
    "print(\"\\n-----PREPROCESSED TEXTS-----\")\n",
    "print(preprocessed_texts[0:5])\n",
    "\n",
    "print(len(preprocessed_texts))\n",
    "print(len(texts))\n"
   ]
  },
  {
   "cell_type": "code",
   "execution_count": 46,
   "metadata": {},
   "outputs": [
    {
     "data": {
      "text/plain": [
       "(55, 1024)"
      ]
     },
     "execution_count": 46,
     "metadata": {},
     "output_type": "execute_result"
    }
   ],
   "source": [
    "langs = [\"en\" for i in range(len(texts))]\n",
    "\n",
    "from laserembeddings import Laser\n",
    "\n",
    "laser = Laser()\n",
    "\n",
    "# if all sentences are in the same language:\n",
    "\n",
    "embeddings = laser.embed_sentences(\n",
    "    texts,\n",
    "    lang=langs)\n",
    "\n",
    "embeddings.shape"
   ]
  },
  {
   "cell_type": "code",
   "execution_count": 11,
   "metadata": {},
   "outputs": [],
   "source": [
    "def plot_reduced_embeddings_2D(texts, lang):\n",
    "    langs = [lang for i in range(len(texts))]\n",
    "\n",
    "    from laserembeddings import Laser\n",
    "\n",
    "    laser = Laser()\n",
    "\n",
    "    # if all sentences are in the same language:\n",
    "\n",
    "    embeddings = laser.embed_sentences(\n",
    "    texts,\n",
    "    lang=langs)\n",
    "\n",
    "    pca = PCA(n_components=2)\n",
    "    reduced_embeddings = pca.fit_transform(embeddings)\n",
    "    # Plottare i punti\n",
    "    plt.scatter(reduced_embeddings[:, 0], reduced_embeddings[:, 1])\n",
    "\n",
    "    for i, point in enumerate(reduced_embeddings):\n",
    "        # Annotate each point with the message number\n",
    "        plt.annotate(str(i + 1), point, ha='center', va='center')\n",
    "\n",
    "    plt.show()"
   ]
  },
  {
   "cell_type": "code",
   "execution_count": 12,
   "metadata": {},
   "outputs": [
    {
     "data": {
      "image/png": "[encoded data removed]",
      "text/plain": [
       "<Figure size 640x480 with 1 Axes>"
      ]
     },
     "metadata": {},
     "output_type": "display_data"
    }
   ],
   "source": [
    "plot_reduced_embeddings_2D(texts, \"en\")"
   ]
  },
  {
   "cell_type": "code",
   "execution_count": 13,
   "metadata": {},
   "outputs": [
    {
     "name": "stdout",
     "output_type": "stream",
     "text": [
      "30 : great\n",
      "52 : It would be more convenient to set it related to the topic of the project...\n",
      "51 : TelegramInfromationSpace\n",
      "AnamolyDetectionBot\n",
      "InformationSpace\n",
      "TelegramEventDetection\n",
      "TelegramAnamolyDetection\n"
     ]
    }
   ],
   "source": [
    "print(\"30 : \" + texts[30])\n",
    "print(\"52 : \" + texts[52])\n",
    "print(\"51 : \" + texts[51])"
   ]
  },
  {
   "cell_type": "markdown",
   "metadata": {},
   "source": [
    "Now we use the dataset 'poli_msgs.csv' where there are information about the messages of the polinetwork group \n",
    "\n",
    "We'll plot the data as we have done before to see if there is any change in the distribution of the messages of two different groups"
   ]
  },
  {
   "cell_type": "code",
   "execution_count": 14,
   "metadata": {},
   "outputs": [
    {
     "data": {
      "text/html": [
       "<div>\n",
       "<style scoped>\n",
       "    .dataframe tbody tr th:only-of-type {\n",
       "        vertical-align: middle;\n",
       "    }\n",
       "\n",
       "    .dataframe tbody tr th {\n",
       "        vertical-align: top;\n",
       "    }\n",
       "\n",
       "    .dataframe thead th {\n",
       "        text-align: right;\n",
       "    }\n",
       "</style>\n",
       "<table border=\"1\" class=\"dataframe\">\n",
       "  <thead>\n",
       "    <tr style=\"text-align: right;\">\n",
       "      <th></th>\n",
       "      <th>Unnamed: 0</th>\n",
       "      <th>group</th>\n",
       "      <th>sender</th>\n",
       "      <th>msg_id</th>\n",
       "      <th>reply</th>\n",
       "      <th>text</th>\n",
       "      <th>date</th>\n",
       "      <th>reactions</th>\n",
       "    </tr>\n",
       "  </thead>\n",
       "  <tbody>\n",
       "    <tr>\n",
       "      <th>0</th>\n",
       "      <td>1</td>\n",
       "      <td>https://t.me/PoliGruppo</td>\n",
       "      <td>768169879</td>\n",
       "      <td>205531</td>\n",
       "      <td>205529.0</td>\n",
       "      <td>**Here are the groups **:</td>\n",
       "      <td>2024-03-29 13:18:37+00:00</td>\n",
       "      <td>0</td>\n",
       "    </tr>\n",
       "    <tr>\n",
       "      <th>1</th>\n",
       "      <td>1</td>\n",
       "      <td>https://t.me/PoliGruppo</td>\n",
       "      <td>825112400</td>\n",
       "      <td>205529</td>\n",
       "      <td>NaN</td>\n",
       "      <td>Ciao a tutti, dovrei fare l'esame di stato a g...</td>\n",
       "      <td>2024-03-29 13:00:05+00:00</td>\n",
       "      <td>0</td>\n",
       "    </tr>\n",
       "    <tr>\n",
       "      <th>2</th>\n",
       "      <td>1</td>\n",
       "      <td>https://t.me/PoliGruppo</td>\n",
       "      <td>768169879</td>\n",
       "      <td>205525</td>\n",
       "      <td>205522.0</td>\n",
       "      <td>**Ecco i gruppi**:</td>\n",
       "      <td>2024-03-29 10:20:47+00:00</td>\n",
       "      <td>0</td>\n",
       "    </tr>\n",
       "    <tr>\n",
       "      <th>3</th>\n",
       "      <td>1</td>\n",
       "      <td>https://t.me/PoliGruppo</td>\n",
       "      <td>821857100</td>\n",
       "      <td>205523</td>\n",
       "      <td>205522.0</td>\n",
       "      <td>Non è un gruppo per fare recruiting</td>\n",
       "      <td>2024-03-29 10:19:15+00:00</td>\n",
       "      <td>0</td>\n",
       "    </tr>\n",
       "    <tr>\n",
       "      <th>4</th>\n",
       "      <td>1</td>\n",
       "      <td>https://t.me/PoliGruppo</td>\n",
       "      <td>450217695</td>\n",
       "      <td>205522</td>\n",
       "      <td>NaN</td>\n",
       "      <td>Ragazzi Ciao!\\r\\nCi sono ingegneri strutturist...</td>\n",
       "      <td>2024-03-29 10:15:54+00:00</td>\n",
       "      <td>0</td>\n",
       "    </tr>\n",
       "  </tbody>\n",
       "</table>\n",
       "</div>"
      ],
      "text/plain": [
       "   Unnamed: 0                    group     sender  msg_id     reply  \\\n",
       "0           1  https://t.me/PoliGruppo  768169879  205531  205529.0   \n",
       "1           1  https://t.me/PoliGruppo  825112400  205529       NaN   \n",
       "2           1  https://t.me/PoliGruppo  768169879  205525  205522.0   \n",
       "3           1  https://t.me/PoliGruppo  821857100  205523  205522.0   \n",
       "4           1  https://t.me/PoliGruppo  450217695  205522       NaN   \n",
       "\n",
       "                                                text  \\\n",
       "0                          **Here are the groups **:   \n",
       "1  Ciao a tutti, dovrei fare l'esame di stato a g...   \n",
       "2                                 **Ecco i gruppi**:   \n",
       "3                Non è un gruppo per fare recruiting   \n",
       "4  Ragazzi Ciao!\\r\\nCi sono ingegneri strutturist...   \n",
       "\n",
       "                        date  reactions  \n",
       "0  2024-03-29 13:18:37+00:00          0  \n",
       "1  2024-03-29 13:00:05+00:00          0  \n",
       "2  2024-03-29 10:20:47+00:00          0  \n",
       "3  2024-03-29 10:19:15+00:00          0  \n",
       "4  2024-03-29 10:15:54+00:00          0  "
      ]
     },
     "execution_count": 14,
     "metadata": {},
     "output_type": "execute_result"
    }
   ],
   "source": [
    "polidf = pd.read_csv('poli_msgs.csv')\n",
    "\n",
    "polidf['reactions'].fillna('', inplace=True)\n",
    "polidf['reactions'] = polidf['reactions'].apply(lambda x: count_reactions(reactions_splitting(x)))\n",
    "\n",
    "polidf.head()"
   ]
  },
  {
   "cell_type": "code",
   "execution_count": 15,
   "metadata": {},
   "outputs": [],
   "source": [
    "def plot_and_compare_reduced_embeddings_2D(texts1, texts2, lang1, lang2):\n",
    "    langs1 = [lang1 for i in range(len(texts1))]\n",
    "    langs2 = [lang2 for i in range(len(texts2))]\n",
    "\n",
    "    from laserembeddings import Laser\n",
    "\n",
    "    laser = Laser()\n",
    "#\n",
    "    # if all sentences are in the same language:\n",
    "\n",
    "    embeddings1 = laser.embed_sentences(\n",
    "    texts1,\n",
    "    lang=langs1)\n",
    "\n",
    "    embeddings2 = laser.embed_sentences(\n",
    "    texts2,\n",
    "    lang=langs2)\n",
    "\n",
    "    pca = PCA(n_components=2)\n",
    "    reduced_embeddings1 = pca.fit_transform(embeddings1)\n",
    "    pca = PCA(n_components=2)\n",
    "    reduced_embeddings2 = pca.fit_transform(embeddings2)\n",
    "\n",
    "    # Plottare i punti\n",
    "    plt.scatter(reduced_embeddings1[:, 0], reduced_embeddings1[:, 1], c='b')\n",
    "    plt.scatter(reduced_embeddings2[:, 0], reduced_embeddings2[:, 1], c='r')\n",
    "\n",
    "    plt.show()"
   ]
  },
  {
   "cell_type": "code",
   "execution_count": 16,
   "metadata": {},
   "outputs": [
    {
     "data": {
      "image/png": "[encoded data removed]",
      "text/plain": [
       "<Figure size 640x480 with 1 Axes>"
      ]
     },
     "metadata": {},
     "output_type": "display_data"
    }
   ],
   "source": [
    "plot_and_compare_reduced_embeddings_2D(texts, polidf['text'], \"en\", \"it\")"
   ]
  },
  {
   "cell_type": "code",
   "execution_count": 17,
   "metadata": {},
   "outputs": [
    {
     "name": "stdout",
     "output_type": "stream",
     "text": [
      "0                            **Here are the groups **:\n",
      "1    Ciao a tutti, dovrei fare l'esame di stato a g...\n",
      "2                                   **Ecco i gruppi**:\n",
      "3                  Non è un gruppo per fare recruiting\n",
      "4    Ragazzi Ciao!\\r\\nCi sono ingegneri strutturist...\n",
      "Name: text, dtype: object\n",
      "['**Here are the groups **:', \"Ciao a tutti, dovrei fare l'esame di stato a giugno di ingegneria industriale, online non ho trovato corsi o consigli su come prepararsi. Qualcuno ha già svolto l'esame? o conosce qualcuno che l'ha fatto?\", '**Ecco i gruppi**:', 'Non è un gruppo per fare recruiting', \"Ragazzi Ciao!\\r\\nCi sono ingegneri strutturisti iscritto all'albo qui nel gruppo? \\r\\nSe sì, o se ne conoscete uno, scrivetemi in privato che ho bisogno per un lavoro.\"]\n"
     ]
    }
   ],
   "source": [
    "poli_texts = polidf['text']\n",
    "poli_texts_strings = [str(text) for text in poli_texts if isinstance(text, str)] \n",
    "print(poli_texts[0:5])\n",
    "print(poli_texts_strings[0:5])\n",
    "\n"
   ]
  },
  {
   "cell_type": "markdown",
   "metadata": {},
   "source": [
    "Try by plotting in the space"
   ]
  },
  {
   "cell_type": "code",
   "execution_count": 18,
   "metadata": {},
   "outputs": [],
   "source": [
    "def plot_and_compare_reduced_embeddings_3D(texts1, texts2, lang1, lang2, name1, name2):\n",
    "    langs1 = [lang1 for i in range(len(texts1))]\n",
    "    langs2 = [lang2 for i in range(len(texts2))]\n",
    "\n",
    "    from laserembeddings import Laser\n",
    "\n",
    "    laser = Laser()\n",
    "\n",
    "    # if all sentences are in the same language:\n",
    "\n",
    "    embeddings1 = laser.embed_sentences(\n",
    "    texts1,\n",
    "    lang=langs1)\n",
    "\n",
    "    embeddings2 = laser.embed_sentences(\n",
    "    texts2,\n",
    "    lang=langs2)\n",
    "\n",
    "    pca = PCA(n_components=3)\n",
    "    reduced_embeddings1 = pca.fit_transform(embeddings1)\n",
    "    pca = PCA(n_components=3)\n",
    "    reduced_embeddings2 = pca.fit_transform(embeddings2)\n",
    "\n",
    "    import plotly.graph_objects as go\n",
    "\n",
    "    # Importare i dati\n",
    "    import numpy as np\n",
    "\n",
    "    # Creare la figura\n",
    "    fig = go.Figure()\n",
    "\n",
    "    # Plot each set of points with a unique colormap\n",
    "    fig.add_scatter3d(\n",
    "        x=reduced_embeddings1[:, 0],\n",
    "        y=reduced_embeddings1[:, 1],\n",
    "        z=reduced_embeddings1[:, 2],\n",
    "        mode='markers',\n",
    "        marker=dict(color='blue', size=8),  # Use a color name or hex code for direct coloring\n",
    "        name=name1\n",
    "    )\n",
    "\n",
    "    fig.add_scatter3d(\n",
    "        x=reduced_embeddings2[:, 0],\n",
    "        y=reduced_embeddings2[:, 1],\n",
    "        z=reduced_embeddings2[:, 2],\n",
    "        mode='markers',\n",
    "        marker=dict(color='red', size=8),  # Use a different color for this set\n",
    "        name=name2\n",
    "    )\n",
    "\n",
    "    # Aggiungere le legende\n",
    "    fig.update_layout(legend=dict(yanchor=\"top\", y=0.99, xanchor=\"left\", x=0.01))\n",
    "\n",
    "    # Mostrare il plot\n",
    "    fig.show()"
   ]
  },
  {
   "cell_type": "code",
   "execution_count": 19,
   "metadata": {},
   "outputs": [
    {
     "data": {
      "application/vnd.plotly.v1+json": {
       "config": {
        "plotlyServerURL": "https://plot.ly"
       },
       "data": [
        {
         "marker": {
          "color": "blue",
          "size": 8
         },
         "mode": "markers",
         "name": "Our Group",
         "type": "scatter3d",
         "x": [
          0.09065494686365128,
          0.13956975936889648,
          0.093573659658432,
          -0.28240761160850525,
          0.07643293589353561,
          -0.007963551208376884,
          -0.02419997937977314,
          0.3394245207309723,
          0.21964018046855927,
          -0.09883826971054077,
          0.3773925304412842,
          -0.3760497570037842,
          -0.053328875452280045,
          -0.0954669713973999,
          -0.18653705716133118,
          0.07724088430404663,
          0.11667212098836899,
          0.37617990374565125,
          0.3394245207309723,
          -0.0015206595417112112,
          -0.00976774375885725,
          0.09316788613796234,
          -0.15194405615329742,
          -0.11541897058486938,
          0.19505567848682404,
          0.24626009166240692,
          0.30557188391685486,
          0.2284543812274933,
          -0.25957828760147095,
          -0.18798162043094635,
          0.38610437512397766,
          0.4046158790588379,
          -0.17798087000846863,
          -0.02071978710591793,
          -0.23020131886005402,
          0.0581204853951931,
          -0.22730481624603271,
          0.07612598687410355,
          -0.038156211376190186,
          0.15925906598567963,
          -0.2700265347957611,
          0.266657292842865,
          -0.10400031507015228,
          -0.14181700348854065,
          -0.25490325689315796,
          -0.31627392768859863,
          -0.3278575539588928,
          -0.2441253960132599,
          -0.1546204686164856,
          -0.3030552566051483,
          0.20054399967193604,
          -0.08793676644563675,
          -0.008863859809935093,
          -0.07025223225355148,
          -0.0370444729924202
         ],
         "y": [
          -0.09861113876104355,
          -0.05359966680407524,
          -0.05658849701285362,
          0.12284018099308014,
          -0.026160212233662605,
          -0.06574315577745438,
          -0.12897492945194244,
          0.22556628286838531,
          0.03040267899632454,
          -0.1385616958141327,
          0.15079040825366974,
          -0.018801400437951088,
          -0.20543715357780457,
          -0.20581728219985962,
          -0.17827819287776947,
          -0.11521955579519272,
          -0.10015956312417984,
          0.16152964532375336,
          0.22556628286838531,
          -0.046888794749975204,
          -0.09080470353364944,
          -0.11684122681617737,
          -0.13703961670398712,
          -0.15104644000530243,
          -0.04674889147281647,
          -0.042869072407484055,
          0.042182400822639465,
          0.03630438074469566,
          -0.16577883064746857,
          -0.07313387840986252,
          0.19454072415828705,
          0.14914286136627197,
          -0.23145388066768646,
          0.05220428481698036,
          -0.057230252772569656,
          -0.15499697625637054,
          0.07041891664266586,
          -0.013413080945611,
          -0.2041587233543396,
          -0.0466562956571579,
          0.23031075298786163,
          -0.017187103629112244,
          -0.05906687304377556,
          -0.12579326331615448,
          0.40071901679039,
          0.4418419301509857,
          0.2648516893386841,
          0.40228527784347534,
          -0.08341948688030243,
          0.2913089990615845,
          0.007939563132822514,
          0.05873383581638336,
          -0.13304109871387482,
          -0.14341633021831512,
          -0.02654307149350643
         ],
         "z": [
          0.003208257956430316,
          0.0014068938326090574,
          0.05917663872241974,
          0.07036334276199341,
          0.44530969858169556,
          0.44684037566185,
          0.01988409273326397,
          -0.06305810064077377,
          -0.01869175024330616,
          -0.03620265796780586,
          -0.08694878965616226,
          0.03569871559739113,
          -0.03942651301622391,
          -0.08473137021064758,
          -0.036271557211875916,
          -0.0013087732950225472,
          -0.013913406990468502,
          -0.08644118160009384,
          -0.06305810064077377,
          -0.029168197885155678,
          0.0011043846607208252,
          -0.01925523206591606,
          -0.010458458214998245,
          -0.09095406532287598,
          -0.02937993034720421,
          -0.0063542709685862064,
          -0.043220072984695435,
          0.03259372338652611,
          -0.11233600974082947,
          -0.018664931878447533,
          -0.10019475966691971,
          -0.09328760951757431,
          -0.06712988018989563,
          -0.019473284482955933,
          -0.05061325430870056,
          0.000996207818388939,
          0.02827843278646469,
          0.17942647635936737,
          -0.06026173382997513,
          0.2653476595878601,
          -0.030208034440875053,
          -0.0024176721926778555,
          -0.055088240653276443,
          -0.08902762085199356,
          0.01529617514461279,
          0.048565831035375595,
          -0.03645980730652809,
          0.011290151625871658,
          -0.059293173253536224,
          -0.03925105184316635,
          0.07711067795753479,
          -0.045516468584537506,
          -0.02678392082452774,
          -0.05787939205765724,
          -0.019168458878993988
         ]
        },
        {
         "marker": {
          "color": "red",
          "size": 8
         },
         "mode": "markers",
         "name": "PoliNetwork Group",
         "type": "scatter3d",
         "x": [
          0.08671365678310394,
          -0.3632524907588959,
          0.11905096471309662,
          0.05801734700798988,
          -0.26154619455337524,
          0.35117292404174805,
          0.08671379834413528,
          -0.22244714200496674,
          -0.13326197862625122,
          -0.22174052894115448,
          0.11905096471309662,
          0.1364002823829651,
          0.0589519701898098,
          -0.1387118399143219,
          -0.11365018039941788,
          0.17786331474781036,
          -0.1590292602777481,
          -0.21335336565971375,
          -0.20391280949115753,
          0.34344932436943054,
          -0.16299867630004883,
          0.08671379834413528,
          -0.3825094401836395,
          -0.010259559378027916,
          0.0301975067704916,
          0.41132861375808716,
          -0.10146934539079666,
          -0.33781787753105164,
          0.13268674910068512,
          -0.2668459713459015,
          0.2699618637561798,
          0.004848625510931015,
          0.3785705864429474,
          0.02945748344063759,
          0.32601305842399597,
          -0.3391859233379364,
          0.41107845306396484,
          -0.029789214953780174,
          0.2961726784706116,
          0.21362164616584778,
          -0.31489434838294983,
          -0.3675922751426697,
          -0.03610860928893089,
          -0.2740066945552826,
          0.2346774935722351,
          0.16575315594673157,
          -0.13484860956668854,
          -0.16244347393512726,
          0.030292531475424767,
          0.2171095460653305,
          0.07445778697729111,
          -0.3188101351261139,
          0.041245415806770325,
          0.378913938999176
         ],
         "y": [
          0.41966551542282104,
          -0.03702530637383461,
          0.310849130153656,
          -0.008307172916829586,
          -0.0039024173747748137,
          -0.08638845384120941,
          0.4196656048297882,
          -0.053749244660139084,
          -0.04267163202166557,
          0.08976428210735321,
          0.310849130153656,
          0.12604287266731262,
          -0.09301692992448807,
          -0.07325398176908493,
          -0.06579810380935669,
          -0.04094778746366501,
          -0.01400800608098507,
          -0.08810768276453018,
          -0.04095453768968582,
          -0.10683826357126236,
          0.07894942909479141,
          0.4196656048297882,
          -0.052244316786527634,
          -0.0813862606883049,
          -0.03899017721414566,
          -0.11816112697124481,
          -0.08093054592609406,
          -0.036691244691610336,
          -0.035765063017606735,
          -0.07386039197444916,
          -0.07006534934043884,
          -0.06641247868537903,
          -0.046803299337625504,
          0.0027224388904869556,
          -0.05795010179281235,
          -0.034468092024326324,
          -0.11940963566303253,
          -0.11970286816358566,
          -0.05217106640338898,
          -0.04460659250617027,
          -0.08155091106891632,
          0.19873836636543274,
          -0.01838541030883789,
          -0.08099662512540817,
          -0.058124590665102005,
          0.14911308884620667,
          -0.004719179589301348,
          -0.06375312805175781,
          -0.027505487203598022,
          -0.06899949908256531,
          -0.06211746856570244,
          -0.03551926463842392,
          -0.017877880483865738,
          -0.12188782542943954
         ],
         "z": [
          -0.03992293030023575,
          0.041525814682245255,
          -0.0757720023393631,
          -0.10375785082578659,
          0.016181448474526405,
          0.09419497847557068,
          -0.039922960102558136,
          0.019526559859514236,
          -0.09394815564155579,
          0.29220879077911377,
          -0.0757720023393631,
          -0.05576767399907112,
          -0.16792167723178864,
          -0.024285076186060905,
          -0.055320218205451965,
          -0.06880708783864975,
          -0.04610830545425415,
          -0.060412388294935226,
          -0.022057145833969116,
          0.0621032752096653,
          0.060676008462905884,
          -0.039922960102558136,
          0.06496840715408325,
          -0.16326366364955902,
          -0.06499780714511871,
          0.20896095037460327,
          -0.0436585508286953,
          0.058255963027477264,
          -0.06234768405556679,
          -0.05386311560869217,
          0.2152576744556427,
          -0.13987475633621216,
          0.2601105868816376,
          -0.09391984343528748,
          -0.0820670947432518,
          0.1387947052717209,
          0.16281792521476746,
          -0.1444823443889618,
          -0.09238367527723312,
          -0.11661418527364731,
          0.023499688133597374,
          0.3838888108730316,
          -0.07608267664909363,
          0.027719413861632347,
          -0.0764094814658165,
          0.06913107633590698,
          -0.0284434761852026,
          -0.048500191420316696,
          -0.09700533002614975,
          0.08629509806632996,
          -0.04920254647731781,
          0.04564812034368515,
          -0.10342182964086533,
          0.17447100579738617
         ]
        }
       ],
       "layout": {
        "legend": {
         "x": 0.01,
         "xanchor": "left",
         "y": 0.99,
         "yanchor": "top"
        },
        "template": {
         "data": {
          "bar": [
           {
            "error_x": {
             "color": "#2a3f5f"
            },
            "error_y": {
             "color": "#2a3f5f"
            },
            "marker": {
             "line": {
              "color": "#E5ECF6",
              "width": 0.5
             },
             "pattern": {
              "fillmode": "overlay",
              "size": 10,
              "solidity": 0.2
             }
            },
            "type": "bar"
           }
          ],
          "barpolar": [
           {
            "marker": {
             "line": {
              "color": "#E5ECF6",
              "width": 0.5
             },
             "pattern": {
              "fillmode": "overlay",
              "size": 10,
              "solidity": 0.2
             }
            },
            "type": "barpolar"
           }
          ],
          "carpet": [
           {
            "aaxis": {
             "endlinecolor": "#2a3f5f",
             "gridcolor": "white",
             "linecolor": "white",
             "minorgridcolor": "white",
             "startlinecolor": "#2a3f5f"
            },
            "baxis": {
             "endlinecolor": "#2a3f5f",
             "gridcolor": "white",
             "linecolor": "white",
             "minorgridcolor": "white",
             "startlinecolor": "#2a3f5f"
            },
            "type": "carpet"
           }
          ],
          "choropleth": [
           {
            "colorbar": {
             "outlinewidth": 0,
             "ticks": ""
            },
            "type": "choropleth"
           }
          ],
          "contour": [
           {
            "colorbar": {
             "outlinewidth": 0,
             "ticks": ""
            },
            "colorscale": [
             [
              0,
              "#0d0887"
             ],
             [
              0.1111111111111111,
              "#46039f"
             ],
             [
              0.2222222222222222,
              "#7201a8"
             ],
             [
              0.3333333333333333,
              "#9c179e"
             ],
             [
              0.4444444444444444,
              "#bd3786"
             ],
             [
              0.5555555555555556,
              "#d8576b"
             ],
             [
              0.6666666666666666,
              "#ed7953"
             ],
             [
              0.7777777777777778,
              "#fb9f3a"
             ],
             [
              0.8888888888888888,
              "#fdca26"
             ],
             [
              1,
              "#f0f921"
             ]
            ],
            "type": "contour"
           }
          ],
          "contourcarpet": [
           {
            "colorbar": {
             "outlinewidth": 0,
             "ticks": ""
            },
            "type": "contourcarpet"
           }
          ],
          "heatmap": [
           {
            "colorbar": {
             "outlinewidth": 0,
             "ticks": ""
            },
            "colorscale": [
             [
              0,
              "#0d0887"
             ],
             [
              0.1111111111111111,
              "#46039f"
             ],
             [
              0.2222222222222222,
              "#7201a8"
             ],
             [
              0.3333333333333333,
              "#9c179e"
             ],
             [
              0.4444444444444444,
              "#bd3786"
             ],
             [
              0.5555555555555556,
              "#d8576b"
             ],
             [
              0.6666666666666666,
              "#ed7953"
             ],
             [
              0.7777777777777778,
              "#fb9f3a"
             ],
             [
              0.8888888888888888,
              "#fdca26"
             ],
             [
              1,
              "#f0f921"
             ]
            ],
            "type": "heatmap"
           }
          ],
          "heatmapgl": [
           {
            "colorbar": {
             "outlinewidth": 0,
             "ticks": ""
            },
            "colorscale": [
             [
              0,
              "#0d0887"
             ],
             [
              0.1111111111111111,
              "#46039f"
             ],
             [
              0.2222222222222222,
              "#7201a8"
             ],
             [
              0.3333333333333333,
              "#9c179e"
             ],
             [
              0.4444444444444444,
              "#bd3786"
             ],
             [
              0.5555555555555556,
              "#d8576b"
             ],
             [
              0.6666666666666666,
              "#ed7953"
             ],
             [
              0.7777777777777778,
              "#fb9f3a"
             ],
             [
              0.8888888888888888,
              "#fdca26"
             ],
             [
              1,
              "#f0f921"
             ]
            ],
            "type": "heatmapgl"
           }
          ],
          "histogram": [
           {
            "marker": {
             "pattern": {
              "fillmode": "overlay",
              "size": 10,
              "solidity": 0.2
             }
            },
            "type": "histogram"
           }
          ],
          "histogram2d": [
           {
            "colorbar": {
             "outlinewidth": 0,
             "ticks": ""
            },
            "colorscale": [
             [
              0,
              "#0d0887"
             ],
             [
              0.1111111111111111,
              "#46039f"
             ],
             [
              0.2222222222222222,
              "#7201a8"
             ],
             [
              0.3333333333333333,
              "#9c179e"
             ],
             [
              0.4444444444444444,
              "#bd3786"
             ],
             [
              0.5555555555555556,
              "#d8576b"
             ],
             [
              0.6666666666666666,
              "#ed7953"
             ],
             [
              0.7777777777777778,
              "#fb9f3a"
             ],
             [
              0.8888888888888888,
              "#fdca26"
             ],
             [
              1,
              "#f0f921"
             ]
            ],
            "type": "histogram2d"
           }
          ],
          "histogram2dcontour": [
           {
            "colorbar": {
             "outlinewidth": 0,
             "ticks": ""
            },
            "colorscale": [
             [
              0,
              "#0d0887"
             ],
             [
              0.1111111111111111,
              "#46039f"
             ],
             [
              0.2222222222222222,
              "#7201a8"
             ],
             [
              0.3333333333333333,
              "#9c179e"
             ],
             [
              0.4444444444444444,
              "#bd3786"
             ],
             [
              0.5555555555555556,
              "#d8576b"
             ],
             [
              0.6666666666666666,
              "#ed7953"
             ],
             [
              0.7777777777777778,
              "#fb9f3a"
             ],
             [
              0.8888888888888888,
              "#fdca26"
             ],
             [
              1,
              "#f0f921"
             ]
            ],
            "type": "histogram2dcontour"
           }
          ],
          "mesh3d": [
           {
            "colorbar": {
             "outlinewidth": 0,
             "ticks": ""
            },
            "type": "mesh3d"
           }
          ],
          "parcoords": [
           {
            "line": {
             "colorbar": {
              "outlinewidth": 0,
              "ticks": ""
             }
            },
            "type": "parcoords"
           }
          ],
          "pie": [
           {
            "automargin": true,
            "type": "pie"
           }
          ],
          "scatter": [
           {
            "fillpattern": {
             "fillmode": "overlay",
             "size": 10,
             "solidity": 0.2
            },
            "type": "scatter"
           }
          ],
          "scatter3d": [
           {
            "line": {
             "colorbar": {
              "outlinewidth": 0,
              "ticks": ""
             }
            },
            "marker": {
             "colorbar": {
              "outlinewidth": 0,
              "ticks": ""
             }
            },
            "type": "scatter3d"
           }
          ],
          "scattercarpet": [
           {
            "marker": {
             "colorbar": {
              "outlinewidth": 0,
              "ticks": ""
             }
            },
            "type": "scattercarpet"
           }
          ],
          "scattergeo": [
           {
            "marker": {
             "colorbar": {
              "outlinewidth": 0,
              "ticks": ""
             }
            },
            "type": "scattergeo"
           }
          ],
          "scattergl": [
           {
            "marker": {
             "colorbar": {
              "outlinewidth": 0,
              "ticks": ""
             }
            },
            "type": "scattergl"
           }
          ],
          "scattermapbox": [
           {
            "marker": {
             "colorbar": {
              "outlinewidth": 0,
              "ticks": ""
             }
            },
            "type": "scattermapbox"
           }
          ],
          "scatterpolar": [
           {
            "marker": {
             "colorbar": {
              "outlinewidth": 0,
              "ticks": ""
             }
            },
            "type": "scatterpolar"
           }
          ],
          "scatterpolargl": [
           {
            "marker": {
             "colorbar": {
              "outlinewidth": 0,
              "ticks": ""
             }
            },
            "type": "scatterpolargl"
           }
          ],
          "scatterternary": [
           {
            "marker": {
             "colorbar": {
              "outlinewidth": 0,
              "ticks": ""
             }
            },
            "type": "scatterternary"
           }
          ],
          "surface": [
           {
            "colorbar": {
             "outlinewidth": 0,
             "ticks": ""
            },
            "colorscale": [
             [
              0,
              "#0d0887"
             ],
             [
              0.1111111111111111,
              "#46039f"
             ],
             [
              0.2222222222222222,
              "#7201a8"
             ],
             [
              0.3333333333333333,
              "#9c179e"
             ],
             [
              0.4444444444444444,
              "#bd3786"
             ],
             [
              0.5555555555555556,
              "#d8576b"
             ],
             [
              0.6666666666666666,
              "#ed7953"
             ],
             [
              0.7777777777777778,
              "#fb9f3a"
             ],
             [
              0.8888888888888888,
              "#fdca26"
             ],
             [
              1,
              "#f0f921"
             ]
            ],
            "type": "surface"
           }
          ],
          "table": [
           {
            "cells": {
             "fill": {
              "color": "#EBF0F8"
             },
             "line": {
              "color": "white"
             }
            },
            "header": {
             "fill": {
              "color": "#C8D4E3"
             },
             "line": {
              "color": "white"
             }
            },
            "type": "table"
           }
          ]
         },
         "layout": {
          "annotationdefaults": {
           "arrowcolor": "#2a3f5f",
           "arrowhead": 0,
           "arrowwidth": 1
          },
          "autotypenumbers": "strict",
          "coloraxis": {
           "colorbar": {
            "outlinewidth": 0,
            "ticks": ""
           }
          },
          "colorscale": {
           "diverging": [
            [
             0,
             "#8e0152"
            ],
            [
             0.1,
             "#c51b7d"
            ],
            [
             0.2,
             "#de77ae"
            ],
            [
             0.3,
             "#f1b6da"
            ],
            [
             0.4,
             "#fde0ef"
            ],
            [
             0.5,
             "#f7f7f7"
            ],
            [
             0.6,
             "#e6f5d0"
            ],
            [
             0.7,
             "#b8e186"
            ],
            [
             0.8,
             "#7fbc41"
            ],
            [
             0.9,
             "#4d9221"
            ],
            [
             1,
             "#276419"
            ]
           ],
           "sequential": [
            [
             0,
             "#0d0887"
            ],
            [
             0.1111111111111111,
             "#46039f"
            ],
            [
             0.2222222222222222,
             "#7201a8"
            ],
            [
             0.3333333333333333,
             "#9c179e"
            ],
            [
             0.4444444444444444,
             "#bd3786"
            ],
            [
             0.5555555555555556,
             "#d8576b"
            ],
            [
             0.6666666666666666,
             "#ed7953"
            ],
            [
             0.7777777777777778,
             "#fb9f3a"
            ],
            [
             0.8888888888888888,
             "#fdca26"
            ],
            [
             1,
             "#f0f921"
            ]
           ],
           "sequentialminus": [
            [
             0,
             "#0d0887"
            ],
            [
             0.1111111111111111,
             "#46039f"
            ],
            [
             0.2222222222222222,
             "#7201a8"
            ],
            [
             0.3333333333333333,
             "#9c179e"
            ],
            [
             0.4444444444444444,
             "#bd3786"
            ],
            [
             0.5555555555555556,
             "#d8576b"
            ],
            [
             0.6666666666666666,
             "#ed7953"
            ],
            [
             0.7777777777777778,
             "#fb9f3a"
            ],
            [
             0.8888888888888888,
             "#fdca26"
            ],
            [
             1,
             "#f0f921"
            ]
           ]
          },
          "colorway": [
           "#636efa",
           "#EF553B",
           "#00cc96",
           "#ab63fa",
           "#FFA15A",
           "#19d3f3",
           "#FF6692",
           "#B6E880",
           "#FF97FF",
           "#FECB52"
          ],
          "font": {
           "color": "#2a3f5f"
          },
          "geo": {
           "bgcolor": "white",
           "lakecolor": "white",
           "landcolor": "#E5ECF6",
           "showlakes": true,
           "showland": true,
           "subunitcolor": "white"
          },
          "hoverlabel": {
           "align": "left"
          },
          "hovermode": "closest",
          "mapbox": {
           "style": "light"
          },
          "paper_bgcolor": "white",
          "plot_bgcolor": "#E5ECF6",
          "polar": {
           "angularaxis": {
            "gridcolor": "white",
            "linecolor": "white",
            "ticks": ""
           },
           "bgcolor": "#E5ECF6",
           "radialaxis": {
            "gridcolor": "white",
            "linecolor": "white",
            "ticks": ""
           }
          },
          "scene": {
           "xaxis": {
            "backgroundcolor": "#E5ECF6",
            "gridcolor": "white",
            "gridwidth": 2,
            "linecolor": "white",
            "showbackground": true,
            "ticks": "",
            "zerolinecolor": "white"
           },
           "yaxis": {
            "backgroundcolor": "#E5ECF6",
            "gridcolor": "white",
            "gridwidth": 2,
            "linecolor": "white",
            "showbackground": true,
            "ticks": "",
            "zerolinecolor": "white"
           },
           "zaxis": {
            "backgroundcolor": "#E5ECF6",
            "gridcolor": "white",
            "gridwidth": 2,
            "linecolor": "white",
            "showbackground": true,
            "ticks": "",
            "zerolinecolor": "white"
           }
          },
          "shapedefaults": {
           "line": {
            "color": "#2a3f5f"
           }
          },
          "ternary": {
           "aaxis": {
            "gridcolor": "white",
            "linecolor": "white",
            "ticks": ""
           },
           "baxis": {
            "gridcolor": "white",
            "linecolor": "white",
            "ticks": ""
           },
           "bgcolor": "#E5ECF6",
           "caxis": {
            "gridcolor": "white",
            "linecolor": "white",
            "ticks": ""
           }
          },
          "title": {
           "x": 0.05
          },
          "xaxis": {
           "automargin": true,
           "gridcolor": "white",
           "linecolor": "white",
           "ticks": "",
           "title": {
            "standoff": 15
           },
           "zerolinecolor": "white",
           "zerolinewidth": 2
          },
          "yaxis": {
           "automargin": true,
           "gridcolor": "white",
           "linecolor": "white",
           "ticks": "",
           "title": {
            "standoff": 15
           },
           "zerolinecolor": "white",
           "zerolinewidth": 2
          }
         }
        }
       }
      }
     },
     "metadata": {},
     "output_type": "display_data"
    }
   ],
   "source": [
    "plot_and_compare_reduced_embeddings_3D(texts, poli_texts_strings, \"en\", \"it\", \"Our Group\", \"PoliNetwork Group\")"
   ]
  },
  {
   "cell_type": "markdown",
   "metadata": {},
   "source": [
    "Doing the same as before using the preprocessed texts"
   ]
  },
  {
   "cell_type": "code",
   "execution_count": 21,
   "metadata": {},
   "outputs": [],
   "source": [
    "preprocessed_texts = [preprocess_message(str(text), \"english\") for text in texts]\n",
    "poli_preprocessed_texts = [preprocess_message(text, \"italian\") for text in poli_texts_strings]\n"
   ]
  },
  {
   "cell_type": "code",
   "execution_count": null,
   "metadata": {},
   "outputs": [
    {
     "data": {
      "image/png": "[encoded data removed]",
      "text/plain": [
       "<Figure size 640x480 with 1 Axes>"
      ]
     },
     "metadata": {},
     "output_type": "display_data"
    }
   ],
   "source": [
    "plot_and_compare_reduced_embeddings_2D(preprocessed_texts, poli_preprocessed_texts, \"en\", \"it\")"
   ]
  },
  {
   "cell_type": "code",
   "execution_count": null,
   "metadata": {},
   "outputs": [
    {
     "data": {
      "application/vnd.plotly.v1+json": {
       "config": {
        "plotlyServerURL": "https://plot.ly"
       },
       "data": [
        {
         "marker": {
          "color": "blue",
          "size": 8
         },
         "mode": "markers",
         "name": "Our Group",
         "type": "scatter3d",
         "x": [
          -0.12880539894104004,
          -0.04295489192008972,
          -0.053730159997940063,
          0.01709209382534027,
          -0.23227380216121674,
          0.026581184938549995,
          -0.1740889698266983,
          -0.3102719485759735,
          0.21734872460365295,
          -0.08110445737838745,
          -0.1297999620437622,
          -0.3398762345314026,
          0.22584812343120575,
          -0.19653917849063873,
          0.4256824851036072,
          -0.23696458339691162,
          0.07886090874671936,
          -0.21846580505371094,
          -0.20377624034881592,
          0.1827600747346878,
          0.4817650616168976,
          -0.04779895395040512,
          -0.1953269988298416,
          0.010748795233666897,
          -0.31851619482040405,
          0.4042690694332123,
          -0.1474350392818451,
          0.17587877810001373,
          -0.08275807648897171,
          -0.09964874386787415,
          0.24674196541309357,
          -0.07079479843378067,
          0.09605029225349426,
          0.260567843914032,
          0.3257327675819397,
          0.028658639639616013,
          0.3549816906452179,
          -0.051645778119564056,
          0.11589504033327103,
          -0.1694197803735733,
          0.12311890721321106,
          0.05569665879011154,
          -0.38585948944091797,
          0.02643803507089615,
          0.11464039981365204,
          -0.2300553172826767,
          0.10150904208421707,
          -0.3739045560359955,
          -0.33494165539741516,
          0.20904730260372162,
          0.31169962882995605,
          0.254791796207428,
          0.4817650616168976,
          -0.24545985460281372,
          -0.2519533932209015
         ],
         "y": [
          -0.10881257802248001,
          -0.1369616538286209,
          -0.19481609761714935,
          -0.12187929451465607,
          -0.120040662586689,
          -0.10317336767911911,
          -0.09321960061788559,
          0.14144185185432434,
          -0.05625488981604576,
          -0.04423908889293671,
          -0.08388815820217133,
          0.11947842687368393,
          -0.01862984336912632,
          -0.11183509975671768,
          0.098841592669487,
          -0.0618986152112484,
          0.017415661364793777,
          0.03622329235076904,
          0.11008495837450027,
          -0.1588641107082367,
          0.18198004364967346,
          -0.003082675626501441,
          -0.03618580475449562,
          -0.15125097334384918,
          0.10083278268575668,
          0.030249372124671936,
          -0.09429427981376648,
          -0.0008513888460583985,
          -0.012062021531164646,
          0.24868398904800415,
          -0.0007940696668811142,
          -0.11763893067836761,
          -0.019586723297834396,
          -0.026029761880636215,
          0.02191530540585518,
          0.02832009829580784,
          0.12418163567781448,
          -0.025276051834225655,
          -0.12797307968139648,
          0.03787659481167793,
          -0.0391019843518734,
          -0.023818867281079292,
          0.24865801632404327,
          -0.13673144578933716,
          -0.09439241886138916,
          0.01667962782084942,
          0.02557835914194584,
          0.20565231144428253,
          0.1624940186738968,
          0.025853142142295837,
          0.0845271646976471,
          0.09772744029760361,
          0.18198004364967346,
          0.019463317468762398,
          -0.042555518448352814
         ],
         "z": [
          0.04162346571683884,
          0.013791010715067387,
          -0.05993427336215973,
          0.05203283578157425,
          -0.061321601271629333,
          -0.01533020380884409,
          -0.05937771871685982,
          -0.01036303024739027,
          -0.03138820081949234,
          0.010026129893958569,
          -0.01944573223590851,
          -0.10679078102111816,
          0.006027943920344114,
          -0.055722542107105255,
          -0.0974646583199501,
          -0.1048092246055603,
          0.03927364945411682,
          0.03516650199890137,
          -0.0018486332846805453,
          -0.064900241792202,
          -0.10514967888593674,
          0.16142691671848297,
          -0.07273703813552856,
          0.011047749780118465,
          0.011849039234220982,
          -0.09202112257480621,
          0.017336059361696243,
          0.09197360277175903,
          0.14536742866039276,
          0.48582032322883606,
          -0.04527948424220085,
          -0.0159961748868227,
          -0.029416637495160103,
          -0.0905856341123581,
          -0.061083339154720306,
          0.08567873388528824,
          -0.007177210412919521,
          0.17208078503608704,
          -0.017711488530039787,
          0.14368119835853577,
          0.04108457639813423,
          0.0994139239192009,
          -0.1964063048362732,
          -0.004184519872069359,
          0.022896472364664078,
          -0.07068349421024323,
          0.14501604437828064,
          -0.16633012890815735,
          -0.12492098659276962,
          0.08526403456926346,
          0.006556146778166294,
          -0.02746092714369297,
          -0.10514967888593674,
          0.04245191812515259,
          -0.04589572548866272
         ]
        },
        {
         "marker": {
          "color": "red",
          "size": 8
         },
         "mode": "markers",
         "name": "PoliNetwork Group",
         "type": "scatter3d",
         "x": [
          0.15061286091804504,
          -0.3008936047554016,
          0.197567418217659,
          0.04739643260836601,
          -0.24383576214313507,
          0.3150973618030548,
          0.15061289072036743,
          -0.23033830523490906,
          -0.15336406230926514,
          -0.09733166545629501,
          0.197567418217659,
          0.22012880444526672,
          0.05971050262451172,
          -0.10291904956102371,
          -0.07882390916347504,
          0.10231292992830276,
          -0.18211281299591064,
          -0.2048925906419754,
          -0.2527766227722168,
          0.31100502610206604,
          -0.1328992247581482,
          0.15061289072036743,
          -0.35966840386390686,
          0.009278029203414917,
          0.007627407554537058,
          0.36305320262908936,
          -0.1376809924840927,
          -0.3141300678253174,
          0.09085440635681152,
          -0.24291424453258514,
          0.23432126641273499,
          0.012589303776621819,
          0.3531548082828522,
          0.05252683535218239,
          0.35154908895492554,
          -0.3489053249359131,
          0.38260042667388916,
          -0.027191942557692528,
          0.3132169246673584,
          0.074641652405262,
          -0.3233756721019745,
          -0.3733242452144623,
          -0.030070150271058083,
          -0.2470645010471344,
          0.20590955018997192,
          0.14749370515346527,
          -0.12769629061222076,
          -0.20662617683410645,
          -0.0665050819516182,
          0.17908696830272675,
          0.08313079923391342,
          -0.33669835329055786,
          0.0051445066928863525,
          0.3532363772392273
         ],
         "y": [
          -0.20751680433750153,
          0.018233515322208405,
          -0.1770942658185959,
          -0.11478821933269501,
          -0.01728142239153385,
          0.08423721045255661,
          -0.2075168341398239,
          0.05440632998943329,
          -0.03871802240610123,
          0.12555982172489166,
          -0.1770942658185959,
          -0.02858559414744377,
          -0.08275475353002548,
          0.02203841507434845,
          -0.07113439589738846,
          -0.057228367775678635,
          -0.0573967806994915,
          -0.07308036088943481,
          0.049241386353969574,
          0.07083044201135635,
          -0.06988433003425598,
          -0.2075168341398239,
          0.08552341908216476,
          -0.07614482194185257,
          -0.04687126725912094,
          0.09563173353672028,
          0.02064562402665615,
          0.0674564465880394,
          -0.04537959024310112,
          -0.022485515102744102,
          0.1785881370306015,
          -0.09572761505842209,
          0.23970049619674683,
          -0.04377710819244385,
          0.10706987231969833,
          0.1058105081319809,
          0.16681092977523804,
          -0.05282198265194893,
          0.13224929571151733,
          -0.016202202066779137,
          0.04737069830298424,
          0.3104337751865387,
          -0.08572100102901459,
          0.0180923230946064,
          -0.04517791420221329,
          -0.006124516949057579,
          -0.024861065670847893,
          -0.02482469566166401,
          -0.0012968010269105434,
          0.06328246742486954,
          -0.027042392641305923,
          0.03570348396897316,
          -0.06956484168767929,
          0.17269790172576904
         ],
         "z": [
          0.1142561212182045,
          -0.10265301167964935,
          0.09783117473125458,
          -0.0009999884059652686,
          -0.03227991983294487,
          -0.07348954677581787,
          0.11425613611936569,
          0.06686138361692429,
          0.01502998173236847,
          0.1690465211868286,
          0.09783117473125458,
          -0.024151770398020744,
          0.04551190137863159,
          0.1149911880493164,
          0.011019137687981129,
          -0.04362946376204491,
          -0.07721184194087982,
          -0.20739831030368805,
          0.017191199585795403,
          -0.07874569296836853,
          -0.07461217790842056,
          0.11425613611936569,
          -0.04255001246929169,
          0.057475123554468155,
          0.016530582681298256,
          -0.05311635881662369,
          0.045088477432727814,
          -0.019359655678272247,
          0.05993973836302757,
          -0.13925595581531525,
          0.05143628269433975,
          -0.10404665768146515,
          -0.04817577451467514,
          0.10295594483613968,
          -0.07849421352148056,
          0.01642797887325287,
          -0.11186746507883072,
          -0.05419544503092766,
          -0.05460098013281822,
          0.024603769183158875,
          -0.05904887244105339,
          0.3544171154499054,
          -0.14785224199295044,
          -0.09612114727497101,
          -0.027467679232358932,
          0.10544848442077637,
          0.03874913975596428,
          -0.111953504383564,
          0.09064697474241257,
          0.07340952008962631,
          0.05040130391716957,
          -0.10999850928783417,
          -0.019026555120944977,
          -0.07330990582704544
         ]
        }
       ],
       "layout": {
        "legend": {
         "x": 0.01,
         "xanchor": "left",
         "y": 0.99,
         "yanchor": "top"
        },
        "template": {
         "data": {
          "bar": [
           {
            "error_x": {
             "color": "#2a3f5f"
            },
            "error_y": {
             "color": "#2a3f5f"
            },
            "marker": {
             "line": {
              "color": "#E5ECF6",
              "width": 0.5
             },
             "pattern": {
              "fillmode": "overlay",
              "size": 10,
              "solidity": 0.2
             }
            },
            "type": "bar"
           }
          ],
          "barpolar": [
           {
            "marker": {
             "line": {
              "color": "#E5ECF6",
              "width": 0.5
             },
             "pattern": {
              "fillmode": "overlay",
              "size": 10,
              "solidity": 0.2
             }
            },
            "type": "barpolar"
           }
          ],
          "carpet": [
           {
            "aaxis": {
             "endlinecolor": "#2a3f5f",
             "gridcolor": "white",
             "linecolor": "white",
             "minorgridcolor": "white",
             "startlinecolor": "#2a3f5f"
            },
            "baxis": {
             "endlinecolor": "#2a3f5f",
             "gridcolor": "white",
             "linecolor": "white",
             "minorgridcolor": "white",
             "startlinecolor": "#2a3f5f"
            },
            "type": "carpet"
           }
          ],
          "choropleth": [
           {
            "colorbar": {
             "outlinewidth": 0,
             "ticks": ""
            },
            "type": "choropleth"
           }
          ],
          "contour": [
           {
            "colorbar": {
             "outlinewidth": 0,
             "ticks": ""
            },
            "colorscale": [
             [
              0,
              "#0d0887"
             ],
             [
              0.1111111111111111,
              "#46039f"
             ],
             [
              0.2222222222222222,
              "#7201a8"
             ],
             [
              0.3333333333333333,
              "#9c179e"
             ],
             [
              0.4444444444444444,
              "#bd3786"
             ],
             [
              0.5555555555555556,
              "#d8576b"
             ],
             [
              0.6666666666666666,
              "#ed7953"
             ],
             [
              0.7777777777777778,
              "#fb9f3a"
             ],
             [
              0.8888888888888888,
              "#fdca26"
             ],
             [
              1,
              "#f0f921"
             ]
            ],
            "type": "contour"
           }
          ],
          "contourcarpet": [
           {
            "colorbar": {
             "outlinewidth": 0,
             "ticks": ""
            },
            "type": "contourcarpet"
           }
          ],
          "heatmap": [
           {
            "colorbar": {
             "outlinewidth": 0,
             "ticks": ""
            },
            "colorscale": [
             [
              0,
              "#0d0887"
             ],
             [
              0.1111111111111111,
              "#46039f"
             ],
             [
              0.2222222222222222,
              "#7201a8"
             ],
             [
              0.3333333333333333,
              "#9c179e"
             ],
             [
              0.4444444444444444,
              "#bd3786"
             ],
             [
              0.5555555555555556,
              "#d8576b"
             ],
             [
              0.6666666666666666,
              "#ed7953"
             ],
             [
              0.7777777777777778,
              "#fb9f3a"
             ],
             [
              0.8888888888888888,
              "#fdca26"
             ],
             [
              1,
              "#f0f921"
             ]
            ],
            "type": "heatmap"
           }
          ],
          "heatmapgl": [
           {
            "colorbar": {
             "outlinewidth": 0,
             "ticks": ""
            },
            "colorscale": [
             [
              0,
              "#0d0887"
             ],
             [
              0.1111111111111111,
              "#46039f"
             ],
             [
              0.2222222222222222,
              "#7201a8"
             ],
             [
              0.3333333333333333,
              "#9c179e"
             ],
             [
              0.4444444444444444,
              "#bd3786"
             ],
             [
              0.5555555555555556,
              "#d8576b"
             ],
             [
              0.6666666666666666,
              "#ed7953"
             ],
             [
              0.7777777777777778,
              "#fb9f3a"
             ],
             [
              0.8888888888888888,
              "#fdca26"
             ],
             [
              1,
              "#f0f921"
             ]
            ],
            "type": "heatmapgl"
           }
          ],
          "histogram": [
           {
            "marker": {
             "pattern": {
              "fillmode": "overlay",
              "size": 10,
              "solidity": 0.2
             }
            },
            "type": "histogram"
           }
          ],
          "histogram2d": [
           {
            "colorbar": {
             "outlinewidth": 0,
             "ticks": ""
            },
            "colorscale": [
             [
              0,
              "#0d0887"
             ],
             [
              0.1111111111111111,
              "#46039f"
             ],
             [
              0.2222222222222222,
              "#7201a8"
             ],
             [
              0.3333333333333333,
              "#9c179e"
             ],
             [
              0.4444444444444444,
              "#bd3786"
             ],
             [
              0.5555555555555556,
              "#d8576b"
             ],
             [
              0.6666666666666666,
              "#ed7953"
             ],
             [
              0.7777777777777778,
              "#fb9f3a"
             ],
             [
              0.8888888888888888,
              "#fdca26"
             ],
             [
              1,
              "#f0f921"
             ]
            ],
            "type": "histogram2d"
           }
          ],
          "histogram2dcontour": [
           {
            "colorbar": {
             "outlinewidth": 0,
             "ticks": ""
            },
            "colorscale": [
             [
              0,
              "#0d0887"
             ],
             [
              0.1111111111111111,
              "#46039f"
             ],
             [
              0.2222222222222222,
              "#7201a8"
             ],
             [
              0.3333333333333333,
              "#9c179e"
             ],
             [
              0.4444444444444444,
              "#bd3786"
             ],
             [
              0.5555555555555556,
              "#d8576b"
             ],
             [
              0.6666666666666666,
              "#ed7953"
             ],
             [
              0.7777777777777778,
              "#fb9f3a"
             ],
             [
              0.8888888888888888,
              "#fdca26"
             ],
             [
              1,
              "#f0f921"
             ]
            ],
            "type": "histogram2dcontour"
           }
          ],
          "mesh3d": [
           {
            "colorbar": {
             "outlinewidth": 0,
             "ticks": ""
            },
            "type": "mesh3d"
           }
          ],
          "parcoords": [
           {
            "line": {
             "colorbar": {
              "outlinewidth": 0,
              "ticks": ""
             }
            },
            "type": "parcoords"
           }
          ],
          "pie": [
           {
            "automargin": true,
            "type": "pie"
           }
          ],
          "scatter": [
           {
            "fillpattern": {
             "fillmode": "overlay",
             "size": 10,
             "solidity": 0.2
            },
            "type": "scatter"
           }
          ],
          "scatter3d": [
           {
            "line": {
             "colorbar": {
              "outlinewidth": 0,
              "ticks": ""
             }
            },
            "marker": {
             "colorbar": {
              "outlinewidth": 0,
              "ticks": ""
             }
            },
            "type": "scatter3d"
           }
          ],
          "scattercarpet": [
           {
            "marker": {
             "colorbar": {
              "outlinewidth": 0,
              "ticks": ""
             }
            },
            "type": "scattercarpet"
           }
          ],
          "scattergeo": [
           {
            "marker": {
             "colorbar": {
              "outlinewidth": 0,
              "ticks": ""
             }
            },
            "type": "scattergeo"
           }
          ],
          "scattergl": [
           {
            "marker": {
             "colorbar": {
              "outlinewidth": 0,
              "ticks": ""
             }
            },
            "type": "scattergl"
           }
          ],
          "scattermapbox": [
           {
            "marker": {
             "colorbar": {
              "outlinewidth": 0,
              "ticks": ""
             }
            },
            "type": "scattermapbox"
           }
          ],
          "scatterpolar": [
           {
            "marker": {
             "colorbar": {
              "outlinewidth": 0,
              "ticks": ""
             }
            },
            "type": "scatterpolar"
           }
          ],
          "scatterpolargl": [
           {
            "marker": {
             "colorbar": {
              "outlinewidth": 0,
              "ticks": ""
             }
            },
            "type": "scatterpolargl"
           }
          ],
          "scatterternary": [
           {
            "marker": {
             "colorbar": {
              "outlinewidth": 0,
              "ticks": ""
             }
            },
            "type": "scatterternary"
           }
          ],
          "surface": [
           {
            "colorbar": {
             "outlinewidth": 0,
             "ticks": ""
            },
            "colorscale": [
             [
              0,
              "#0d0887"
             ],
             [
              0.1111111111111111,
              "#46039f"
             ],
             [
              0.2222222222222222,
              "#7201a8"
             ],
             [
              0.3333333333333333,
              "#9c179e"
             ],
             [
              0.4444444444444444,
              "#bd3786"
             ],
             [
              0.5555555555555556,
              "#d8576b"
             ],
             [
              0.6666666666666666,
              "#ed7953"
             ],
             [
              0.7777777777777778,
              "#fb9f3a"
             ],
             [
              0.8888888888888888,
              "#fdca26"
             ],
             [
              1,
              "#f0f921"
             ]
            ],
            "type": "surface"
           }
          ],
          "table": [
           {
            "cells": {
             "fill": {
              "color": "#EBF0F8"
             },
             "line": {
              "color": "white"
             }
            },
            "header": {
             "fill": {
              "color": "#C8D4E3"
             },
             "line": {
              "color": "white"
             }
            },
            "type": "table"
           }
          ]
         },
         "layout": {
          "annotationdefaults": {
           "arrowcolor": "#2a3f5f",
           "arrowhead": 0,
           "arrowwidth": 1
          },
          "autotypenumbers": "strict",
          "coloraxis": {
           "colorbar": {
            "outlinewidth": 0,
            "ticks": ""
           }
          },
          "colorscale": {
           "diverging": [
            [
             0,
             "#8e0152"
            ],
            [
             0.1,
             "#c51b7d"
            ],
            [
             0.2,
             "#de77ae"
            ],
            [
             0.3,
             "#f1b6da"
            ],
            [
             0.4,
             "#fde0ef"
            ],
            [
             0.5,
             "#f7f7f7"
            ],
            [
             0.6,
             "#e6f5d0"
            ],
            [
             0.7,
             "#b8e186"
            ],
            [
             0.8,
             "#7fbc41"
            ],
            [
             0.9,
             "#4d9221"
            ],
            [
             1,
             "#276419"
            ]
           ],
           "sequential": [
            [
             0,
             "#0d0887"
            ],
            [
             0.1111111111111111,
             "#46039f"
            ],
            [
             0.2222222222222222,
             "#7201a8"
            ],
            [
             0.3333333333333333,
             "#9c179e"
            ],
            [
             0.4444444444444444,
             "#bd3786"
            ],
            [
             0.5555555555555556,
             "#d8576b"
            ],
            [
             0.6666666666666666,
             "#ed7953"
            ],
            [
             0.7777777777777778,
             "#fb9f3a"
            ],
            [
             0.8888888888888888,
             "#fdca26"
            ],
            [
             1,
             "#f0f921"
            ]
           ],
           "sequentialminus": [
            [
             0,
             "#0d0887"
            ],
            [
             0.1111111111111111,
             "#46039f"
            ],
            [
             0.2222222222222222,
             "#7201a8"
            ],
            [
             0.3333333333333333,
             "#9c179e"
            ],
            [
             0.4444444444444444,
             "#bd3786"
            ],
            [
             0.5555555555555556,
             "#d8576b"
            ],
            [
             0.6666666666666666,
             "#ed7953"
            ],
            [
             0.7777777777777778,
             "#fb9f3a"
            ],
            [
             0.8888888888888888,
             "#fdca26"
            ],
            [
             1,
             "#f0f921"
            ]
           ]
          },
          "colorway": [
           "#636efa",
           "#EF553B",
           "#00cc96",
           "#ab63fa",
           "#FFA15A",
           "#19d3f3",
           "#FF6692",
           "#B6E880",
           "#FF97FF",
           "#FECB52"
          ],
          "font": {
           "color": "#2a3f5f"
          },
          "geo": {
           "bgcolor": "white",
           "lakecolor": "white",
           "landcolor": "#E5ECF6",
           "showlakes": true,
           "showland": true,
           "subunitcolor": "white"
          },
          "hoverlabel": {
           "align": "left"
          },
          "hovermode": "closest",
          "mapbox": {
           "style": "light"
          },
          "paper_bgcolor": "white",
          "plot_bgcolor": "#E5ECF6",
          "polar": {
           "angularaxis": {
            "gridcolor": "white",
            "linecolor": "white",
            "ticks": ""
           },
           "bgcolor": "#E5ECF6",
           "radialaxis": {
            "gridcolor": "white",
            "linecolor": "white",
            "ticks": ""
           }
          },
          "scene": {
           "xaxis": {
            "backgroundcolor": "#E5ECF6",
            "gridcolor": "white",
            "gridwidth": 2,
            "linecolor": "white",
            "showbackground": true,
            "ticks": "",
            "zerolinecolor": "white"
           },
           "yaxis": {
            "backgroundcolor": "#E5ECF6",
            "gridcolor": "white",
            "gridwidth": 2,
            "linecolor": "white",
            "showbackground": true,
            "ticks": "",
            "zerolinecolor": "white"
           },
           "zaxis": {
            "backgroundcolor": "#E5ECF6",
            "gridcolor": "white",
            "gridwidth": 2,
            "linecolor": "white",
            "showbackground": true,
            "ticks": "",
            "zerolinecolor": "white"
           }
          },
          "shapedefaults": {
           "line": {
            "color": "#2a3f5f"
           }
          },
          "ternary": {
           "aaxis": {
            "gridcolor": "white",
            "linecolor": "white",
            "ticks": ""
           },
           "baxis": {
            "gridcolor": "white",
            "linecolor": "white",
            "ticks": ""
           },
           "bgcolor": "#E5ECF6",
           "caxis": {
            "gridcolor": "white",
            "linecolor": "white",
            "ticks": ""
           }
          },
          "title": {
           "x": 0.05
          },
          "xaxis": {
           "automargin": true,
           "gridcolor": "white",
           "linecolor": "white",
           "ticks": "",
           "title": {
            "standoff": 15
           },
           "zerolinecolor": "white",
           "zerolinewidth": 2
          },
          "yaxis": {
           "automargin": true,
           "gridcolor": "white",
           "linecolor": "white",
           "ticks": "",
           "title": {
            "standoff": 15
           },
           "zerolinecolor": "white",
           "zerolinewidth": 2
          }
         }
        }
       }
      }
     },
     "metadata": {},
     "output_type": "display_data"
    }
   ],
   "source": [
    "plot_and_compare_reduced_embeddings_3D(preprocessed_texts, poli_preprocessed_texts, \"en\", \"it\", \"Our Group\", \"PoliNetwork Group\")"
   ]
  },
  {
   "cell_type": "markdown",
   "metadata": {},
   "source": [
    "**Cosine Similarity**"
   ]
  },
  {
   "cell_type": "code",
   "execution_count": 27,
   "metadata": {},
   "outputs": [
    {
     "name": "stdout",
     "output_type": "stream",
     "text": [
      "Cosine similarity between sentences: 0.7246\n"
     ]
    }
   ],
   "source": [
    "\n",
    "# Define your two sentences\n",
    "sentence1 = \"This is the first sentence.\"\n",
    "sentence2 = \"This sentence is very similar to the first one.\"\n",
    "\n",
    "# Get the LASER embeddings for the sentences\n",
    "embedding1 = laser.embed_sentences(\n",
    "  sentence1,\n",
    "  lang='en')\n",
    "\n",
    "embedding2 = laser.embed_sentences(\n",
    "  sentence2,\n",
    "  lang='en')\n",
    "\n",
    "\n",
    "\n",
    "# Calculate cosine similarity\n",
    "import numpy as np\n",
    "similarity = np.dot(embedding1[0], embedding2[0]) / (np.linalg.norm(embedding1[0]) * np.linalg.norm(embedding2[0]))\n",
    "\n",
    "# Print the similarity score\n",
    "print(f\"Cosine similarity between sentences: {similarity:.4f}\")\n"
   ]
  },
  {
   "cell_type": "code",
   "execution_count": 81,
   "metadata": {},
   "outputs": [
    {
     "name": "stdout",
     "output_type": "stream",
     "text": [
      "55\n"
     ]
    }
   ],
   "source": [
    "#Return the average cosine similarity between the last k embeddings\n",
    "def average_k_cosine_similarity(embeddings, k):\n",
    "    tmp_similarity = []\n",
    "    for i in np.arange(k-1):\n",
    "        tmp_similarity.append(np.dot(embeddings[k], embeddings[i]) / (np.linalg.norm(embeddings[k]) * np.linalg.norm(embeddings[i])))\n",
    "    return np.mean(tmp_similarity)\n",
    "\n",
    "print(len(embeddings))\n",
    "\n",
    "similarities = average_k_cosine_similarity(embeddings, 5)"
   ]
  },
  {
   "cell_type": "code",
   "execution_count": 98,
   "metadata": {},
   "outputs": [
    {
     "name": "stdout",
     "output_type": "stream",
     "text": [
      "['we could use namessurnames concatenated', 'somewhat true but would better permission collect analyze data', 'it would convenient set related topic project', 'telegraminfromationspace anamolydetectionbot informationspace telegrameventdetection telegramanamolydetection', 'i vote 4th']\n"
     ]
    }
   ],
   "source": [
    "print(preprocessed_texts[0:5])\n",
    "prep_text = preprocessed_texts\n"
   ]
  },
  {
   "cell_type": "code",
   "execution_count": 99,
   "metadata": {},
   "outputs": [],
   "source": [
    "langs = ['en' for i in range(len(preprocessed_texts))]\n",
    "embeddings2 = laser.embed_sentences(\n",
    "  prep_text,\n",
    "  lang=langs)"
   ]
  },
  {
   "cell_type": "code",
   "execution_count": 100,
   "metadata": {},
   "outputs": [
    {
     "name": "stdout",
     "output_type": "stream",
     "text": [
      "45\n"
     ]
    },
    {
     "data": {
      "image/png": "[encoded data removed]",
      "text/plain": [
       "<Figure size 640x480 with 1 Axes>"
      ]
     },
     "metadata": {},
     "output_type": "display_data"
    }
   ],
   "source": [
    "trial_similarities = []\n",
    "k = 10\n",
    "for i in np.arange(0, len(embeddings2)-k):\n",
    "    window = [emb for emb in embeddings2[i:i+k]]\n",
    "    trial_similarities.append(average_k_cosine_similarity(window, k-1))\n",
    "\n",
    "print(len(trial_similarities))\n",
    "\n",
    "# Plot the list\n",
    "plt.plot(trial_similarities)\n",
    "plt.show()\n"
   ]
  },
  {
   "cell_type": "code",
   "execution_count": 101,
   "metadata": {},
   "outputs": [
    {
     "name": "stdout",
     "output_type": "stream",
     "text": [
      "5 : httpsgithubcomamirmosiotelegrameventdetection\n",
      "6 : could send mail github account invite\n",
      "7 : amidierfangmailcom\n",
      "8 : httpsgithubcomamirmosiotelegrameventdetectioninvitations\n",
      "9 : martina2viganomailpolimiit\n",
      "10 : lorenzomondomailpolimiit\n",
      "11 : do remember name technique proposed professor classification part or received study material yet\n",
      "12 : no havent received anything somthing laser embedding\n",
      "13 : i think\n",
      "14 : httpsgithubcomfacebookresearchlaser\n",
      "15 : is tomorrow 14 ok\n"
     ]
    }
   ],
   "source": [
    "def watch_messages_in_a_range(messages, start, end):\n",
    "    for i in np.arange(start, end+1):\n",
    "        print(str(i) +\" : \" + messages[i])\n",
    "\n",
    "watch_messages_in_a_range(prep_text, 5,15)"
   ]
  },
  {
   "cell_type": "code",
   "execution_count": 97,
   "metadata": {},
   "outputs": [
    {
     "name": "stdout",
     "output_type": "stream",
     "text": [
      "15 : i mean would simpler read\n",
      "16 : could like reactions 1\n",
      "17 : perfect\n",
      "18 : nan\n",
      "19 : its probably something working directory addresses\n",
      "20 : actually used run without debugging make sense\n",
      "21 : i cant understand since code\n",
      "22 : when i run directly terminal i get problem if i select run without debugging works\n",
      "23 : wow great can send csv i want see format get\n",
      "24 : i manage add\n",
      "25 : i try\n"
     ]
    }
   ],
   "source": [
    "watch_messages_in_a_range(prep_text, 15,25)"
   ]
  }
 ],
 "metadata": {
  "kernelspec": {
   "display_name": "telegramprj",
   "language": "python",
   "name": "python3"
  },
  "language_info": {
   "codemirror_mode": {
    "name": "ipython",
    "version": 3
   },
   "file_extension": ".py",
   "mimetype": "text/x-python",
   "name": "python",
   "nbconvert_exporter": "python",
   "pygments_lexer": "ipython3",
   "version": "3.8.19"
  }
 },
 "nbformat": 4,
 "nbformat_minor": 2
}
