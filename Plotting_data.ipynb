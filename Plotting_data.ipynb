{
 "cells": [
  {
   "cell_type": "markdown",
   "metadata": {},
   "source": [
    "**Lorenzo's Notebook**"
   ]
  },
  {
   "cell_type": "markdown",
   "metadata": {},
   "source": [
    "Importing useful packages and modules"
   ]
  },
  {
   "cell_type": "code",
   "execution_count": 68,
   "metadata": {},
   "outputs": [],
   "source": [
    "from data_collection.data_collector_client import DataCollectorClient\n",
    "from telethon.tl.types import MessageReactions\n",
    "import asyncio\n",
    "from decouple import config\n",
    "import pandas as pd\n",
    "import numpy as np\n",
    "from sklearn.decomposition import PCA\n",
    "import matplotlib.pyplot as plt"
   ]
  },
  {
   "cell_type": "code",
   "execution_count": 69,
   "metadata": {},
   "outputs": [],
   "source": [
    "import re\n",
    "def reactions_splitting(message):\n",
    "    pattern = r\"emoticon=['\\\"](.*?)['\\\"].*?count=(\\d+)\"\n",
    "    matches = re.findall(pattern, message)\n",
    "    if matches:\n",
    "        return matches\n",
    "    else:\n",
    "        return None"
   ]
  },
  {
   "cell_type": "code",
   "execution_count": 70,
   "metadata": {},
   "outputs": [],
   "source": [
    "\n",
    "# Function to count the number of reactions in a message using the splitted reactions\n",
    "def count_reactions(splitted_reaction):\n",
    "    if(splitted_reaction == None):\n",
    "        return 0\n",
    "    else:\n",
    "        tmp = []\n",
    "        for i in range(len(splitted_reaction)):\n",
    "            tmp.append(int(splitted_reaction[:][i][1]))\n",
    "        return sum(tmp)"
   ]
  },
  {
   "cell_type": "code",
   "execution_count": 71,
   "metadata": {},
   "outputs": [
    {
     "name": "stdout",
     "output_type": "stream",
     "text": [
      "['ciao', 'come va', 'oggi bella giornata']\n"
     ]
    },
    {
     "name": "stderr",
     "output_type": "stream",
     "text": [
      "[nltk_data] Downloading package stopwords to C:\\Users\\asus-\n",
      "[nltk_data]     zen\\AppData\\Roaming\\nltk_data...\n",
      "[nltk_data]   Package stopwords is already up-to-date!\n"
     ]
    }
   ],
   "source": [
    "import nltk\n",
    "nltk.download('stopwords')\n",
    "from nltk.corpus import stopwords\n",
    "\n",
    "#Function to preprocess a message removing stopwords of the specified language and special characters\n",
    "def preprocess_message(message, language):\n",
    "  # Removing special characters and \\n\n",
    "  message = re.sub(r\"[^\\w\\s]\", \"\", message)\n",
    "  message = re.sub(r\"\\n\", \"\", message)\n",
    "\n",
    "\n",
    "  # Removing Stopwords\n",
    "  stop_words = set(stopwords.words(language))\n",
    "  message = \" \".join([word for word in message.split() if word not in stop_words])\n",
    "\n",
    "  # Convert to lowercase\n",
    "  message = message.lower()\n",
    "\n",
    "  # Removing empty words\n",
    "  message = \" \".join(message.split())\n",
    "\n",
    "  return message\n",
    "\n",
    "# example\n",
    "messaggi = [\"Ciao a tutti!\", \"Come va?\", \"Oggi è una bella giornata\\n.\"]\n",
    "preprocessed_messages = [preprocess_message(message,\"italian\") for message in messaggi]\n",
    "print(preprocessed_messages)\n"
   ]
  },
  {
   "cell_type": "code",
   "execution_count": 72,
   "metadata": {},
   "outputs": [],
   "source": [
    "df = pd.read_csv('./data/trial.csv')\n",
    "\n",
    "df['reactions'].fillna('', inplace=True)\n",
    "df['reactions'] = df['reactions'].apply(lambda x: count_reactions(reactions_splitting(x)))"
   ]
  },
  {
   "cell_type": "code",
   "execution_count": 73,
   "metadata": {},
   "outputs": [],
   "source": [
    "\n",
    "ourgroup = \"https://t.me/+synza2388S80NWM0\"\n",
    "poligroup = \"https://t.me/PoliGruppo\"\n",
    "\n",
    "ourdf = df.loc[df['group'] == ourgroup]"
   ]
  },
  {
   "cell_type": "markdown",
   "metadata": {},
   "source": [
    "**Laser Embedding**"
   ]
  },
  {
   "cell_type": "code",
   "execution_count": 74,
   "metadata": {},
   "outputs": [
    {
     "name": "stdout",
     "output_type": "stream",
     "text": [
      "-----NORMAL TEXTS-----\n",
      "['Hi guys', 'Hi', 'Hi😊', 'hey everyone!', 'I don’t know why I see just Amir']\n",
      "\n",
      "-----PREPROCESSED TEXTS-----\n",
      "['hi guys', 'hi', 'hi', 'hey everyone', 'i dont know i see amir']\n",
      "316\n",
      "316\n"
     ]
    }
   ],
   "source": [
    "texts = ourdf['text']\n",
    "texts = [str(text) for text in texts]\n",
    "texts = [text for text in texts if text != \"nan\"]\n",
    "preprocessed_texts = [preprocess_message(str(text), \"english\") for text in texts]\n",
    "print(\"-----NORMAL TEXTS-----\")\n",
    "print(texts[0:5])\n",
    "print(\"\\n-----PREPROCESSED TEXTS-----\")\n",
    "print(preprocessed_texts[0:5])\n",
    "\n",
    "print(len(preprocessed_texts))\n",
    "print(len(texts))\n"
   ]
  },
  {
   "cell_type": "code",
   "execution_count": 75,
   "metadata": {},
   "outputs": [
    {
     "data": {
      "text/plain": [
       "(316, 1024)"
      ]
     },
     "execution_count": 75,
     "metadata": {},
     "output_type": "execute_result"
    }
   ],
   "source": [
    "langs = [\"en\" for i in range(len(texts))]\n",
    "\n",
    "from laserembeddings import Laser\n",
    "\n",
    "laser = Laser()\n",
    "\n",
    "# if all sentences are in the same language:\n",
    "\n",
    "embeddings = laser.embed_sentences(\n",
    "    texts,\n",
    "    lang=langs)\n",
    "\n",
    "embeddings.shape"
   ]
  },
  {
   "cell_type": "code",
   "execution_count": 76,
   "metadata": {},
   "outputs": [],
   "source": [
    "def plot_reduced_embeddings_2D(texts, lang):\n",
    "    langs = [lang for i in range(len(texts))]\n",
    "\n",
    "    from laserembeddings import Laser\n",
    "\n",
    "    laser = Laser()\n",
    "\n",
    "    # if all sentences are in the same language:\n",
    "\n",
    "    embeddings = laser.embed_sentences(\n",
    "    texts,\n",
    "    lang=langs)\n",
    "\n",
    "    pca = PCA(n_components=2)\n",
    "    reduced_embeddings = pca.fit_transform(embeddings)\n",
    "    # Plottare i punti\n",
    "    plt.scatter(reduced_embeddings[:, 0], reduced_embeddings[:, 1])\n",
    "\n",
    "    for i, point in enumerate(reduced_embeddings):\n",
    "        # Annotate each point with the message number\n",
    "        plt.annotate(str(i + 1), point, ha='center', va='center')\n",
    "\n",
    "    plt.show()"
   ]
  },
  {
   "cell_type": "code",
   "execution_count": 77,
   "metadata": {},
   "outputs": [
    {
     "data": {
      "image/png": "[encoded data removed]",
      "text/plain": [
       "<Figure size 640x480 with 1 Axes>"
      ]
     },
     "metadata": {},
     "output_type": "display_data"
    }
   ],
   "source": [
    "plot_reduced_embeddings_2D(texts, \"en\")"
   ]
  },
  {
   "cell_type": "markdown",
   "metadata": {},
   "source": [
    "Now we use the messages of the polinetwork group \n",
    "\n",
    "We'll plot the data as we have done before to see if there is any change in the distribution of the messages of two different groups"
   ]
  },
  {
   "cell_type": "code",
   "execution_count": 78,
   "metadata": {},
   "outputs": [
    {
     "data": {
      "text/html": [
       "<div>\n",
       "<style scoped>\n",
       "    .dataframe tbody tr th:only-of-type {\n",
       "        vertical-align: middle;\n",
       "    }\n",
       "\n",
       "    .dataframe tbody tr th {\n",
       "        vertical-align: top;\n",
       "    }\n",
       "\n",
       "    .dataframe thead th {\n",
       "        text-align: right;\n",
       "    }\n",
       "</style>\n",
       "<table border=\"1\" class=\"dataframe\">\n",
       "  <thead>\n",
       "    <tr style=\"text-align: right;\">\n",
       "      <th></th>\n",
       "      <th>Unnamed: 0</th>\n",
       "      <th>group</th>\n",
       "      <th>sender</th>\n",
       "      <th>text</th>\n",
       "      <th>reply</th>\n",
       "      <th>date</th>\n",
       "      <th>reactions</th>\n",
       "    </tr>\n",
       "  </thead>\n",
       "  <tbody>\n",
       "    <tr>\n",
       "      <th>329</th>\n",
       "      <td>999</td>\n",
       "      <td>https://t.me/PoliGruppo</td>\n",
       "      <td>1.377961e+09</td>\n",
       "      <td>ma ce una sezione si o no?</td>\n",
       "      <td>NaN</td>\n",
       "      <td>2024-03-03 10:24:58+00:00</td>\n",
       "      <td>0</td>\n",
       "    </tr>\n",
       "    <tr>\n",
       "      <th>330</th>\n",
       "      <td>998</td>\n",
       "      <td>https://t.me/PoliGruppo</td>\n",
       "      <td>1.265578e+09</td>\n",
       "      <td>Se é per l'Erasmus o per mobilità internaziona...</td>\n",
       "      <td>204165.0</td>\n",
       "      <td>2024-03-03 10:32:32+00:00</td>\n",
       "      <td>0</td>\n",
       "    </tr>\n",
       "    <tr>\n",
       "      <th>331</th>\n",
       "      <td>997</td>\n",
       "      <td>https://t.me/PoliGruppo</td>\n",
       "      <td>4.690109e+08</td>\n",
       "      <td>Ci sono delle restrizioni a cosa si può portar...</td>\n",
       "      <td>NaN</td>\n",
       "      <td>2024-03-03 10:34:09+00:00</td>\n",
       "      <td>0</td>\n",
       "    </tr>\n",
       "    <tr>\n",
       "      <th>332</th>\n",
       "      <td>996</td>\n",
       "      <td>https://t.me/PoliGruppo</td>\n",
       "      <td>4.282712e+08</td>\n",
       "      <td>Cerca su libgen</td>\n",
       "      <td>204159.0</td>\n",
       "      <td>2024-03-03 10:41:34+00:00</td>\n",
       "      <td>0</td>\n",
       "    </tr>\n",
       "    <tr>\n",
       "      <th>333</th>\n",
       "      <td>995</td>\n",
       "      <td>https://t.me/PoliGruppo</td>\n",
       "      <td>6.277756e+08</td>\n",
       "      <td>Da regolamento c'è scritto che sono tassativam...</td>\n",
       "      <td>204167.0</td>\n",
       "      <td>2024-03-03 11:03:14+00:00</td>\n",
       "      <td>0</td>\n",
       "    </tr>\n",
       "  </tbody>\n",
       "</table>\n",
       "</div>"
      ],
      "text/plain": [
       "     Unnamed: 0                    group        sender  \\\n",
       "329         999  https://t.me/PoliGruppo  1.377961e+09   \n",
       "330         998  https://t.me/PoliGruppo  1.265578e+09   \n",
       "331         997  https://t.me/PoliGruppo  4.690109e+08   \n",
       "332         996  https://t.me/PoliGruppo  4.282712e+08   \n",
       "333         995  https://t.me/PoliGruppo  6.277756e+08   \n",
       "\n",
       "                                                  text     reply  \\\n",
       "329                         ma ce una sezione si o no?       NaN   \n",
       "330  Se é per l'Erasmus o per mobilità internaziona...  204165.0   \n",
       "331  Ci sono delle restrizioni a cosa si può portar...       NaN   \n",
       "332                                    Cerca su libgen  204159.0   \n",
       "333  Da regolamento c'è scritto che sono tassativam...  204167.0   \n",
       "\n",
       "                          date  reactions  \n",
       "329  2024-03-03 10:24:58+00:00          0  \n",
       "330  2024-03-03 10:32:32+00:00          0  \n",
       "331  2024-03-03 10:34:09+00:00          0  \n",
       "332  2024-03-03 10:41:34+00:00          0  \n",
       "333  2024-03-03 11:03:14+00:00          0  "
      ]
     },
     "execution_count": 78,
     "metadata": {},
     "output_type": "execute_result"
    }
   ],
   "source": [
    "polidf = df.loc[df['group'] == poligroup]\n",
    "\n",
    "polidf.head()"
   ]
  },
  {
   "cell_type": "code",
   "execution_count": 79,
   "metadata": {},
   "outputs": [],
   "source": [
    "def plot_and_compare_reduced_embeddings_2D(texts1, texts2, lang1, lang2):\n",
    "    langs1 = [lang1 for i in range(100)]\n",
    "    langs2 = [lang2 for i in range(100)]\n",
    "\n",
    "    from laserembeddings import Laser\n",
    "\n",
    "    laser = Laser()\n",
    "#\n",
    "    # if all sentences are in the same language:\n",
    "\n",
    "    embeddings1 = laser.embed_sentences(\n",
    "    texts1[0:100],\n",
    "    lang=langs1)\n",
    "\n",
    "    embeddings2 = laser.embed_sentences(\n",
    "    texts2[0:100],\n",
    "    lang=langs2)\n",
    "\n",
    "    pca = PCA(n_components=2)\n",
    "    reduced_embeddings1 = pca.fit_transform(embeddings1)\n",
    "    pca = PCA(n_components=2)\n",
    "    reduced_embeddings2 = pca.fit_transform(embeddings2)\n",
    "\n",
    "    # Plottare i punti\n",
    "    plt.scatter(reduced_embeddings1[:, 0], reduced_embeddings1[:, 1], c='b')\n",
    "    plt.scatter(reduced_embeddings2[:, 0], reduced_embeddings2[:, 1], c='r')\n",
    "\n",
    "    plt.show()"
   ]
  },
  {
   "cell_type": "code",
   "execution_count": 80,
   "metadata": {},
   "outputs": [
    {
     "data": {
      "image/png": "[encoded data removed]",
      "text/plain": [
       "<Figure size 640x480 with 1 Axes>"
      ]
     },
     "metadata": {},
     "output_type": "display_data"
    }
   ],
   "source": [
    "plot_and_compare_reduced_embeddings_2D(texts, polidf['text'], \"en\", \"it\")"
   ]
  },
  {
   "cell_type": "code",
   "execution_count": 81,
   "metadata": {},
   "outputs": [
    {
     "name": "stdout",
     "output_type": "stream",
     "text": [
      "['ma ce una sezione si o no?', \"Se é per l'Erasmus o per mobilità internazionale c'é l'apposito gruppo\", 'Ci sono delle restrizioni a cosa si può portare alla laurea per quanto riguarda coriandoli, botti ecc?', 'Cerca su libgen', \"Da regolamento c'è scritto che sono tassativamente vietati i festeggiamenti all'interno del campus. Mi pareva di aver scritto da qualche altra parte di evitare di lasciare sporcizia in giro cordiandoli compresi\"]\n"
     ]
    }
   ],
   "source": [
    "poli_texts = polidf['text']\n",
    "poli_texts_strings = [str(text) for text in poli_texts if isinstance(text, str)] \n",
    "print(poli_texts_strings[0:5])\n",
    "\n"
   ]
  },
  {
   "cell_type": "markdown",
   "metadata": {},
   "source": [
    "Try by plotting in the space"
   ]
  },
  {
   "cell_type": "code",
   "execution_count": 82,
   "metadata": {},
   "outputs": [],
   "source": [
    "def plot_and_compare_reduced_embeddings_3D(texts1, texts2, lang1, lang2, name1, name2):\n",
    "    langs1 = [lang1 for i in range(100)]\n",
    "    langs2 = [lang2 for i in range(100)]\n",
    "\n",
    "    from laserembeddings import Laser\n",
    "\n",
    "    laser = Laser()\n",
    "\n",
    "    # if all sentences are in the same language:\n",
    "\n",
    "    embeddings1 = laser.embed_sentences(\n",
    "    texts1[0:100],\n",
    "    lang=langs1)\n",
    "\n",
    "    embeddings2 = laser.embed_sentences(\n",
    "    texts2[0:100],\n",
    "    lang=langs2)\n",
    "\n",
    "    pca = PCA(n_components=3)\n",
    "    reduced_embeddings1 = pca.fit_transform(embeddings1)\n",
    "    pca = PCA(n_components=3)\n",
    "    reduced_embeddings2 = pca.fit_transform(embeddings2)\n",
    "\n",
    "    import plotly.graph_objects as go\n",
    "\n",
    "    # Importare i dati\n",
    "    import numpy as np\n",
    "\n",
    "    # Creare la figura\n",
    "    fig = go.Figure()\n",
    "\n",
    "    # Plot each set of points with a unique colormap\n",
    "    fig.add_scatter3d(\n",
    "        x=reduced_embeddings1[:, 0],\n",
    "        y=reduced_embeddings1[:, 1],\n",
    "        z=reduced_embeddings1[:, 2],\n",
    "        mode='markers',\n",
    "        marker=dict(color='blue', size=8),  # Use a color name or hex code for direct coloring\n",
    "        name=name1\n",
    "    )\n",
    "\n",
    "    fig.add_scatter3d(\n",
    "        x=reduced_embeddings2[:, 0],\n",
    "        y=reduced_embeddings2[:, 1],\n",
    "        z=reduced_embeddings2[:, 2],\n",
    "        mode='markers',\n",
    "        marker=dict(color='red', size=8),  # Use a different color for this set\n",
    "        name=name2\n",
    "    )\n",
    "\n",
    "    # Aggiungere le legende\n",
    "    fig.update_layout(legend=dict(yanchor=\"top\", y=0.99, xanchor=\"left\", x=0.01))\n",
    "\n",
    "    # Mostrare il plot\n",
    "    fig.show()"
   ]
  },
  {
   "cell_type": "code",
   "execution_count": 83,
   "metadata": {},
   "outputs": [
    {
     "data": {
      "application/vnd.plotly.v1+json": {
       "config": {
        "plotlyServerURL": "https://plot.ly"
       },
       "data": [
        {
         "marker": {
          "color": "blue",
          "size": 8
         },
         "mode": "markers",
         "name": "Our Group",
         "type": "scatter3d",
         "x": [
          -0.3187341094017029,
          -0.3723650276660919,
          -0.35738614201545715,
          -0.30606794357299805,
          -0.05311768501996994,
          0.2202892005443573,
          -0.1816290318965912,
          -0.11694011837244034,
          -0.020888054743409157,
          -0.2373068928718567,
          -0.11421088129281998,
          -0.06405829638242722,
          -0.08968188613653183,
          -0.3589901328086853,
          -0.11490710079669952,
          -0.1205003559589386,
          0.052070096135139465,
          0.03663250431418419,
          0.1620761901140213,
          0.05352760851383209,
          0.06853815913200378,
          0.023766327649354935,
          -0.11265216022729874,
          0.39061179757118225,
          0.3949168026447296,
          0.21091608703136444,
          0.2319529950618744,
          -0.16577306389808655,
          -0.0034732213243842125,
          -0.2502092123031616,
          -0.11895249038934708,
          -0.2609214186668396,
          0.4646817743778229,
          -0.012854361906647682,
          0.20278975367546082,
          -0.14083486795425415,
          0.011733189225196838,
          -0.23717841506004333,
          -0.13242729008197784,
          0.056907277554273605,
          0.2048083394765854,
          0.1124526709318161,
          0.32588711380958557,
          -0.10100184381008148,
          0.27415937185287476,
          -0.18998420238494873,
          0.20096923410892487,
          -0.02695964090526104,
          0.09724325686693192,
          0.008934062905609608,
          -0.14145439863204956,
          -0.12616287171840668,
          0.22683654725551605,
          0.26777559518814087,
          0.24128039181232452,
          -0.176961749792099,
          0.21668587625026703,
          -0.15316443145275116,
          -0.015311638824641705,
          0.12487746775150299,
          0.23692399263381958,
          0.222028449177742,
          0.11762979626655579,
          -0.3680438995361328,
          -0.17309938371181488,
          -0.09218089282512665,
          -0.1599196493625641,
          -0.3826638460159302,
          -0.23046039044857025,
          -0.19722965359687805,
          -0.1939953714609146,
          -0.09711427986621857,
          -0.21793214976787567,
          0.0441136360168457,
          0.210693821310997,
          0.2838974595069885,
          0.26634037494659424,
          0.14138804376125336,
          0.09216398745775223,
          0.06596869230270386,
          0.11297032237052917,
          0.08352192491292953,
          -0.3230831027030945,
          -0.3230831027030945,
          0.20792068541049957,
          0.1948963850736618,
          0.08048287034034729,
          0.09473401308059692,
          0.365780234336853,
          -0.25526872277259827,
          0.4480918049812317,
          0.23057647049427032,
          -0.03038460575044155,
          0.14734989404678345,
          0.08744300901889801,
          0.03312373906373978,
          -0.1697251945734024,
          -0.2611638009548187,
          -0.007063211407512426,
          0.024113284423947334
         ],
         "y": [
          0.006440265104174614,
          0.024416152387857437,
          0.020440993830561638,
          0.007883763872087002,
          -0.057302989065647125,
          -0.07675021141767502,
          0.03440447524189949,
          -0.017030388116836548,
          -0.0555611252784729,
          -0.03618199750781059,
          0.030081041157245636,
          -0.024675430729985237,
          -0.008978482335805893,
          0.04528120905160904,
          0.03790799155831337,
          -0.0025313878431916237,
          -0.0005974875530228019,
          -0.1333213746547699,
          -0.09392720460891724,
          -0.08755774050951004,
          -0.09192629158496857,
          -0.055676769465208054,
          -0.06950822472572327,
          0.17866531014442444,
          0.18773692846298218,
          -0.09858855605125427,
          0.06074537709355354,
          -0.05619117245078087,
          0.20704969763755798,
          0.16963544487953186,
          -0.026829857379198074,
          -0.025550784543156624,
          0.10667932778596878,
          -0.13955208659172058,
          -0.06671339273452759,
          -0.054545506834983826,
          -0.073395736515522,
          -0.00220562145113945,
          -0.06777340918779373,
          0.04136912152171135,
          -0.16757217049598694,
          0.0049135214649140835,
          -0.04270314797759056,
          -0.09634274989366531,
          -0.059919167309999466,
          0.21571241319179535,
          -0.07760307937860489,
          0.3714704215526581,
          0.03959698602557182,
          0.30312836170196533,
          0.026408379897475243,
          0.03689918294548988,
          0.39965981245040894,
          0.21847836673259735,
          0.40418240427970886,
          -0.0800711065530777,
          -0.15548057854175568,
          -0.04399995133280754,
          0.18313689529895782,
          0.0017649229848757386,
          0.16206201910972595,
          -0.12948285043239594,
          -0.012191716581583023,
          0.0129986722022295,
          -0.055723682045936584,
          -0.09555122256278992,
          -0.03972120210528374,
          0.010652239434421062,
          -0.027941720560193062,
          -0.026574503630399704,
          -0.04214988648891449,
          0.09742001444101334,
          0.2010423094034195,
          -0.0005453175399452448,
          -0.13417619466781616,
          -0.1074625551700592,
          -0.11703638732433319,
          -0.10591105371713638,
          -0.07377312332391739,
          -0.10994303971529007,
          -0.11998546123504639,
          -0.11053240299224854,
          0.019126515835523605,
          0.019126515835523605,
          -0.06614302843809128,
          -0.12874934077262878,
          0.0012304355623200536,
          -0.03328109160065651,
          0.09929214417934418,
          -0.012262583710253239,
          -0.061450522392988205,
          -0.08805321156978607,
          -0.052390169352293015,
          -0.0048836772330105305,
          -0.04663606360554695,
          -0.03823310509324074,
          -0.05384628847241402,
          -0.022936508059501648,
          0.05994521453976631,
          0.017148563638329506
         ],
         "z": [
          0.11038432270288467,
          0.08681610226631165,
          0.09870519489049911,
          0.05244167149066925,
          0.08554118126630783,
          0.07458065450191498,
          0.16718696057796478,
          0.023311642929911613,
          -0.027778027579188347,
          -0.05236433073878288,
          0.06554281711578369,
          0.14475901424884796,
          0.07761622965335846,
          0.07394426316022873,
          -0.04435117170214653,
          0.020875295624136925,
          0.18007820844650269,
          0.006974846124649048,
          -0.03443562239408493,
          -0.11723223328590393,
          -0.024599600583314896,
          -0.020281994715332985,
          -0.024341419339179993,
          0.27756282687187195,
          -0.04528263956308365,
          -0.020810851827263832,
          0.17922085523605347,
          -0.05132630094885826,
          -0.17815466225147247,
          -0.009437231346964836,
          -0.09830796718597412,
          -0.039984773844480515,
          0.027869075536727905,
          -0.07412620633840561,
          0.17677073180675507,
          0.007108589634299278,
          0.01031903363764286,
          0.04418935254216194,
          -0.01982809044420719,
          0.014519552700221539,
          -0.049031149595975876,
          -0.05178011953830719,
          -0.09626290202140808,
          0.005964724812656641,
          0.13400454819202423,
          0.011239479295909405,
          -0.09163987636566162,
          -0.07588790357112885,
          -0.10598081350326538,
          -0.12181280553340912,
          -0.1462251991033554,
          -0.09915807098150253,
          -0.06721268594264984,
          -0.07948429882526398,
          -0.06698672473430634,
          -0.039913490414619446,
          -0.021666789427399635,
          -0.055169977247714996,
          -0.1148812547326088,
          -0.056136298924684525,
          -0.0929180458188057,
          -0.03356539085507393,
          -0.12525790929794312,
          0.06467597186565399,
          -0.06835328787565231,
          -0.03498538210988045,
          0.11261560022830963,
          0.04912923276424408,
          -0.04228706285357475,
          0.08482640236616135,
          -0.002156976144760847,
          0.05870902165770531,
          0.006646540481597185,
          -0.031019143760204315,
          -0.07850215584039688,
          -0.05706555396318436,
          0.06329026818275452,
          0.010420397855341434,
          -0.036944907158613205,
          -0.10157793015241623,
          -0.10288076102733612,
          -0.09873677790164948,
          0.0344521626830101,
          0.0344521626830101,
          -0.10672936588525772,
          -0.05170150846242905,
          -0.09638205170631409,
          -0.10496373474597931,
          0.3591518998146057,
          -0.010974245145916939,
          0.17665693163871765,
          0.020900044590234756,
          -0.09144894778728485,
          0.07155326008796692,
          -0.0029058288782835007,
          0.13235917687416077,
          -0.026675080880522728,
          -0.04116114601492882,
          0.2145213782787323,
          0.009179243817925453
         ]
        },
        {
         "marker": {
          "color": "red",
          "size": 8
         },
         "mode": "markers",
         "name": "PoliNetwork Group",
         "type": "scatter3d",
         "x": [
          0.1599772572517395,
          0.02445981092751026,
          -0.10727385431528091,
          0.22943860292434692,
          -0.19193296134471893,
          -0.10130030661821365,
          -0.020893458276987076,
          0.008389076218008995,
          -0.009361585602164268,
          -0.18742698431015015,
          -0.014436200261116028,
          -0.12216649204492569,
          -0.1524951457977295,
          -0.22917956113815308,
          -0.1982641965150833,
          -0.24776361882686615,
          0.06222783774137497,
          0.16221117973327637,
          -0.05893730744719505,
          -0.22753000259399414,
          0.0909784659743309,
          -0.3512875735759735,
          -0.019240528345108032,
          -0.19339695572853088,
          0.14494743943214417,
          -0.04652785509824753,
          0.1832500398159027,
          -0.20446786284446716,
          -0.11867814511060715,
          -0.07260943204164505,
          -0.13067258894443512,
          -0.22073647379875183,
          0.3215511739253998,
          0.1967719942331314,
          0.27866190671920776,
          -0.11990856379270554,
          -0.20912016928195953,
          0.11789309978485107,
          -0.2145577073097229,
          -0.212490051984787,
          -0.07969233393669128,
          0.0595334991812706,
          0.21851389110088348,
          -0.0315963551402092,
          -0.10434085130691528,
          0.06821992248296738,
          0.0930275171995163,
          0.28709548711776733,
          -0.24913553893566132,
          0.056902896612882614,
          0.10159742087125778,
          0.32414373755455017,
          0.08287636190652847,
          0.23047763109207153,
          0.2652733325958252,
          -0.3730098009109497,
          0.2389674186706543,
          0.0328228734433651,
          0.20477129518985748,
          0.10127276927232742,
          0.06929416954517365,
          0.156135693192482,
          0.2532019317150116,
          -0.061788588762283325,
          0.13022790849208832,
          0.1510671228170395,
          0.4214935004711151,
          0.057910434901714325,
          0.14191047847270966,
          0.10169028490781784,
          -0.12836854159832,
          -0.2727363109588623,
          -0.20729738473892212,
          0.38140326738357544,
          -0.08838119357824326,
          -0.17565609514713287,
          -0.031356800347566605,
          0.3814033567905426,
          0.05356486886739731,
          0.059086594730615616,
          -0.10527897626161575,
          0.2901296615600586,
          -0.28496479988098145,
          0.08877008408308029,
          0.20285992324352264,
          -0.25246164202690125,
          0.20285992324352264,
          0.09993810206651688,
          -0.22297565639019012,
          0.05276476964354515,
          -0.054744038730859756,
          0.12624338269233704,
          0.29808998107910156,
          -0.25860682129859924,
          -0.24341946840286255,
          -0.06251087039709091,
          -0.10732276737689972,
          -0.3049098253250122,
          -0.14406070113182068,
          -0.23902781307697296
         ],
         "y": [
          0.003699540626257658,
          0.05197563394904137,
          0.1976443976163864,
          0.003004449652507901,
          -0.11483433842658997,
          0.1624080389738083,
          0.07349473237991333,
          0.08831243216991425,
          0.20397406816482544,
          -0.11763051897287369,
          0.1213105246424675,
          -0.1555653065443039,
          -0.060319457203149796,
          0.16256321966648102,
          -0.042927712202072144,
          -0.05370189994573593,
          -0.10469166189432144,
          -0.18295666575431824,
          0.09670589864253998,
          -0.06294561922550201,
          -0.006604653783142567,
          -0.04659303277730942,
          0.16251754760742188,
          -0.03806415572762489,
          0.13447506725788116,
          -0.04679027944803238,
          -0.0007661805138923228,
          0.011586736887693405,
          -0.1341959834098816,
          -0.018609320744872093,
          0.027131561189889908,
          -0.10359202325344086,
          0.009478298015892506,
          0.03197499364614487,
          -0.10084692388772964,
          -0.024522218853235245,
          -0.020799394696950912,
          -0.004691738169640303,
          -0.14023658633232117,
          -0.07307997345924377,
          0.00041415923624299467,
          0.05142639949917793,
          -0.0748281329870224,
          0.10412422567605972,
          -0.13501465320587158,
          0.04106897860765457,
          0.113909512758255,
          -0.07363970577716827,
          -0.10699637234210968,
          0.14444933831691742,
          0.0017244659829884768,
          0.013908108696341515,
          0.03695715218782425,
          -0.020297382026910782,
          -0.07025372982025146,
          -0.11982481926679611,
          0.03849431127309799,
          -0.10321095585823059,
          -0.0031165077816694975,
          -0.08526749163866043,
          -0.011369300074875355,
          -0.05187506228685379,
          -0.13614535331726074,
          0.06576798856258392,
          -0.07115240395069122,
          0.05429977923631668,
          -0.0851881206035614,
          -0.09297723323106766,
          -0.04008471220731735,
          0.08057568967342377,
          -0.06219634413719177,
          0.011831278912723064,
          0.2054186910390854,
          -0.061157140880823135,
          0.10158873349428177,
          -0.01615683175623417,
          0.13105744123458862,
          -0.061157144606113434,
          0.14826786518096924,
          0.09457021951675415,
          0.21745426952838898,
          -0.07377104461193085,
          -0.1541776955127716,
          0.20855671167373657,
          -0.1412247121334076,
          0.12085539847612381,
          -0.1412247121334076,
          0.1987941414117813,
          -0.014790249988436699,
          0.13167142868041992,
          0.012897783890366554,
          0.035136137157678604,
          0.0005275472649373114,
          -0.059277310967445374,
          -0.017943324521183968,
          -0.11526630818843842,
          0.0978245660662651,
          -0.10382287204265594,
          -0.048718832433223724,
          0.0012625050731003284
         ],
         "z": [
          -0.054060325026512146,
          0.031161442399024963,
          0.01703324355185032,
          0.006027728319168091,
          -0.02867225371301174,
          0.05651576444506645,
          0.2265738546848297,
          -0.04603125900030136,
          -0.0785449892282486,
          -0.028649449348449707,
          -0.1260022073984146,
          -0.07901442795991898,
          0.008016842417418957,
          -0.0908292755484581,
          0.24667410552501678,
          0.07381410896778107,
          -0.04872031882405281,
          0.12836086750030518,
          0.04726913571357727,
          0.2792443037033081,
          -0.032394081354141235,
          0.10112564265727997,
          0.01743040606379509,
          0.022396953776478767,
          0.03893138840794563,
          0.08907297998666763,
          -0.011643359437584877,
          0.029521027579903603,
          -0.06945174932479858,
          0.03439038246870041,
          -0.0639842227101326,
          -0.04629846289753914,
          0.05547819659113884,
          -0.03216240555047989,
          -0.011023431085050106,
          -0.05792367085814476,
          -0.12493409961462021,
          -0.016289710998535156,
          0.035707537084817886,
          -0.015914587303996086,
          -0.09266462177038193,
          -0.12821519374847412,
          -0.015849415212869644,
          0.08064977079629898,
          -0.019669149070978165,
          -0.04494538903236389,
          -0.09551553428173065,
          -0.03133159503340721,
          -0.08153857290744781,
          -0.029054837301373482,
          -0.025727583095431328,
          0.07403644174337387,
          -0.05604188144207001,
          0.024141060188412666,
          -0.00523378374055028,
          0.00851205550134182,
          -0.024252306669950485,
          -0.09922870248556137,
          -0.05500037595629692,
          -0.09717763960361481,
          -0.025877803564071655,
          -0.017247924581170082,
          0.06418140977621078,
          -0.12901188433170319,
          -0.09239025413990021,
          -0.09093831479549408,
          0.08163005113601685,
          -0.11882772296667099,
          -0.00993015430867672,
          -0.06010511517524719,
          -0.09088115394115448,
          -0.03432120010256767,
          0.07530958205461502,
          0.03535151109099388,
          -0.1032181978225708,
          0.24909287691116333,
          0.08297789096832275,
          0.03535149246454239,
          0.001400269684381783,
          -0.07913657277822495,
          0.11861736327409744,
          -0.04414835572242737,
          -0.022454027086496353,
          0.06578550487756729,
          0.09191586822271347,
          0.005813095718622208,
          0.09191586822271347,
          0.06130991503596306,
          -0.003969761077314615,
          -0.06240876019001007,
          -0.09093980491161346,
          0.06316404789686203,
          0.23837412893772125,
          0.010956557467579842,
          -0.0797518640756607,
          -0.05667007714509964,
          -0.10294166207313538,
          -0.029442066326737404,
          -0.05513880401849747,
          0.2585093379020691
         ]
        }
       ],
       "layout": {
        "legend": {
         "x": 0.01,
         "xanchor": "left",
         "y": 0.99,
         "yanchor": "top"
        },
        "template": {
         "data": {
          "bar": [
           {
            "error_x": {
             "color": "#2a3f5f"
            },
            "error_y": {
             "color": "#2a3f5f"
            },
            "marker": {
             "line": {
              "color": "#E5ECF6",
              "width": 0.5
             },
             "pattern": {
              "fillmode": "overlay",
              "size": 10,
              "solidity": 0.2
             }
            },
            "type": "bar"
           }
          ],
          "barpolar": [
           {
            "marker": {
             "line": {
              "color": "#E5ECF6",
              "width": 0.5
             },
             "pattern": {
              "fillmode": "overlay",
              "size": 10,
              "solidity": 0.2
             }
            },
            "type": "barpolar"
           }
          ],
          "carpet": [
           {
            "aaxis": {
             "endlinecolor": "#2a3f5f",
             "gridcolor": "white",
             "linecolor": "white",
             "minorgridcolor": "white",
             "startlinecolor": "#2a3f5f"
            },
            "baxis": {
             "endlinecolor": "#2a3f5f",
             "gridcolor": "white",
             "linecolor": "white",
             "minorgridcolor": "white",
             "startlinecolor": "#2a3f5f"
            },
            "type": "carpet"
           }
          ],
          "choropleth": [
           {
            "colorbar": {
             "outlinewidth": 0,
             "ticks": ""
            },
            "type": "choropleth"
           }
          ],
          "contour": [
           {
            "colorbar": {
             "outlinewidth": 0,
             "ticks": ""
            },
            "colorscale": [
             [
              0,
              "#0d0887"
             ],
             [
              0.1111111111111111,
              "#46039f"
             ],
             [
              0.2222222222222222,
              "#7201a8"
             ],
             [
              0.3333333333333333,
              "#9c179e"
             ],
             [
              0.4444444444444444,
              "#bd3786"
             ],
             [
              0.5555555555555556,
              "#d8576b"
             ],
             [
              0.6666666666666666,
              "#ed7953"
             ],
             [
              0.7777777777777778,
              "#fb9f3a"
             ],
             [
              0.8888888888888888,
              "#fdca26"
             ],
             [
              1,
              "#f0f921"
             ]
            ],
            "type": "contour"
           }
          ],
          "contourcarpet": [
           {
            "colorbar": {
             "outlinewidth": 0,
             "ticks": ""
            },
            "type": "contourcarpet"
           }
          ],
          "heatmap": [
           {
            "colorbar": {
             "outlinewidth": 0,
             "ticks": ""
            },
            "colorscale": [
             [
              0,
              "#0d0887"
             ],
             [
              0.1111111111111111,
              "#46039f"
             ],
             [
              0.2222222222222222,
              "#7201a8"
             ],
             [
              0.3333333333333333,
              "#9c179e"
             ],
             [
              0.4444444444444444,
              "#bd3786"
             ],
             [
              0.5555555555555556,
              "#d8576b"
             ],
             [
              0.6666666666666666,
              "#ed7953"
             ],
             [
              0.7777777777777778,
              "#fb9f3a"
             ],
             [
              0.8888888888888888,
              "#fdca26"
             ],
             [
              1,
              "#f0f921"
             ]
            ],
            "type": "heatmap"
           }
          ],
          "heatmapgl": [
           {
            "colorbar": {
             "outlinewidth": 0,
             "ticks": ""
            },
            "colorscale": [
             [
              0,
              "#0d0887"
             ],
             [
              0.1111111111111111,
              "#46039f"
             ],
             [
              0.2222222222222222,
              "#7201a8"
             ],
             [
              0.3333333333333333,
              "#9c179e"
             ],
             [
              0.4444444444444444,
              "#bd3786"
             ],
             [
              0.5555555555555556,
              "#d8576b"
             ],
             [
              0.6666666666666666,
              "#ed7953"
             ],
             [
              0.7777777777777778,
              "#fb9f3a"
             ],
             [
              0.8888888888888888,
              "#fdca26"
             ],
             [
              1,
              "#f0f921"
             ]
            ],
            "type": "heatmapgl"
           }
          ],
          "histogram": [
           {
            "marker": {
             "pattern": {
              "fillmode": "overlay",
              "size": 10,
              "solidity": 0.2
             }
            },
            "type": "histogram"
           }
          ],
          "histogram2d": [
           {
            "colorbar": {
             "outlinewidth": 0,
             "ticks": ""
            },
            "colorscale": [
             [
              0,
              "#0d0887"
             ],
             [
              0.1111111111111111,
              "#46039f"
             ],
             [
              0.2222222222222222,
              "#7201a8"
             ],
             [
              0.3333333333333333,
              "#9c179e"
             ],
             [
              0.4444444444444444,
              "#bd3786"
             ],
             [
              0.5555555555555556,
              "#d8576b"
             ],
             [
              0.6666666666666666,
              "#ed7953"
             ],
             [
              0.7777777777777778,
              "#fb9f3a"
             ],
             [
              0.8888888888888888,
              "#fdca26"
             ],
             [
              1,
              "#f0f921"
             ]
            ],
            "type": "histogram2d"
           }
          ],
          "histogram2dcontour": [
           {
            "colorbar": {
             "outlinewidth": 0,
             "ticks": ""
            },
            "colorscale": [
             [
              0,
              "#0d0887"
             ],
             [
              0.1111111111111111,
              "#46039f"
             ],
             [
              0.2222222222222222,
              "#7201a8"
             ],
             [
              0.3333333333333333,
              "#9c179e"
             ],
             [
              0.4444444444444444,
              "#bd3786"
             ],
             [
              0.5555555555555556,
              "#d8576b"
             ],
             [
              0.6666666666666666,
              "#ed7953"
             ],
             [
              0.7777777777777778,
              "#fb9f3a"
             ],
             [
              0.8888888888888888,
              "#fdca26"
             ],
             [
              1,
              "#f0f921"
             ]
            ],
            "type": "histogram2dcontour"
           }
          ],
          "mesh3d": [
           {
            "colorbar": {
             "outlinewidth": 0,
             "ticks": ""
            },
            "type": "mesh3d"
           }
          ],
          "parcoords": [
           {
            "line": {
             "colorbar": {
              "outlinewidth": 0,
              "ticks": ""
             }
            },
            "type": "parcoords"
           }
          ],
          "pie": [
           {
            "automargin": true,
            "type": "pie"
           }
          ],
          "scatter": [
           {
            "fillpattern": {
             "fillmode": "overlay",
             "size": 10,
             "solidity": 0.2
            },
            "type": "scatter"
           }
          ],
          "scatter3d": [
           {
            "line": {
             "colorbar": {
              "outlinewidth": 0,
              "ticks": ""
             }
            },
            "marker": {
             "colorbar": {
              "outlinewidth": 0,
              "ticks": ""
             }
            },
            "type": "scatter3d"
           }
          ],
          "scattercarpet": [
           {
            "marker": {
             "colorbar": {
              "outlinewidth": 0,
              "ticks": ""
             }
            },
            "type": "scattercarpet"
           }
          ],
          "scattergeo": [
           {
            "marker": {
             "colorbar": {
              "outlinewidth": 0,
              "ticks": ""
             }
            },
            "type": "scattergeo"
           }
          ],
          "scattergl": [
           {
            "marker": {
             "colorbar": {
              "outlinewidth": 0,
              "ticks": ""
             }
            },
            "type": "scattergl"
           }
          ],
          "scattermapbox": [
           {
            "marker": {
             "colorbar": {
              "outlinewidth": 0,
              "ticks": ""
             }
            },
            "type": "scattermapbox"
           }
          ],
          "scatterpolar": [
           {
            "marker": {
             "colorbar": {
              "outlinewidth": 0,
              "ticks": ""
             }
            },
            "type": "scatterpolar"
           }
          ],
          "scatterpolargl": [
           {
            "marker": {
             "colorbar": {
              "outlinewidth": 0,
              "ticks": ""
             }
            },
            "type": "scatterpolargl"
           }
          ],
          "scatterternary": [
           {
            "marker": {
             "colorbar": {
              "outlinewidth": 0,
              "ticks": ""
             }
            },
            "type": "scatterternary"
           }
          ],
          "surface": [
           {
            "colorbar": {
             "outlinewidth": 0,
             "ticks": ""
            },
            "colorscale": [
             [
              0,
              "#0d0887"
             ],
             [
              0.1111111111111111,
              "#46039f"
             ],
             [
              0.2222222222222222,
              "#7201a8"
             ],
             [
              0.3333333333333333,
              "#9c179e"
             ],
             [
              0.4444444444444444,
              "#bd3786"
             ],
             [
              0.5555555555555556,
              "#d8576b"
             ],
             [
              0.6666666666666666,
              "#ed7953"
             ],
             [
              0.7777777777777778,
              "#fb9f3a"
             ],
             [
              0.8888888888888888,
              "#fdca26"
             ],
             [
              1,
              "#f0f921"
             ]
            ],
            "type": "surface"
           }
          ],
          "table": [
           {
            "cells": {
             "fill": {
              "color": "#EBF0F8"
             },
             "line": {
              "color": "white"
             }
            },
            "header": {
             "fill": {
              "color": "#C8D4E3"
             },
             "line": {
              "color": "white"
             }
            },
            "type": "table"
           }
          ]
         },
         "layout": {
          "annotationdefaults": {
           "arrowcolor": "#2a3f5f",
           "arrowhead": 0,
           "arrowwidth": 1
          },
          "autotypenumbers": "strict",
          "coloraxis": {
           "colorbar": {
            "outlinewidth": 0,
            "ticks": ""
           }
          },
          "colorscale": {
           "diverging": [
            [
             0,
             "#8e0152"
            ],
            [
             0.1,
             "#c51b7d"
            ],
            [
             0.2,
             "#de77ae"
            ],
            [
             0.3,
             "#f1b6da"
            ],
            [
             0.4,
             "#fde0ef"
            ],
            [
             0.5,
             "#f7f7f7"
            ],
            [
             0.6,
             "#e6f5d0"
            ],
            [
             0.7,
             "#b8e186"
            ],
            [
             0.8,
             "#7fbc41"
            ],
            [
             0.9,
             "#4d9221"
            ],
            [
             1,
             "#276419"
            ]
           ],
           "sequential": [
            [
             0,
             "#0d0887"
            ],
            [
             0.1111111111111111,
             "#46039f"
            ],
            [
             0.2222222222222222,
             "#7201a8"
            ],
            [
             0.3333333333333333,
             "#9c179e"
            ],
            [
             0.4444444444444444,
             "#bd3786"
            ],
            [
             0.5555555555555556,
             "#d8576b"
            ],
            [
             0.6666666666666666,
             "#ed7953"
            ],
            [
             0.7777777777777778,
             "#fb9f3a"
            ],
            [
             0.8888888888888888,
             "#fdca26"
            ],
            [
             1,
             "#f0f921"
            ]
           ],
           "sequentialminus": [
            [
             0,
             "#0d0887"
            ],
            [
             0.1111111111111111,
             "#46039f"
            ],
            [
             0.2222222222222222,
             "#7201a8"
            ],
            [
             0.3333333333333333,
             "#9c179e"
            ],
            [
             0.4444444444444444,
             "#bd3786"
            ],
            [
             0.5555555555555556,
             "#d8576b"
            ],
            [
             0.6666666666666666,
             "#ed7953"
            ],
            [
             0.7777777777777778,
             "#fb9f3a"
            ],
            [
             0.8888888888888888,
             "#fdca26"
            ],
            [
             1,
             "#f0f921"
            ]
           ]
          },
          "colorway": [
           "#636efa",
           "#EF553B",
           "#00cc96",
           "#ab63fa",
           "#FFA15A",
           "#19d3f3",
           "#FF6692",
           "#B6E880",
           "#FF97FF",
           "#FECB52"
          ],
          "font": {
           "color": "#2a3f5f"
          },
          "geo": {
           "bgcolor": "white",
           "lakecolor": "white",
           "landcolor": "#E5ECF6",
           "showlakes": true,
           "showland": true,
           "subunitcolor": "white"
          },
          "hoverlabel": {
           "align": "left"
          },
          "hovermode": "closest",
          "mapbox": {
           "style": "light"
          },
          "paper_bgcolor": "white",
          "plot_bgcolor": "#E5ECF6",
          "polar": {
           "angularaxis": {
            "gridcolor": "white",
            "linecolor": "white",
            "ticks": ""
           },
           "bgcolor": "#E5ECF6",
           "radialaxis": {
            "gridcolor": "white",
            "linecolor": "white",
            "ticks": ""
           }
          },
          "scene": {
           "xaxis": {
            "backgroundcolor": "#E5ECF6",
            "gridcolor": "white",
            "gridwidth": 2,
            "linecolor": "white",
            "showbackground": true,
            "ticks": "",
            "zerolinecolor": "white"
           },
           "yaxis": {
            "backgroundcolor": "#E5ECF6",
            "gridcolor": "white",
            "gridwidth": 2,
            "linecolor": "white",
            "showbackground": true,
            "ticks": "",
            "zerolinecolor": "white"
           },
           "zaxis": {
            "backgroundcolor": "#E5ECF6",
            "gridcolor": "white",
            "gridwidth": 2,
            "linecolor": "white",
            "showbackground": true,
            "ticks": "",
            "zerolinecolor": "white"
           }
          },
          "shapedefaults": {
           "line": {
            "color": "#2a3f5f"
           }
          },
          "ternary": {
           "aaxis": {
            "gridcolor": "white",
            "linecolor": "white",
            "ticks": ""
           },
           "baxis": {
            "gridcolor": "white",
            "linecolor": "white",
            "ticks": ""
           },
           "bgcolor": "#E5ECF6",
           "caxis": {
            "gridcolor": "white",
            "linecolor": "white",
            "ticks": ""
           }
          },
          "title": {
           "x": 0.05
          },
          "xaxis": {
           "automargin": true,
           "gridcolor": "white",
           "linecolor": "white",
           "ticks": "",
           "title": {
            "standoff": 15
           },
           "zerolinecolor": "white",
           "zerolinewidth": 2
          },
          "yaxis": {
           "automargin": true,
           "gridcolor": "white",
           "linecolor": "white",
           "ticks": "",
           "title": {
            "standoff": 15
           },
           "zerolinecolor": "white",
           "zerolinewidth": 2
          }
         }
        }
       }
      }
     },
     "metadata": {},
     "output_type": "display_data"
    }
   ],
   "source": [
    "plot_and_compare_reduced_embeddings_3D(texts, poli_texts_strings, \"en\", \"it\", \"Our Group\", \"PoliNetwork Group\")"
   ]
  },
  {
   "cell_type": "markdown",
   "metadata": {},
   "source": [
    "Doing the same as before using the preprocessed texts"
   ]
  },
  {
   "cell_type": "code",
   "execution_count": 84,
   "metadata": {},
   "outputs": [],
   "source": [
    "preprocessed_texts = [preprocess_message(text, \"english\") for text in texts]\n",
    "poli_preprocessed_texts = [preprocess_message(text, \"italian\") for text in poli_texts_strings]\n"
   ]
  },
  {
   "cell_type": "code",
   "execution_count": 85,
   "metadata": {},
   "outputs": [
    {
     "data": {
      "image/png": "[encoded data removed]",
      "text/plain": [
       "<Figure size 640x480 with 1 Axes>"
      ]
     },
     "metadata": {},
     "output_type": "display_data"
    }
   ],
   "source": [
    "plot_and_compare_reduced_embeddings_2D(preprocessed_texts, poli_preprocessed_texts, \"en\", \"it\")"
   ]
  },
  {
   "cell_type": "code",
   "execution_count": 86,
   "metadata": {},
   "outputs": [
    {
     "data": {
      "application/vnd.plotly.v1+json": {
       "config": {
        "plotlyServerURL": "https://plot.ly"
       },
       "data": [
        {
         "marker": {
          "color": "blue",
          "size": 8
         },
         "mode": "markers",
         "name": "Our Group",
         "type": "scatter3d",
         "x": [
          -0.271982342004776,
          -0.35066354274749756,
          -0.35066354274749756,
          -0.2910282611846924,
          -0.0014738537138327956,
          0.1849185675382614,
          -0.10689609497785568,
          -0.24288053810596466,
          -0.0006753755151294172,
          -0.2583440840244293,
          -0.22251762449741364,
          -0.03690066933631897,
          -0.03749123588204384,
          -0.34074780344963074,
          -0.10124174505472183,
          -0.26582443714141846,
          0.06987451016902924,
          0.04789428785443306,
          0.14538568258285522,
          -0.022974694147706032,
          0.07756534963846207,
          -0.05330697074532509,
          -0.14064790308475494,
          0.3948162794113159,
          0.3917383551597595,
          0.2061057686805725,
          0.2903255224227905,
          -0.11747197061777115,
          -0.06646385043859482,
          -0.20239505171775818,
          -0.028447993099689484,
          -0.3485875427722931,
          0.46130213141441345,
          -0.0234935712069273,
          0.19811485707759857,
          -0.09167356789112091,
          0.10926392674446106,
          -0.2673243582248688,
          -0.11847925931215286,
          0.13635243475437164,
          0.18594223260879517,
          0.09333176165819168,
          0.2772798240184784,
          -0.09291519969701767,
          0.29479116201400757,
          -0.14717891812324524,
          0.22128650546073914,
          0.013599192723631859,
          0.11557068675756454,
          0.04173020273447037,
          -0.14807598292827606,
          -0.18254230916500092,
          0.20789028704166412,
          0.3083672821521759,
          0.21890027821063995,
          -0.16605514287948608,
          0.183907613158226,
          -0.08302667737007141,
          -0.05888792499899864,
          0.10503219813108444,
          0.22047185897827148,
          0.17661705613136292,
          0.13818210363388062,
          -0.3715653419494629,
          -0.1365090161561966,
          -0.04054437205195427,
          -0.18398725986480713,
          -0.3715653419494629,
          -0.23326310515403748,
          -0.1750064194202423,
          -0.22774039208889008,
          -0.04658614099025726,
          -0.16163146495819092,
          0.07317031174898148,
          0.19140855967998505,
          0.23839852213859558,
          0.27558788657188416,
          0.1535312831401825,
          0.05880073457956314,
          0.06003059446811676,
          0.049276746809482574,
          -0.07406717538833618,
          -0.3520013988018036,
          -0.3520013988018036,
          0.2009357064962387,
          0.18129006028175354,
          0.08656356483697891,
          0.11674211174249649,
          0.2931244969367981,
          -0.22331124544143677,
          0.4375229775905609,
          0.26691049337387085,
          -0.053473010659217834,
          0.22272850573062897,
          0.08159501105546951,
          0.059659190475940704,
          -0.12947626411914825,
          -0.24854592978954315,
          0.022913264110684395,
          0.033807456493377686
         ],
         "y": [
          -0.001842450350522995,
          0.01416090875864029,
          0.014160939492285252,
          -0.015625640749931335,
          -0.08072564005851746,
          -0.09799091517925262,
          0.019984692335128784,
          -0.022458823397755623,
          -0.051471222192049026,
          -0.009337757714092731,
          -0.03023597225546837,
          0.016542676836252213,
          -0.03316042572259903,
          0.0376243032515049,
          0.04940072074532509,
          0.001049787038937211,
          -0.021054569631814957,
          -0.11786576360464096,
          -0.08253879100084305,
          -0.07692576944828033,
          -0.10614404082298279,
          0.03727070987224579,
          -0.0642666295170784,
          0.15099188685417175,
          0.09439389407634735,
          -0.08799603581428528,
          0.09246467053890228,
          -0.07685248553752899,
          0.20371609926223755,
          0.18496756255626678,
          -0.048824112862348557,
          -0.004697518423199654,
          0.045215949416160583,
          -0.1532643586397171,
          -0.08193688839673996,
          -0.06756018102169037,
          -0.035110436379909515,
          -0.008496208116412163,
          -0.08169686794281006,
          -0.02973252162337303,
          -0.14964623749256134,
          0.04194055497646332,
          -0.06996604055166245,
          -0.0870729610323906,
          -0.03979330137372017,
          0.24115508794784546,
          -0.0650046169757843,
          0.39109811186790466,
          0.036475662142038345,
          0.2766144573688507,
          0.05147697031497955,
          0.03985026106238365,
          0.3870370388031006,
          0.16144409775733948,
          0.4015856087207794,
          -0.10398595780134201,
          -0.13753704726696014,
          -0.001676986226812005,
          0.051939208060503006,
          -0.015738748013973236,
          0.13366806507110596,
          -0.13210120797157288,
          -0.00683089904487133,
          -0.004519942682236433,
          -0.08146212995052338,
          -0.12744858860969543,
          0.007712349761277437,
          -0.004519942682236433,
          -0.0023012496531009674,
          -0.007667601574212313,
          -0.014036476612091064,
          0.12347198277711868,
          0.21187642216682434,
          0.023912476375699043,
          -0.1197102889418602,
          -0.11959768086671829,
          -0.11935105919837952,
          -0.11017421633005142,
          -0.05680592358112335,
          -0.11780817061662674,
          -0.12050676345825195,
          -0.037437595427036285,
          0.025200383737683296,
          0.025200383737683296,
          -0.006199566647410393,
          -0.1448775976896286,
          0.004413851071149111,
          0.016588464379310608,
          0.13548871874809265,
          -0.03285631164908409,
          -0.06107953190803528,
          -0.09489810466766357,
          -0.0718272402882576,
          0.04443683102726936,
          -0.04731786251068115,
          -0.0035653887316584587,
          -0.03053816594183445,
          -0.016311610117554665,
          0.0392254963517189,
          0.016228221356868744
         ],
         "z": [
          0.046350084245204926,
          0.04873928055167198,
          0.048739243298769,
          -0.017948197200894356,
          0.10012183338403702,
          0.010650139302015305,
          0.15733231604099274,
          -0.03329699486494064,
          0.05120452865958214,
          -0.014006542973220348,
          -0.029258621856570244,
          0.20173482596874237,
          0.1204356774687767,
          0.042764417827129364,
          -0.06368201971054077,
          0.03466431424021721,
          0.12462709844112396,
          -0.028939327225089073,
          0.05825530365109444,
          -0.10879255831241608,
          -0.06711872667074203,
          0.09562864154577255,
          -0.007945717312395573,
          0.21768556535243988,
          -0.1026933491230011,
          -0.0657869353890419,
          0.1411132514476776,
          -0.0781315267086029,
          -0.14130142331123352,
          -0.042247992008924484,
          -0.061769627034664154,
          -0.010475040413439274,
          -0.020465942099690437,
          -0.10255104303359985,
          0.14213643968105316,
          -0.016545994207262993,
          0.2642510235309601,
          0.02897746115922928,
          -0.027653349563479424,
          0.0026329339016228914,
          -0.10164808481931686,
          0.0957835242152214,
          -0.06313946098089218,
          -0.03980882465839386,
          0.1379346400499344,
          -0.03624191880226135,
          -0.08373722434043884,
          -0.06518951803445816,
          -0.10272505134344101,
          -0.07451245188713074,
          -0.12673567235469818,
          -0.07736007869243622,
          -0.11605195701122284,
          -0.029433690011501312,
          -0.1114247664809227,
          -0.07008253037929535,
          -0.0382499061524868,
          0.031199071556329727,
          -0.05355124920606613,
          -0.11301382631063461,
          -0.09923835843801498,
          -0.08139997720718384,
          -0.0743413046002388,
          0.017148248851299286,
          -0.119478739798069,
          -0.07350920885801315,
          0.18958120048046112,
          0.017148248851299286,
          -0.056950412690639496,
          0.024697547778487206,
          0.11417046934366226,
          0.017266206443309784,
          -0.03170290216803551,
          -0.03373631089925766,
          -0.10862702131271362,
          -0.05195234715938568,
          0.06907066702842712,
          -0.06614592671394348,
          -0.01741749607026577,
          -0.0959024652838707,
          -0.0514652244746685,
          0.01598867028951645,
          0.0705564096570015,
          0.0705564096570015,
          -0.04164007306098938,
          -0.09157805144786835,
          -0.06140657514333725,
          -0.03185855597257614,
          0.18428616225719452,
          -0.0244480911642313,
          0.08173473924398422,
          -0.0117659205570817,
          -0.05856841802597046,
          0.1908775120973587,
          -0.0034138537012040615,
          0.1757621467113495,
          0.024787690490484238,
          -0.032218266278505325,
          0.1605270802974701,
          0.0351620614528656
         ]
        },
        {
         "marker": {
          "color": "red",
          "size": 8
         },
         "mode": "markers",
         "name": "PoliNetwork Group",
         "type": "scatter3d",
         "x": [
          0.24667686223983765,
          -0.0033179877791553736,
          -0.1272619515657425,
          0.1956300288438797,
          -0.225282222032547,
          -0.08942142128944397,
          -0.0936051607131958,
          0.05694492906332016,
          -0.030600277706980705,
          -0.2085520476102829,
          -0.015624879859387875,
          -0.13955610990524292,
          -0.1617089956998825,
          -0.27912548184394836,
          -0.31884825229644775,
          -0.22435522079467773,
          0.09193297475576401,
          0.24697154760360718,
          -0.1605430245399475,
          -0.2313525527715683,
          0.07191653549671173,
          -0.36324235796928406,
          -0.0608581081032753,
          -0.2192866951227188,
          0.14224299788475037,
          -0.03908272832632065,
          0.2006492018699646,
          -0.22556208074092865,
          -0.09936538338661194,
          -0.0855083242058754,
          -0.10602835565805435,
          -0.21588949859142303,
          0.2923245131969452,
          0.17694012820720673,
          0.24223613739013672,
          -0.10580072551965714,
          -0.2239149957895279,
          0.10756227374076843,
          -0.23365217447280884,
          -0.21961432695388794,
          -0.07358592748641968,
          0.06293119490146637,
          0.1905958205461502,
          0.025913432240486145,
          -0.09063946455717087,
          0.044519610702991486,
          0.13350215554237366,
          0.312105655670166,
          -0.21038180589675903,
          0.04680553823709488,
          0.08324845135211945,
          0.29155513644218445,
          0.12220189720392227,
          0.1744082272052765,
          0.25946542620658875,
          -0.3297930061817169,
          0.22818349301815033,
          0.017834238708019257,
          0.18783535063266754,
          0.06509952992200851,
          0.04790767654776573,
          0.1748984009027481,
          0.29119786620140076,
          -0.061593715101480484,
          0.197561115026474,
          0.10629687458276749,
          0.40182650089263916,
          0.0794793963432312,
          0.09153170883655548,
          0.13743865489959717,
          -0.10962265729904175,
          -0.26427122950553894,
          -0.1940334439277649,
          0.3764851689338684,
          -0.08986029028892517,
          -0.06035282090306282,
          -0.05137673020362854,
          0.3764851689338684,
          0.08014331758022308,
          0.06516707688570023,
          -0.13517296314239502,
          0.30574122071266174,
          -0.23189103603363037,
          0.07515356689691544,
          0.29026174545288086,
          -0.2209717184305191,
          0.29026174545288086,
          0.09520953893661499,
          -0.22886869311332703,
          0.028949687257409096,
          -0.015333992429077625,
          0.07336936891078949,
          0.24228952825069427,
          -0.24067185819149017,
          -0.17751654982566833,
          -0.028808537870645523,
          -0.11923128366470337,
          -0.3084266483783722,
          -0.1650468409061432,
          -0.23147611320018768
         ],
         "y": [
          -0.015569538809359074,
          0.06860953569412231,
          0.11121399700641632,
          0.031391918659210205,
          -0.10658110678195953,
          0.07867570966482162,
          0.22469642758369446,
          0.06717647612094879,
          0.05005442723631859,
          -0.10181113332509995,
          -0.054639630019664764,
          -0.05523042753338814,
          -0.005378641653805971,
          0.0131336385384202,
          0.2361682951450348,
          -0.027494944632053375,
          -0.04031073674559593,
          -0.029712975025177002,
          0.27689459919929504,
          0.16225215792655945,
          -0.04048731550574303,
          0.08779342472553253,
          0.07233085483312607,
          -0.02515372633934021,
          0.18728835880756378,
          0.08267683535814285,
          0.06214522197842598,
          0.024106137454509735,
          -0.10481282323598862,
          0.04444446787238121,
          -0.05192197486758232,
          -0.11258300393819809,
          0.0885399729013443,
          -0.04277932271361351,
          -0.09168285131454468,
          0.008077820762991905,
          -0.1670168936252594,
          -0.02014387585222721,
          -0.027160434052348137,
          -0.05424676835536957,
          -0.1535780429840088,
          -0.10679277032613754,
          0.039482757449150085,
          0.13465406000614166,
          -0.11803661286830902,
          0.05205003172159195,
          -0.009261826053261757,
          -0.04961935058236122,
          -0.1229284405708313,
          0.04163133352994919,
          -0.006794397719204426,
          0.09718599170446396,
          -0.004298759624361992,
          0.19766730070114136,
          -0.0794728547334671,
          -0.006277426145970821,
          0.035614386200904846,
          -0.13636662065982819,
          -0.03608563914895058,
          -0.1358514279127121,
          -0.03833397850394249,
          -0.059756506234407425,
          -0.08959662914276123,
          -0.1128465086221695,
          -0.11491219699382782,
          -0.030764007940888405,
          0.0005891915643587708,
          -0.1548210084438324,
          -0.05042526498436928,
          -0.12246276438236237,
          -0.1050201952457428,
          -0.04820098727941513,
          0.1624942272901535,
          -0.028044579550623894,
          -0.09808120876550674,
          -0.006923058070242405,
          0.17590278387069702,
          -0.028044579550623894,
          0.03434806689620018,
          -0.008824164047837257,
          0.16383345425128937,
          -0.06649757921695709,
          -0.1179489940404892,
          0.19511254131793976,
          -0.02607361599802971,
          -0.02269321121275425,
          -0.02607361599802971,
          0.16211678087711334,
          -0.016085200011730194,
          0.02608567103743553,
          0.031789593398571014,
          0.15801334381103516,
          0.17973542213439941,
          -0.03629432991147041,
          -0.09316292405128479,
          -0.11876552551984787,
          -0.05526256188750267,
          -0.03968048840761185,
          -0.0414491705596447,
          0.03114982694387436
         ],
         "z": [
          0.0013866464141756296,
          -0.08279377967119217,
          -0.03618216887116432,
          0.008781911805272102,
          0.04907096177339554,
          -0.062450479716062546,
          0.10149485617876053,
          -0.1120179146528244,
          -0.139674574136734,
          0.067087322473526,
          -0.15649037063121796,
          0.047238562256097794,
          0.05313728377223015,
          -0.026780487969517708,
          0.18357861042022705,
          0.04760348051786423,
          0.02961280755698681,
          -0.03800264745950699,
          0.06458570063114166,
          0.10263688117265701,
          -0.07869842648506165,
          0.0763961672782898,
          -0.0935686007142067,
          0.10212215781211853,
          -0.029136482626199722,
          -0.0074030752293765545,
          -0.05909818410873413,
          0.025963889434933662,
          0.06146010756492615,
          -0.036606937646865845,
          0.04201378673315048,
          0.04080331698060036,
          -0.015073276124894619,
          -0.04048572853207588,
          0.09466643631458282,
          -0.060075368732213974,
          -0.04674456641077995,
          -0.012320405803620815,
          0.06381400674581528,
          0.11289931833744049,
          0.023543819785118103,
          -0.08433376252651215,
          -0.0374717116355896,
          -0.09593252837657928,
          0.03840641304850578,
          -0.1151910275220871,
          -0.059284452348947525,
          0.08736436069011688,
          -0.019715936854481697,
          -0.03627119958400726,
          -0.04894863814115524,
          0.015200992114841938,
          -0.09754372388124466,
          0.06620194017887115,
          0.044907499104738235,
          0.010762383230030537,
          -0.07001283764839172,
          -0.03821701556444168,
          -0.06428401172161102,
          -0.01649373210966587,
          -0.03737521916627884,
          -0.012814069166779518,
          0.11309367418289185,
          -0.07598031312227249,
          -0.03078545071184635,
          0.021474217996001244,
          0.24178291857242584,
          -0.02062159590423107,
          -0.03948785737156868,
          0.02708836831152439,
          -0.0390460342168808,
          -0.0551704503595829,
          -0.014468935318291187,
          0.16248631477355957,
          0.0216117762029171,
          -0.0016302332514896989,
          -0.10172677785158157,
          0.16248631477355957,
          -0.019349556416273117,
          -0.03131852298974991,
          -0.018093444406986237,
          0.06896188110113144,
          0.04758836328983307,
          -0.08045298606157303,
          -0.01681957021355629,
          0.042780231684446335,
          -0.01681957021355629,
          -0.08431167900562286,
          0.018162177875638008,
          -0.08391370624303818,
          -0.14234207570552826,
          -0.028001347556710243,
          0.21587048470973969,
          0.04702224209904671,
          -0.015732895582914352,
          -0.02101733162999153,
          -0.022098388522863388,
          0.04154006764292717,
          -0.051440175622701645,
          0.08343209326267242
         ]
        }
       ],
       "layout": {
        "legend": {
         "x": 0.01,
         "xanchor": "left",
         "y": 0.99,
         "yanchor": "top"
        },
        "template": {
         "data": {
          "bar": [
           {
            "error_x": {
             "color": "#2a3f5f"
            },
            "error_y": {
             "color": "#2a3f5f"
            },
            "marker": {
             "line": {
              "color": "#E5ECF6",
              "width": 0.5
             },
             "pattern": {
              "fillmode": "overlay",
              "size": 10,
              "solidity": 0.2
             }
            },
            "type": "bar"
           }
          ],
          "barpolar": [
           {
            "marker": {
             "line": {
              "color": "#E5ECF6",
              "width": 0.5
             },
             "pattern": {
              "fillmode": "overlay",
              "size": 10,
              "solidity": 0.2
             }
            },
            "type": "barpolar"
           }
          ],
          "carpet": [
           {
            "aaxis": {
             "endlinecolor": "#2a3f5f",
             "gridcolor": "white",
             "linecolor": "white",
             "minorgridcolor": "white",
             "startlinecolor": "#2a3f5f"
            },
            "baxis": {
             "endlinecolor": "#2a3f5f",
             "gridcolor": "white",
             "linecolor": "white",
             "minorgridcolor": "white",
             "startlinecolor": "#2a3f5f"
            },
            "type": "carpet"
           }
          ],
          "choropleth": [
           {
            "colorbar": {
             "outlinewidth": 0,
             "ticks": ""
            },
            "type": "choropleth"
           }
          ],
          "contour": [
           {
            "colorbar": {
             "outlinewidth": 0,
             "ticks": ""
            },
            "colorscale": [
             [
              0,
              "#0d0887"
             ],
             [
              0.1111111111111111,
              "#46039f"
             ],
             [
              0.2222222222222222,
              "#7201a8"
             ],
             [
              0.3333333333333333,
              "#9c179e"
             ],
             [
              0.4444444444444444,
              "#bd3786"
             ],
             [
              0.5555555555555556,
              "#d8576b"
             ],
             [
              0.6666666666666666,
              "#ed7953"
             ],
             [
              0.7777777777777778,
              "#fb9f3a"
             ],
             [
              0.8888888888888888,
              "#fdca26"
             ],
             [
              1,
              "#f0f921"
             ]
            ],
            "type": "contour"
           }
          ],
          "contourcarpet": [
           {
            "colorbar": {
             "outlinewidth": 0,
             "ticks": ""
            },
            "type": "contourcarpet"
           }
          ],
          "heatmap": [
           {
            "colorbar": {
             "outlinewidth": 0,
             "ticks": ""
            },
            "colorscale": [
             [
              0,
              "#0d0887"
             ],
             [
              0.1111111111111111,
              "#46039f"
             ],
             [
              0.2222222222222222,
              "#7201a8"
             ],
             [
              0.3333333333333333,
              "#9c179e"
             ],
             [
              0.4444444444444444,
              "#bd3786"
             ],
             [
              0.5555555555555556,
              "#d8576b"
             ],
             [
              0.6666666666666666,
              "#ed7953"
             ],
             [
              0.7777777777777778,
              "#fb9f3a"
             ],
             [
              0.8888888888888888,
              "#fdca26"
             ],
             [
              1,
              "#f0f921"
             ]
            ],
            "type": "heatmap"
           }
          ],
          "heatmapgl": [
           {
            "colorbar": {
             "outlinewidth": 0,
             "ticks": ""
            },
            "colorscale": [
             [
              0,
              "#0d0887"
             ],
             [
              0.1111111111111111,
              "#46039f"
             ],
             [
              0.2222222222222222,
              "#7201a8"
             ],
             [
              0.3333333333333333,
              "#9c179e"
             ],
             [
              0.4444444444444444,
              "#bd3786"
             ],
             [
              0.5555555555555556,
              "#d8576b"
             ],
             [
              0.6666666666666666,
              "#ed7953"
             ],
             [
              0.7777777777777778,
              "#fb9f3a"
             ],
             [
              0.8888888888888888,
              "#fdca26"
             ],
             [
              1,
              "#f0f921"
             ]
            ],
            "type": "heatmapgl"
           }
          ],
          "histogram": [
           {
            "marker": {
             "pattern": {
              "fillmode": "overlay",
              "size": 10,
              "solidity": 0.2
             }
            },
            "type": "histogram"
           }
          ],
          "histogram2d": [
           {
            "colorbar": {
             "outlinewidth": 0,
             "ticks": ""
            },
            "colorscale": [
             [
              0,
              "#0d0887"
             ],
             [
              0.1111111111111111,
              "#46039f"
             ],
             [
              0.2222222222222222,
              "#7201a8"
             ],
             [
              0.3333333333333333,
              "#9c179e"
             ],
             [
              0.4444444444444444,
              "#bd3786"
             ],
             [
              0.5555555555555556,
              "#d8576b"
             ],
             [
              0.6666666666666666,
              "#ed7953"
             ],
             [
              0.7777777777777778,
              "#fb9f3a"
             ],
             [
              0.8888888888888888,
              "#fdca26"
             ],
             [
              1,
              "#f0f921"
             ]
            ],
            "type": "histogram2d"
           }
          ],
          "histogram2dcontour": [
           {
            "colorbar": {
             "outlinewidth": 0,
             "ticks": ""
            },
            "colorscale": [
             [
              0,
              "#0d0887"
             ],
             [
              0.1111111111111111,
              "#46039f"
             ],
             [
              0.2222222222222222,
              "#7201a8"
             ],
             [
              0.3333333333333333,
              "#9c179e"
             ],
             [
              0.4444444444444444,
              "#bd3786"
             ],
             [
              0.5555555555555556,
              "#d8576b"
             ],
             [
              0.6666666666666666,
              "#ed7953"
             ],
             [
              0.7777777777777778,
              "#fb9f3a"
             ],
             [
              0.8888888888888888,
              "#fdca26"
             ],
             [
              1,
              "#f0f921"
             ]
            ],
            "type": "histogram2dcontour"
           }
          ],
          "mesh3d": [
           {
            "colorbar": {
             "outlinewidth": 0,
             "ticks": ""
            },
            "type": "mesh3d"
           }
          ],
          "parcoords": [
           {
            "line": {
             "colorbar": {
              "outlinewidth": 0,
              "ticks": ""
             }
            },
            "type": "parcoords"
           }
          ],
          "pie": [
           {
            "automargin": true,
            "type": "pie"
           }
          ],
          "scatter": [
           {
            "fillpattern": {
             "fillmode": "overlay",
             "size": 10,
             "solidity": 0.2
            },
            "type": "scatter"
           }
          ],
          "scatter3d": [
           {
            "line": {
             "colorbar": {
              "outlinewidth": 0,
              "ticks": ""
             }
            },
            "marker": {
             "colorbar": {
              "outlinewidth": 0,
              "ticks": ""
             }
            },
            "type": "scatter3d"
           }
          ],
          "scattercarpet": [
           {
            "marker": {
             "colorbar": {
              "outlinewidth": 0,
              "ticks": ""
             }
            },
            "type": "scattercarpet"
           }
          ],
          "scattergeo": [
           {
            "marker": {
             "colorbar": {
              "outlinewidth": 0,
              "ticks": ""
             }
            },
            "type": "scattergeo"
           }
          ],
          "scattergl": [
           {
            "marker": {
             "colorbar": {
              "outlinewidth": 0,
              "ticks": ""
             }
            },
            "type": "scattergl"
           }
          ],
          "scattermapbox": [
           {
            "marker": {
             "colorbar": {
              "outlinewidth": 0,
              "ticks": ""
             }
            },
            "type": "scattermapbox"
           }
          ],
          "scatterpolar": [
           {
            "marker": {
             "colorbar": {
              "outlinewidth": 0,
              "ticks": ""
             }
            },
            "type": "scatterpolar"
           }
          ],
          "scatterpolargl": [
           {
            "marker": {
             "colorbar": {
              "outlinewidth": 0,
              "ticks": ""
             }
            },
            "type": "scatterpolargl"
           }
          ],
          "scatterternary": [
           {
            "marker": {
             "colorbar": {
              "outlinewidth": 0,
              "ticks": ""
             }
            },
            "type": "scatterternary"
           }
          ],
          "surface": [
           {
            "colorbar": {
             "outlinewidth": 0,
             "ticks": ""
            },
            "colorscale": [
             [
              0,
              "#0d0887"
             ],
             [
              0.1111111111111111,
              "#46039f"
             ],
             [
              0.2222222222222222,
              "#7201a8"
             ],
             [
              0.3333333333333333,
              "#9c179e"
             ],
             [
              0.4444444444444444,
              "#bd3786"
             ],
             [
              0.5555555555555556,
              "#d8576b"
             ],
             [
              0.6666666666666666,
              "#ed7953"
             ],
             [
              0.7777777777777778,
              "#fb9f3a"
             ],
             [
              0.8888888888888888,
              "#fdca26"
             ],
             [
              1,
              "#f0f921"
             ]
            ],
            "type": "surface"
           }
          ],
          "table": [
           {
            "cells": {
             "fill": {
              "color": "#EBF0F8"
             },
             "line": {
              "color": "white"
             }
            },
            "header": {
             "fill": {
              "color": "#C8D4E3"
             },
             "line": {
              "color": "white"
             }
            },
            "type": "table"
           }
          ]
         },
         "layout": {
          "annotationdefaults": {
           "arrowcolor": "#2a3f5f",
           "arrowhead": 0,
           "arrowwidth": 1
          },
          "autotypenumbers": "strict",
          "coloraxis": {
           "colorbar": {
            "outlinewidth": 0,
            "ticks": ""
           }
          },
          "colorscale": {
           "diverging": [
            [
             0,
             "#8e0152"
            ],
            [
             0.1,
             "#c51b7d"
            ],
            [
             0.2,
             "#de77ae"
            ],
            [
             0.3,
             "#f1b6da"
            ],
            [
             0.4,
             "#fde0ef"
            ],
            [
             0.5,
             "#f7f7f7"
            ],
            [
             0.6,
             "#e6f5d0"
            ],
            [
             0.7,
             "#b8e186"
            ],
            [
             0.8,
             "#7fbc41"
            ],
            [
             0.9,
             "#4d9221"
            ],
            [
             1,
             "#276419"
            ]
           ],
           "sequential": [
            [
             0,
             "#0d0887"
            ],
            [
             0.1111111111111111,
             "#46039f"
            ],
            [
             0.2222222222222222,
             "#7201a8"
            ],
            [
             0.3333333333333333,
             "#9c179e"
            ],
            [
             0.4444444444444444,
             "#bd3786"
            ],
            [
             0.5555555555555556,
             "#d8576b"
            ],
            [
             0.6666666666666666,
             "#ed7953"
            ],
            [
             0.7777777777777778,
             "#fb9f3a"
            ],
            [
             0.8888888888888888,
             "#fdca26"
            ],
            [
             1,
             "#f0f921"
            ]
           ],
           "sequentialminus": [
            [
             0,
             "#0d0887"
            ],
            [
             0.1111111111111111,
             "#46039f"
            ],
            [
             0.2222222222222222,
             "#7201a8"
            ],
            [
             0.3333333333333333,
             "#9c179e"
            ],
            [
             0.4444444444444444,
             "#bd3786"
            ],
            [
             0.5555555555555556,
             "#d8576b"
            ],
            [
             0.6666666666666666,
             "#ed7953"
            ],
            [
             0.7777777777777778,
             "#fb9f3a"
            ],
            [
             0.8888888888888888,
             "#fdca26"
            ],
            [
             1,
             "#f0f921"
            ]
           ]
          },
          "colorway": [
           "#636efa",
           "#EF553B",
           "#00cc96",
           "#ab63fa",
           "#FFA15A",
           "#19d3f3",
           "#FF6692",
           "#B6E880",
           "#FF97FF",
           "#FECB52"
          ],
          "font": {
           "color": "#2a3f5f"
          },
          "geo": {
           "bgcolor": "white",
           "lakecolor": "white",
           "landcolor": "#E5ECF6",
           "showlakes": true,
           "showland": true,
           "subunitcolor": "white"
          },
          "hoverlabel": {
           "align": "left"
          },
          "hovermode": "closest",
          "mapbox": {
           "style": "light"
          },
          "paper_bgcolor": "white",
          "plot_bgcolor": "#E5ECF6",
          "polar": {
           "angularaxis": {
            "gridcolor": "white",
            "linecolor": "white",
            "ticks": ""
           },
           "bgcolor": "#E5ECF6",
           "radialaxis": {
            "gridcolor": "white",
            "linecolor": "white",
            "ticks": ""
           }
          },
          "scene": {
           "xaxis": {
            "backgroundcolor": "#E5ECF6",
            "gridcolor": "white",
            "gridwidth": 2,
            "linecolor": "white",
            "showbackground": true,
            "ticks": "",
            "zerolinecolor": "white"
           },
           "yaxis": {
            "backgroundcolor": "#E5ECF6",
            "gridcolor": "white",
            "gridwidth": 2,
            "linecolor": "white",
            "showbackground": true,
            "ticks": "",
            "zerolinecolor": "white"
           },
           "zaxis": {
            "backgroundcolor": "#E5ECF6",
            "gridcolor": "white",
            "gridwidth": 2,
            "linecolor": "white",
            "showbackground": true,
            "ticks": "",
            "zerolinecolor": "white"
           }
          },
          "shapedefaults": {
           "line": {
            "color": "#2a3f5f"
           }
          },
          "ternary": {
           "aaxis": {
            "gridcolor": "white",
            "linecolor": "white",
            "ticks": ""
           },
           "baxis": {
            "gridcolor": "white",
            "linecolor": "white",
            "ticks": ""
           },
           "bgcolor": "#E5ECF6",
           "caxis": {
            "gridcolor": "white",
            "linecolor": "white",
            "ticks": ""
           }
          },
          "title": {
           "x": 0.05
          },
          "xaxis": {
           "automargin": true,
           "gridcolor": "white",
           "linecolor": "white",
           "ticks": "",
           "title": {
            "standoff": 15
           },
           "zerolinecolor": "white",
           "zerolinewidth": 2
          },
          "yaxis": {
           "automargin": true,
           "gridcolor": "white",
           "linecolor": "white",
           "ticks": "",
           "title": {
            "standoff": 15
           },
           "zerolinecolor": "white",
           "zerolinewidth": 2
          }
         }
        }
       }
      }
     },
     "metadata": {},
     "output_type": "display_data"
    }
   ],
   "source": [
    "plot_and_compare_reduced_embeddings_3D(preprocessed_texts, poli_preprocessed_texts, \"en\", \"it\", \"Our Group\", \"PoliNetwork Group\")"
   ]
  },
  {
   "cell_type": "markdown",
   "metadata": {},
   "source": [
    "**Cosine Similarity**"
   ]
  },
  {
   "cell_type": "code",
   "execution_count": 87,
   "metadata": {},
   "outputs": [
    {
     "name": "stdout",
     "output_type": "stream",
     "text": [
      "Cosine similarity between sentences: 0.7246\n",
      "Cosine similarity between two equal sentences: 1.0000\n"
     ]
    }
   ],
   "source": [
    "\n",
    "# Define your two sentences\n",
    "sentence1 = \"This is the first sentence.\"\n",
    "sentence2 = \"This sentence is very similar to the first one.\"\n",
    "\n",
    "# Get the LASER embeddings for the sentences\n",
    "embedding1 = laser.embed_sentences(\n",
    "  sentence1,\n",
    "  lang='en')\n",
    "\n",
    "embedding2 = laser.embed_sentences(\n",
    "  sentence2,\n",
    "  lang='en')\n",
    "\n",
    "embedding3 = laser.embed_sentences(\n",
    "  sentence1,\n",
    "  lang='en')\n",
    "\n",
    "# Calculate cosine similarity\n",
    "import numpy as np\n",
    "similarity1 = np.dot(embedding1[0], embedding2[0]) / (np.linalg.norm(embedding1[0]) * np.linalg.norm(embedding2[0]))\n",
    "\n",
    "# Print the similarity score\n",
    "print(f\"Cosine similarity between sentences: {similarity1:.4f}\")\n",
    "\n",
    "# Calculate cosine similarity OF THE SAME SENTENCE\n",
    "similarity2 = np.dot(embedding1[0], embedding3[0]) / (np.linalg.norm(embedding1[0]) * np.linalg.norm(embedding3[0]))\n",
    "print(f\"Cosine similarity between two equal sentences: {similarity2:.4f}\")\n",
    "\n"
   ]
  },
  {
   "cell_type": "code",
   "execution_count": 88,
   "metadata": {},
   "outputs": [
    {
     "name": "stdout",
     "output_type": "stream",
     "text": [
      "[0 1 2 3 4]\n"
     ]
    }
   ],
   "source": [
    "range_ = np.arange(5)\n",
    "print(range_)"
   ]
  },
  {
   "cell_type": "code",
   "execution_count": 89,
   "metadata": {},
   "outputs": [
    {
     "name": "stdout",
     "output_type": "stream",
     "text": [
      "316\n"
     ]
    }
   ],
   "source": [
    "#Return the average cosine similarity between the last k embeddings\n",
    "def average_k_cosine_similarity(embeddings, k):\n",
    "    tmp_similarity = []\n",
    "    for i in np.arange(k):\n",
    "        if i != k-1:\n",
    "            tmp_similarity.append(np.dot(embeddings[k-1], embeddings[i]) / (np.linalg.norm(embeddings[k-1]) * np.linalg.norm(embeddings[i])))\n",
    "    return np.mean(tmp_similarity)\n",
    "\n",
    "print(len(embeddings))\n",
    "\n",
    "similarities = average_k_cosine_similarity(embeddings, 5)"
   ]
  },
  {
   "cell_type": "code",
   "execution_count": 90,
   "metadata": {},
   "outputs": [],
   "source": [
    "def cosine_similarities_last_k_sliding_window (embeddings2, k):\n",
    "    trial_similarities = list()\n",
    "    for i in np.arange(len(embeddings2)-k):\n",
    "        if i+2 > k:\n",
    "            window = [emb for emb in embeddings2[i:i+k]]\n",
    "            trial_similarities.append(average_k_cosine_similarity(window, k))\n",
    "            #329 print(i)\n",
    "        else:\n",
    "            window = [emb for emb in embeddings2[0:i+2]]\n",
    "            lenw = len(window)\n",
    "            lent = len(trial_similarities)\n",
    "            trial_similarities.append(average_k_cosine_similarity(window, i+2))\n",
    "    return trial_similarities"
   ]
  },
  {
   "cell_type": "code",
   "execution_count": 91,
   "metadata": {},
   "outputs": [
    {
     "name": "stdout",
     "output_type": "stream",
     "text": [
      "['hi guys', 'hi', 'hi', 'hey everyone', 'i dont know i see amir']\n"
     ]
    }
   ],
   "source": [
    "print(preprocessed_texts[0:5])\n",
    "prep_text = preprocessed_texts"
   ]
  },
  {
   "cell_type": "code",
   "execution_count": 92,
   "metadata": {},
   "outputs": [],
   "source": [
    "laser = Laser()\n",
    "langs = ['en' for i in range(len(preprocessed_texts))]\n",
    "embeddings2 = laser.embed_sentences(\n",
    "  prep_text,\n",
    "  lang=langs)"
   ]
  },
  {
   "cell_type": "code",
   "execution_count": 93,
   "metadata": {},
   "outputs": [
    {
     "data": {
      "text/plain": [
       "8"
      ]
     },
     "execution_count": 93,
     "metadata": {},
     "output_type": "execute_result"
    }
   ],
   "source": [
    "len(embeddings2[0:8])"
   ]
  },
  {
   "cell_type": "code",
   "execution_count": 105,
   "metadata": {},
   "outputs": [
    {
     "name": "stdout",
     "output_type": "stream",
     "text": [
      "0.7389633\n",
      "309\n",
      "316\n"
     ]
    },
    {
     "data": {
      "image/png": "[encoded data removed]",
      "text/plain": [
       "<Figure size 640x480 with 1 Axes>"
      ]
     },
     "metadata": {},
     "output_type": "display_data"
    }
   ],
   "source": [
    "k = 7\n",
    "our_group_similarities = cosine_similarities_last_k_sliding_window(embeddings2, k)\n",
    "\n",
    "print(our_group_similarities[0])\n",
    "\n",
    "print(len(our_group_similarities))\n",
    "print(len(embeddings2))\n",
    "\n",
    "# Plot the list\n",
    "plt.plot(our_group_similarities)\n",
    "plt.show()\n",
    "\n"
   ]
  },
  {
   "cell_type": "code",
   "execution_count": 108,
   "metadata": {},
   "outputs": [
    {
     "name": "stdout",
     "output_type": "stream",
     "text": [
      "['Hi guys', 'Hi', 'Hi😊', 'hey everyone!', 'I don’t know why I see just Amir']\n",
      "[235]\n",
      "[4, 25, 57, 76, 107, 135, 181, 194, 201, 218, 235, 267, 298]\n",
      "225 : Maybe it’s better to set at runtime how many Days we want to pick for collecting messages from a group\n",
      "226 : yeah, it hard coded for now, but we can do that too\n",
      "227 : I do not see any new brache, Should i create it myself?\n",
      "228 : If it is a fix I would say to commit it into the main one\n",
      "229 : Yeah i just created and deleted one to see whether we have the permission to do it\n",
      "230 : So i will push it to the main branch. But for testing diff implementations i will use my own branch\n",
      "231 : I pushed it. Now we can download messages up to a time period...\n",
      "232 : Also we should take into consideration the preprocessing stage. I'm we probably have to remove all the empty message(messages without text, maybe images or Gif...)\n",
      "and translate the messages into eng\n",
      "and after all that we can start to implement smt to label data manually\n",
      "233 : @ErfanAmidi_I \n",
      "@LorenzoMondo \n",
      "I want to send an email to the prof to tell about our plan and update her about the work. But i think i should also mention about our timeline. Are you ok if we decide now? Should i send the meet link?\n",
      "234 : Ok\n",
      "235 : https://meet.google.com/akm-dase-qca\n",
      "236 : @ErfanAmidi_I\n",
      "237 : I'll be in the meeting in 5mins\n",
      "238 : Hi Prof. Barbara,\n",
      "I just wanted to update you of what we are doing and what we plan to do. We already talked with Poli network associates, and they gave us an unofficial approval. They said that they would talk into it and will give us the unofficial answer. For now we started testing methods that you have sent (Laser Embedding and sentence transformer). Also, we have implemented the script in which we are going to use  to gather the data. here is a link to our GitHub repo:\n",
      "https://github.com/amirmosio/telegram-event-detection\n",
      "239 : Hello Prof. Pernici,\n",
      "\n",
      "We wanted to update you on how the project is going and what we plan to do. \n",
      "\n",
      "We had a meeting with PoliNetwork associates this week, they gave us an unofficial approval, but they said they have to talk back with the association's board and will give us the feedback.\n",
      "\n",
      "For now we have started testing methods that you sent us (Laser Embedding and sentence transformer).\n",
      "\n",
      "Also, we have implemented the script in which we are going to use to gather the data.\n",
      "\n",
      "As for the next steps for the coming days we plan to work on the data gathering pipeline and the preprocessing stage, As well as reading more about the the embedding techniques and the best approach we can take for detecting the change of topic in a conversation.\n",
      "\n",
      "Here is a link to our GitHub repo:\n",
      "https://github.com/amirmosio/telegram-event-detection\n",
      "240 : Excellent\n",
      "Don't forget to put us in cc\n",
      "241 : This is what i thought \n",
      "\n",
      "I didn't wanted to put a strict timeline, unless she tells us to give her one\n",
      "(Since we talked about a 2 week to deadline for ourself)\n",
      "\n",
      "If you guys think of adding or changing something in it let me know\n",
      "242 : Did someone write? I can send an email now in case\n",
      "243 : Sorry i got caught up in the middle of something and I forgot to send it, I'll send it now\n",
      "244 : I’m trying to build an RNN model to detect changes in topics from a timeline of messages. I’m using a sentence transformer to embed each message and feeding these embeddings one by one to detect if the topic has changed or if it is related to the previous messages. In addition to the embeddings, I want to add user data. I do not want to profile users, but adding the information that these two messages has been sent by the same user. How can I add this data to my embedding?\n",
      "\n",
      "ChatGPT:\n",
      "You can incorporate user information into your embeddings by using a technique called feature concatenation. Here’s a general idea of how you can do it:\n",
      "\n",
      "User ID Encoding: Assign a unique ID to each user and use one-hot encoding or an embedding layer to convert these IDs into fixed-length vectors. This will allow your model to learn and understand user-specific characteristics.\n",
      "Concatenation: After you have both the message embeddings (from Sentence Transformer) and user embeddings (from User ID Encoding), you can concatenate these two vectors to form a new input vector. This new vector now contains information from both the message and the user.\n"
     ]
    }
   ],
   "source": [
    "def watch_messages_in_a_range(messages, start, end, k):\n",
    "    for i in np.arange(start, end):\n",
    "        print(str(i) +\" : \" + messages[i+k])\n",
    "print(texts[0:5])\n",
    "#printing indices where the average cosine similarity of the previous k message is below 0.30\n",
    "indices = [i for i, num in enumerate(our_group_similarities) if num < 0.30]\n",
    "#minindex = min(enumerate(our_group_similarities.min()))\n",
    "minimum = [i for i, num in enumerate(our_group_similarities) if num == min(our_group_similarities)]\n",
    "print(minimum)\n",
    "print(indices)\n",
    "watch_messages_in_a_range(texts,225, 245, k)"
   ]
  },
  {
   "cell_type": "code",
   "execution_count": null,
   "metadata": {},
   "outputs": [],
   "source": [
    "laser = Laser()\n",
    "langs = ['it' for i in range(len(poli_preprocessed_texts))]\n",
    "prep_poli_embeddings = laser.embed_sentences(\n",
    "  poli_preprocessed_texts,\n",
    "  lang=langs)"
   ]
  },
  {
   "cell_type": "code",
   "execution_count": null,
   "metadata": {},
   "outputs": [],
   "source": [
    "poli_similarities = cosine_similarities_last_k_sliding_window(prep_poli_embeddings, 6)\n",
    "#printing indices where the average similarity of the last k message is below 0.30\n",
    "# Plot the list\n",
    "plt.plot(poli_similarities)\n",
    "plt.show()"
   ]
  },
  {
   "cell_type": "code",
   "execution_count": null,
   "metadata": {},
   "outputs": [],
   "source": [
    "indices = [i for i, num in enumerate(poli_similarities) if num < 0.30]\n",
    "print(indices)\n",
    "watch_messages_in_a_range(poli_texts_strings, 20,35)"
   ]
  }
 ],
 "metadata": {
  "kernelspec": {
   "display_name": "telegramprj",
   "language": "python",
   "name": "python3"
  },
  "language_info": {
   "codemirror_mode": {
    "name": "ipython",
    "version": 3
   },
   "file_extension": ".py",
   "mimetype": "text/x-python",
   "name": "python",
   "nbconvert_exporter": "python",
   "pygments_lexer": "ipython3",
   "version": "3.8.19"
  }
 },
 "nbformat": 4,
 "nbformat_minor": 2
}
