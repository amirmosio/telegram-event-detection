{
 "cells": [
  {
   "cell_type": "code",
   "execution_count": null,
   "metadata": {},
   "outputs": [],
   "source": [
    "import numpy as np\n",
    "import matplotlib.pyplot as plt\n",
    "import seaborn as sns\n",
    "import pandas as pd"
   ]
  },
  {
   "cell_type": "markdown",
   "metadata": {},
   "source": [
    "**Train Set Analysis**"
   ]
  },
  {
   "cell_type": "code",
   "execution_count": null,
   "metadata": {},
   "outputs": [],
   "source": [
    "X_train = pd.read_csv('.csv')\n",
    "y_train = pd.read_csv('.csv')\n",
    "df_train = X_train.copy()\n",
    "df_train['category'] = y_train"
   ]
  },
  {
   "cell_type": "markdown",
   "metadata": {},
   "source": [
    "Show how categories are distributed over the train set"
   ]
  },
  {
   "cell_type": "code",
   "execution_count": null,
   "metadata": {},
   "outputs": [],
   "source": [
    "label_counts = df_train['category'].value_counts()\n",
    "\n",
    "plt.figure(figsize=(6, 4))\n",
    "colors = ######\n",
    "label_counts.plot(kind='bar', color=colors)\n",
    "plt.title('Distribution of y_train')\n",
    "plt.xlabel('Category')\n",
    "plt.ylabel('Count')\n",
    "plt.show()"
   ]
  },
  {
   "cell_type": "markdown",
   "metadata": {},
   "source": [
    "Show how categories are distribbuted over the groups in the training set"
   ]
  },
  {
   "cell_type": "code",
   "execution_count": null,
   "metadata": {},
   "outputs": [],
   "source": [
    "group_category_counts = df_train.groupby('group')['category'].value_counts()\n",
    "colors = #####\n",
    "group_category_counts.plot(kind='barh', figsize=(10, 4), color = colors)\n",
    "plt.title('Counts Categories for each Group')\n",
    "plt.xlabel('Group')\n",
    "plt.ylabel('Count')\n",
    "plt.tight_layout()\n",
    "plt.show()"
   ]
  },
  {
   "cell_type": "code",
   "execution_count": null,
   "metadata": {},
   "outputs": [],
   "source": [
    "num_groups = df_train['group'].nunique()\n",
    "num_cols = 3\n",
    "num_rows = -(-num_groups // num_cols) \n",
    "\n",
    "fig, axes = plt.subplots(num_rows, num_cols, figsize=(10, num_rows * 4))\n",
    "axes = axes.flatten()\n",
    "\n",
    "for i, (group, counts) in enumerate(group_category_counts.groupby(level=0)):\n",
    "    categories = counts.index\n",
    "    counts_values = counts.values\n",
    "    \n",
    "    axes[i].barh(categories, counts_values, color='')\n",
    "    \n",
    "    axes[i].set_title(f'Group {group}')\n",
    "    axes[i].set_xlabel('Count')\n",
    "    axes[i].set_ylabel('Category')\n",
    "\n",
    "for j in range(num_groups, num_rows * num_cols):\n",
    "    axes[j].axis('off')\n",
    "\n",
    "plt.tight_layout()\n",
    "plt.show()"
   ]
  },
  {
   "cell_type": "markdown",
   "metadata": {},
   "source": [
    "For each group, show the categories' distribution "
   ]
  },
  {
   "cell_type": "code",
   "execution_count": null,
   "metadata": {},
   "outputs": [],
   "source": [
    "num_rows = 3\n",
    "num_cols = 3\n",
    "grid = sns.FacetGrid(df_train, col='group', col_wrap=num_cols, height=4)\n",
    "grid.map(sns.countplot, 'category', palette='magma')\n",
    "grid.set_titles(f'Group {group}')\n",
    "grid.set_axis_labels('Count', 'Category')\n",
    "plt.tight_layout()\n",
    "plt.show()"
   ]
  },
  {
   "cell_type": "markdown",
   "metadata": {},
   "source": [
    "**Test Set Analysis**"
   ]
  },
  {
   "cell_type": "code",
   "execution_count": null,
   "metadata": {},
   "outputs": [],
   "source": [
    "best_parameters = \n",
    "X_test =\n",
    "y_test = \n",
    "y_pred = \n",
    "df_test = X_test.copy()\n",
    "df_test['y_pred'] = y_pred\n",
    "df_test['y_test'] = y_test"
   ]
  },
  {
   "cell_type": "markdown",
   "metadata": {},
   "source": [
    "Confusion Matrix"
   ]
  },
  {
   "cell_type": "code",
   "execution_count": null,
   "metadata": {},
   "outputs": [],
   "source": [
    "num_classes = #######\n",
    "confusion_matrix_values = np.array([\n",
    "    ############\n",
    "])\n",
    "total_true = np.sum(confusion_matrix_values, axis=1)\n",
    "total_pred = np.sum(confusion_matrix_values, axis=0)\n",
    "confusion_matrix_normalized = confusion_matrix_values / total_true[:, np.newaxis]\n",
    "\n",
    "plt.figure(figsize=(8, 6))\n",
    "plt.imshow(confusion_matrix_normalized, cmap='Blues', interpolation='nearest')\n",
    "\n",
    "for i in range(num_classes):\n",
    "    for j in range(num_classes):\n",
    "        plt.text(j, i, f'{confusion_matrix_values[i, j]}\\n({confusion_matrix_normalized[i, j]*100:.2f}%)',\n",
    "                 ha='center', va='center', color='white' if confusion_matrix_normalized[i, j] > 0.5 else 'black')\n",
    "\n",
    "plt.xticks(range(num_classes), [f'Classe {i}' for i in range(num_classes)])\n",
    "plt.yticks(range(num_classes), [f'Classe {i}' for i in range(num_classes)])\n",
    "\n",
    "plt.title('Confusion Matrix')\n",
    "plt.xlabel('Predicted')\n",
    "plt.ylabel('Actual')\n",
    "plt.colorbar()\n",
    "plt.show()"
   ]
  },
  {
   "cell_type": "markdown",
   "metadata": {},
   "source": [
    "Print best combination of parameters"
   ]
  },
  {
   "cell_type": "code",
   "execution_count": null,
   "metadata": {},
   "outputs": [],
   "source": [
    "print('Best Combination of Parameter is:\\t', best_parameters)"
   ]
  },
  {
   "cell_type": "markdown",
   "metadata": {},
   "source": [
    "For each group, show the distribution of true and predicted categories"
   ]
  },
  {
   "cell_type": "code",
   "execution_count": null,
   "metadata": {},
   "outputs": [],
   "source": [
    "grid = sns.FacetGrid(df_train, col='group', col_wrap=num_cols, height=4)\n",
    "grid.map(sns.countplot, 'y_true', palette='inferno', alpha=0.5)\n",
    "grid.map(sns.countplot, 'y_pred', palette='viridis', alpha=0.5)\n",
    "\n",
    "grid.set_titles(f'Group {group}')\n",
    "grid.set_axis_labels('Count', 'Group')\n",
    "\n",
    "grid.axes[0].legend(labels=['y_true', 'y_pred'])\n",
    "plt.tight_layout()\n",
    "plt.show()"
   ]
  },
  {
   "cell_type": "markdown",
   "metadata": {},
   "source": [
    "Show True vs Predicted"
   ]
  },
  {
   "cell_type": "code",
   "execution_count": null,
   "metadata": {},
   "outputs": [],
   "source": [
    "y_pred_counts = df_test['y_pred'].value_counts()\n",
    "y_test_counts = df_test['y_test'].value_counts()\n",
    "\n",
    "categories = label_counts.index.tolist()\n",
    "colors_true = ['']\n",
    "colors_predicted = []\n",
    "bar_width = 0.35\n",
    "\n",
    "plt.figure(figsize=(5, 4))\n",
    "plt.bar([category - bar_width/2 for category in range(len(categories))], y_pred_counts, width=bar_width, color=colors_predicted, label='Predicted')\n",
    "plt.bar([category + bar_width/2 for category in range(len(categories))], y_test_counts, width=bar_width, color=colors_true, label='True')\n",
    "\n",
    "plt.xlabel('Category')\n",
    "plt.ylabel('Count')\n",
    "plt.title('Distribution of Categories over the Test set')\n",
    "plt.xticks(range(len(categories)), categories)\n",
    "plt.legend()\n",
    "plt.tight_layout()\n",
    "plt.show()"
   ]
  }
 ],
 "metadata": {
  "language_info": {
   "name": "python"
  }
 },
 "nbformat": 4,
 "nbformat_minor": 2
}
