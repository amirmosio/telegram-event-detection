{
 "cells": [
  {
   "cell_type": "code",
   "execution_count": 51,
   "metadata": {},
   "outputs": [],
   "source": [
    "import pandas as pd\n",
    "\n",
    "# Carica il dataset\n",
    "file_path = 'data\\dataset_for_topic_labeling.xlsx'\n",
    "df = pd.read_excel(file_path)\n",
    "df_filtered = df[df['topic'].notna()]\n",
    "df_filtered = df_filtered[df_filtered['reply'].isna()]\n",
    "df_filtered = df_filtered[df_filtered['topic'] != '3. Studyplan']\n",
    "df_filtered = df_filtered[df_filtered['text'].notna()]\n",
    "\n",
    "df_filtered.reset_index(drop=True, inplace=True)"
   ]
  },
  {
   "cell_type": "code",
   "execution_count": 52,
   "metadata": {},
   "outputs": [],
   "source": [
    "from sklearn.model_selection import train_test_split\n",
    "\n",
    "# Rimuovi le righe con valori NaN nella colonna 'text'\n",
    "df_filtered = df_filtered[df_filtered['text'].notna()]\n",
    "\n",
    "# Seleziona le colonne di testo e i topic\n",
    "X = df_filtered['text']\n",
    "y = df_filtered['topic']\n",
    "\n",
    "# Codifica i topic in numeri\n",
    "label2id = {label: idx for idx, label in enumerate(y.unique())}\n",
    "id2label = {idx: label for label, idx in label2id.items()}\n",
    "y = y.map(label2id)\n",
    "\n",
    "# Dividi il dataset in set di addestramento e di test in modo stratificato\n",
    "X_train, X_test, y_train, y_test = train_test_split(X, y, test_size=0.2, random_state=42, stratify=y)"
   ]
  },
  {
   "cell_type": "code",
   "execution_count": 53,
   "metadata": {},
   "outputs": [
    {
     "data": {
      "text/plain": [
       "{0: '1. Project/assignment/homework',\n",
       " 1: '2. Exam/oral exam/mid term',\n",
       " 2: '4. Deadline/important dates',\n",
       " 3: '5. Grades/marks/results',\n",
       " 4: '6. Materials/recordings',\n",
       " 5: '7. class information/class sessions',\n",
       " 6: '8. Other'}"
      ]
     },
     "execution_count": 53,
     "metadata": {},
     "output_type": "execute_result"
    }
   ],
   "source": [
    "id2label"
   ]
  },
  {
   "cell_type": "markdown",
   "metadata": {},
   "source": [
    "## Loading the model"
   ]
  },
  {
   "cell_type": "code",
   "execution_count": 54,
   "metadata": {},
   "outputs": [
    {
     "data": {
      "text/plain": [
       "DistilBertForSequenceClassification(\n",
       "  (distilbert): DistilBertModel(\n",
       "    (embeddings): Embeddings(\n",
       "      (word_embeddings): Embedding(30522, 768, padding_idx=0)\n",
       "      (position_embeddings): Embedding(512, 768)\n",
       "      (LayerNorm): LayerNorm((768,), eps=1e-12, elementwise_affine=True)\n",
       "      (dropout): Dropout(p=0.1, inplace=False)\n",
       "    )\n",
       "    (transformer): Transformer(\n",
       "      (layer): ModuleList(\n",
       "        (0-5): 6 x TransformerBlock(\n",
       "          (attention): MultiHeadSelfAttention(\n",
       "            (dropout): Dropout(p=0.1, inplace=False)\n",
       "            (q_lin): Linear(in_features=768, out_features=768, bias=True)\n",
       "            (k_lin): Linear(in_features=768, out_features=768, bias=True)\n",
       "            (v_lin): Linear(in_features=768, out_features=768, bias=True)\n",
       "            (out_lin): Linear(in_features=768, out_features=768, bias=True)\n",
       "          )\n",
       "          (sa_layer_norm): LayerNorm((768,), eps=1e-12, elementwise_affine=True)\n",
       "          (ffn): FFN(\n",
       "            (dropout): Dropout(p=0.1, inplace=False)\n",
       "            (lin1): Linear(in_features=768, out_features=3072, bias=True)\n",
       "            (lin2): Linear(in_features=3072, out_features=768, bias=True)\n",
       "            (activation): GELUActivation()\n",
       "          )\n",
       "          (output_layer_norm): LayerNorm((768,), eps=1e-12, elementwise_affine=True)\n",
       "        )\n",
       "      )\n",
       "    )\n",
       "  )\n",
       "  (pre_classifier): Linear(in_features=768, out_features=768, bias=True)\n",
       "  (classifier): Linear(in_features=768, out_features=7, bias=True)\n",
       "  (dropout): Dropout(p=0.2, inplace=False)\n",
       ")"
      ]
     },
     "execution_count": 54,
     "metadata": {},
     "output_type": "execute_result"
    }
   ],
   "source": [
    "from transformers import DistilBertTokenizer, DistilBertForSequenceClassification\n",
    "import torch\n",
    "\n",
    "# Load the DistilBERT tokenizer\n",
    "tokenizer = DistilBertTokenizer.from_pretrained('conversation_models\\DistilBERT\\distilBERT_tokenizer')\n",
    "\n",
    "# Load the DistilBERT model\n",
    "model = DistilBertForSequenceClassification.from_pretrained('conversation_models\\DistilBERT\\distilBERT_model')\n",
    "\n",
    "# Set the model in evaluation mode\n",
    "model.eval()\n"
   ]
  },
  {
   "cell_type": "markdown",
   "metadata": {},
   "source": [
    "## How to use: Tokenize and predict"
   ]
  },
  {
   "cell_type": "code",
   "execution_count": 55,
   "metadata": {},
   "outputs": [],
   "source": [
    "# Function to tokenize the texts\n",
    "def tokenize_function(texts):\n",
    "    return tokenizer(texts, padding=True, truncation=True, max_length=512, return_tensors=\"pt\")\n",
    "\n",
    "# Tokenize the texts\n",
    "inputs = tokenize_function(X_test.tolist())\n",
    "\n",
    "with torch.no_grad():\n",
    "    outputs = model(**inputs)\n",
    "    logits = outputs.logits\n",
    "\n",
    "# Achieve Predictions\n",
    "predictions = torch.argmax(logits, dim=-1)"
   ]
  },
  {
   "cell_type": "code",
   "execution_count": 56,
   "metadata": {},
   "outputs": [
    {
     "name": "stdout",
     "output_type": "stream",
     "text": [
      "Accuracy: 0.7133105802047781\n",
      "F1 Score: 0.6788494393191067\n",
      "Classification Report:\n",
      "                                     precision    recall  f1-score   support\n",
      "\n",
      "     1. Project/assignment/homework       0.77      0.70      0.73        33\n",
      "         2. Exam/oral exam/mid term       0.60      0.75      0.67        52\n",
      "        4. Deadline/important dates       0.80      0.40      0.53        10\n",
      "            5. Grades/marks/results       0.84      0.70      0.76        23\n",
      "            6. Materials/recordings       0.75      0.83      0.79       100\n",
      "7. class information/class sessions       0.65      0.56      0.60        39\n",
      "                           8. Other       0.73      0.61      0.67        36\n",
      "\n",
      "                           accuracy                           0.71       293\n",
      "                          macro avg       0.73      0.65      0.68       293\n",
      "                       weighted avg       0.72      0.71      0.71       293\n",
      "\n"
     ]
    }
   ],
   "source": [
    "# Evaluate the model\n",
    "accuracy = accuracy_score(y_test, predictions)\n",
    "f1 = f1_score(y_test, predictions, average='macro')\n",
    "report = classification_report(y_test, predictions, target_names=list(label2id.keys()))\n",
    "\n",
    "# Stampa i risultati\n",
    "print(f\"Accuracy: {accuracy}\")\n",
    "print(f\"F1 Score: {f1}\")\n",
    "print(\"Classification Report:\")\n",
    "print(report)"
   ]
  },
  {
   "cell_type": "markdown",
   "metadata": {},
   "source": [
    "### Example with just one text"
   ]
  },
  {
   "cell_type": "code",
   "execution_count": 57,
   "metadata": {},
   "outputs": [],
   "source": [
    "# Function to tokenize the texts\n",
    "def tokenize_function(texts):\n",
    "    return tokenizer(texts, padding=True, truncation=True, max_length=512, return_tensors=\"pt\")\n",
    "\n",
    "text = \"I'm having trouble with the exam, can you help me?\"\n",
    "\n",
    "# Tokenize the texts\n",
    "inputs = tokenize_function(text)\n",
    "\n",
    "with torch.no_grad():\n",
    "    outputs = model(**inputs)\n",
    "    logits = outputs.logits\n",
    "\n",
    "# Achieve Predictions\n",
    "prediction = torch.argmax(logits, dim=-1)"
   ]
  },
  {
   "cell_type": "code",
   "execution_count": 58,
   "metadata": {},
   "outputs": [
    {
     "name": "stdout",
     "output_type": "stream",
     "text": [
      "text =  I'm having trouble with the exam, can you help me?\n",
      "prediction =  2. Exam/oral exam/mid term\n"
     ]
    }
   ],
   "source": [
    "print(\"text = \", text)\n",
    "print(\"prediction = \", id2label[prediction.item()])"
   ]
  }
 ],
 "metadata": {
  "kernelspec": {
   "display_name": "BERT",
   "language": "python",
   "name": "python3"
  },
  "language_info": {
   "codemirror_mode": {
    "name": "ipython",
    "version": 3
   },
   "file_extension": ".py",
   "mimetype": "text/x-python",
   "name": "python",
   "nbconvert_exporter": "python",
   "pygments_lexer": "ipython3",
   "version": "3.10.14"
  }
 },
 "nbformat": 4,
 "nbformat_minor": 2
}
